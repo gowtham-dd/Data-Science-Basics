{
  "nbformat": 4,
  "nbformat_minor": 0,
  "metadata": {
    "colab": {
      "provenance": [],
      "include_colab_link": true
    },
    "kernelspec": {
      "name": "python3",
      "display_name": "Python 3"
    },
    "language_info": {
      "name": "python"
    }
  },
  "cells": [
    {
      "cell_type": "markdown",
      "metadata": {
        "id": "view-in-github",
        "colab_type": "text"
      },
      "source": [
        "<a href=\"https://colab.research.google.com/github/gowtham-dd/Data-Science-Basics/blob/main/Connecting_sql_with_python.ipynb\" target=\"_parent\"><img src=\"https://colab.research.google.com/assets/colab-badge.svg\" alt=\"Open In Colab\"/></a>"
      ]
    },
    {
      "cell_type": "code",
      "execution_count": null,
      "metadata": {
        "id": "IGH6jE6ig0Im"
      },
      "outputs": [],
      "source": [
        "#connecting mysql and python\n",
        "# step 1 install packages\n",
        "#!pip install mysql-connector-python"
      ]
    },
    {
      "cell_type": "code",
      "source": [],
      "metadata": {
        "id": "zcCEpOOYI-P4"
      },
      "execution_count": null,
      "outputs": []
    },
    {
      "cell_type": "code",
      "source": [
        "import mysql.connector # type: ignore\n",
        "\n",
        "\n",
        "\n",
        "\n",
        "mydb = mysql.connector.connect(\n",
        " host=\"localhost\",\n",
        " user=\"root\",\n",
        " password=\"\",\n",
        "\n",
        "\n",
        ")\n",
        "\n",
        "\n",
        "print(mydb)\n",
        "mycursor = mydb.cursor(buffered=True)"
      ],
      "metadata": {
        "id": "CSEZ0ElBg9bX"
      },
      "execution_count": null,
      "outputs": []
    },
    {
      "cell_type": "code",
      "source": [
        "!pip install mysql-connector-python"
      ],
      "metadata": {
        "colab": {
          "base_uri": "https://localhost:8080/"
        },
        "id": "VORWKvH-hCHd",
        "outputId": "d945cb46-866b-418e-9d33-a7124b524663"
      },
      "execution_count": 1,
      "outputs": [
        {
          "output_type": "stream",
          "name": "stdout",
          "text": [
            "Collecting mysql-connector-python\n",
            "  Downloading mysql_connector_python-9.2.0-cp311-cp311-manylinux_2_28_x86_64.whl.metadata (6.0 kB)\n",
            "Downloading mysql_connector_python-9.2.0-cp311-cp311-manylinux_2_28_x86_64.whl (34.0 MB)\n",
            "\u001b[2K   \u001b[90m━━━━━━━━━━━━━━━━━━━━━━━━━━━━━━━━━━━━━━━━\u001b[0m \u001b[32m34.0/34.0 MB\u001b[0m \u001b[31m9.6 MB/s\u001b[0m eta \u001b[36m0:00:00\u001b[0m\n",
            "\u001b[?25hInstalling collected packages: mysql-connector-python\n",
            "Successfully installed mysql-connector-python-9.2.0\n"
          ]
        }
      ]
    },
    {
      "cell_type": "code",
      "source": [
        "import mysql.connector\n",
        "\n",
        "connection = mysql.connector.connect(\n",
        "  host = \"gateway01.ap-southeast-1.prod.aws.tidbcloud.com\",\n",
        "  port = 4000,\n",
        "  user = \"4PFhDQQc2yhfCUH.root\",\n",
        "  password = \"tzNB9UAMnXNidi62\",\n",
        "  database = \"sampleTable\",\n",
        "\n",
        ")\n",
        "mycursor = connection.cursor(buffered=True)"
      ],
      "metadata": {
        "id": "Sx8u4ULihmT4"
      },
      "execution_count": 2,
      "outputs": []
    },
    {
      "cell_type": "code",
      "source": [],
      "metadata": {
        "id": "elqXnTXTgsTP"
      },
      "execution_count": null,
      "outputs": []
    },
    {
      "cell_type": "code",
      "source": [
        "mycursor.execute(\"create database table1\")"
      ],
      "metadata": {
        "id": "DihV0QZ4ViOu"
      },
      "execution_count": null,
      "outputs": []
    },
    {
      "cell_type": "code",
      "source": [
        "#creating db using for\n",
        "\n",
        "a=[\"guvi1\",\"guvi2\",\"guvi3\"]\n",
        "for i in a:\n",
        "  mycursor.execute(f\"create database {i}\")"
      ],
      "metadata": {
        "id": "TAnDxK4xZGRM"
      },
      "execution_count": null,
      "outputs": []
    },
    {
      "cell_type": "code",
      "source": [
        "mycursor.execute(\"drop database guvi3\")"
      ],
      "metadata": {
        "id": "eR1XMrbVanI2"
      },
      "execution_count": null,
      "outputs": []
    },
    {
      "cell_type": "code",
      "source": [
        "mycursor.execute(\"create table guvi1.table1(id int,name varchar(20),rollnum int)\")"
      ],
      "metadata": {
        "id": "IhbxEyggd8-e"
      },
      "execution_count": null,
      "outputs": []
    },
    {
      "cell_type": "code",
      "source": [
        "mycursor.execute(\"use guvi1\")\n",
        "mycursor.execute(\"show tables\")\n",
        "for i in mycursor:#100% for to be used for printing any result that is retreving\n",
        "  print(\" \".join(i))"
      ],
      "metadata": {
        "colab": {
          "base_uri": "https://localhost:8080/"
        },
        "id": "h_UdXgzxfpij",
        "outputId": "298c0010-32e2-482b-f07d-6226082bbebf"
      },
      "execution_count": null,
      "outputs": [
        {
          "output_type": "stream",
          "name": "stdout",
          "text": [
            "table1\n"
          ]
        }
      ]
    },
    {
      "cell_type": "code",
      "source": [
        "#insert in table\n",
        "mycursor.execute(\"insert into table1 values(1,'guvi',123)\")"
      ],
      "metadata": {
        "id": "tdoN0otHjQOg"
      },
      "execution_count": null,
      "outputs": []
    },
    {
      "cell_type": "code",
      "source": [
        "mycursor.execute(\"select * from table1\")\n",
        "connection.commit()#saving when updated or inserted\n",
        "for i in mycursor:\n",
        "  print(i,end=\" \")"
      ],
      "metadata": {
        "colab": {
          "base_uri": "https://localhost:8080/"
        },
        "id": "8K5PkCJbjX5y",
        "outputId": "b3de5e3b-c3ac-4999-b996-133ec5ba0713"
      },
      "execution_count": null,
      "outputs": [
        {
          "output_type": "stream",
          "name": "stdout",
          "text": [
            "(1, 'guvi', 123) "
          ]
        }
      ]
    },
    {
      "cell_type": "code",
      "source": [
        "a=int(input())\n",
        "b=input()\n",
        "c=int(input())\n",
        "mycursor.execute(f\"insert into guvi1.table1 values({a},'{b}',{c})\")\n",
        "connection.commit()"
      ],
      "metadata": {
        "colab": {
          "base_uri": "https://localhost:8080/"
        },
        "id": "A9845KB5lQ7g",
        "outputId": "e349ad96-dfdd-4099-cd57-e957ee85de6a"
      },
      "execution_count": null,
      "outputs": [
        {
          "name": "stdout",
          "output_type": "stream",
          "text": [
            "2\n",
            "gowtham\n",
            "11\n"
          ]
        }
      ]
    },
    {
      "cell_type": "code",
      "source": [
        "mycursor.execute(\"describe guvi1.table1\")\n",
        "for i in mycursor:\n",
        "  print(i)\n"
      ],
      "metadata": {
        "colab": {
          "base_uri": "https://localhost:8080/"
        },
        "id": "JRwWgeM6nVaH",
        "outputId": "cca5c0af-0b56-45cb-d7af-1631e216eff3"
      },
      "execution_count": null,
      "outputs": [
        {
          "output_type": "stream",
          "name": "stdout",
          "text": [
            "('id', 'int(11)', 'YES', '', None, '')\n",
            "('name', 'varchar(20)', 'YES', '', None, '')\n",
            "('rollnum', 'int(11)', 'YES', '', None, '')\n"
          ]
        }
      ]
    },
    {
      "cell_type": "code",
      "source": [
        "import mysql.connector\n",
        "from mysql.connector import Error\n",
        "\n",
        "\n",
        "try:\n",
        "   connection = mysql.connector.connect(\n",
        "  host = \"gateway01.ap-southeast-1.prod.aws.tidbcloud.com\",\n",
        "  port = 4000,\n",
        "  user = \"4PFhDQQc2yhfCUH.root\",\n",
        "  password = \"tzNB9UAMnXNidi62\",\n",
        "  database = \"sampleTable\",\n",
        "   )\n",
        "\n",
        "\n",
        "   if connection.is_connected():\n",
        "       cursor = connection.cursor()\n",
        "       cursor.execute(\"SELECT * FROM guvi1\")\n",
        "\n",
        "\n",
        "\n",
        "\n",
        "except Error as e:\n",
        "   print(f\"Error: {e}\")\n",
        "\n",
        "\n",
        "finally:\n",
        "   if connection.is_connected():\n",
        "       cursor.close()\n",
        "       connection.close()\n",
        "       print(\"MySQL connection is closed\")\n"
      ],
      "metadata": {
        "id": "lBXNjmEQocyL",
        "colab": {
          "base_uri": "https://localhost:8080/"
        },
        "outputId": "47dc442e-bdf5-4ce1-952e-365ba54c9466"
      },
      "execution_count": null,
      "outputs": [
        {
          "output_type": "stream",
          "name": "stdout",
          "text": [
            "Error: 1146 (42S02): Table 'sampletable.guvi1' doesn't exist\n",
            "MySQL connection is closed\n"
          ]
        }
      ]
    },
    {
      "cell_type": "code",
      "source": [],
      "metadata": {
        "id": "TL9f7P6dfImG"
      },
      "execution_count": null,
      "outputs": []
    },
    {
      "cell_type": "code",
      "source": [
        "!pip install gradio"
      ],
      "metadata": {
        "colab": {
          "base_uri": "https://localhost:8080/"
        },
        "id": "uxikc-oWb-TE",
        "outputId": "e6e93b61-a4b1-4091-90b1-cd8b68f81e4f"
      },
      "execution_count": null,
      "outputs": [
        {
          "output_type": "stream",
          "name": "stdout",
          "text": [
            "Collecting gradio\n",
            "  Downloading gradio-5.16.0-py3-none-any.whl.metadata (16 kB)\n",
            "Collecting aiofiles<24.0,>=22.0 (from gradio)\n",
            "  Downloading aiofiles-23.2.1-py3-none-any.whl.metadata (9.7 kB)\n",
            "Requirement already satisfied: anyio<5.0,>=3.0 in /usr/local/lib/python3.11/dist-packages (from gradio) (3.7.1)\n",
            "Collecting fastapi<1.0,>=0.115.2 (from gradio)\n",
            "  Downloading fastapi-0.115.8-py3-none-any.whl.metadata (27 kB)\n",
            "Collecting ffmpy (from gradio)\n",
            "  Downloading ffmpy-0.5.0-py3-none-any.whl.metadata (3.0 kB)\n",
            "Collecting gradio-client==1.7.0 (from gradio)\n",
            "  Downloading gradio_client-1.7.0-py3-none-any.whl.metadata (7.1 kB)\n",
            "Requirement already satisfied: httpx>=0.24.1 in /usr/local/lib/python3.11/dist-packages (from gradio) (0.28.1)\n",
            "Requirement already satisfied: huggingface-hub>=0.28.1 in /usr/local/lib/python3.11/dist-packages (from gradio) (0.28.1)\n",
            "Requirement already satisfied: jinja2<4.0 in /usr/local/lib/python3.11/dist-packages (from gradio) (3.1.5)\n",
            "Collecting markupsafe~=2.0 (from gradio)\n",
            "  Downloading MarkupSafe-2.1.5-cp311-cp311-manylinux_2_17_x86_64.manylinux2014_x86_64.whl.metadata (3.0 kB)\n",
            "Requirement already satisfied: numpy<3.0,>=1.0 in /usr/local/lib/python3.11/dist-packages (from gradio) (1.26.4)\n",
            "Requirement already satisfied: orjson~=3.0 in /usr/local/lib/python3.11/dist-packages (from gradio) (3.10.15)\n",
            "Requirement already satisfied: packaging in /usr/local/lib/python3.11/dist-packages (from gradio) (24.2)\n",
            "Requirement already satisfied: pandas<3.0,>=1.0 in /usr/local/lib/python3.11/dist-packages (from gradio) (2.2.2)\n",
            "Requirement already satisfied: pillow<12.0,>=8.0 in /usr/local/lib/python3.11/dist-packages (from gradio) (11.1.0)\n",
            "Requirement already satisfied: pydantic>=2.0 in /usr/local/lib/python3.11/dist-packages (from gradio) (2.10.6)\n",
            "Collecting pydub (from gradio)\n",
            "  Downloading pydub-0.25.1-py2.py3-none-any.whl.metadata (1.4 kB)\n",
            "Collecting python-multipart>=0.0.18 (from gradio)\n",
            "  Downloading python_multipart-0.0.20-py3-none-any.whl.metadata (1.8 kB)\n",
            "Requirement already satisfied: pyyaml<7.0,>=5.0 in /usr/local/lib/python3.11/dist-packages (from gradio) (6.0.2)\n",
            "Collecting ruff>=0.9.3 (from gradio)\n",
            "  Downloading ruff-0.9.6-py3-none-manylinux_2_17_x86_64.manylinux2014_x86_64.whl.metadata (25 kB)\n",
            "Collecting safehttpx<0.2.0,>=0.1.6 (from gradio)\n",
            "  Downloading safehttpx-0.1.6-py3-none-any.whl.metadata (4.2 kB)\n",
            "Collecting semantic-version~=2.0 (from gradio)\n",
            "  Downloading semantic_version-2.10.0-py2.py3-none-any.whl.metadata (9.7 kB)\n",
            "Collecting starlette<1.0,>=0.40.0 (from gradio)\n",
            "  Downloading starlette-0.45.3-py3-none-any.whl.metadata (6.3 kB)\n",
            "Collecting tomlkit<0.14.0,>=0.12.0 (from gradio)\n",
            "  Downloading tomlkit-0.13.2-py3-none-any.whl.metadata (2.7 kB)\n",
            "Requirement already satisfied: typer<1.0,>=0.12 in /usr/local/lib/python3.11/dist-packages (from gradio) (0.15.1)\n",
            "Requirement already satisfied: typing-extensions~=4.0 in /usr/local/lib/python3.11/dist-packages (from gradio) (4.12.2)\n",
            "Collecting uvicorn>=0.14.0 (from gradio)\n",
            "  Downloading uvicorn-0.34.0-py3-none-any.whl.metadata (6.5 kB)\n",
            "Requirement already satisfied: fsspec in /usr/local/lib/python3.11/dist-packages (from gradio-client==1.7.0->gradio) (2024.10.0)\n",
            "Requirement already satisfied: websockets<15.0,>=10.0 in /usr/local/lib/python3.11/dist-packages (from gradio-client==1.7.0->gradio) (14.2)\n",
            "Requirement already satisfied: idna>=2.8 in /usr/local/lib/python3.11/dist-packages (from anyio<5.0,>=3.0->gradio) (3.10)\n",
            "Requirement already satisfied: sniffio>=1.1 in /usr/local/lib/python3.11/dist-packages (from anyio<5.0,>=3.0->gradio) (1.3.1)\n",
            "Requirement already satisfied: certifi in /usr/local/lib/python3.11/dist-packages (from httpx>=0.24.1->gradio) (2025.1.31)\n",
            "Requirement already satisfied: httpcore==1.* in /usr/local/lib/python3.11/dist-packages (from httpx>=0.24.1->gradio) (1.0.7)\n",
            "Requirement already satisfied: h11<0.15,>=0.13 in /usr/local/lib/python3.11/dist-packages (from httpcore==1.*->httpx>=0.24.1->gradio) (0.14.0)\n",
            "Requirement already satisfied: filelock in /usr/local/lib/python3.11/dist-packages (from huggingface-hub>=0.28.1->gradio) (3.17.0)\n",
            "Requirement already satisfied: requests in /usr/local/lib/python3.11/dist-packages (from huggingface-hub>=0.28.1->gradio) (2.32.3)\n",
            "Requirement already satisfied: tqdm>=4.42.1 in /usr/local/lib/python3.11/dist-packages (from huggingface-hub>=0.28.1->gradio) (4.67.1)\n",
            "Requirement already satisfied: python-dateutil>=2.8.2 in /usr/local/lib/python3.11/dist-packages (from pandas<3.0,>=1.0->gradio) (2.8.2)\n",
            "Requirement already satisfied: pytz>=2020.1 in /usr/local/lib/python3.11/dist-packages (from pandas<3.0,>=1.0->gradio) (2025.1)\n",
            "Requirement already satisfied: tzdata>=2022.7 in /usr/local/lib/python3.11/dist-packages (from pandas<3.0,>=1.0->gradio) (2025.1)\n",
            "Requirement already satisfied: annotated-types>=0.6.0 in /usr/local/lib/python3.11/dist-packages (from pydantic>=2.0->gradio) (0.7.0)\n",
            "Requirement already satisfied: pydantic-core==2.27.2 in /usr/local/lib/python3.11/dist-packages (from pydantic>=2.0->gradio) (2.27.2)\n",
            "Requirement already satisfied: click>=8.0.0 in /usr/local/lib/python3.11/dist-packages (from typer<1.0,>=0.12->gradio) (8.1.8)\n",
            "Requirement already satisfied: shellingham>=1.3.0 in /usr/local/lib/python3.11/dist-packages (from typer<1.0,>=0.12->gradio) (1.5.4)\n",
            "Requirement already satisfied: rich>=10.11.0 in /usr/local/lib/python3.11/dist-packages (from typer<1.0,>=0.12->gradio) (13.9.4)\n",
            "Requirement already satisfied: six>=1.5 in /usr/local/lib/python3.11/dist-packages (from python-dateutil>=2.8.2->pandas<3.0,>=1.0->gradio) (1.17.0)\n",
            "Requirement already satisfied: markdown-it-py>=2.2.0 in /usr/local/lib/python3.11/dist-packages (from rich>=10.11.0->typer<1.0,>=0.12->gradio) (3.0.0)\n",
            "Requirement already satisfied: pygments<3.0.0,>=2.13.0 in /usr/local/lib/python3.11/dist-packages (from rich>=10.11.0->typer<1.0,>=0.12->gradio) (2.18.0)\n",
            "Requirement already satisfied: charset-normalizer<4,>=2 in /usr/local/lib/python3.11/dist-packages (from requests->huggingface-hub>=0.28.1->gradio) (3.4.1)\n",
            "Requirement already satisfied: urllib3<3,>=1.21.1 in /usr/local/lib/python3.11/dist-packages (from requests->huggingface-hub>=0.28.1->gradio) (2.3.0)\n",
            "Requirement already satisfied: mdurl~=0.1 in /usr/local/lib/python3.11/dist-packages (from markdown-it-py>=2.2.0->rich>=10.11.0->typer<1.0,>=0.12->gradio) (0.1.2)\n",
            "Downloading gradio-5.16.0-py3-none-any.whl (62.2 MB)\n",
            "\u001b[2K   \u001b[90m━━━━━━━━━━━━━━━━━━━━━━━━━━━━━━━━━━━━━━━━\u001b[0m \u001b[32m62.2/62.2 MB\u001b[0m \u001b[31m9.6 MB/s\u001b[0m eta \u001b[36m0:00:00\u001b[0m\n",
            "\u001b[?25hDownloading gradio_client-1.7.0-py3-none-any.whl (321 kB)\n",
            "\u001b[2K   \u001b[90m━━━━━━━━━━━━━━━━━━━━━━━━━━━━━━━━━━━━━━━━\u001b[0m \u001b[32m321.9/321.9 kB\u001b[0m \u001b[31m16.9 MB/s\u001b[0m eta \u001b[36m0:00:00\u001b[0m\n",
            "\u001b[?25hDownloading aiofiles-23.2.1-py3-none-any.whl (15 kB)\n",
            "Downloading fastapi-0.115.8-py3-none-any.whl (94 kB)\n",
            "\u001b[2K   \u001b[90m━━━━━━━━━━━━━━━━━━━━━━━━━━━━━━━━━━━━━━━━\u001b[0m \u001b[32m94.8/94.8 kB\u001b[0m \u001b[31m6.0 MB/s\u001b[0m eta \u001b[36m0:00:00\u001b[0m\n",
            "\u001b[?25hDownloading MarkupSafe-2.1.5-cp311-cp311-manylinux_2_17_x86_64.manylinux2014_x86_64.whl (28 kB)\n",
            "Downloading python_multipart-0.0.20-py3-none-any.whl (24 kB)\n",
            "Downloading ruff-0.9.6-py3-none-manylinux_2_17_x86_64.manylinux2014_x86_64.whl (12.5 MB)\n",
            "\u001b[2K   \u001b[90m━━━━━━━━━━━━━━━━━━━━━━━━━━━━━━━━━━━━━━━━\u001b[0m \u001b[32m12.5/12.5 MB\u001b[0m \u001b[31m85.5 MB/s\u001b[0m eta \u001b[36m0:00:00\u001b[0m\n",
            "\u001b[?25hDownloading safehttpx-0.1.6-py3-none-any.whl (8.7 kB)\n",
            "Downloading semantic_version-2.10.0-py2.py3-none-any.whl (15 kB)\n",
            "Downloading starlette-0.45.3-py3-none-any.whl (71 kB)\n",
            "\u001b[2K   \u001b[90m━━━━━━━━━━━━━━━━━━━━━━━━━━━━━━━━━━━━━━━━\u001b[0m \u001b[32m71.5/71.5 kB\u001b[0m \u001b[31m4.3 MB/s\u001b[0m eta \u001b[36m0:00:00\u001b[0m\n",
            "\u001b[?25hDownloading tomlkit-0.13.2-py3-none-any.whl (37 kB)\n",
            "Downloading uvicorn-0.34.0-py3-none-any.whl (62 kB)\n",
            "\u001b[2K   \u001b[90m━━━━━━━━━━━━━━━━━━━━━━━━━━━━━━━━━━━━━━━━\u001b[0m \u001b[32m62.3/62.3 kB\u001b[0m \u001b[31m3.7 MB/s\u001b[0m eta \u001b[36m0:00:00\u001b[0m\n",
            "\u001b[?25hDownloading ffmpy-0.5.0-py3-none-any.whl (6.0 kB)\n",
            "Downloading pydub-0.25.1-py2.py3-none-any.whl (32 kB)\n",
            "Installing collected packages: pydub, uvicorn, tomlkit, semantic-version, ruff, python-multipart, markupsafe, ffmpy, aiofiles, starlette, safehttpx, gradio-client, fastapi, gradio\n",
            "  Attempting uninstall: markupsafe\n",
            "    Found existing installation: MarkupSafe 3.0.2\n",
            "    Uninstalling MarkupSafe-3.0.2:\n",
            "      Successfully uninstalled MarkupSafe-3.0.2\n",
            "Successfully installed aiofiles-23.2.1 fastapi-0.115.8 ffmpy-0.5.0 gradio-5.16.0 gradio-client-1.7.0 markupsafe-2.1.5 pydub-0.25.1 python-multipart-0.0.20 ruff-0.9.6 safehttpx-0.1.6 semantic-version-2.10.0 starlette-0.45.3 tomlkit-0.13.2 uvicorn-0.34.0\n"
          ]
        }
      ]
    },
    {
      "cell_type": "code",
      "source": [
        "import gradio as gr\n",
        "\n",
        "\n",
        "def greet(name):\n",
        "    return \"pls watch \" + name + \"!\"\n",
        "\n",
        "\n",
        "demo = gr.Interface(fn=greet, inputs=\"textbox\", outputs=\"textbox\")\n",
        "\n",
        "if __name__ == \"__main__\":\n",
        "    demo.launch()\n"
      ],
      "metadata": {
        "colab": {
          "base_uri": "https://localhost:8080/",
          "height": 645
        },
        "id": "p5jqIwLucYwD",
        "outputId": "8a40dbd1-caf2-47be-98da-57dee35458a7"
      },
      "execution_count": null,
      "outputs": [
        {
          "output_type": "stream",
          "name": "stdout",
          "text": [
            "Running Gradio in a Colab notebook requires sharing enabled. Automatically setting `share=True` (you can turn this off by setting `share=False` in `launch()` explicitly).\n",
            "\n",
            "Colab notebook detected. To show errors in colab notebook, set debug=True in launch()\n",
            "* Running on public URL: https://58566cda6fdd1699ee.gradio.live\n",
            "\n",
            "This share link expires in 72 hours. For free permanent hosting and GPU upgrades, run `gradio deploy` from the terminal in the working directory to deploy to Hugging Face Spaces (https://huggingface.co/spaces)\n"
          ]
        },
        {
          "output_type": "display_data",
          "data": {
            "text/plain": [
              "<IPython.core.display.HTML object>"
            ],
            "text/html": [
              "<div><iframe src=\"https://58566cda6fdd1699ee.gradio.live\" width=\"100%\" height=\"500\" allow=\"autoplay; camera; microphone; clipboard-read; clipboard-write;\" frameborder=\"0\" allowfullscreen></iframe></div>"
            ]
          },
          "metadata": {}
        }
      ]
    },
    {
      "cell_type": "code",
      "source": [
        "import gradio as gr\n",
        "import mysql.connector\n",
        "\n",
        "# Database connection\n",
        "conn = mysql.connector.connect(\n",
        "    host = \"gateway01.ap-southeast-1.prod.aws.tidbcloud.com\",\n",
        "  port = 4000,\n",
        "  user = \"4PFhDQQc2yhfCUH.root\",\n",
        "  password = \"tzNB9UAMnXNidi62\",\n",
        "  database = \"sampleTable\",\n",
        ")\n",
        "cursor = conn.cursor()\n",
        "\n",
        "# Ensure table exists\n",
        "cursor.execute(\"\"\"\n",
        "    CREATE TABLE IF NOT EXISTS guvi1.employees (\n",
        "        id INT AUTO_INCREMENT PRIMARY KEY,\n",
        "        employee_name VARCHAR(255) NOT NULL\n",
        "    )\n",
        "\"\"\")\n",
        "conn.commit()\n",
        "\n",
        "# Function to insert employee name into the database\n",
        "def add_employee(employee_name):\n",
        "    if not employee_name.strip():\n",
        "        return \"Please enter a valid employee name.\"\n",
        "\n",
        "    cursor.execute(\"INSERT INTO guvi1.employees (employee_name) VALUES (%s)\", (employee_name,))\n",
        "    conn.commit()\n",
        "\n",
        "\n",
        "    return f\"Employee '{employee_name}' added successfully!\"\n",
        "\n",
        "# Gradio interface\n",
        "iface = gr.Interface(\n",
        "    fn=add_employee,\n",
        "    inputs=gr.Textbox(label=\"Enter Employee Name\"),\n",
        "    outputs=\"text\",\n",
        "    title=\"Employee Entry App\",\n",
        "    description=\"Enter an employee name and store it in the MySQL database.\"\n",
        ")\n",
        "\n",
        "# Launch the app\n",
        "iface.launch()\n"
      ],
      "metadata": {
        "colab": {
          "base_uri": "https://localhost:8080/",
          "height": 645
        },
        "id": "BHPtXvjOdTS-",
        "outputId": "9de86a02-728f-4c4f-c10a-b9d010f2dc09"
      },
      "execution_count": null,
      "outputs": [
        {
          "output_type": "stream",
          "name": "stdout",
          "text": [
            "Running Gradio in a Colab notebook requires sharing enabled. Automatically setting `share=True` (you can turn this off by setting `share=False` in `launch()` explicitly).\n",
            "\n",
            "Colab notebook detected. To show errors in colab notebook, set debug=True in launch()\n",
            "* Running on public URL: https://fdab28e15ead4ef337.gradio.live\n",
            "\n",
            "This share link expires in 72 hours. For free permanent hosting and GPU upgrades, run `gradio deploy` from the terminal in the working directory to deploy to Hugging Face Spaces (https://huggingface.co/spaces)\n"
          ]
        },
        {
          "output_type": "display_data",
          "data": {
            "text/plain": [
              "<IPython.core.display.HTML object>"
            ],
            "text/html": [
              "<div><iframe src=\"https://fdab28e15ead4ef337.gradio.live\" width=\"100%\" height=\"500\" allow=\"autoplay; camera; microphone; clipboard-read; clipboard-write;\" frameborder=\"0\" allowfullscreen></iframe></div>"
            ]
          },
          "metadata": {}
        },
        {
          "output_type": "execute_result",
          "data": {
            "text/plain": []
          },
          "metadata": {},
          "execution_count": 12
        }
      ]
    },
    {
      "cell_type": "code",
      "source": [
        "import mysql.connector\n",
        "\n",
        "connection = mysql.connector.connect(\n",
        "  host = \"gateway01.ap-southeast-1.prod.aws.tidbcloud.com\",\n",
        "  port = 4000,\n",
        "  user = \"4PFhDQQc2yhfCUH.root\",\n",
        "  password = \"tzNB9UAMnXNidi62\",\n",
        "  database = \"sampleTable\",\n",
        "\n",
        ")\n",
        "mycursor = connection.cursor(buffered=True)"
      ],
      "metadata": {
        "id": "aEwzTxsNgu67"
      },
      "execution_count": 29,
      "outputs": []
    },
    {
      "cell_type": "code",
      "source": [
        "#DDL\n",
        "mycursor.execute(\"create table guvi1.table2(id int,name varchar(50))\")"
      ],
      "metadata": {
        "id": "zJ9UaYHrfOlP"
      },
      "execution_count": null,
      "outputs": []
    },
    {
      "cell_type": "code",
      "source": [
        "#alter\n",
        "mycursor.execute(\"alter table guvi1.table2 add column age int\")"
      ],
      "metadata": {
        "id": "GG23qqY4gyZO"
      },
      "execution_count": null,
      "outputs": []
    },
    {
      "cell_type": "code",
      "source": [
        "#first\n",
        "mycursor.execute(\"alter table guvi1.table2 add column rollnum int first\")"
      ],
      "metadata": {
        "id": "TXPdg3xoiDph"
      },
      "execution_count": null,
      "outputs": []
    },
    {
      "cell_type": "code",
      "source": [
        "#after\n",
        "mycursor.execute(\"alter table guvi1.table2 add column address varchar(50) after rollnum\")"
      ],
      "metadata": {
        "id": "Ch1ttvYIiQts"
      },
      "execution_count": null,
      "outputs": []
    },
    {
      "cell_type": "code",
      "source": [
        "#drop\n",
        "mycursor.execute(\"alter table guvi1.table2 drop column address\")"
      ],
      "metadata": {
        "id": "V_7JlAhPiBhj"
      },
      "execution_count": null,
      "outputs": []
    },
    {
      "cell_type": "code",
      "source": [
        "#rename\n",
        "mycursor.execute(\"alter table guvi1.table2 rename column rollnum to sno\")"
      ],
      "metadata": {
        "id": "X3ONMaWxjMqQ"
      },
      "execution_count": null,
      "outputs": []
    },
    {
      "cell_type": "code",
      "source": [
        "#data type changing\n",
        "mycursor.execute(\"alter table guvi1.table2 modify column sno varchar(50)\")"
      ],
      "metadata": {
        "id": "chRi-568jjiJ"
      },
      "execution_count": null,
      "outputs": []
    },
    {
      "cell_type": "code",
      "source": [
        "mycursor.execute(\"describe guvi1.table1\")\n",
        "for i in mycursor:\n",
        "  print(i)\n"
      ],
      "metadata": {
        "colab": {
          "base_uri": "https://localhost:8080/",
          "height": 339
        },
        "id": "pu-QWyYrkR0O",
        "outputId": "50324867-7266-4033-e28c-3f72753a3abb",
        "collapsed": true
      },
      "execution_count": null,
      "outputs": [
        {
          "output_type": "error",
          "ename": "ProgrammingError",
          "evalue": "1146 (42S02): Table 'guvi1.table1' doesn't exist",
          "traceback": [
            "\u001b[0;31m---------------------------------------------------------------------------\u001b[0m",
            "\u001b[0;31mProgrammingError\u001b[0m                          Traceback (most recent call last)",
            "\u001b[0;32m<ipython-input-37-b580d677738c>\u001b[0m in \u001b[0;36m<cell line: 0>\u001b[0;34m()\u001b[0m\n\u001b[0;32m----> 1\u001b[0;31m \u001b[0mmycursor\u001b[0m\u001b[0;34m.\u001b[0m\u001b[0mexecute\u001b[0m\u001b[0;34m(\u001b[0m\u001b[0;34m\"describe guvi1.table1\"\u001b[0m\u001b[0;34m)\u001b[0m\u001b[0;34m\u001b[0m\u001b[0;34m\u001b[0m\u001b[0m\n\u001b[0m\u001b[1;32m      2\u001b[0m \u001b[0;32mfor\u001b[0m \u001b[0mi\u001b[0m \u001b[0;32min\u001b[0m \u001b[0mmycursor\u001b[0m\u001b[0;34m:\u001b[0m\u001b[0;34m\u001b[0m\u001b[0;34m\u001b[0m\u001b[0m\n\u001b[1;32m      3\u001b[0m   \u001b[0mprint\u001b[0m\u001b[0;34m(\u001b[0m\u001b[0mi\u001b[0m\u001b[0;34m)\u001b[0m\u001b[0;34m\u001b[0m\u001b[0;34m\u001b[0m\u001b[0m\n",
            "\u001b[0;32m/usr/local/lib/python3.11/dist-packages/mysql/connector/cursor.py\u001b[0m in \u001b[0;36mexecute\u001b[0;34m(self, operation, params, map_results)\u001b[0m\n\u001b[1;32m    414\u001b[0m \u001b[0;34m\u001b[0m\u001b[0m\n\u001b[1;32m    415\u001b[0m         self._handle_result(\n\u001b[0;32m--> 416\u001b[0;31m             self._connection.cmd_query(\n\u001b[0m\u001b[1;32m    417\u001b[0m                 \u001b[0mself\u001b[0m\u001b[0;34m.\u001b[0m\u001b[0m_stmt_partition\u001b[0m\u001b[0;34m[\u001b[0m\u001b[0;34m\"mappable_stmt\"\u001b[0m\u001b[0;34m]\u001b[0m\u001b[0;34m,\u001b[0m\u001b[0;34m\u001b[0m\u001b[0;34m\u001b[0m\u001b[0m\n\u001b[1;32m    418\u001b[0m                 \u001b[0mread_timeout\u001b[0m\u001b[0;34m=\u001b[0m\u001b[0mself\u001b[0m\u001b[0;34m.\u001b[0m\u001b[0m_read_timeout\u001b[0m\u001b[0;34m,\u001b[0m\u001b[0;34m\u001b[0m\u001b[0;34m\u001b[0m\u001b[0m\n",
            "\u001b[0;32m/usr/local/lib/python3.11/dist-packages/mysql/connector/opentelemetry/context_propagation.py\u001b[0m in \u001b[0;36mwrapper\u001b[0;34m(cnx, *args, **kwargs)\u001b[0m\n\u001b[1;32m    104\u001b[0m \u001b[0;34m\u001b[0m\u001b[0m\n\u001b[1;32m    105\u001b[0m         \u001b[0;32mtry\u001b[0m\u001b[0;34m:\u001b[0m\u001b[0;34m\u001b[0m\u001b[0;34m\u001b[0m\u001b[0m\n\u001b[0;32m--> 106\u001b[0;31m             \u001b[0mresult\u001b[0m \u001b[0;34m=\u001b[0m \u001b[0mmethod\u001b[0m\u001b[0;34m(\u001b[0m\u001b[0mcnx\u001b[0m\u001b[0;34m,\u001b[0m \u001b[0;34m*\u001b[0m\u001b[0margs\u001b[0m\u001b[0;34m,\u001b[0m \u001b[0;34m**\u001b[0m\u001b[0mkwargs\u001b[0m\u001b[0;34m)\u001b[0m\u001b[0;34m\u001b[0m\u001b[0;34m\u001b[0m\u001b[0m\n\u001b[0m\u001b[1;32m    107\u001b[0m         \u001b[0;32mfinally\u001b[0m\u001b[0;34m:\u001b[0m\u001b[0;34m\u001b[0m\u001b[0;34m\u001b[0m\u001b[0m\n\u001b[1;32m    108\u001b[0m             \u001b[0;32mif\u001b[0m \u001b[0mtp_header\u001b[0m \u001b[0;32mis\u001b[0m \u001b[0;32mnot\u001b[0m \u001b[0;32mNone\u001b[0m\u001b[0;34m:\u001b[0m\u001b[0;34m\u001b[0m\u001b[0;34m\u001b[0m\u001b[0m\n",
            "\u001b[0;32m/usr/local/lib/python3.11/dist-packages/mysql/connector/utils.py\u001b[0m in \u001b[0;36mhandle_cnx_method\u001b[0;34m(cnx, *args, **kwargs)\u001b[0m\n\u001b[1;32m    740\u001b[0m                 \u001b[0;32mif\u001b[0m \u001b[0misinstance\u001b[0m\u001b[0;34m(\u001b[0m\u001b[0merr\u001b[0m\u001b[0;34m,\u001b[0m \u001b[0mTimeoutError\u001b[0m\u001b[0;34m)\u001b[0m\u001b[0;34m:\u001b[0m\u001b[0;34m\u001b[0m\u001b[0;34m\u001b[0m\u001b[0m\n\u001b[1;32m    741\u001b[0m                     \u001b[0mcnx\u001b[0m\u001b[0;34m.\u001b[0m\u001b[0mclose\u001b[0m\u001b[0;34m(\u001b[0m\u001b[0;34m)\u001b[0m\u001b[0;34m\u001b[0m\u001b[0;34m\u001b[0m\u001b[0m\n\u001b[0;32m--> 742\u001b[0;31m                 \u001b[0;32mraise\u001b[0m \u001b[0merr\u001b[0m\u001b[0;34m\u001b[0m\u001b[0;34m\u001b[0m\u001b[0m\n\u001b[0m\u001b[1;32m    743\u001b[0m \u001b[0;34m\u001b[0m\u001b[0m\n\u001b[1;32m    744\u001b[0m         \u001b[0;32mreturn\u001b[0m \u001b[0mhandle_cnx_method\u001b[0m\u001b[0;34m\u001b[0m\u001b[0;34m\u001b[0m\u001b[0m\n",
            "\u001b[0;32m/usr/local/lib/python3.11/dist-packages/mysql/connector/utils.py\u001b[0m in \u001b[0;36mhandle_cnx_method\u001b[0;34m(cnx, *args, **kwargs)\u001b[0m\n\u001b[1;32m    736\u001b[0m         ) -> Any:\n\u001b[1;32m    737\u001b[0m             \u001b[0;32mtry\u001b[0m\u001b[0;34m:\u001b[0m\u001b[0;34m\u001b[0m\u001b[0;34m\u001b[0m\u001b[0m\n\u001b[0;32m--> 738\u001b[0;31m                 \u001b[0;32mreturn\u001b[0m \u001b[0mcnx_method\u001b[0m\u001b[0;34m(\u001b[0m\u001b[0mcnx\u001b[0m\u001b[0;34m,\u001b[0m \u001b[0;34m*\u001b[0m\u001b[0margs\u001b[0m\u001b[0;34m,\u001b[0m \u001b[0;34m**\u001b[0m\u001b[0mkwargs\u001b[0m\u001b[0;34m)\u001b[0m\u001b[0;34m\u001b[0m\u001b[0;34m\u001b[0m\u001b[0m\n\u001b[0m\u001b[1;32m    739\u001b[0m             \u001b[0;32mexcept\u001b[0m \u001b[0mException\u001b[0m \u001b[0;32mas\u001b[0m \u001b[0merr\u001b[0m\u001b[0;34m:\u001b[0m\u001b[0;34m\u001b[0m\u001b[0;34m\u001b[0m\u001b[0m\n\u001b[1;32m    740\u001b[0m                 \u001b[0;32mif\u001b[0m \u001b[0misinstance\u001b[0m\u001b[0;34m(\u001b[0m\u001b[0merr\u001b[0m\u001b[0;34m,\u001b[0m \u001b[0mTimeoutError\u001b[0m\u001b[0;34m)\u001b[0m\u001b[0;34m:\u001b[0m\u001b[0;34m\u001b[0m\u001b[0;34m\u001b[0m\u001b[0m\n",
            "\u001b[0;32m/usr/local/lib/python3.11/dist-packages/mysql/connector/connection.py\u001b[0m in \u001b[0;36mcmd_query\u001b[0;34m(self, query, raw, buffered, raw_as_string, **kwargs)\u001b[0m\n\u001b[1;32m    935\u001b[0m             \u001b[0mwrite_timeout\u001b[0m \u001b[0;34m=\u001b[0m \u001b[0mkwargs\u001b[0m\u001b[0;34m.\u001b[0m\u001b[0mget\u001b[0m\u001b[0;34m(\u001b[0m\u001b[0;34m\"write_timeout\"\u001b[0m\u001b[0;34m,\u001b[0m \u001b[0;32mNone\u001b[0m\u001b[0;34m)\u001b[0m\u001b[0;34m\u001b[0m\u001b[0;34m\u001b[0m\u001b[0m\n\u001b[1;32m    936\u001b[0m \u001b[0;34m\u001b[0m\u001b[0m\n\u001b[0;32m--> 937\u001b[0;31m             result = self._handle_result(\n\u001b[0m\u001b[1;32m    938\u001b[0m                 self._send_cmd(\n\u001b[1;32m    939\u001b[0m                     \u001b[0mServerCmd\u001b[0m\u001b[0;34m.\u001b[0m\u001b[0mQUERY\u001b[0m\u001b[0;34m,\u001b[0m\u001b[0;34m\u001b[0m\u001b[0;34m\u001b[0m\u001b[0m\n",
            "\u001b[0;32m/usr/local/lib/python3.11/dist-packages/mysql/connector/utils.py\u001b[0m in \u001b[0;36mhandle_cnx_method\u001b[0;34m(cnx, *args, **kwargs)\u001b[0m\n\u001b[1;32m    740\u001b[0m                 \u001b[0;32mif\u001b[0m \u001b[0misinstance\u001b[0m\u001b[0;34m(\u001b[0m\u001b[0merr\u001b[0m\u001b[0;34m,\u001b[0m \u001b[0mTimeoutError\u001b[0m\u001b[0;34m)\u001b[0m\u001b[0;34m:\u001b[0m\u001b[0;34m\u001b[0m\u001b[0;34m\u001b[0m\u001b[0m\n\u001b[1;32m    741\u001b[0m                     \u001b[0mcnx\u001b[0m\u001b[0;34m.\u001b[0m\u001b[0mclose\u001b[0m\u001b[0;34m(\u001b[0m\u001b[0;34m)\u001b[0m\u001b[0;34m\u001b[0m\u001b[0;34m\u001b[0m\u001b[0m\n\u001b[0;32m--> 742\u001b[0;31m                 \u001b[0;32mraise\u001b[0m \u001b[0merr\u001b[0m\u001b[0;34m\u001b[0m\u001b[0;34m\u001b[0m\u001b[0m\n\u001b[0m\u001b[1;32m    743\u001b[0m \u001b[0;34m\u001b[0m\u001b[0m\n\u001b[1;32m    744\u001b[0m         \u001b[0;32mreturn\u001b[0m \u001b[0mhandle_cnx_method\u001b[0m\u001b[0;34m\u001b[0m\u001b[0;34m\u001b[0m\u001b[0m\n",
            "\u001b[0;32m/usr/local/lib/python3.11/dist-packages/mysql/connector/utils.py\u001b[0m in \u001b[0;36mhandle_cnx_method\u001b[0;34m(cnx, *args, **kwargs)\u001b[0m\n\u001b[1;32m    736\u001b[0m         ) -> Any:\n\u001b[1;32m    737\u001b[0m             \u001b[0;32mtry\u001b[0m\u001b[0;34m:\u001b[0m\u001b[0;34m\u001b[0m\u001b[0;34m\u001b[0m\u001b[0m\n\u001b[0;32m--> 738\u001b[0;31m                 \u001b[0;32mreturn\u001b[0m \u001b[0mcnx_method\u001b[0m\u001b[0;34m(\u001b[0m\u001b[0mcnx\u001b[0m\u001b[0;34m,\u001b[0m \u001b[0;34m*\u001b[0m\u001b[0margs\u001b[0m\u001b[0;34m,\u001b[0m \u001b[0;34m**\u001b[0m\u001b[0mkwargs\u001b[0m\u001b[0;34m)\u001b[0m\u001b[0;34m\u001b[0m\u001b[0;34m\u001b[0m\u001b[0m\n\u001b[0m\u001b[1;32m    739\u001b[0m             \u001b[0;32mexcept\u001b[0m \u001b[0mException\u001b[0m \u001b[0;32mas\u001b[0m \u001b[0merr\u001b[0m\u001b[0;34m:\u001b[0m\u001b[0;34m\u001b[0m\u001b[0;34m\u001b[0m\u001b[0m\n\u001b[1;32m    740\u001b[0m                 \u001b[0;32mif\u001b[0m \u001b[0misinstance\u001b[0m\u001b[0;34m(\u001b[0m\u001b[0merr\u001b[0m\u001b[0;34m,\u001b[0m \u001b[0mTimeoutError\u001b[0m\u001b[0;34m)\u001b[0m\u001b[0;34m:\u001b[0m\u001b[0;34m\u001b[0m\u001b[0;34m\u001b[0m\u001b[0m\n",
            "\u001b[0;32m/usr/local/lib/python3.11/dist-packages/mysql/connector/connection.py\u001b[0m in \u001b[0;36m_handle_result\u001b[0;34m(self, packet, read_timeout, write_timeout)\u001b[0m\n\u001b[1;32m    701\u001b[0m             \u001b[0;32mreturn\u001b[0m \u001b[0mself\u001b[0m\u001b[0;34m.\u001b[0m\u001b[0m_handle_eof\u001b[0m\u001b[0;34m(\u001b[0m\u001b[0mpacket\u001b[0m\u001b[0;34m)\u001b[0m\u001b[0;34m\u001b[0m\u001b[0;34m\u001b[0m\u001b[0m\n\u001b[1;32m    702\u001b[0m         \u001b[0;32mif\u001b[0m \u001b[0mpacket\u001b[0m\u001b[0;34m[\u001b[0m\u001b[0;36m4\u001b[0m\u001b[0;34m]\u001b[0m \u001b[0;34m==\u001b[0m \u001b[0;36m255\u001b[0m\u001b[0;34m:\u001b[0m\u001b[0;34m\u001b[0m\u001b[0;34m\u001b[0m\u001b[0m\n\u001b[0;32m--> 703\u001b[0;31m             \u001b[0;32mraise\u001b[0m \u001b[0mget_exception\u001b[0m\u001b[0;34m(\u001b[0m\u001b[0mpacket\u001b[0m\u001b[0;34m)\u001b[0m\u001b[0;34m\u001b[0m\u001b[0;34m\u001b[0m\u001b[0m\n\u001b[0m\u001b[1;32m    704\u001b[0m \u001b[0;34m\u001b[0m\u001b[0m\n\u001b[1;32m    705\u001b[0m         \u001b[0;31m# We have a text result set\u001b[0m\u001b[0;34m\u001b[0m\u001b[0;34m\u001b[0m\u001b[0m\n",
            "\u001b[0;31mProgrammingError\u001b[0m: 1146 (42S02): Table 'guvi1.table1' doesn't exist"
          ]
        }
      ]
    },
    {
      "cell_type": "code",
      "source": [
        "mycursor.execute(\"Select * from guvi1.Diabeted\")"
      ],
      "metadata": {
        "id": "eIjGvy-TqGD_"
      },
      "execution_count": null,
      "outputs": []
    },
    {
      "cell_type": "code",
      "source": [
        "for i in mycursor:\n",
        "  print(i)"
      ],
      "metadata": {
        "colab": {
          "base_uri": "https://localhost:8080/"
        },
        "id": "Lx-8x13EtSlk",
        "outputId": "fd3b0a7c-b40f-4877-9cce-654956763c48",
        "collapsed": true
      },
      "execution_count": null,
      "outputs": [
        {
          "output_type": "stream",
          "name": "stdout",
          "text": [
            "(6, 148, 72, 35, 0, 33.6, 0.627, 50, 1)\n",
            "(1, 85, 66, 29, 0, 26.6, 0.351, 31, 0)\n",
            "(8, 183, 64, 0, 0, 23.3, 0.672, 32, 1)\n",
            "(1, 89, 66, 23, 94, 28.1, 0.167, 21, 0)\n",
            "(0, 137, 40, 35, 168, 43.1, 2.288, 33, 1)\n",
            "(5, 116, 74, 0, 0, 25.6, 0.201, 30, 0)\n",
            "(3, 78, 50, 32, 88, 31.0, 0.248, 26, 1)\n",
            "(10, 115, 0, 0, 0, 35.3, 0.134, 29, 0)\n",
            "(2, 197, 70, 45, 543, 30.5, 0.158, 53, 1)\n",
            "(8, 125, 96, 0, 0, 0.0, 0.232, 54, 1)\n",
            "(4, 110, 92, 0, 0, 37.6, 0.191, 30, 0)\n",
            "(10, 168, 74, 0, 0, 38.0, 0.537, 34, 1)\n",
            "(10, 139, 80, 0, 0, 27.1, 1.441, 57, 0)\n",
            "(1, 189, 60, 23, 846, 30.1, 0.398, 59, 1)\n",
            "(5, 166, 72, 19, 175, 25.8, 0.587, 51, 1)\n",
            "(7, 100, 0, 0, 0, 30.0, 0.484, 32, 1)\n",
            "(0, 118, 84, 47, 230, 45.8, 0.551, 31, 1)\n",
            "(7, 107, 74, 0, 0, 29.6, 0.254, 31, 1)\n",
            "(1, 103, 30, 38, 83, 43.3, 0.183, 33, 0)\n",
            "(1, 115, 70, 30, 96, 34.6, 0.529, 32, 1)\n",
            "(3, 126, 88, 41, 235, 39.3, 0.704, 27, 0)\n",
            "(8, 99, 84, 0, 0, 35.4, 0.388, 50, 0)\n",
            "(7, 196, 90, 0, 0, 39.8, 0.451, 41, 1)\n",
            "(9, 119, 80, 35, 0, 29.0, 0.263, 29, 1)\n",
            "(11, 143, 94, 33, 146, 36.6, 0.254, 51, 1)\n",
            "(10, 125, 70, 26, 115, 31.1, 0.205, 41, 1)\n",
            "(7, 147, 76, 0, 0, 39.4, 0.257, 43, 1)\n",
            "(1, 97, 66, 15, 140, 23.2, 0.487, 22, 0)\n",
            "(13, 145, 82, 19, 110, 22.2, 0.245, 57, 0)\n",
            "(5, 117, 92, 0, 0, 34.1, 0.337, 38, 0)\n",
            "(5, 109, 75, 26, 0, 36.0, 0.546, 60, 0)\n",
            "(3, 158, 76, 36, 245, 31.6, 0.851, 28, 1)\n",
            "(3, 88, 58, 11, 54, 24.8, 0.267, 22, 0)\n",
            "(6, 92, 92, 0, 0, 19.9, 0.188, 28, 0)\n",
            "(10, 122, 78, 31, 0, 27.6, 0.512, 45, 0)\n",
            "(4, 103, 60, 33, 192, 24.0, 0.966, 33, 0)\n",
            "(11, 138, 76, 0, 0, 33.2, 0.42, 35, 0)\n",
            "(9, 102, 76, 37, 0, 32.9, 0.665, 46, 1)\n",
            "(2, 90, 68, 42, 0, 38.2, 0.503, 27, 1)\n",
            "(4, 111, 72, 47, 207, 37.1, 1.39, 56, 1)\n",
            "(3, 180, 64, 25, 70, 34.0, 0.271, 26, 0)\n",
            "(7, 133, 84, 0, 0, 40.2, 0.696, 37, 0)\n",
            "(7, 106, 92, 18, 0, 22.7, 0.235, 48, 0)\n",
            "(9, 171, 110, 24, 240, 45.4, 0.721, 54, 1)\n",
            "(7, 159, 64, 0, 0, 27.4, 0.294, 40, 0)\n",
            "(0, 180, 66, 39, 0, 42.0, 1.893, 25, 1)\n",
            "(1, 146, 56, 0, 0, 29.7, 0.564, 29, 0)\n",
            "(2, 71, 70, 27, 0, 28.0, 0.586, 22, 0)\n",
            "(7, 103, 66, 32, 0, 39.1, 0.344, 31, 1)\n",
            "(7, 105, 0, 0, 0, 0.0, 0.305, 24, 0)\n",
            "(1, 103, 80, 11, 82, 19.4, 0.491, 22, 0)\n",
            "(1, 101, 50, 15, 36, 24.2, 0.526, 26, 0)\n",
            "(5, 88, 66, 21, 23, 24.4, 0.342, 30, 0)\n",
            "(8, 176, 90, 34, 300, 33.7, 0.467, 58, 1)\n",
            "(7, 150, 66, 42, 342, 34.7, 0.718, 42, 0)\n",
            "(1, 73, 50, 10, 0, 23.0, 0.248, 21, 0)\n",
            "(7, 187, 68, 39, 304, 37.7, 0.254, 41, 1)\n",
            "(0, 100, 88, 60, 110, 46.8, 0.962, 31, 0)\n",
            "(0, 146, 82, 0, 0, 40.5, 1.781, 44, 0)\n",
            "(0, 105, 64, 41, 142, 41.5, 0.173, 22, 0)\n",
            "(2, 84, 0, 0, 0, 0.0, 0.304, 21, 0)\n",
            "(8, 133, 72, 0, 0, 32.9, 0.27, 39, 1)\n",
            "(5, 44, 62, 0, 0, 25.0, 0.587, 36, 0)\n",
            "(2, 141, 58, 34, 128, 25.4, 0.699, 24, 0)\n",
            "(7, 114, 66, 0, 0, 32.8, 0.258, 42, 1)\n",
            "(5, 99, 74, 27, 0, 29.0, 0.203, 32, 0)\n",
            "(0, 109, 88, 30, 0, 32.5, 0.855, 38, 1)\n",
            "(2, 109, 92, 0, 0, 42.7, 0.845, 54, 0)\n",
            "(1, 95, 66, 13, 38, 19.6, 0.334, 25, 0)\n",
            "(4, 146, 85, 27, 100, 28.9, 0.189, 27, 0)\n",
            "(2, 100, 66, 20, 90, 32.9, 0.867, 28, 1)\n",
            "(5, 139, 64, 35, 140, 28.6, 0.411, 26, 0)\n",
            "(13, 126, 90, 0, 0, 43.4, 0.583, 42, 1)\n",
            "(4, 129, 86, 20, 270, 35.1, 0.231, 23, 0)\n",
            "(1, 79, 75, 30, 0, 32.0, 0.396, 22, 0)\n",
            "(1, 0, 48, 20, 0, 24.7, 0.14, 22, 0)\n",
            "(7, 62, 78, 0, 0, 32.6, 0.391, 41, 0)\n",
            "(5, 95, 72, 33, 0, 37.7, 0.37, 27, 0)\n",
            "(0, 131, 0, 0, 0, 43.2, 0.27, 26, 1)\n",
            "(2, 112, 66, 22, 0, 25.0, 0.307, 24, 0)\n",
            "(3, 113, 44, 13, 0, 22.4, 0.14, 22, 0)\n",
            "(2, 74, 0, 0, 0, 0.0, 0.102, 22, 0)\n",
            "(7, 83, 78, 26, 71, 29.3, 0.767, 36, 0)\n",
            "(0, 101, 65, 28, 0, 24.6, 0.237, 22, 0)\n",
            "(5, 137, 108, 0, 0, 48.8, 0.227, 37, 1)\n",
            "(2, 110, 74, 29, 125, 32.4, 0.698, 27, 0)\n",
            "(13, 106, 72, 54, 0, 36.6, 0.178, 45, 0)\n",
            "(2, 100, 68, 25, 71, 38.5, 0.324, 26, 0)\n",
            "(15, 136, 70, 32, 110, 37.1, 0.153, 43, 1)\n",
            "(1, 107, 68, 19, 0, 26.5, 0.165, 24, 0)\n",
            "(1, 80, 55, 0, 0, 19.1, 0.258, 21, 0)\n",
            "(4, 123, 80, 15, 176, 32.0, 0.443, 34, 0)\n",
            "(7, 81, 78, 40, 48, 46.7, 0.261, 42, 0)\n",
            "(4, 134, 72, 0, 0, 23.8, 0.277, 60, 1)\n",
            "(2, 142, 82, 18, 64, 24.7, 0.761, 21, 0)\n",
            "(6, 144, 72, 27, 228, 33.9, 0.255, 40, 0)\n",
            "(2, 92, 62, 28, 0, 31.6, 0.13, 24, 0)\n",
            "(1, 71, 48, 18, 76, 20.4, 0.323, 22, 0)\n",
            "(6, 93, 50, 30, 64, 28.7, 0.356, 23, 0)\n",
            "(1, 122, 90, 51, 220, 49.7, 0.325, 31, 1)\n",
            "(1, 163, 72, 0, 0, 39.0, 1.222, 33, 1)\n",
            "(1, 151, 60, 0, 0, 26.1, 0.179, 22, 0)\n",
            "(0, 125, 96, 0, 0, 22.5, 0.262, 21, 0)\n",
            "(1, 81, 72, 18, 40, 26.6, 0.283, 24, 0)\n",
            "(2, 85, 65, 0, 0, 39.6, 0.93, 27, 0)\n",
            "(1, 126, 56, 29, 152, 28.7, 0.801, 21, 0)\n",
            "(1, 96, 122, 0, 0, 22.4, 0.207, 27, 0)\n",
            "(4, 144, 58, 28, 140, 29.5, 0.287, 37, 0)\n",
            "(3, 83, 58, 31, 18, 34.3, 0.336, 25, 0)\n",
            "(0, 95, 85, 25, 36, 37.4, 0.247, 24, 1)\n",
            "(3, 171, 72, 33, 135, 33.3, 0.199, 24, 1)\n",
            "(8, 155, 62, 26, 495, 34.0, 0.543, 46, 1)\n",
            "(1, 89, 76, 34, 37, 31.2, 0.192, 23, 0)\n",
            "(4, 76, 62, 0, 0, 34.0, 0.391, 25, 0)\n",
            "(7, 160, 54, 32, 175, 30.5, 0.588, 39, 1)\n",
            "(4, 146, 92, 0, 0, 31.2, 0.539, 61, 1)\n",
            "(5, 124, 74, 0, 0, 34.0, 0.22, 38, 1)\n",
            "(5, 78, 48, 0, 0, 33.7, 0.654, 25, 0)\n",
            "(4, 97, 60, 23, 0, 28.2, 0.443, 22, 0)\n",
            "(4, 99, 76, 15, 51, 23.2, 0.223, 21, 0)\n",
            "(0, 162, 76, 56, 100, 53.2, 0.759, 25, 1)\n",
            "(6, 111, 64, 39, 0, 34.2, 0.26, 24, 0)\n",
            "(2, 107, 74, 30, 100, 33.6, 0.404, 23, 0)\n",
            "(5, 132, 80, 0, 0, 26.8, 0.186, 69, 0)\n",
            "(0, 113, 76, 0, 0, 33.3, 0.278, 23, 1)\n",
            "(1, 88, 30, 42, 99, 55.0, 0.496, 26, 1)\n",
            "(3, 120, 70, 30, 135, 42.9, 0.452, 30, 0)\n",
            "(1, 118, 58, 36, 94, 33.3, 0.261, 23, 0)\n",
            "(1, 117, 88, 24, 145, 34.5, 0.403, 40, 1)\n",
            "(0, 105, 84, 0, 0, 27.9, 0.741, 62, 1)\n",
            "(4, 173, 70, 14, 168, 29.7, 0.361, 33, 1)\n",
            "(9, 122, 56, 0, 0, 33.3, 1.114, 33, 1)\n",
            "(3, 170, 64, 37, 225, 34.5, 0.356, 30, 1)\n",
            "(8, 84, 74, 31, 0, 38.3, 0.457, 39, 0)\n",
            "(2, 96, 68, 13, 49, 21.1, 0.647, 26, 0)\n",
            "(2, 125, 60, 20, 140, 33.8, 0.088, 31, 0)\n",
            "(0, 100, 70, 26, 50, 30.8, 0.597, 21, 0)\n",
            "(0, 93, 60, 25, 92, 28.7, 0.532, 22, 0)\n",
            "(0, 129, 80, 0, 0, 31.2, 0.703, 29, 0)\n",
            "(5, 105, 72, 29, 325, 36.9, 0.159, 28, 0)\n",
            "(3, 128, 78, 0, 0, 21.1, 0.268, 55, 0)\n",
            "(5, 106, 82, 30, 0, 39.5, 0.286, 38, 0)\n",
            "(2, 108, 52, 26, 63, 32.5, 0.318, 22, 0)\n",
            "(10, 108, 66, 0, 0, 32.4, 0.272, 42, 1)\n",
            "(4, 154, 62, 31, 284, 32.8, 0.237, 23, 0)\n",
            "(0, 102, 75, 23, 0, 0.0, 0.572, 21, 0)\n",
            "(9, 57, 80, 37, 0, 32.8, 0.096, 41, 0)\n",
            "(2, 106, 64, 35, 119, 30.5, 1.4, 34, 0)\n",
            "(5, 147, 78, 0, 0, 33.7, 0.218, 65, 0)\n",
            "(2, 90, 70, 17, 0, 27.3, 0.085, 22, 0)\n",
            "(1, 136, 74, 50, 204, 37.4, 0.399, 24, 0)\n",
            "(4, 114, 65, 0, 0, 21.9, 0.432, 37, 0)\n",
            "(9, 156, 86, 28, 155, 34.3, 1.189, 42, 1)\n",
            "(1, 153, 82, 42, 485, 40.6, 0.687, 23, 0)\n",
            "(8, 188, 78, 0, 0, 47.9, 0.137, 43, 1)\n",
            "(7, 152, 88, 44, 0, 50.0, 0.337, 36, 1)\n",
            "(2, 99, 52, 15, 94, 24.6, 0.637, 21, 0)\n",
            "(1, 109, 56, 21, 135, 25.2, 0.833, 23, 0)\n",
            "(2, 88, 74, 19, 53, 29.0, 0.229, 22, 0)\n",
            "(17, 163, 72, 41, 114, 40.9, 0.817, 47, 1)\n",
            "(4, 151, 90, 38, 0, 29.7, 0.294, 36, 0)\n",
            "(7, 102, 74, 40, 105, 37.2, 0.204, 45, 0)\n",
            "(0, 114, 80, 34, 285, 44.2, 0.167, 27, 0)\n",
            "(2, 100, 64, 23, 0, 29.7, 0.368, 21, 0)\n",
            "(0, 131, 88, 0, 0, 31.6, 0.743, 32, 1)\n",
            "(6, 104, 74, 18, 156, 29.9, 0.722, 41, 1)\n",
            "(3, 148, 66, 25, 0, 32.5, 0.256, 22, 0)\n",
            "(4, 120, 68, 0, 0, 29.6, 0.709, 34, 0)\n",
            "(4, 110, 66, 0, 0, 31.9, 0.471, 29, 0)\n",
            "(3, 111, 90, 12, 78, 28.4, 0.495, 29, 0)\n",
            "(6, 102, 82, 0, 0, 30.8, 0.18, 36, 1)\n",
            "(6, 134, 70, 23, 130, 35.4, 0.542, 29, 1)\n",
            "(2, 87, 0, 23, 0, 28.9, 0.773, 25, 0)\n",
            "(1, 79, 60, 42, 48, 43.5, 0.678, 23, 0)\n",
            "(2, 75, 64, 24, 55, 29.7, 0.37, 33, 0)\n",
            "(8, 179, 72, 42, 130, 32.7, 0.719, 36, 1)\n",
            "(6, 85, 78, 0, 0, 31.2, 0.382, 42, 0)\n",
            "(0, 129, 110, 46, 130, 67.1, 0.319, 26, 1)\n",
            "(5, 143, 78, 0, 0, 45.0, 0.19, 47, 0)\n",
            "(5, 130, 82, 0, 0, 39.1, 0.956, 37, 1)\n",
            "(6, 87, 80, 0, 0, 23.2, 0.084, 32, 0)\n",
            "(0, 119, 64, 18, 92, 34.9, 0.725, 23, 0)\n",
            "(1, 0, 74, 20, 23, 27.7, 0.299, 21, 0)\n",
            "(5, 73, 60, 0, 0, 26.8, 0.268, 27, 0)\n",
            "(4, 141, 74, 0, 0, 27.6, 0.244, 40, 0)\n",
            "(7, 194, 68, 28, 0, 35.9, 0.745, 41, 1)\n",
            "(8, 181, 68, 36, 495, 30.1, 0.615, 60, 1)\n",
            "(1, 128, 98, 41, 58, 32.0, 1.321, 33, 1)\n",
            "(8, 109, 76, 39, 114, 27.9, 0.64, 31, 1)\n",
            "(5, 139, 80, 35, 160, 31.6, 0.361, 25, 1)\n",
            "(3, 111, 62, 0, 0, 22.6, 0.142, 21, 0)\n",
            "(9, 123, 70, 44, 94, 33.1, 0.374, 40, 0)\n",
            "(7, 159, 66, 0, 0, 30.4, 0.383, 36, 1)\n",
            "(11, 135, 0, 0, 0, 52.3, 0.578, 40, 1)\n",
            "(8, 85, 55, 20, 0, 24.4, 0.136, 42, 0)\n",
            "(5, 158, 84, 41, 210, 39.4, 0.395, 29, 1)\n",
            "(1, 105, 58, 0, 0, 24.3, 0.187, 21, 0)\n",
            "(3, 107, 62, 13, 48, 22.9, 0.678, 23, 1)\n",
            "(4, 109, 64, 44, 99, 34.8, 0.905, 26, 1)\n",
            "(4, 148, 60, 27, 318, 30.9, 0.15, 29, 1)\n",
            "(0, 113, 80, 16, 0, 31.0, 0.874, 21, 0)\n",
            "(1, 138, 82, 0, 0, 40.1, 0.236, 28, 0)\n",
            "(0, 108, 68, 20, 0, 27.3, 0.787, 32, 0)\n",
            "(2, 99, 70, 16, 44, 20.4, 0.235, 27, 0)\n",
            "(6, 103, 72, 32, 190, 37.7, 0.324, 55, 0)\n",
            "(5, 111, 72, 28, 0, 23.9, 0.407, 27, 0)\n",
            "(8, 196, 76, 29, 280, 37.5, 0.605, 57, 1)\n",
            "(5, 162, 104, 0, 0, 37.7, 0.151, 52, 1)\n",
            "(1, 96, 64, 27, 87, 33.2, 0.289, 21, 0)\n",
            "(7, 184, 84, 33, 0, 35.5, 0.355, 41, 1)\n",
            "(2, 81, 60, 22, 0, 27.7, 0.29, 25, 0)\n",
            "(0, 147, 85, 54, 0, 42.8, 0.375, 24, 0)\n",
            "(7, 179, 95, 31, 0, 34.2, 0.164, 60, 0)\n",
            "(0, 140, 65, 26, 130, 42.6, 0.431, 24, 1)\n",
            "(9, 112, 82, 32, 175, 34.2, 0.26, 36, 1)\n",
            "(12, 151, 70, 40, 271, 41.8, 0.742, 38, 1)\n",
            "(5, 109, 62, 41, 129, 35.8, 0.514, 25, 1)\n",
            "(6, 125, 68, 30, 120, 30.0, 0.464, 32, 0)\n",
            "(5, 85, 74, 22, 0, 29.0, 1.224, 32, 1)\n",
            "(5, 112, 66, 0, 0, 37.8, 0.261, 41, 1)\n",
            "(0, 177, 60, 29, 478, 34.6, 1.072, 21, 1)\n",
            "(2, 158, 90, 0, 0, 31.6, 0.805, 66, 1)\n",
            "(7, 119, 0, 0, 0, 25.2, 0.209, 37, 0)\n",
            "(7, 142, 60, 33, 190, 28.8, 0.687, 61, 0)\n",
            "(1, 100, 66, 15, 56, 23.6, 0.666, 26, 0)\n",
            "(1, 87, 78, 27, 32, 34.6, 0.101, 22, 0)\n",
            "(0, 101, 76, 0, 0, 35.7, 0.198, 26, 0)\n",
            "(3, 162, 52, 38, 0, 37.2, 0.652, 24, 1)\n",
            "(4, 197, 70, 39, 744, 36.7, 2.329, 31, 0)\n",
            "(0, 117, 80, 31, 53, 45.2, 0.089, 24, 0)\n",
            "(4, 142, 86, 0, 0, 44.0, 0.645, 22, 1)\n",
            "(6, 134, 80, 37, 370, 46.2, 0.238, 46, 1)\n",
            "(1, 79, 80, 25, 37, 25.4, 0.583, 22, 0)\n",
            "(4, 122, 68, 0, 0, 35.0, 0.394, 29, 0)\n",
            "(3, 74, 68, 28, 45, 29.7, 0.293, 23, 0)\n",
            "(4, 171, 72, 0, 0, 43.6, 0.479, 26, 1)\n",
            "(7, 181, 84, 21, 192, 35.9, 0.586, 51, 1)\n",
            "(0, 179, 90, 27, 0, 44.1, 0.686, 23, 1)\n",
            "(9, 164, 84, 21, 0, 30.8, 0.831, 32, 1)\n",
            "(0, 104, 76, 0, 0, 18.4, 0.582, 27, 0)\n",
            "(1, 91, 64, 24, 0, 29.2, 0.192, 21, 0)\n",
            "(4, 91, 70, 32, 88, 33.1, 0.446, 22, 0)\n",
            "(3, 139, 54, 0, 0, 25.6, 0.402, 22, 1)\n",
            "(6, 119, 50, 22, 176, 27.1, 1.318, 33, 1)\n",
            "(2, 146, 76, 35, 194, 38.2, 0.329, 29, 0)\n",
            "(9, 184, 85, 15, 0, 30.0, 1.213, 49, 1)\n",
            "(10, 122, 68, 0, 0, 31.2, 0.258, 41, 0)\n",
            "(0, 165, 90, 33, 680, 52.3, 0.427, 23, 0)\n",
            "(9, 124, 70, 33, 402, 35.4, 0.282, 34, 0)\n",
            "(1, 111, 86, 19, 0, 30.1, 0.143, 23, 0)\n",
            "(9, 106, 52, 0, 0, 31.2, 0.38, 42, 0)\n",
            "(2, 129, 84, 0, 0, 28.0, 0.284, 27, 0)\n",
            "(2, 90, 80, 14, 55, 24.4, 0.249, 24, 0)\n",
            "(0, 86, 68, 32, 0, 35.8, 0.238, 25, 0)\n",
            "(12, 92, 62, 7, 258, 27.6, 0.926, 44, 1)\n",
            "(1, 113, 64, 35, 0, 33.6, 0.543, 21, 1)\n",
            "(3, 111, 56, 39, 0, 30.1, 0.557, 30, 0)\n",
            "(2, 114, 68, 22, 0, 28.7, 0.092, 25, 0)\n",
            "(1, 193, 50, 16, 375, 25.9, 0.655, 24, 0)\n",
            "(11, 155, 76, 28, 150, 33.3, 1.353, 51, 1)\n",
            "(3, 191, 68, 15, 130, 30.9, 0.299, 34, 0)\n",
            "(3, 141, 0, 0, 0, 30.0, 0.761, 27, 1)\n",
            "(4, 95, 70, 32, 0, 32.1, 0.612, 24, 0)\n",
            "(3, 142, 80, 15, 0, 32.4, 0.2, 63, 0)\n",
            "(4, 123, 62, 0, 0, 32.0, 0.226, 35, 1)\n",
            "(5, 96, 74, 18, 67, 33.6, 0.997, 43, 0)\n",
            "(0, 138, 0, 0, 0, 36.3, 0.933, 25, 1)\n",
            "(2, 128, 64, 42, 0, 40.0, 1.101, 24, 0)\n",
            "(0, 102, 52, 0, 0, 25.1, 0.078, 21, 0)\n",
            "(2, 146, 0, 0, 0, 27.5, 0.24, 28, 1)\n",
            "(10, 101, 86, 37, 0, 45.6, 1.136, 38, 1)\n",
            "(2, 108, 62, 32, 56, 25.2, 0.128, 21, 0)\n",
            "(3, 122, 78, 0, 0, 23.0, 0.254, 40, 0)\n",
            "(1, 71, 78, 50, 45, 33.2, 0.422, 21, 0)\n",
            "(13, 106, 70, 0, 0, 34.2, 0.251, 52, 0)\n",
            "(2, 100, 70, 52, 57, 40.5, 0.677, 25, 0)\n",
            "(7, 106, 60, 24, 0, 26.5, 0.296, 29, 1)\n",
            "(0, 104, 64, 23, 116, 27.8, 0.454, 23, 0)\n",
            "(5, 114, 74, 0, 0, 24.9, 0.744, 57, 0)\n",
            "(2, 108, 62, 10, 278, 25.3, 0.881, 22, 0)\n",
            "(0, 146, 70, 0, 0, 37.9, 0.334, 28, 1)\n",
            "(10, 129, 76, 28, 122, 35.9, 0.28, 39, 0)\n",
            "(7, 133, 88, 15, 155, 32.4, 0.262, 37, 0)\n",
            "(7, 161, 86, 0, 0, 30.4, 0.165, 47, 1)\n",
            "(2, 108, 80, 0, 0, 27.0, 0.259, 52, 1)\n",
            "(7, 136, 74, 26, 135, 26.0, 0.647, 51, 0)\n",
            "(5, 155, 84, 44, 545, 38.7, 0.619, 34, 0)\n",
            "(1, 119, 86, 39, 220, 45.6, 0.808, 29, 1)\n",
            "(4, 96, 56, 17, 49, 20.8, 0.34, 26, 0)\n",
            "(5, 108, 72, 43, 75, 36.1, 0.263, 33, 0)\n",
            "(0, 78, 88, 29, 40, 36.9, 0.434, 21, 0)\n",
            "(0, 107, 62, 30, 74, 36.6, 0.757, 25, 1)\n",
            "(2, 128, 78, 37, 182, 43.3, 1.224, 31, 1)\n",
            "(1, 128, 48, 45, 194, 40.5, 0.613, 24, 1)\n",
            "(0, 161, 50, 0, 0, 21.9, 0.254, 65, 0)\n",
            "(6, 151, 62, 31, 120, 35.5, 0.692, 28, 0)\n",
            "(2, 146, 70, 38, 360, 28.0, 0.337, 29, 1)\n",
            "(0, 126, 84, 29, 215, 30.7, 0.52, 24, 0)\n",
            "(14, 100, 78, 25, 184, 36.6, 0.412, 46, 1)\n",
            "(8, 112, 72, 0, 0, 23.6, 0.84, 58, 0)\n",
            "(0, 167, 0, 0, 0, 32.3, 0.839, 30, 1)\n",
            "(2, 144, 58, 33, 135, 31.6, 0.422, 25, 1)\n",
            "(5, 77, 82, 41, 42, 35.8, 0.156, 35, 0)\n",
            "(5, 115, 98, 0, 0, 52.9, 0.209, 28, 1)\n",
            "(3, 150, 76, 0, 0, 21.0, 0.207, 37, 0)\n",
            "(2, 120, 76, 37, 105, 39.7, 0.215, 29, 0)\n",
            "(10, 161, 68, 23, 132, 25.5, 0.326, 47, 1)\n",
            "(0, 137, 68, 14, 148, 24.8, 0.143, 21, 0)\n",
            "(0, 128, 68, 19, 180, 30.5, 1.391, 25, 1)\n",
            "(2, 124, 68, 28, 205, 32.9, 0.875, 30, 1)\n",
            "(6, 80, 66, 30, 0, 26.2, 0.313, 41, 0)\n",
            "(0, 106, 70, 37, 148, 39.4, 0.605, 22, 0)\n",
            "(2, 155, 74, 17, 96, 26.6, 0.433, 27, 1)\n",
            "(3, 113, 50, 10, 85, 29.5, 0.626, 25, 0)\n",
            "(7, 109, 80, 31, 0, 35.9, 1.127, 43, 1)\n",
            "(2, 112, 68, 22, 94, 34.1, 0.315, 26, 0)\n",
            "(3, 99, 80, 11, 64, 19.3, 0.284, 30, 0)\n",
            "(3, 182, 74, 0, 0, 30.5, 0.345, 29, 1)\n",
            "(3, 115, 66, 39, 140, 38.1, 0.15, 28, 0)\n",
            "(6, 194, 78, 0, 0, 23.5, 0.129, 59, 1)\n",
            "(4, 129, 60, 12, 231, 27.5, 0.527, 31, 0)\n",
            "(3, 112, 74, 30, 0, 31.6, 0.197, 25, 1)\n",
            "(0, 124, 70, 20, 0, 27.4, 0.254, 36, 1)\n",
            "(13, 152, 90, 33, 29, 26.8, 0.731, 43, 1)\n",
            "(2, 112, 75, 32, 0, 35.7, 0.148, 21, 0)\n",
            "(1, 157, 72, 21, 168, 25.6, 0.123, 24, 0)\n",
            "(1, 122, 64, 32, 156, 35.1, 0.692, 30, 1)\n",
            "(10, 179, 70, 0, 0, 35.1, 0.2, 37, 0)\n",
            "(2, 102, 86, 36, 120, 45.5, 0.127, 23, 1)\n",
            "(6, 105, 70, 32, 68, 30.8, 0.122, 37, 0)\n",
            "(8, 118, 72, 19, 0, 23.1, 1.476, 46, 0)\n",
            "(2, 87, 58, 16, 52, 32.7, 0.166, 25, 0)\n",
            "(1, 180, 0, 0, 0, 43.3, 0.282, 41, 1)\n",
            "(12, 106, 80, 0, 0, 23.6, 0.137, 44, 0)\n",
            "(1, 95, 60, 18, 58, 23.9, 0.26, 22, 0)\n",
            "(0, 165, 76, 43, 255, 47.9, 0.259, 26, 0)\n",
            "(0, 117, 0, 0, 0, 33.8, 0.932, 44, 0)\n",
            "(5, 115, 76, 0, 0, 31.2, 0.343, 44, 1)\n",
            "(9, 152, 78, 34, 171, 34.2, 0.893, 33, 1)\n",
            "(7, 178, 84, 0, 0, 39.9, 0.331, 41, 1)\n",
            "(1, 130, 70, 13, 105, 25.9, 0.472, 22, 0)\n",
            "(1, 95, 74, 21, 73, 25.9, 0.673, 36, 0)\n",
            "(1, 0, 68, 35, 0, 32.0, 0.389, 22, 0)\n",
            "(5, 122, 86, 0, 0, 34.7, 0.29, 33, 0)\n",
            "(8, 95, 72, 0, 0, 36.8, 0.485, 57, 0)\n",
            "(8, 126, 88, 36, 108, 38.5, 0.349, 49, 0)\n",
            "(1, 139, 46, 19, 83, 28.7, 0.654, 22, 0)\n",
            "(3, 116, 0, 0, 0, 23.5, 0.187, 23, 0)\n",
            "(3, 99, 62, 19, 74, 21.8, 0.279, 26, 0)\n",
            "(5, 0, 80, 32, 0, 41.0, 0.346, 37, 1)\n",
            "(4, 92, 80, 0, 0, 42.2, 0.237, 29, 0)\n",
            "(4, 137, 84, 0, 0, 31.2, 0.252, 30, 0)\n",
            "(3, 61, 82, 28, 0, 34.4, 0.243, 46, 0)\n",
            "(1, 90, 62, 12, 43, 27.2, 0.58, 24, 0)\n",
            "(3, 90, 78, 0, 0, 42.7, 0.559, 21, 0)\n",
            "(9, 165, 88, 0, 0, 30.4, 0.302, 49, 1)\n",
            "(1, 125, 50, 40, 167, 33.3, 0.962, 28, 1)\n",
            "(13, 129, 0, 30, 0, 39.9, 0.569, 44, 1)\n",
            "(12, 88, 74, 40, 54, 35.3, 0.378, 48, 0)\n",
            "(1, 196, 76, 36, 249, 36.5, 0.875, 29, 1)\n",
            "(5, 189, 64, 33, 325, 31.2, 0.583, 29, 1)\n",
            "(5, 158, 70, 0, 0, 29.8, 0.207, 63, 0)\n",
            "(5, 103, 108, 37, 0, 39.2, 0.305, 65, 0)\n",
            "(4, 146, 78, 0, 0, 38.5, 0.52, 67, 1)\n",
            "(4, 147, 74, 25, 293, 34.9, 0.385, 30, 0)\n",
            "(5, 99, 54, 28, 83, 34.0, 0.499, 30, 0)\n",
            "(6, 124, 72, 0, 0, 27.6, 0.368, 29, 1)\n",
            "(0, 101, 64, 17, 0, 21.0, 0.252, 21, 0)\n",
            "(3, 81, 86, 16, 66, 27.5, 0.306, 22, 0)\n",
            "(1, 133, 102, 28, 140, 32.8, 0.234, 45, 1)\n",
            "(3, 173, 82, 48, 465, 38.4, 2.137, 25, 1)\n",
            "(0, 118, 64, 23, 89, 0.0, 1.731, 21, 0)\n",
            "(0, 84, 64, 22, 66, 35.8, 0.545, 21, 0)\n",
            "(2, 105, 58, 40, 94, 34.9, 0.225, 25, 0)\n",
            "(2, 122, 52, 43, 158, 36.2, 0.816, 28, 0)\n",
            "(12, 140, 82, 43, 325, 39.2, 0.528, 58, 1)\n",
            "(0, 98, 82, 15, 84, 25.2, 0.299, 22, 0)\n",
            "(1, 87, 60, 37, 75, 37.2, 0.509, 22, 0)\n",
            "(4, 156, 75, 0, 0, 48.3, 0.238, 32, 1)\n",
            "(0, 93, 100, 39, 72, 43.4, 1.021, 35, 0)\n",
            "(1, 107, 72, 30, 82, 30.8, 0.821, 24, 0)\n",
            "(0, 105, 68, 22, 0, 20.0, 0.236, 22, 0)\n",
            "(1, 109, 60, 8, 182, 25.4, 0.947, 21, 0)\n",
            "(1, 90, 62, 18, 59, 25.1, 1.268, 25, 0)\n",
            "(1, 125, 70, 24, 110, 24.3, 0.221, 25, 0)\n",
            "(1, 119, 54, 13, 50, 22.3, 0.205, 24, 0)\n",
            "(5, 116, 74, 29, 0, 32.3, 0.66, 35, 1)\n",
            "(8, 105, 100, 36, 0, 43.3, 0.239, 45, 1)\n",
            "(5, 144, 82, 26, 285, 32.0, 0.452, 58, 1)\n",
            "(3, 100, 68, 23, 81, 31.6, 0.949, 28, 0)\n",
            "(1, 100, 66, 29, 196, 32.0, 0.444, 42, 0)\n",
            "(5, 166, 76, 0, 0, 45.7, 0.34, 27, 1)\n",
            "(1, 131, 64, 14, 415, 23.7, 0.389, 21, 0)\n",
            "(4, 116, 72, 12, 87, 22.1, 0.463, 37, 0)\n",
            "(4, 158, 78, 0, 0, 32.9, 0.803, 31, 1)\n",
            "(2, 127, 58, 24, 275, 27.7, 1.6, 25, 0)\n",
            "(3, 96, 56, 34, 115, 24.7, 0.944, 39, 0)\n",
            "(0, 131, 66, 40, 0, 34.3, 0.196, 22, 1)\n",
            "(3, 82, 70, 0, 0, 21.1, 0.389, 25, 0)\n",
            "(3, 193, 70, 31, 0, 34.9, 0.241, 25, 1)\n",
            "(4, 95, 64, 0, 0, 32.0, 0.161, 31, 1)\n",
            "(6, 137, 61, 0, 0, 24.2, 0.151, 55, 0)\n",
            "(5, 136, 84, 41, 88, 35.0, 0.286, 35, 1)\n",
            "(9, 72, 78, 25, 0, 31.6, 0.28, 38, 0)\n",
            "(5, 168, 64, 0, 0, 32.9, 0.135, 41, 1)\n",
            "(2, 123, 48, 32, 165, 42.1, 0.52, 26, 0)\n",
            "(4, 115, 72, 0, 0, 28.9, 0.376, 46, 1)\n",
            "(0, 101, 62, 0, 0, 21.9, 0.336, 25, 0)\n",
            "(8, 197, 74, 0, 0, 25.9, 1.191, 39, 1)\n",
            "(1, 172, 68, 49, 579, 42.4, 0.702, 28, 1)\n",
            "(6, 102, 90, 39, 0, 35.7, 0.674, 28, 0)\n",
            "(1, 112, 72, 30, 176, 34.4, 0.528, 25, 0)\n",
            "(1, 143, 84, 23, 310, 42.4, 1.076, 22, 0)\n",
            "(1, 143, 74, 22, 61, 26.2, 0.256, 21, 0)\n",
            "(0, 138, 60, 35, 167, 34.6, 0.534, 21, 1)\n",
            "(3, 173, 84, 33, 474, 35.7, 0.258, 22, 1)\n",
            "(1, 97, 68, 21, 0, 27.2, 1.095, 22, 0)\n",
            "(4, 144, 82, 32, 0, 38.5, 0.554, 37, 1)\n",
            "(1, 83, 68, 0, 0, 18.2, 0.624, 27, 0)\n",
            "(3, 129, 64, 29, 115, 26.4, 0.219, 28, 1)\n",
            "(1, 119, 88, 41, 170, 45.3, 0.507, 26, 0)\n",
            "(2, 94, 68, 18, 76, 26.0, 0.561, 21, 0)\n",
            "(0, 102, 64, 46, 78, 40.6, 0.496, 21, 0)\n",
            "(2, 115, 64, 22, 0, 30.8, 0.421, 21, 0)\n",
            "(8, 151, 78, 32, 210, 42.9, 0.516, 36, 1)\n",
            "(4, 184, 78, 39, 277, 37.0, 0.264, 31, 1)\n",
            "(0, 94, 0, 0, 0, 0.0, 0.256, 25, 0)\n",
            "(1, 181, 64, 30, 180, 34.1, 0.328, 38, 1)\n",
            "(0, 135, 94, 46, 145, 40.6, 0.284, 26, 0)\n",
            "(1, 95, 82, 25, 180, 35.0, 0.233, 43, 1)\n",
            "(2, 99, 0, 0, 0, 22.2, 0.108, 23, 0)\n",
            "(3, 89, 74, 16, 85, 30.4, 0.551, 38, 0)\n",
            "(1, 80, 74, 11, 60, 30.0, 0.527, 22, 0)\n",
            "(2, 139, 75, 0, 0, 25.6, 0.167, 29, 0)\n",
            "(1, 90, 68, 8, 0, 24.5, 1.138, 36, 0)\n",
            "(0, 141, 0, 0, 0, 42.4, 0.205, 29, 1)\n",
            "(12, 140, 85, 33, 0, 37.4, 0.244, 41, 0)\n",
            "(5, 147, 75, 0, 0, 29.9, 0.434, 28, 0)\n",
            "(1, 97, 70, 15, 0, 18.2, 0.147, 21, 0)\n",
            "(6, 107, 88, 0, 0, 36.8, 0.727, 31, 0)\n",
            "(0, 189, 104, 25, 0, 34.3, 0.435, 41, 1)\n",
            "(2, 83, 66, 23, 50, 32.2, 0.497, 22, 0)\n",
            "(4, 117, 64, 27, 120, 33.2, 0.23, 24, 0)\n",
            "(8, 108, 70, 0, 0, 30.5, 0.955, 33, 1)\n",
            "(4, 117, 62, 12, 0, 29.7, 0.38, 30, 1)\n",
            "(0, 180, 78, 63, 14, 59.4, 2.42, 25, 1)\n",
            "(1, 100, 72, 12, 70, 25.3, 0.658, 28, 0)\n",
            "(0, 95, 80, 45, 92, 36.5, 0.33, 26, 0)\n",
            "(0, 104, 64, 37, 64, 33.6, 0.51, 22, 1)\n",
            "(0, 120, 74, 18, 63, 30.5, 0.285, 26, 0)\n",
            "(1, 82, 64, 13, 95, 21.2, 0.415, 23, 0)\n",
            "(2, 134, 70, 0, 0, 28.9, 0.542, 23, 1)\n",
            "(0, 91, 68, 32, 210, 39.9, 0.381, 25, 0)\n",
            "(2, 119, 0, 0, 0, 19.6, 0.832, 72, 0)\n",
            "(2, 100, 54, 28, 105, 37.8, 0.498, 24, 0)\n",
            "(14, 175, 62, 30, 0, 33.6, 0.212, 38, 1)\n",
            "(1, 135, 54, 0, 0, 26.7, 0.687, 62, 0)\n",
            "(5, 86, 68, 28, 71, 30.2, 0.364, 24, 0)\n",
            "(10, 148, 84, 48, 237, 37.6, 1.001, 51, 1)\n",
            "(9, 134, 74, 33, 60, 25.9, 0.46, 81, 0)\n",
            "(9, 120, 72, 22, 56, 20.8, 0.733, 48, 0)\n",
            "(1, 71, 62, 0, 0, 21.8, 0.416, 26, 0)\n",
            "(8, 74, 70, 40, 49, 35.3, 0.705, 39, 0)\n",
            "(5, 88, 78, 30, 0, 27.6, 0.258, 37, 0)\n",
            "(10, 115, 98, 0, 0, 24.0, 1.022, 34, 0)\n",
            "(0, 124, 56, 13, 105, 21.8, 0.452, 21, 0)\n",
            "(0, 74, 52, 10, 36, 27.8, 0.269, 22, 0)\n",
            "(0, 97, 64, 36, 100, 36.8, 0.6, 25, 0)\n",
            "(8, 120, 0, 0, 0, 30.0, 0.183, 38, 1)\n",
            "(6, 154, 78, 41, 140, 46.1, 0.571, 27, 0)\n",
            "(1, 144, 82, 40, 0, 41.3, 0.607, 28, 0)\n",
            "(0, 137, 70, 38, 0, 33.2, 0.17, 22, 0)\n",
            "(0, 119, 66, 27, 0, 38.8, 0.259, 22, 0)\n",
            "(7, 136, 90, 0, 0, 29.9, 0.21, 50, 0)\n",
            "(4, 114, 64, 0, 0, 28.9, 0.126, 24, 0)\n",
            "(0, 137, 84, 27, 0, 27.3, 0.231, 59, 0)\n",
            "(2, 105, 80, 45, 191, 33.7, 0.711, 29, 1)\n",
            "(7, 114, 76, 17, 110, 23.8, 0.466, 31, 0)\n",
            "(8, 126, 74, 38, 75, 25.9, 0.162, 39, 0)\n",
            "(4, 132, 86, 31, 0, 28.0, 0.419, 63, 0)\n",
            "(3, 158, 70, 30, 328, 35.5, 0.344, 35, 1)\n",
            "(0, 123, 88, 37, 0, 35.2, 0.197, 29, 0)\n",
            "(4, 85, 58, 22, 49, 27.8, 0.306, 28, 0)\n",
            "(0, 84, 82, 31, 125, 38.2, 0.233, 23, 0)\n",
            "(0, 145, 0, 0, 0, 44.2, 0.63, 31, 1)\n",
            "(0, 135, 68, 42, 250, 42.3, 0.365, 24, 1)\n",
            "(1, 139, 62, 41, 480, 40.7, 0.536, 21, 0)\n",
            "(0, 173, 78, 32, 265, 46.5, 1.159, 58, 0)\n",
            "(4, 99, 72, 17, 0, 25.6, 0.294, 28, 0)\n",
            "(8, 194, 80, 0, 0, 26.1, 0.551, 67, 0)\n",
            "(2, 83, 65, 28, 66, 36.8, 0.629, 24, 0)\n",
            "(2, 89, 90, 30, 0, 33.5, 0.292, 42, 0)\n",
            "(4, 99, 68, 38, 0, 32.8, 0.145, 33, 0)\n",
            "(4, 125, 70, 18, 122, 28.9, 1.144, 45, 1)\n",
            "(3, 80, 0, 0, 0, 0.0, 0.174, 22, 0)\n",
            "(6, 166, 74, 0, 0, 26.6, 0.304, 66, 0)\n",
            "(5, 110, 68, 0, 0, 26.0, 0.292, 30, 0)\n",
            "(2, 81, 72, 15, 76, 30.1, 0.547, 25, 0)\n",
            "(7, 195, 70, 33, 145, 25.1, 0.163, 55, 1)\n",
            "(6, 154, 74, 32, 193, 29.3, 0.839, 39, 0)\n",
            "(2, 117, 90, 19, 71, 25.2, 0.313, 21, 0)\n",
            "(3, 84, 72, 32, 0, 37.2, 0.267, 28, 0)\n",
            "(6, 0, 68, 41, 0, 39.0, 0.727, 41, 1)\n",
            "(7, 94, 64, 25, 79, 33.3, 0.738, 41, 0)\n",
            "(3, 96, 78, 39, 0, 37.3, 0.238, 40, 0)\n",
            "(10, 75, 82, 0, 0, 33.3, 0.263, 38, 0)\n",
            "(0, 180, 90, 26, 90, 36.5, 0.314, 35, 1)\n",
            "(1, 130, 60, 23, 170, 28.6, 0.692, 21, 0)\n",
            "(2, 84, 50, 23, 76, 30.4, 0.968, 21, 0)\n",
            "(8, 120, 78, 0, 0, 25.0, 0.409, 64, 0)\n",
            "(12, 84, 72, 31, 0, 29.7, 0.297, 46, 1)\n",
            "(0, 139, 62, 17, 210, 22.1, 0.207, 21, 0)\n",
            "(9, 91, 68, 0, 0, 24.2, 0.2, 58, 0)\n",
            "(2, 91, 62, 0, 0, 27.3, 0.525, 22, 0)\n",
            "(3, 99, 54, 19, 86, 25.6, 0.154, 24, 0)\n",
            "(3, 163, 70, 18, 105, 31.6, 0.268, 28, 1)\n",
            "(9, 145, 88, 34, 165, 30.3, 0.771, 53, 1)\n",
            "(7, 125, 86, 0, 0, 37.6, 0.304, 51, 0)\n",
            "(13, 76, 60, 0, 0, 32.8, 0.18, 41, 0)\n",
            "(6, 129, 90, 7, 326, 19.6, 0.582, 60, 0)\n",
            "(2, 68, 70, 32, 66, 25.0, 0.187, 25, 0)\n",
            "(3, 124, 80, 33, 130, 33.2, 0.305, 26, 0)\n",
            "(6, 114, 0, 0, 0, 0.0, 0.189, 26, 0)\n",
            "(9, 130, 70, 0, 0, 34.2, 0.652, 45, 1)\n",
            "(3, 125, 58, 0, 0, 31.6, 0.151, 24, 0)\n",
            "(3, 87, 60, 18, 0, 21.8, 0.444, 21, 0)\n",
            "(1, 97, 64, 19, 82, 18.2, 0.299, 21, 0)\n",
            "(3, 116, 74, 15, 105, 26.3, 0.107, 24, 0)\n",
            "(0, 117, 66, 31, 188, 30.8, 0.493, 22, 0)\n",
            "(0, 111, 65, 0, 0, 24.6, 0.66, 31, 0)\n",
            "(2, 122, 60, 18, 106, 29.8, 0.717, 22, 0)\n",
            "(0, 107, 76, 0, 0, 45.3, 0.686, 24, 0)\n",
            "(1, 86, 66, 52, 65, 41.3, 0.917, 29, 0)\n",
            "(6, 91, 0, 0, 0, 29.8, 0.501, 31, 0)\n",
            "(1, 77, 56, 30, 56, 33.3, 1.251, 24, 0)\n",
            "(4, 132, 0, 0, 0, 32.9, 0.302, 23, 1)\n",
            "(0, 105, 90, 0, 0, 29.6, 0.197, 46, 0)\n",
            "(0, 57, 60, 0, 0, 21.7, 0.735, 67, 0)\n",
            "(0, 127, 80, 37, 210, 36.3, 0.804, 23, 0)\n",
            "(3, 129, 92, 49, 155, 36.4, 0.968, 32, 1)\n",
            "(8, 100, 74, 40, 215, 39.4, 0.661, 43, 1)\n",
            "(3, 128, 72, 25, 190, 32.4, 0.549, 27, 1)\n",
            "(10, 90, 85, 32, 0, 34.9, 0.825, 56, 1)\n",
            "(4, 84, 90, 23, 56, 39.5, 0.159, 25, 0)\n",
            "(1, 88, 78, 29, 76, 32.0, 0.365, 29, 0)\n",
            "(8, 186, 90, 35, 225, 34.5, 0.423, 37, 1)\n",
            "(5, 187, 76, 27, 207, 43.6, 1.034, 53, 1)\n",
            "(4, 131, 68, 21, 166, 33.1, 0.16, 28, 0)\n",
            "(1, 164, 82, 43, 67, 32.8, 0.341, 50, 0)\n",
            "(4, 189, 110, 31, 0, 28.5, 0.68, 37, 0)\n",
            "(1, 116, 70, 28, 0, 27.4, 0.204, 21, 0)\n",
            "(3, 84, 68, 30, 106, 31.9, 0.591, 25, 0)\n",
            "(6, 114, 88, 0, 0, 27.8, 0.247, 66, 0)\n",
            "(1, 88, 62, 24, 44, 29.9, 0.422, 23, 0)\n",
            "(1, 84, 64, 23, 115, 36.9, 0.471, 28, 0)\n",
            "(7, 124, 70, 33, 215, 25.5, 0.161, 37, 0)\n",
            "(1, 97, 70, 40, 0, 38.1, 0.218, 30, 0)\n",
            "(8, 110, 76, 0, 0, 27.8, 0.237, 58, 0)\n",
            "(11, 103, 68, 40, 0, 46.2, 0.126, 42, 0)\n",
            "(11, 85, 74, 0, 0, 30.1, 0.3, 35, 0)\n",
            "(6, 125, 76, 0, 0, 33.8, 0.121, 54, 1)\n",
            "(0, 198, 66, 32, 274, 41.3, 0.502, 28, 1)\n",
            "(1, 87, 68, 34, 77, 37.6, 0.401, 24, 0)\n",
            "(6, 99, 60, 19, 54, 26.9, 0.497, 32, 0)\n",
            "(0, 91, 80, 0, 0, 32.4, 0.601, 27, 0)\n",
            "(2, 95, 54, 14, 88, 26.1, 0.748, 22, 0)\n",
            "(1, 99, 72, 30, 18, 38.6, 0.412, 21, 0)\n",
            "(6, 92, 62, 32, 126, 32.0, 0.085, 46, 0)\n",
            "(4, 154, 72, 29, 126, 31.3, 0.338, 37, 0)\n",
            "(0, 121, 66, 30, 165, 34.3, 0.203, 33, 1)\n",
            "(3, 78, 70, 0, 0, 32.5, 0.27, 39, 0)\n",
            "(2, 130, 96, 0, 0, 22.6, 0.268, 21, 0)\n",
            "(3, 111, 58, 31, 44, 29.5, 0.43, 22, 0)\n",
            "(2, 98, 60, 17, 120, 34.7, 0.198, 22, 0)\n",
            "(1, 143, 86, 30, 330, 30.1, 0.892, 23, 0)\n",
            "(1, 119, 44, 47, 63, 35.5, 0.28, 25, 0)\n",
            "(6, 108, 44, 20, 130, 24.0, 0.813, 35, 0)\n",
            "(2, 118, 80, 0, 0, 42.9, 0.693, 21, 1)\n",
            "(10, 133, 68, 0, 0, 27.0, 0.245, 36, 0)\n",
            "(2, 197, 70, 99, 0, 34.7, 0.575, 62, 1)\n",
            "(0, 151, 90, 46, 0, 42.1, 0.371, 21, 1)\n",
            "(6, 109, 60, 27, 0, 25.0, 0.206, 27, 0)\n",
            "(12, 121, 78, 17, 0, 26.5, 0.259, 62, 0)\n",
            "(8, 100, 76, 0, 0, 38.7, 0.19, 42, 0)\n",
            "(8, 124, 76, 24, 600, 28.7, 0.687, 52, 1)\n",
            "(1, 93, 56, 11, 0, 22.5, 0.417, 22, 0)\n",
            "(8, 143, 66, 0, 0, 34.9, 0.129, 41, 1)\n",
            "(6, 103, 66, 0, 0, 24.3, 0.249, 29, 0)\n",
            "(3, 176, 86, 27, 156, 33.3, 1.154, 52, 1)\n",
            "(0, 73, 0, 0, 0, 21.1, 0.342, 25, 0)\n",
            "(11, 111, 84, 40, 0, 46.8, 0.925, 45, 1)\n",
            "(2, 112, 78, 50, 140, 39.4, 0.175, 24, 0)\n",
            "(3, 132, 80, 0, 0, 34.4, 0.402, 44, 1)\n",
            "(2, 82, 52, 22, 115, 28.5, 1.699, 25, 0)\n",
            "(6, 123, 72, 45, 230, 33.6, 0.733, 34, 0)\n",
            "(0, 188, 82, 14, 185, 32.0, 0.682, 22, 1)\n",
            "(0, 67, 76, 0, 0, 45.3, 0.194, 46, 0)\n",
            "(1, 89, 24, 19, 25, 27.8, 0.559, 21, 0)\n",
            "(1, 173, 74, 0, 0, 36.8, 0.088, 38, 1)\n",
            "(1, 109, 38, 18, 120, 23.1, 0.407, 26, 0)\n",
            "(1, 108, 88, 19, 0, 27.1, 0.4, 24, 0)\n",
            "(6, 96, 0, 0, 0, 23.7, 0.19, 28, 0)\n",
            "(1, 124, 74, 36, 0, 27.8, 0.1, 30, 0)\n",
            "(7, 150, 78, 29, 126, 35.2, 0.692, 54, 1)\n",
            "(4, 183, 0, 0, 0, 28.4, 0.212, 36, 1)\n",
            "(1, 124, 60, 32, 0, 35.8, 0.514, 21, 0)\n",
            "(1, 181, 78, 42, 293, 40.0, 1.258, 22, 1)\n",
            "(1, 92, 62, 25, 41, 19.5, 0.482, 25, 0)\n",
            "(0, 152, 82, 39, 272, 41.5, 0.27, 27, 0)\n",
            "(1, 111, 62, 13, 182, 24.0, 0.138, 23, 0)\n",
            "(3, 106, 54, 21, 158, 30.9, 0.292, 24, 0)\n",
            "(3, 174, 58, 22, 194, 32.9, 0.593, 36, 1)\n",
            "(7, 168, 88, 42, 321, 38.2, 0.787, 40, 1)\n",
            "(6, 105, 80, 28, 0, 32.5, 0.878, 26, 0)\n",
            "(11, 138, 74, 26, 144, 36.1, 0.557, 50, 1)\n",
            "(3, 106, 72, 0, 0, 25.8, 0.207, 27, 0)\n",
            "(6, 117, 96, 0, 0, 28.7, 0.157, 30, 0)\n",
            "(2, 68, 62, 13, 15, 20.1, 0.257, 23, 0)\n",
            "(9, 112, 82, 24, 0, 28.2, 1.282, 50, 1)\n",
            "(0, 119, 0, 0, 0, 32.4, 0.141, 24, 1)\n",
            "(2, 112, 86, 42, 160, 38.4, 0.246, 28, 0)\n",
            "(2, 92, 76, 20, 0, 24.2, 1.698, 28, 0)\n",
            "(6, 183, 94, 0, 0, 40.8, 1.461, 45, 0)\n",
            "(0, 94, 70, 27, 115, 43.5, 0.347, 21, 0)\n",
            "(2, 108, 64, 0, 0, 30.8, 0.158, 21, 0)\n",
            "(4, 90, 88, 47, 54, 37.7, 0.362, 29, 0)\n",
            "(0, 125, 68, 0, 0, 24.7, 0.206, 21, 0)\n",
            "(0, 132, 78, 0, 0, 32.4, 0.393, 21, 0)\n",
            "(5, 128, 80, 0, 0, 34.6, 0.144, 45, 0)\n",
            "(4, 94, 65, 22, 0, 24.7, 0.148, 21, 0)\n",
            "(7, 114, 64, 0, 0, 27.4, 0.732, 34, 1)\n",
            "(0, 102, 78, 40, 90, 34.5, 0.238, 24, 0)\n",
            "(2, 111, 60, 0, 0, 26.2, 0.343, 23, 0)\n",
            "(1, 128, 82, 17, 183, 27.5, 0.115, 22, 0)\n",
            "(10, 92, 62, 0, 0, 25.9, 0.167, 31, 0)\n",
            "(13, 104, 72, 0, 0, 31.2, 0.465, 38, 1)\n",
            "(5, 104, 74, 0, 0, 28.8, 0.153, 48, 0)\n",
            "(2, 94, 76, 18, 66, 31.6, 0.649, 23, 0)\n",
            "(7, 97, 76, 32, 91, 40.9, 0.871, 32, 1)\n",
            "(1, 100, 74, 12, 46, 19.5, 0.149, 28, 0)\n",
            "(0, 102, 86, 17, 105, 29.3, 0.695, 27, 0)\n",
            "(4, 128, 70, 0, 0, 34.3, 0.303, 24, 0)\n",
            "(6, 147, 80, 0, 0, 29.5, 0.178, 50, 1)\n",
            "(4, 90, 0, 0, 0, 28.0, 0.61, 31, 0)\n",
            "(3, 103, 72, 30, 152, 27.6, 0.73, 27, 0)\n",
            "(2, 157, 74, 35, 440, 39.4, 0.134, 30, 0)\n",
            "(1, 167, 74, 17, 144, 23.4, 0.447, 33, 1)\n",
            "(0, 179, 50, 36, 159, 37.8, 0.455, 22, 1)\n",
            "(11, 136, 84, 35, 130, 28.3, 0.26, 42, 1)\n",
            "(0, 107, 60, 25, 0, 26.4, 0.133, 23, 0)\n",
            "(1, 91, 54, 25, 100, 25.2, 0.234, 23, 0)\n",
            "(1, 117, 60, 23, 106, 33.8, 0.466, 27, 0)\n",
            "(5, 123, 74, 40, 77, 34.1, 0.269, 28, 0)\n",
            "(2, 120, 54, 0, 0, 26.8, 0.455, 27, 0)\n",
            "(1, 106, 70, 28, 135, 34.2, 0.142, 22, 0)\n",
            "(2, 155, 52, 27, 540, 38.7, 0.24, 25, 1)\n",
            "(2, 101, 58, 35, 90, 21.8, 0.155, 22, 0)\n",
            "(1, 120, 80, 48, 200, 38.9, 1.162, 41, 0)\n",
            "(11, 127, 106, 0, 0, 39.0, 0.19, 51, 0)\n",
            "(3, 80, 82, 31, 70, 34.2, 1.292, 27, 1)\n",
            "(10, 162, 84, 0, 0, 27.7, 0.182, 54, 0)\n",
            "(1, 199, 76, 43, 0, 42.9, 1.394, 22, 1)\n",
            "(8, 167, 106, 46, 231, 37.6, 0.165, 43, 1)\n",
            "(9, 145, 80, 46, 130, 37.9, 0.637, 40, 1)\n",
            "(6, 115, 60, 39, 0, 33.7, 0.245, 40, 1)\n",
            "(1, 112, 80, 45, 132, 34.8, 0.217, 24, 0)\n",
            "(4, 145, 82, 18, 0, 32.5, 0.235, 70, 1)\n",
            "(10, 111, 70, 27, 0, 27.5, 0.141, 40, 1)\n",
            "(6, 98, 58, 33, 190, 34.0, 0.43, 43, 0)\n",
            "(9, 154, 78, 30, 100, 30.9, 0.164, 45, 0)\n",
            "(6, 165, 68, 26, 168, 33.6, 0.631, 49, 0)\n",
            "(1, 99, 58, 10, 0, 25.4, 0.551, 21, 0)\n",
            "(10, 68, 106, 23, 49, 35.5, 0.285, 47, 0)\n",
            "(3, 123, 100, 35, 240, 57.3, 0.88, 22, 0)\n",
            "(8, 91, 82, 0, 0, 35.6, 0.587, 68, 0)\n",
            "(6, 195, 70, 0, 0, 30.9, 0.328, 31, 1)\n",
            "(9, 156, 86, 0, 0, 24.8, 0.23, 53, 1)\n",
            "(0, 93, 60, 0, 0, 35.3, 0.263, 25, 0)\n",
            "(3, 121, 52, 0, 0, 36.0, 0.127, 25, 1)\n",
            "(2, 101, 58, 17, 265, 24.2, 0.614, 23, 0)\n",
            "(2, 56, 56, 28, 45, 24.2, 0.332, 22, 0)\n",
            "(0, 162, 76, 36, 0, 49.6, 0.364, 26, 1)\n",
            "(0, 95, 64, 39, 105, 44.6, 0.366, 22, 0)\n",
            "(4, 125, 80, 0, 0, 32.3, 0.536, 27, 1)\n",
            "(5, 136, 82, 0, 0, 0.0, 0.64, 69, 0)\n",
            "(2, 129, 74, 26, 205, 33.2, 0.591, 25, 0)\n",
            "(3, 130, 64, 0, 0, 23.1, 0.314, 22, 0)\n",
            "(1, 107, 50, 19, 0, 28.3, 0.181, 29, 0)\n",
            "(1, 140, 74, 26, 180, 24.1, 0.828, 23, 0)\n",
            "(1, 144, 82, 46, 180, 46.1, 0.335, 46, 1)\n",
            "(8, 107, 80, 0, 0, 24.6, 0.856, 34, 0)\n",
            "(13, 158, 114, 0, 0, 42.3, 0.257, 44, 1)\n",
            "(2, 121, 70, 32, 95, 39.1, 0.886, 23, 0)\n",
            "(7, 129, 68, 49, 125, 38.5, 0.439, 43, 1)\n",
            "(2, 90, 60, 0, 0, 23.5, 0.191, 25, 0)\n",
            "(7, 142, 90, 24, 480, 30.4, 0.128, 43, 1)\n",
            "(3, 169, 74, 19, 125, 29.9, 0.268, 31, 1)\n",
            "(0, 99, 0, 0, 0, 25.0, 0.253, 22, 0)\n",
            "(4, 127, 88, 11, 155, 34.5, 0.598, 28, 0)\n",
            "(4, 118, 70, 0, 0, 44.5, 0.904, 26, 0)\n",
            "(2, 122, 76, 27, 200, 35.9, 0.483, 26, 0)\n",
            "(6, 125, 78, 31, 0, 27.6, 0.565, 49, 1)\n",
            "(1, 168, 88, 29, 0, 35.0, 0.905, 52, 1)\n",
            "(2, 129, 0, 0, 0, 38.5, 0.304, 41, 0)\n",
            "(4, 110, 76, 20, 100, 28.4, 0.118, 27, 0)\n",
            "(6, 80, 80, 36, 0, 39.8, 0.177, 28, 0)\n",
            "(10, 115, 0, 0, 0, 0.0, 0.261, 30, 1)\n",
            "(2, 127, 46, 21, 335, 34.4, 0.176, 22, 0)\n",
            "(9, 164, 78, 0, 0, 32.8, 0.148, 45, 1)\n",
            "(2, 93, 64, 32, 160, 38.0, 0.674, 23, 1)\n",
            "(3, 158, 64, 13, 387, 31.2, 0.295, 24, 0)\n",
            "(5, 126, 78, 27, 22, 29.6, 0.439, 40, 0)\n",
            "(10, 129, 62, 36, 0, 41.2, 0.441, 38, 1)\n",
            "(0, 134, 58, 20, 291, 26.4, 0.352, 21, 0)\n",
            "(3, 102, 74, 0, 0, 29.5, 0.121, 32, 0)\n",
            "(7, 187, 50, 33, 392, 33.9, 0.826, 34, 1)\n",
            "(3, 173, 78, 39, 185, 33.8, 0.97, 31, 1)\n",
            "(10, 94, 72, 18, 0, 23.1, 0.595, 56, 0)\n",
            "(1, 108, 60, 46, 178, 35.5, 0.415, 24, 0)\n",
            "(5, 97, 76, 27, 0, 35.6, 0.378, 52, 1)\n",
            "(4, 83, 86, 19, 0, 29.3, 0.317, 34, 0)\n",
            "(1, 114, 66, 36, 200, 38.1, 0.289, 21, 0)\n",
            "(1, 149, 68, 29, 127, 29.3, 0.349, 42, 1)\n",
            "(5, 117, 86, 30, 105, 39.1, 0.251, 42, 0)\n",
            "(1, 111, 94, 0, 0, 32.8, 0.265, 45, 0)\n",
            "(4, 112, 78, 40, 0, 39.4, 0.236, 38, 0)\n",
            "(1, 116, 78, 29, 180, 36.1, 0.496, 25, 0)\n",
            "(0, 141, 84, 26, 0, 32.4, 0.433, 22, 0)\n",
            "(2, 175, 88, 0, 0, 22.9, 0.326, 22, 0)\n",
            "(2, 92, 52, 0, 0, 30.1, 0.141, 22, 0)\n",
            "(3, 130, 78, 23, 79, 28.4, 0.323, 34, 1)\n",
            "(8, 120, 86, 0, 0, 28.4, 0.259, 22, 1)\n",
            "(2, 174, 88, 37, 120, 44.5, 0.646, 24, 1)\n",
            "(2, 106, 56, 27, 165, 29.0, 0.426, 22, 0)\n",
            "(2, 105, 75, 0, 0, 23.3, 0.56, 53, 0)\n",
            "(4, 95, 60, 32, 0, 35.4, 0.284, 28, 0)\n",
            "(0, 126, 86, 27, 120, 27.4, 0.515, 21, 0)\n",
            "(8, 65, 72, 23, 0, 32.0, 0.6, 42, 0)\n",
            "(2, 99, 60, 17, 160, 36.6, 0.453, 21, 0)\n",
            "(1, 102, 74, 0, 0, 39.5, 0.293, 42, 1)\n",
            "(11, 120, 80, 37, 150, 42.3, 0.785, 48, 1)\n",
            "(3, 102, 44, 20, 94, 30.8, 0.4, 26, 0)\n",
            "(1, 109, 58, 18, 116, 28.5, 0.219, 22, 0)\n",
            "(9, 140, 94, 0, 0, 32.7, 0.734, 45, 1)\n",
            "(13, 153, 88, 37, 140, 40.6, 1.174, 39, 0)\n",
            "(12, 100, 84, 33, 105, 30.0, 0.488, 46, 0)\n",
            "(1, 147, 94, 41, 0, 49.3, 0.358, 27, 1)\n",
            "(1, 81, 74, 41, 57, 46.3, 1.096, 32, 0)\n",
            "(3, 187, 70, 22, 200, 36.4, 0.408, 36, 1)\n",
            "(6, 162, 62, 0, 0, 24.3, 0.178, 50, 1)\n",
            "(4, 136, 70, 0, 0, 31.2, 1.182, 22, 1)\n",
            "(1, 121, 78, 39, 74, 39.0, 0.261, 28, 0)\n",
            "(3, 108, 62, 24, 0, 26.0, 0.223, 25, 0)\n",
            "(0, 181, 88, 44, 510, 43.3, 0.222, 26, 1)\n",
            "(8, 154, 78, 32, 0, 32.4, 0.443, 45, 1)\n",
            "(1, 128, 88, 39, 110, 36.5, 1.057, 37, 1)\n",
            "(7, 137, 90, 41, 0, 32.0, 0.391, 39, 0)\n",
            "(0, 123, 72, 0, 0, 36.3, 0.258, 52, 1)\n",
            "(1, 106, 76, 0, 0, 37.5, 0.197, 26, 0)\n",
            "(6, 190, 92, 0, 0, 35.5, 0.278, 66, 1)\n",
            "(2, 88, 58, 26, 16, 28.4, 0.766, 22, 0)\n",
            "(9, 170, 74, 31, 0, 44.0, 0.403, 43, 1)\n",
            "(9, 89, 62, 0, 0, 22.5, 0.142, 33, 0)\n",
            "(10, 101, 76, 48, 180, 32.9, 0.171, 63, 0)\n",
            "(2, 122, 70, 27, 0, 36.8, 0.34, 27, 0)\n",
            "(5, 121, 72, 23, 112, 26.2, 0.245, 30, 0)\n",
            "(1, 126, 60, 0, 0, 30.1, 0.349, 47, 1)\n",
            "(1, 93, 70, 31, 0, 30.4, 0.315, 23, 0)\n"
          ]
        }
      ]
    },
    {
      "cell_type": "code",
      "source": [
        "!pip install tabulate"
      ],
      "metadata": {
        "colab": {
          "base_uri": "https://localhost:8080/"
        },
        "id": "0SKz-iE9ta4c",
        "outputId": "4db8009c-02cc-4aad-98d1-9951d6e200d5"
      },
      "execution_count": null,
      "outputs": [
        {
          "output_type": "stream",
          "name": "stdout",
          "text": [
            "Requirement already satisfied: tabulate in /usr/local/lib/python3.11/dist-packages (0.9.0)\n"
          ]
        }
      ]
    },
    {
      "cell_type": "code",
      "source": [
        "mycursor.execute(\"select* from guvi1.Diabeted\")\n",
        "out=mycursor.fetchall()#out is a variable tht fetch all details\n",
        "from tabulate import tabulate\n",
        "print(tabulate(out,headers=[i[0] for i in mycursor.description],  tablefmt='psql'))\n"
      ],
      "metadata": {
        "colab": {
          "base_uri": "https://localhost:8080/",
          "height": 425
        },
        "id": "mdOpYefztoc2",
        "outputId": "d7fb94d1-1426-4f0e-932e-3c365e0bb2cc",
        "collapsed": true
      },
      "execution_count": null,
      "outputs": [
        {
          "output_type": "error",
          "ename": "OperationalError",
          "evalue": "2055: Lost connection to MySQL server at 'gateway01.ap-southeast-1.prod.aws.tidbcloud.com:4000', system error: Errno 8: EOF occurred in violation of protocol (_ssl.c:2427)",
          "traceback": [
            "\u001b[0;31m---------------------------------------------------------------------------\u001b[0m",
            "\u001b[0;31mSSLEOFError\u001b[0m                               Traceback (most recent call last)",
            "\u001b[0;32m/usr/local/lib/python3.11/dist-packages/mysql/connector/network.py\u001b[0m in \u001b[0;36m_send_pkt\u001b[0;34m(self, sock, address, pkt)\u001b[0m\n\u001b[1;32m    165\u001b[0m         \u001b[0;32mtry\u001b[0m\u001b[0;34m:\u001b[0m\u001b[0;34m\u001b[0m\u001b[0;34m\u001b[0m\u001b[0m\n\u001b[0;32m--> 166\u001b[0;31m             \u001b[0msock\u001b[0m\u001b[0;34m.\u001b[0m\u001b[0msendall\u001b[0m\u001b[0;34m(\u001b[0m\u001b[0mpkt\u001b[0m\u001b[0;34m)\u001b[0m\u001b[0;34m\u001b[0m\u001b[0;34m\u001b[0m\u001b[0m\n\u001b[0m\u001b[1;32m    167\u001b[0m         \u001b[0;32mexcept\u001b[0m \u001b[0;34m(\u001b[0m\u001b[0msocket\u001b[0m\u001b[0;34m.\u001b[0m\u001b[0mtimeout\u001b[0m\u001b[0;34m,\u001b[0m \u001b[0mTimeoutError\u001b[0m\u001b[0;34m)\u001b[0m \u001b[0;32mas\u001b[0m \u001b[0merr\u001b[0m\u001b[0;34m:\u001b[0m\u001b[0;34m\u001b[0m\u001b[0;34m\u001b[0m\u001b[0m\n",
            "\u001b[0;32m/usr/lib/python3.11/ssl.py\u001b[0m in \u001b[0;36msendall\u001b[0;34m(self, data, flags)\u001b[0m\n\u001b[1;32m   1272\u001b[0m                 \u001b[0;32mwhile\u001b[0m \u001b[0mcount\u001b[0m \u001b[0;34m<\u001b[0m \u001b[0mamount\u001b[0m\u001b[0;34m:\u001b[0m\u001b[0;34m\u001b[0m\u001b[0;34m\u001b[0m\u001b[0m\n\u001b[0;32m-> 1273\u001b[0;31m                     \u001b[0mv\u001b[0m \u001b[0;34m=\u001b[0m \u001b[0mself\u001b[0m\u001b[0;34m.\u001b[0m\u001b[0msend\u001b[0m\u001b[0;34m(\u001b[0m\u001b[0mbyte_view\u001b[0m\u001b[0;34m[\u001b[0m\u001b[0mcount\u001b[0m\u001b[0;34m:\u001b[0m\u001b[0;34m]\u001b[0m\u001b[0;34m)\u001b[0m\u001b[0;34m\u001b[0m\u001b[0;34m\u001b[0m\u001b[0m\n\u001b[0m\u001b[1;32m   1274\u001b[0m                     \u001b[0mcount\u001b[0m \u001b[0;34m+=\u001b[0m \u001b[0mv\u001b[0m\u001b[0;34m\u001b[0m\u001b[0;34m\u001b[0m\u001b[0m\n",
            "\u001b[0;32m/usr/lib/python3.11/ssl.py\u001b[0m in \u001b[0;36msend\u001b[0;34m(self, data, flags)\u001b[0m\n\u001b[1;32m   1241\u001b[0m                     self.__class__)\n\u001b[0;32m-> 1242\u001b[0;31m             \u001b[0;32mreturn\u001b[0m \u001b[0mself\u001b[0m\u001b[0;34m.\u001b[0m\u001b[0m_sslobj\u001b[0m\u001b[0;34m.\u001b[0m\u001b[0mwrite\u001b[0m\u001b[0;34m(\u001b[0m\u001b[0mdata\u001b[0m\u001b[0;34m)\u001b[0m\u001b[0;34m\u001b[0m\u001b[0;34m\u001b[0m\u001b[0m\n\u001b[0m\u001b[1;32m   1243\u001b[0m         \u001b[0;32melse\u001b[0m\u001b[0;34m:\u001b[0m\u001b[0;34m\u001b[0m\u001b[0;34m\u001b[0m\u001b[0m\n",
            "\u001b[0;31mSSLEOFError\u001b[0m: EOF occurred in violation of protocol (_ssl.c:2427)",
            "\nThe above exception was the direct cause of the following exception:\n",
            "\u001b[0;31mOperationalError\u001b[0m                          Traceback (most recent call last)",
            "\u001b[0;32m<ipython-input-19-bd044b6e28d9>\u001b[0m in \u001b[0;36m<cell line: 0>\u001b[0;34m()\u001b[0m\n\u001b[0;32m----> 1\u001b[0;31m \u001b[0mmycursor\u001b[0m\u001b[0;34m.\u001b[0m\u001b[0mexecute\u001b[0m\u001b[0;34m(\u001b[0m\u001b[0;34m\"select* from guvi1.Diabeted\"\u001b[0m\u001b[0;34m)\u001b[0m\u001b[0;34m\u001b[0m\u001b[0;34m\u001b[0m\u001b[0m\n\u001b[0m\u001b[1;32m      2\u001b[0m \u001b[0mout\u001b[0m\u001b[0;34m=\u001b[0m\u001b[0mmycursor\u001b[0m\u001b[0;34m.\u001b[0m\u001b[0mfetchall\u001b[0m\u001b[0;34m(\u001b[0m\u001b[0;34m)\u001b[0m\u001b[0;31m#out is a variable tht fetch all details\u001b[0m\u001b[0;34m\u001b[0m\u001b[0;34m\u001b[0m\u001b[0m\n\u001b[1;32m      3\u001b[0m \u001b[0;32mfrom\u001b[0m \u001b[0mtabulate\u001b[0m \u001b[0;32mimport\u001b[0m \u001b[0mtabulate\u001b[0m\u001b[0;34m\u001b[0m\u001b[0;34m\u001b[0m\u001b[0m\n\u001b[1;32m      4\u001b[0m \u001b[0mprint\u001b[0m\u001b[0;34m(\u001b[0m\u001b[0mtabulate\u001b[0m\u001b[0;34m(\u001b[0m\u001b[0mout\u001b[0m\u001b[0;34m,\u001b[0m\u001b[0mheaders\u001b[0m\u001b[0;34m=\u001b[0m\u001b[0;34m[\u001b[0m\u001b[0mi\u001b[0m\u001b[0;34m[\u001b[0m\u001b[0;36m0\u001b[0m\u001b[0;34m]\u001b[0m \u001b[0;32mfor\u001b[0m \u001b[0mi\u001b[0m \u001b[0;32min\u001b[0m \u001b[0mmycursor\u001b[0m\u001b[0;34m.\u001b[0m\u001b[0mdescription\u001b[0m\u001b[0;34m]\u001b[0m\u001b[0;34m,\u001b[0m  \u001b[0mtablefmt\u001b[0m\u001b[0;34m=\u001b[0m\u001b[0;34m'psql'\u001b[0m\u001b[0;34m)\u001b[0m\u001b[0;34m)\u001b[0m\u001b[0;34m\u001b[0m\u001b[0;34m\u001b[0m\u001b[0m\n",
            "\u001b[0;32m/usr/local/lib/python3.11/dist-packages/mysql/connector/cursor.py\u001b[0m in \u001b[0;36mexecute\u001b[0;34m(self, operation, params, map_results)\u001b[0m\n\u001b[1;32m    414\u001b[0m \u001b[0;34m\u001b[0m\u001b[0m\n\u001b[1;32m    415\u001b[0m         self._handle_result(\n\u001b[0;32m--> 416\u001b[0;31m             self._connection.cmd_query(\n\u001b[0m\u001b[1;32m    417\u001b[0m                 \u001b[0mself\u001b[0m\u001b[0;34m.\u001b[0m\u001b[0m_stmt_partition\u001b[0m\u001b[0;34m[\u001b[0m\u001b[0;34m\"mappable_stmt\"\u001b[0m\u001b[0;34m]\u001b[0m\u001b[0;34m,\u001b[0m\u001b[0;34m\u001b[0m\u001b[0;34m\u001b[0m\u001b[0m\n\u001b[1;32m    418\u001b[0m                 \u001b[0mread_timeout\u001b[0m\u001b[0;34m=\u001b[0m\u001b[0mself\u001b[0m\u001b[0;34m.\u001b[0m\u001b[0m_read_timeout\u001b[0m\u001b[0;34m,\u001b[0m\u001b[0;34m\u001b[0m\u001b[0;34m\u001b[0m\u001b[0m\n",
            "\u001b[0;32m/usr/local/lib/python3.11/dist-packages/mysql/connector/opentelemetry/context_propagation.py\u001b[0m in \u001b[0;36mwrapper\u001b[0;34m(cnx, *args, **kwargs)\u001b[0m\n\u001b[1;32m    104\u001b[0m \u001b[0;34m\u001b[0m\u001b[0m\n\u001b[1;32m    105\u001b[0m         \u001b[0;32mtry\u001b[0m\u001b[0;34m:\u001b[0m\u001b[0;34m\u001b[0m\u001b[0;34m\u001b[0m\u001b[0m\n\u001b[0;32m--> 106\u001b[0;31m             \u001b[0mresult\u001b[0m \u001b[0;34m=\u001b[0m \u001b[0mmethod\u001b[0m\u001b[0;34m(\u001b[0m\u001b[0mcnx\u001b[0m\u001b[0;34m,\u001b[0m \u001b[0;34m*\u001b[0m\u001b[0margs\u001b[0m\u001b[0;34m,\u001b[0m \u001b[0;34m**\u001b[0m\u001b[0mkwargs\u001b[0m\u001b[0;34m)\u001b[0m\u001b[0;34m\u001b[0m\u001b[0;34m\u001b[0m\u001b[0m\n\u001b[0m\u001b[1;32m    107\u001b[0m         \u001b[0;32mfinally\u001b[0m\u001b[0;34m:\u001b[0m\u001b[0;34m\u001b[0m\u001b[0;34m\u001b[0m\u001b[0m\n\u001b[1;32m    108\u001b[0m             \u001b[0;32mif\u001b[0m \u001b[0mtp_header\u001b[0m \u001b[0;32mis\u001b[0m \u001b[0;32mnot\u001b[0m \u001b[0;32mNone\u001b[0m\u001b[0;34m:\u001b[0m\u001b[0;34m\u001b[0m\u001b[0;34m\u001b[0m\u001b[0m\n",
            "\u001b[0;32m/usr/local/lib/python3.11/dist-packages/mysql/connector/utils.py\u001b[0m in \u001b[0;36mhandle_cnx_method\u001b[0;34m(cnx, *args, **kwargs)\u001b[0m\n\u001b[1;32m    740\u001b[0m                 \u001b[0;32mif\u001b[0m \u001b[0misinstance\u001b[0m\u001b[0;34m(\u001b[0m\u001b[0merr\u001b[0m\u001b[0;34m,\u001b[0m \u001b[0mTimeoutError\u001b[0m\u001b[0;34m)\u001b[0m\u001b[0;34m:\u001b[0m\u001b[0;34m\u001b[0m\u001b[0;34m\u001b[0m\u001b[0m\n\u001b[1;32m    741\u001b[0m                     \u001b[0mcnx\u001b[0m\u001b[0;34m.\u001b[0m\u001b[0mclose\u001b[0m\u001b[0;34m(\u001b[0m\u001b[0;34m)\u001b[0m\u001b[0;34m\u001b[0m\u001b[0;34m\u001b[0m\u001b[0m\n\u001b[0;32m--> 742\u001b[0;31m                 \u001b[0;32mraise\u001b[0m \u001b[0merr\u001b[0m\u001b[0;34m\u001b[0m\u001b[0;34m\u001b[0m\u001b[0m\n\u001b[0m\u001b[1;32m    743\u001b[0m \u001b[0;34m\u001b[0m\u001b[0m\n\u001b[1;32m    744\u001b[0m         \u001b[0;32mreturn\u001b[0m \u001b[0mhandle_cnx_method\u001b[0m\u001b[0;34m\u001b[0m\u001b[0;34m\u001b[0m\u001b[0m\n",
            "\u001b[0;32m/usr/local/lib/python3.11/dist-packages/mysql/connector/utils.py\u001b[0m in \u001b[0;36mhandle_cnx_method\u001b[0;34m(cnx, *args, **kwargs)\u001b[0m\n\u001b[1;32m    736\u001b[0m         ) -> Any:\n\u001b[1;32m    737\u001b[0m             \u001b[0;32mtry\u001b[0m\u001b[0;34m:\u001b[0m\u001b[0;34m\u001b[0m\u001b[0;34m\u001b[0m\u001b[0m\n\u001b[0;32m--> 738\u001b[0;31m                 \u001b[0;32mreturn\u001b[0m \u001b[0mcnx_method\u001b[0m\u001b[0;34m(\u001b[0m\u001b[0mcnx\u001b[0m\u001b[0;34m,\u001b[0m \u001b[0;34m*\u001b[0m\u001b[0margs\u001b[0m\u001b[0;34m,\u001b[0m \u001b[0;34m**\u001b[0m\u001b[0mkwargs\u001b[0m\u001b[0;34m)\u001b[0m\u001b[0;34m\u001b[0m\u001b[0;34m\u001b[0m\u001b[0m\n\u001b[0m\u001b[1;32m    739\u001b[0m             \u001b[0;32mexcept\u001b[0m \u001b[0mException\u001b[0m \u001b[0;32mas\u001b[0m \u001b[0merr\u001b[0m\u001b[0;34m:\u001b[0m\u001b[0;34m\u001b[0m\u001b[0;34m\u001b[0m\u001b[0m\n\u001b[1;32m    740\u001b[0m                 \u001b[0;32mif\u001b[0m \u001b[0misinstance\u001b[0m\u001b[0;34m(\u001b[0m\u001b[0merr\u001b[0m\u001b[0;34m,\u001b[0m \u001b[0mTimeoutError\u001b[0m\u001b[0;34m)\u001b[0m\u001b[0;34m:\u001b[0m\u001b[0;34m\u001b[0m\u001b[0;34m\u001b[0m\u001b[0m\n",
            "\u001b[0;32m/usr/local/lib/python3.11/dist-packages/mysql/connector/connection.py\u001b[0m in \u001b[0;36mcmd_query\u001b[0;34m(self, query, raw, buffered, raw_as_string, **kwargs)\u001b[0m\n\u001b[1;32m    936\u001b[0m \u001b[0;34m\u001b[0m\u001b[0m\n\u001b[1;32m    937\u001b[0m             result = self._handle_result(\n\u001b[0;32m--> 938\u001b[0;31m                 self._send_cmd(\n\u001b[0m\u001b[1;32m    939\u001b[0m                     \u001b[0mServerCmd\u001b[0m\u001b[0;34m.\u001b[0m\u001b[0mQUERY\u001b[0m\u001b[0;34m,\u001b[0m\u001b[0;34m\u001b[0m\u001b[0;34m\u001b[0m\u001b[0m\n\u001b[1;32m    940\u001b[0m                     \u001b[0mquery\u001b[0m\u001b[0;34m,\u001b[0m\u001b[0;34m\u001b[0m\u001b[0;34m\u001b[0m\u001b[0m\n",
            "\u001b[0;32m/usr/local/lib/python3.11/dist-packages/mysql/connector/utils.py\u001b[0m in \u001b[0;36mhandle_cnx_method\u001b[0;34m(cnx, *args, **kwargs)\u001b[0m\n\u001b[1;32m    740\u001b[0m                 \u001b[0;32mif\u001b[0m \u001b[0misinstance\u001b[0m\u001b[0;34m(\u001b[0m\u001b[0merr\u001b[0m\u001b[0;34m,\u001b[0m \u001b[0mTimeoutError\u001b[0m\u001b[0;34m)\u001b[0m\u001b[0;34m:\u001b[0m\u001b[0;34m\u001b[0m\u001b[0;34m\u001b[0m\u001b[0m\n\u001b[1;32m    741\u001b[0m                     \u001b[0mcnx\u001b[0m\u001b[0;34m.\u001b[0m\u001b[0mclose\u001b[0m\u001b[0;34m(\u001b[0m\u001b[0;34m)\u001b[0m\u001b[0;34m\u001b[0m\u001b[0;34m\u001b[0m\u001b[0m\n\u001b[0;32m--> 742\u001b[0;31m                 \u001b[0;32mraise\u001b[0m \u001b[0merr\u001b[0m\u001b[0;34m\u001b[0m\u001b[0;34m\u001b[0m\u001b[0m\n\u001b[0m\u001b[1;32m    743\u001b[0m \u001b[0;34m\u001b[0m\u001b[0m\n\u001b[1;32m    744\u001b[0m         \u001b[0;32mreturn\u001b[0m \u001b[0mhandle_cnx_method\u001b[0m\u001b[0;34m\u001b[0m\u001b[0;34m\u001b[0m\u001b[0m\n",
            "\u001b[0;32m/usr/local/lib/python3.11/dist-packages/mysql/connector/utils.py\u001b[0m in \u001b[0;36mhandle_cnx_method\u001b[0;34m(cnx, *args, **kwargs)\u001b[0m\n\u001b[1;32m    736\u001b[0m         ) -> Any:\n\u001b[1;32m    737\u001b[0m             \u001b[0;32mtry\u001b[0m\u001b[0;34m:\u001b[0m\u001b[0;34m\u001b[0m\u001b[0;34m\u001b[0m\u001b[0m\n\u001b[0;32m--> 738\u001b[0;31m                 \u001b[0;32mreturn\u001b[0m \u001b[0mcnx_method\u001b[0m\u001b[0;34m(\u001b[0m\u001b[0mcnx\u001b[0m\u001b[0;34m,\u001b[0m \u001b[0;34m*\u001b[0m\u001b[0margs\u001b[0m\u001b[0;34m,\u001b[0m \u001b[0;34m**\u001b[0m\u001b[0mkwargs\u001b[0m\u001b[0;34m)\u001b[0m\u001b[0;34m\u001b[0m\u001b[0;34m\u001b[0m\u001b[0m\n\u001b[0m\u001b[1;32m    739\u001b[0m             \u001b[0;32mexcept\u001b[0m \u001b[0mException\u001b[0m \u001b[0;32mas\u001b[0m \u001b[0merr\u001b[0m\u001b[0;34m:\u001b[0m\u001b[0;34m\u001b[0m\u001b[0;34m\u001b[0m\u001b[0m\n\u001b[1;32m    740\u001b[0m                 \u001b[0;32mif\u001b[0m \u001b[0misinstance\u001b[0m\u001b[0;34m(\u001b[0m\u001b[0merr\u001b[0m\u001b[0;34m,\u001b[0m \u001b[0mTimeoutError\u001b[0m\u001b[0;34m)\u001b[0m\u001b[0;34m:\u001b[0m\u001b[0;34m\u001b[0m\u001b[0;34m\u001b[0m\u001b[0m\n",
            "\u001b[0;32m/usr/local/lib/python3.11/dist-packages/mysql/connector/connection.py\u001b[0m in \u001b[0;36m_send_cmd\u001b[0;34m(self, command, argument, packet_number, packet, expect_response, compressed_packet_number, read_timeout, write_timeout)\u001b[0m\n\u001b[1;32m    505\u001b[0m \u001b[0;34m\u001b[0m\u001b[0m\n\u001b[1;32m    506\u001b[0m         \u001b[0;32mtry\u001b[0m\u001b[0;34m:\u001b[0m\u001b[0;34m\u001b[0m\u001b[0;34m\u001b[0m\u001b[0m\n\u001b[0;32m--> 507\u001b[0;31m             self._socket.send(\n\u001b[0m\u001b[1;32m    508\u001b[0m                 \u001b[0mself\u001b[0m\u001b[0;34m.\u001b[0m\u001b[0m_protocol\u001b[0m\u001b[0;34m.\u001b[0m\u001b[0mmake_command\u001b[0m\u001b[0;34m(\u001b[0m\u001b[0mcommand\u001b[0m\u001b[0;34m,\u001b[0m \u001b[0mpacket\u001b[0m \u001b[0;32mor\u001b[0m \u001b[0margument\u001b[0m\u001b[0;34m)\u001b[0m\u001b[0;34m,\u001b[0m\u001b[0;34m\u001b[0m\u001b[0;34m\u001b[0m\u001b[0m\n\u001b[1;32m    509\u001b[0m                 \u001b[0mpacket_number\u001b[0m\u001b[0;34m,\u001b[0m\u001b[0;34m\u001b[0m\u001b[0;34m\u001b[0m\u001b[0m\n",
            "\u001b[0;32m/usr/local/lib/python3.11/dist-packages/mysql/connector/network.py\u001b[0m in \u001b[0;36msend\u001b[0;34m(self, payload, packet_number, compressed_packet_number, write_timeout)\u001b[0m\n\u001b[1;32m    649\u001b[0m             \u001b[0;31m# Ignore the OSError as the socket might not be setup properly\u001b[0m\u001b[0;34m\u001b[0m\u001b[0;34m\u001b[0m\u001b[0m\n\u001b[1;32m    650\u001b[0m             \u001b[0;32mpass\u001b[0m\u001b[0;34m\u001b[0m\u001b[0;34m\u001b[0m\u001b[0m\n\u001b[0;32m--> 651\u001b[0;31m         self._netbroker.send(\n\u001b[0m\u001b[1;32m    652\u001b[0m             \u001b[0mself\u001b[0m\u001b[0;34m.\u001b[0m\u001b[0msock\u001b[0m\u001b[0;34m,\u001b[0m\u001b[0;34m\u001b[0m\u001b[0;34m\u001b[0m\u001b[0m\n\u001b[1;32m    653\u001b[0m             \u001b[0mself\u001b[0m\u001b[0;34m.\u001b[0m\u001b[0maddress\u001b[0m\u001b[0;34m,\u001b[0m\u001b[0;34m\u001b[0m\u001b[0;34m\u001b[0m\u001b[0m\n",
            "\u001b[0;32m/usr/local/lib/python3.11/dist-packages/mysql/connector/network.py\u001b[0m in \u001b[0;36msend\u001b[0;34m(self, sock, address, payload, packet_number, compressed_packet_number)\u001b[0m\n\u001b[1;32m    222\u001b[0m                 \u001b[0moffset\u001b[0m \u001b[0;34m+=\u001b[0m \u001b[0mMAX_PAYLOAD_LENGTH\u001b[0m\u001b[0;34m\u001b[0m\u001b[0;34m\u001b[0m\u001b[0m\n\u001b[1;32m    223\u001b[0m             \u001b[0mpayload\u001b[0m \u001b[0;34m=\u001b[0m \u001b[0mpayload\u001b[0m\u001b[0;34m[\u001b[0m\u001b[0moffset\u001b[0m\u001b[0;34m:\u001b[0m\u001b[0;34m]\u001b[0m\u001b[0;34m\u001b[0m\u001b[0;34m\u001b[0m\u001b[0m\n\u001b[0;32m--> 224\u001b[0;31m         self._send_pkt(\n\u001b[0m\u001b[1;32m    225\u001b[0m             \u001b[0msock\u001b[0m\u001b[0;34m,\u001b[0m\u001b[0;34m\u001b[0m\u001b[0;34m\u001b[0m\u001b[0m\n\u001b[1;32m    226\u001b[0m             \u001b[0maddress\u001b[0m\u001b[0;34m,\u001b[0m\u001b[0;34m\u001b[0m\u001b[0;34m\u001b[0m\u001b[0m\n",
            "\u001b[0;32m/usr/local/lib/python3.11/dist-packages/mysql/connector/network.py\u001b[0m in \u001b[0;36m_send_pkt\u001b[0;34m(self, sock, address, pkt)\u001b[0m\n\u001b[1;32m    168\u001b[0m             \u001b[0;32mraise\u001b[0m \u001b[0mWriteTimeoutError\u001b[0m\u001b[0;34m(\u001b[0m\u001b[0merrno\u001b[0m\u001b[0;34m=\u001b[0m\u001b[0;36m3024\u001b[0m\u001b[0;34m)\u001b[0m \u001b[0;32mfrom\u001b[0m \u001b[0merr\u001b[0m\u001b[0;34m\u001b[0m\u001b[0;34m\u001b[0m\u001b[0m\n\u001b[1;32m    169\u001b[0m         \u001b[0;32mexcept\u001b[0m \u001b[0mIOError\u001b[0m \u001b[0;32mas\u001b[0m \u001b[0merr\u001b[0m\u001b[0;34m:\u001b[0m\u001b[0;34m\u001b[0m\u001b[0;34m\u001b[0m\u001b[0m\n\u001b[0;32m--> 170\u001b[0;31m             raise OperationalError(\n\u001b[0m\u001b[1;32m    171\u001b[0m                 \u001b[0merrno\u001b[0m\u001b[0;34m=\u001b[0m\u001b[0;36m2055\u001b[0m\u001b[0;34m,\u001b[0m \u001b[0mvalues\u001b[0m\u001b[0;34m=\u001b[0m\u001b[0;34m(\u001b[0m\u001b[0maddress\u001b[0m\u001b[0;34m,\u001b[0m \u001b[0m_strioerror\u001b[0m\u001b[0;34m(\u001b[0m\u001b[0merr\u001b[0m\u001b[0;34m)\u001b[0m\u001b[0;34m)\u001b[0m\u001b[0;34m\u001b[0m\u001b[0;34m\u001b[0m\u001b[0m\n\u001b[1;32m    172\u001b[0m             ) from err\n",
            "\u001b[0;31mOperationalError\u001b[0m: 2055: Lost connection to MySQL server at 'gateway01.ap-southeast-1.prod.aws.tidbcloud.com:4000', system error: Errno 8: EOF occurred in violation of protocol (_ssl.c:2427)"
          ]
        }
      ]
    },
    {
      "cell_type": "code",
      "source": [
        "mycursor.execute(\"select * from  guvi1.Diabeted\")\n",
        "mycursor.execute(\"describe guvi1.Diabeted\")\n",
        "for i in mycursor:\n",
        "  print(i)"
      ],
      "metadata": {
        "colab": {
          "base_uri": "https://localhost:8080/"
        },
        "id": "gWIoi-Zbulvn",
        "outputId": "7c17206f-9ecd-4fd8-80f4-3b18cc97157e",
        "collapsed": true
      },
      "execution_count": null,
      "outputs": [
        {
          "output_type": "stream",
          "name": "stdout",
          "text": [
            "('pregnancies', 'bigint(20)', 'YES', '', None, '')\n",
            "('glucose', 'bigint(20)', 'YES', '', None, '')\n",
            "('bloodpressure', 'bigint(20)', 'YES', '', None, '')\n",
            "('skinthickness', 'bigint(20)', 'YES', '', None, '')\n",
            "('insulin', 'bigint(20)', 'YES', '', None, '')\n",
            "('bmi', 'double', 'YES', '', None, '')\n",
            "('diabetespedigreefunction', 'double', 'YES', '', None, '')\n",
            "('age', 'bigint(20)', 'YES', '', None, '')\n",
            "('outcome', 'bigint(20)', 'YES', '', None, '')\n"
          ]
        }
      ]
    },
    {
      "cell_type": "code",
      "source": [
        "\n",
        "mycursor.execute(\"\"\"\n",
        "CREATE TABLE guvi1.TableSql (\n",
        "    employee_id INT,\n",
        "    task_description VARCHAR(255),\n",
        "    task_start DATETIME,\n",
        "    task_end DATETIME,\n",
        "    department VARCHAR(50)\n",
        ");\"\"\")\n",
        "\n",
        "\n",
        "\n",
        "\n"
      ],
      "metadata": {
        "id": "zSuAgMMXO7PP"
      },
      "execution_count": null,
      "outputs": []
    },
    {
      "cell_type": "code",
      "source": [
        "mycursor.execute(\"\"\"\n",
        "INSERT INTO guvi1.TableSql VALUES\n",
        "(1, 'Prepare report', '2024-11-01 09:00:00', '2024-11-01 12:00:00', 'HR'),\n",
        "(2, 'Data analysis', '2024-11-01 10:30:00', '2024-11-01 14:30:00', 'Data Science'),\n",
        "(3, 'Team meeting', '2024-11-02 15:00:00', '2024-11-02 16:00:00', 'Operations'),\n",
        "(1, 'Client call', '2024-11-03 11:00:00', '2024-11-03 12:30:00', 'HR'),\n",
        "(2, 'Model training', '2024-11-04 08:00:00', '2024-11-04 11:00:00', 'Data Science');\n",
        "\"\"\")\n"
      ],
      "metadata": {
        "id": "gSOdZy1qhBPe"
      },
      "execution_count": null,
      "outputs": []
    },
    {
      "cell_type": "code",
      "source": [
        "# Extract date and time components\n",
        "#task_start is a column name\n",
        "#task_date is a column name\n",
        "#DATA TIME in the func\n",
        "mycursor.execute(\"\"\"SELECT\n",
        "    employee_id,\n",
        "    DATE(task_start) AS start_date,\n",
        "    TIME(task_start) AS start_time\n",
        "FROM guvi1.TableSql;\"\"\")\n"
      ],
      "metadata": {
        "id": "IMAP3pzUhge5"
      },
      "execution_count": null,
      "outputs": []
    },
    {
      "cell_type": "code",
      "source": [
        "connection.commit()"
      ],
      "metadata": {
        "id": "qZ7vsIovixDm"
      },
      "execution_count": null,
      "outputs": []
    },
    {
      "cell_type": "code",
      "source": [
        "out=mycursor.fetchall()#out is a variable tht fetch all details\n",
        "from tabulate import tabulate\n",
        "print(tabulate(out,headers=[i[0] for i in mycursor.description],  tablefmt='psql'))"
      ],
      "metadata": {
        "colab": {
          "base_uri": "https://localhost:8080/"
        },
        "id": "G_1Haj0fiCWV",
        "outputId": "ab231059-03cc-4d6c-d405-058d1d640b40"
      },
      "execution_count": null,
      "outputs": [
        {
          "output_type": "stream",
          "name": "stdout",
          "text": [
            "+---------------+--------------+--------------+\n",
            "|   employee_id | start_date   | start_time   |\n",
            "|---------------+--------------+--------------|\n",
            "|             1 | 2024-11-01   | 9:00:00      |\n",
            "|             2 | 2024-11-01   | 10:30:00     |\n",
            "|             3 | 2024-11-02   | 15:00:00     |\n",
            "|             1 | 2024-11-03   | 11:00:00     |\n",
            "|             2 | 2024-11-04   | 8:00:00      |\n",
            "+---------------+--------------+--------------+\n"
          ]
        }
      ]
    },
    {
      "cell_type": "code",
      "source": [
        "## Calculate task duration in hours\n",
        "mycursor.execute(\"\"\"SELECT\n",
        "    employee_id,\n",
        "    TIMESTAMPDIFF(HOUR, task_start, task_end) AS task_duration_hours\n",
        "FROM guvi1.TableSql;\n",
        "\"\"\")\n",
        "out=mycursor.fetchall()#out is a variable tht fetch all details\n",
        "from tabulate import tabulate\n",
        "print(tabulate(out,headers=[i[0] for i in mycursor.description],  tablefmt='psql'))"
      ],
      "metadata": {
        "colab": {
          "base_uri": "https://localhost:8080/"
        },
        "id": "f0xtkMbdjlpA",
        "outputId": "aab6b932-d01c-4b36-8a8b-405da1c21cfa"
      },
      "execution_count": null,
      "outputs": [
        {
          "output_type": "stream",
          "name": "stdout",
          "text": [
            "+---------------+-----------------------+\n",
            "|   employee_id |   task_duration_hours |\n",
            "|---------------+-----------------------|\n",
            "|             1 |                     3 |\n",
            "|             2 |                     4 |\n",
            "|             3 |                     1 |\n",
            "|             1 |                     1 |\n",
            "|             2 |                     3 |\n",
            "+---------------+-----------------------+\n"
          ]
        }
      ]
    },
    {
      "cell_type": "code",
      "source": [
        "## Calculate task duration in hours\n",
        "mycursor.execute(\"\"\"SELECT\n",
        "    employee_id,\n",
        "    TIMESTAMPDIFF(MINUTE, task_start, task_end) AS task_duration_minutes\n",
        "FROM guvi1.TableSql;\n",
        "\"\"\")\n",
        "out=mycursor.fetchall()#out is a variable tht fetch all details\n",
        "from tabulate import tabulate\n",
        "print(tabulate(out,headers=[i[0] for i in mycursor.description],  tablefmt='psql'))"
      ],
      "metadata": {
        "colab": {
          "base_uri": "https://localhost:8080/"
        },
        "id": "7e2cU7huj0iU",
        "outputId": "b58c709c-7896-4fb0-84d3-98acafb35128"
      },
      "execution_count": null,
      "outputs": [
        {
          "output_type": "stream",
          "name": "stdout",
          "text": [
            "+---------------+-------------------------+\n",
            "|   employee_id |   task_duration_minutes |\n",
            "|---------------+-------------------------|\n",
            "|             1 |                     180 |\n",
            "|             2 |                     240 |\n",
            "|             3 |                      60 |\n",
            "|             1 |                      90 |\n",
            "|             2 |                     180 |\n",
            "+---------------+-------------------------+\n"
          ]
        }
      ]
    },
    {
      "cell_type": "code",
      "source": [
        "## Calculate task duration in hours\n",
        "mycursor.execute(\"\"\"SELECT * from guvi1.TableSql where employee_id=1\n",
        "\"\"\")\n",
        "out=mycursor.fetchall()#out is a variable tht fetch all details\n",
        "from tabulate import tabulate\n",
        "print(tabulate(out,headers=[i[0] for i in mycursor.description],  tablefmt='psql'))"
      ],
      "metadata": {
        "colab": {
          "base_uri": "https://localhost:8080/"
        },
        "id": "azwM93AumSKJ",
        "outputId": "3a71feee-a084-4933-bd3e-c54a4e2a1172"
      },
      "execution_count": null,
      "outputs": [
        {
          "output_type": "stream",
          "name": "stdout",
          "text": [
            "+---------------+--------------------+---------------------+---------------------+--------------+\n",
            "|   employee_id | task_description   | task_start          | task_end            | department   |\n",
            "|---------------+--------------------+---------------------+---------------------+--------------|\n",
            "|             1 | Prepare report     | 2024-11-01 09:00:00 | 2024-11-01 12:00:00 | HR           |\n",
            "|             1 | Client call        | 2024-11-03 11:00:00 | 2024-11-03 12:30:00 | HR           |\n",
            "+---------------+--------------------+---------------------+---------------------+--------------+\n"
          ]
        }
      ]
    },
    {
      "cell_type": "code",
      "source": [
        "## Calculate task duration in hours\n",
        "mycursor.execute(\"\"\"SELECT * from guvi1.TableSql WHERE task_start BETWEEN '2024-11-01' AND '2024-11-02';\n",
        "\"\"\")\n",
        "out=mycursor.fetchall()#out is a variable tht fetch all details\n",
        "from tabulate import tabulate\n",
        "print(tabulate(out,headers=[i[0] for i in mycursor.description],  tablefmt='psql'))"
      ],
      "metadata": {
        "colab": {
          "base_uri": "https://localhost:8080/"
        },
        "id": "JTBHN20Ymo22",
        "outputId": "979f698e-2a4e-43ec-e1dc-211ddc4e9e2a"
      },
      "execution_count": null,
      "outputs": [
        {
          "output_type": "stream",
          "name": "stdout",
          "text": [
            "+---------------+--------------------+---------------------+---------------------+--------------+\n",
            "|   employee_id | task_description   | task_start          | task_end            | department   |\n",
            "|---------------+--------------------+---------------------+---------------------+--------------|\n",
            "|             1 | Prepare report     | 2024-11-01 09:00:00 | 2024-11-01 12:00:00 | HR           |\n",
            "|             2 | Data analysis      | 2024-11-01 10:30:00 | 2024-11-01 14:30:00 | Data Science |\n",
            "+---------------+--------------------+---------------------+---------------------+--------------+\n"
          ]
        }
      ]
    },
    {
      "cell_type": "code",
      "source": [
        "## Calculate task duration in hours\n",
        "mycursor.execute(\"\"\"SELECT * from guvi1.TableSql WHERE DATE(task_start)='2024-11-2';\n",
        "\"\"\")\n",
        "out=mycursor.fetchall()#out is a variable tht fetch all details\n",
        "from tabulate import tabulate\n",
        "print(tabulate(out,headers=[i[0] for i in mycursor.description],  tablefmt='psql'))"
      ],
      "metadata": {
        "colab": {
          "base_uri": "https://localhost:8080/"
        },
        "id": "QhOowes5nTnB",
        "outputId": "dedb7887-be82-453d-8802-7aa0f8dd13d6"
      },
      "execution_count": null,
      "outputs": [
        {
          "output_type": "stream",
          "name": "stdout",
          "text": [
            "+---------------+--------------------+---------------------+---------------------+--------------+\n",
            "|   employee_id | task_description   | task_start          | task_end            | department   |\n",
            "|---------------+--------------------+---------------------+---------------------+--------------|\n",
            "|             3 | Team meeting       | 2024-11-02 15:00:00 | 2024-11-02 16:00:00 | Operations   |\n",
            "+---------------+--------------------+---------------------+---------------------+--------------+\n"
          ]
        }
      ]
    },
    {
      "cell_type": "code",
      "source": [
        "#Format task_start in a readable format\n",
        "mycursor.execute(\"\"\"SELECT\n",
        "    employee_id,\n",
        "    DATE_FORMAT(task_start, '%W, %M %d, %Y %h:%i %p') AS formatted_date\n",
        "FROM guvi1.TableSql;\n",
        "\"\"\")\n"
      ],
      "metadata": {
        "id": "0hswGtefn09d",
        "outputId": "193e3258-b091-4d18-e519-77dd0d3381fd",
        "colab": {
          "base_uri": "https://localhost:8080/",
          "height": 211
        }
      },
      "execution_count": null,
      "outputs": [
        {
          "output_type": "error",
          "ename": "NameError",
          "evalue": "name 'mycursor' is not defined",
          "traceback": [
            "\u001b[0;31m---------------------------------------------------------------------------\u001b[0m",
            "\u001b[0;31mNameError\u001b[0m                                 Traceback (most recent call last)",
            "\u001b[0;32m<ipython-input-1-c6d22457e7e1>\u001b[0m in \u001b[0;36m<cell line: 0>\u001b[0;34m()\u001b[0m\n\u001b[1;32m      1\u001b[0m \u001b[0;31m#Format task_start in a readable format\u001b[0m\u001b[0;34m\u001b[0m\u001b[0;34m\u001b[0m\u001b[0m\n\u001b[0;32m----> 2\u001b[0;31m mycursor.execute(\"\"\"SELECT\n\u001b[0m\u001b[1;32m      3\u001b[0m     \u001b[0memployee_id\u001b[0m\u001b[0;34m,\u001b[0m\u001b[0;34m\u001b[0m\u001b[0;34m\u001b[0m\u001b[0m\n\u001b[1;32m      4\u001b[0m     \u001b[0mDATE_FORMAT\u001b[0m\u001b[0;34m(\u001b[0m\u001b[0mtask_start\u001b[0m\u001b[0;34m,\u001b[0m \u001b[0;34m'%W, %M %d, %Y %h:%i %p'\u001b[0m\u001b[0;34m)\u001b[0m \u001b[0mAS\u001b[0m \u001b[0mformatted_date\u001b[0m\u001b[0;34m\u001b[0m\u001b[0;34m\u001b[0m\u001b[0m\n\u001b[1;32m      5\u001b[0m \u001b[0mFROM\u001b[0m \u001b[0mguvi1\u001b[0m\u001b[0;34m.\u001b[0m\u001b[0mTableSql\u001b[0m\u001b[0;34m;\u001b[0m\u001b[0;34m\u001b[0m\u001b[0;34m\u001b[0m\u001b[0m\n",
            "\u001b[0;31mNameError\u001b[0m: name 'mycursor' is not defined"
          ]
        }
      ]
    },
    {
      "cell_type": "code",
      "source": [
        "out=mycursor.fetchall()#out is a variable tht fetch all details\n",
        "from tabulate import tabulate\n",
        "print(tabulate(out,headers=[i[0] for i in mycursor.description],  tablefmt='psql'))\n"
      ],
      "metadata": {
        "colab": {
          "base_uri": "https://localhost:8080/"
        },
        "id": "w07B41SgoC91",
        "outputId": "59785b0b-5bf3-4aef-8745-6dd98666bd47"
      },
      "execution_count": null,
      "outputs": [
        {
          "output_type": "stream",
          "name": "stdout",
          "text": [
            "+---------------+--------------------------------------+\n",
            "|   employee_id | formatted_date                       |\n",
            "|---------------+--------------------------------------|\n",
            "|             1 | Friday, November 01, 2024 09:00 AM   |\n",
            "|             2 | Friday, November 01, 2024 10:30 AM   |\n",
            "|             3 | Saturday, November 02, 2024 03:00 PM |\n",
            "|             1 | Sunday, November 03, 2024 11:00 AM   |\n",
            "|             2 | Monday, November 04, 2024 08:00 AM   |\n",
            "+---------------+--------------------------------------+\n"
          ]
        }
      ]
    },
    {
      "cell_type": "code",
      "source": [
        "#-- Add or subtract days\n",
        "mycursor.execute(\"\"\"SELECT\n",
        "    employee_id,\n",
        "    DATE_ADD(task_start, INTERVAL 13 DAY) AS task_start_plus_13_days,\n",
        "    DATE_SUB(task_start, INTERVAL 12 DAY) AS task_start_minus_12_days ,\n",
        "    DATE_ADD(task_start, INTERVAL 3 DAY) AS task_start_plus_30_days\n",
        "FROM guvi1.TableSql;\n",
        "\"\"\")\n",
        "out=mycursor.fetchall()#out is a variable tht fetch all details\n",
        "from tabulate import tabulate\n",
        "print(tabulate(out,headers=[i[0] for i in mycursor.description],  tablefmt='psql'))\n"
      ],
      "metadata": {
        "colab": {
          "base_uri": "https://localhost:8080/"
        },
        "id": "NlSHMe-XpKdt",
        "outputId": "324a4fb3-d6a7-4f1b-d785-b2cc250cb4e5"
      },
      "execution_count": null,
      "outputs": [
        {
          "output_type": "stream",
          "name": "stdout",
          "text": [
            "+---------------+---------------------------+----------------------------+---------------------------+\n",
            "|   employee_id | task_start_plus_13_days   | task_start_minus_12_days   | task_start_plus_30_days   |\n",
            "|---------------+---------------------------+----------------------------+---------------------------|\n",
            "|             1 | 2024-11-14 09:00:00       | 2024-10-20 09:00:00        | 2024-11-04 09:00:00       |\n",
            "|             2 | 2024-11-14 10:30:00       | 2024-10-20 10:30:00        | 2024-11-04 10:30:00       |\n",
            "|             3 | 2024-11-15 15:00:00       | 2024-10-21 15:00:00        | 2024-11-05 15:00:00       |\n",
            "|             1 | 2024-11-16 11:00:00       | 2024-10-22 11:00:00        | 2024-11-06 11:00:00       |\n",
            "|             2 | 2024-11-17 08:00:00       | 2024-10-23 08:00:00        | 2024-11-07 08:00:00       |\n",
            "+---------------+---------------------------+----------------------------+---------------------------+\n"
          ]
        }
      ]
    },
    {
      "cell_type": "code",
      "source": [
        "#-- Fetch previous task details for each employee\n",
        "mycursor.execute(\"\"\"SELECT\n",
        "    employee_id,\n",
        "    task_description,\n",
        "    task_start,\n",
        "    LAG(task_description) OVER (PARTITION BY employee_id ORDER BY task_start) AS previous_task\n",
        "FROM guvi1.TableSql;\"\"\")\n",
        "out=mycursor.fetchall()#out is a variable tht fetch all details\n",
        "from tabulate import tabulate\n",
        "print(tabulate(out,headers=[i[0] for i in mycursor.description],  tablefmt='psql'))\n"
      ],
      "metadata": {
        "colab": {
          "base_uri": "https://localhost:8080/"
        },
        "id": "vFFBBOfyq46C",
        "outputId": "d167218b-5e3f-49db-96bb-30fa9a428e43"
      },
      "execution_count": null,
      "outputs": [
        {
          "output_type": "stream",
          "name": "stdout",
          "text": [
            "+---------------+--------------------+---------------------+-----------------+\n",
            "|   employee_id | task_description   | task_start          | previous_task   |\n",
            "|---------------+--------------------+---------------------+-----------------|\n",
            "|             2 | Data analysis      | 2024-11-01 10:30:00 |                 |\n",
            "|             2 | Model training     | 2024-11-04 08:00:00 | Data analysis   |\n",
            "|             3 | Team meeting       | 2024-11-02 15:00:00 |                 |\n",
            "|             1 | Prepare report     | 2024-11-01 09:00:00 |                 |\n",
            "|             1 | Client call        | 2024-11-03 11:00:00 | Prepare report  |\n",
            "+---------------+--------------------+---------------------+-----------------+\n"
          ]
        }
      ]
    },
    {
      "cell_type": "code",
      "source": [
        "#-- Fetch next task details for each employee\n",
        "mycursor.execute(\"\"\"SELECT\n",
        "    employee_id,\n",
        "    task_description,\n",
        "    task_start,\n",
        "    LEAD(task_description) OVER (PARTITION BY employee_id ORDER BY task_start) AS next_task,\n",
        "    LAG(task_description) OVER (PARTITION BY employee_id ORDER BY task_start) AS previous_task\n",
        "FROM guvi1.TableSql;\"\"\")\n",
        "out=mycursor.fetchall()#out is a variable tht fetch all details\n",
        "from tabulate import tabulate\n",
        "print(tabulate(out,headers=[i[0] for i in mycursor.description],  tablefmt='psql'))\n"
      ],
      "metadata": {
        "colab": {
          "base_uri": "https://localhost:8080/"
        },
        "id": "Bulv1ZCxrLRr",
        "outputId": "676278ac-9ee6-4e15-ac4e-8e4f94047060"
      },
      "execution_count": null,
      "outputs": [
        {
          "output_type": "stream",
          "name": "stdout",
          "text": [
            "+---------------+--------------------+---------------------+----------------+-----------------+\n",
            "|   employee_id | task_description   | task_start          | next_task      | previous_task   |\n",
            "|---------------+--------------------+---------------------+----------------+-----------------|\n",
            "|             1 | Prepare report     | 2024-11-01 09:00:00 | Client call    |                 |\n",
            "|             1 | Client call        | 2024-11-03 11:00:00 |                | Prepare report  |\n",
            "|             2 | Data analysis      | 2024-11-01 10:30:00 | Model training |                 |\n",
            "|             2 | Model training     | 2024-11-04 08:00:00 |                | Data analysis   |\n",
            "|             3 | Team meeting       | 2024-11-02 15:00:00 |                |                 |\n",
            "+---------------+--------------------+---------------------+----------------+-----------------+\n"
          ]
        }
      ]
    },
    {
      "cell_type": "code",
      "source": [
        "#constraints\n",
        "mycursor.execute(\"CREATE TABLE guvi1.ConstraintTables (no INTEGER  NOT NULL,name VARCHAR(20),school VARCHAR(20)) \")\n"
      ],
      "metadata": {
        "id": "JcghNfKOr8Jn"
      },
      "execution_count": null,
      "outputs": []
    },
    {
      "cell_type": "code",
      "source": [
        "\n",
        "\n",
        "a=input(\"enter no\")\n",
        "b=input(\"enter name\")\n",
        "c=input(\"emter school\")\n",
        "query=\"INSERT INTO guvi1.ConstraintTables (no,name,school) VALUES (%s,%s,%s)\"\n",
        "mycursor.execute(query,(a,None,c))#None = null\n",
        "connection.commit()"
      ],
      "metadata": {
        "colab": {
          "base_uri": "https://localhost:8080/"
        },
        "id": "Ghn2YMNuvQEW",
        "outputId": "95bd327c-5844-4820-fd79-25d0838059a3"
      },
      "execution_count": null,
      "outputs": [
        {
          "name": "stdout",
          "output_type": "stream",
          "text": [
            "enter no1\n",
            "enter namea\n",
            "emter schoolc\n"
          ]
        }
      ]
    },
    {
      "cell_type": "code",
      "source": [
        "\n",
        "\n",
        "mycursor.execute(\"create table guvi1.CheckConstraint (name varchar(20) UNIQUE, age int )\")"
      ],
      "metadata": {
        "id": "VWmJAPeGwyWh"
      },
      "execution_count": null,
      "outputs": []
    },
    {
      "cell_type": "code",
      "source": [
        "mycursor.execute(\"INSERT INTO guvi1.CheckConstraint (name, age) VALUES ('guvi', 10)\")\n",
        "connection.commit()\n"
      ],
      "metadata": {
        "id": "K2LXFUHSxUWP"
      },
      "execution_count": null,
      "outputs": []
    },
    {
      "cell_type": "code",
      "source": [
        "mycursor.execute(\"SELECT * FROM guvi1.CheckConstraint\")  # Ensure it's a SELECT query\n",
        "\n",
        "out=mycursor.fetchall()#out is a variable tht fetch all details\n",
        "from tabulate import tabulate\n",
        "print(tabulate(out,headers=[i[0] for i in mycursor.description],  tablefmt='psql'))"
      ],
      "metadata": {
        "colab": {
          "base_uri": "https://localhost:8080/"
        },
        "id": "94sI7ZEI3sRj",
        "outputId": "a9d1a2c3-acc9-4457-fbda-79d83417c818"
      },
      "execution_count": null,
      "outputs": [
        {
          "output_type": "stream",
          "name": "stdout",
          "text": [
            "+--------+-------+\n",
            "| name   |   age |\n",
            "|--------+-------|\n",
            "| guvi   |    10 |\n",
            "+--------+-------+\n"
          ]
        }
      ]
    },
    {
      "cell_type": "code",
      "source": [
        "mycursor.execute(\"CREATE TABLE guvi1.aadhardetails (name VARCHAR(30),ADDRESS VARCHAR(20),AADHARID INTEGER PRIMARY KEY)\")\n"
      ],
      "metadata": {
        "id": "ytDofn_jJHgY"
      },
      "execution_count": 6,
      "outputs": []
    },
    {
      "cell_type": "code",
      "source": [
        "mycursor.execute(\"INSERT INTO guvi1.aadhardetails (name,address,aadharid) VALUES('nethaji','coimbatore',12345678)\")\n",
        "connection.commit()"
      ],
      "metadata": {
        "colab": {
          "base_uri": "https://localhost:8080/",
          "height": 304
        },
        "id": "QpCpKbyUJNbe",
        "outputId": "7c9645ab-148e-40f9-bf79-b4e815f75a30"
      },
      "execution_count": 8,
      "outputs": [
        {
          "output_type": "error",
          "ename": "IntegrityError",
          "evalue": "1062 (23000): Duplicate entry '?' for key 'aadhardetails.PRIMARY'",
          "traceback": [
            "\u001b[0;31m---------------------------------------------------------------------------\u001b[0m",
            "\u001b[0;31mIntegrityError\u001b[0m                            Traceback (most recent call last)",
            "\u001b[0;32m<ipython-input-8-7bee67a7010f>\u001b[0m in \u001b[0;36m<cell line: 0>\u001b[0;34m()\u001b[0m\n\u001b[0;32m----> 1\u001b[0;31m \u001b[0mmycursor\u001b[0m\u001b[0;34m.\u001b[0m\u001b[0mexecute\u001b[0m\u001b[0;34m(\u001b[0m\u001b[0;34m\"INSERT INTO guvi1.aadhardetails (name,address,aadharid) VALUES('nethaji','coimbatore',12345678)\"\u001b[0m\u001b[0;34m)\u001b[0m\u001b[0;34m\u001b[0m\u001b[0;34m\u001b[0m\u001b[0m\n\u001b[0m\u001b[1;32m      2\u001b[0m \u001b[0mconnection\u001b[0m\u001b[0;34m.\u001b[0m\u001b[0mcommit\u001b[0m\u001b[0;34m(\u001b[0m\u001b[0;34m)\u001b[0m\u001b[0;34m\u001b[0m\u001b[0;34m\u001b[0m\u001b[0m\n",
            "\u001b[0;32m/usr/local/lib/python3.11/dist-packages/mysql/connector/cursor.py\u001b[0m in \u001b[0;36mexecute\u001b[0;34m(self, operation, params, map_results)\u001b[0m\n\u001b[1;32m    414\u001b[0m \u001b[0;34m\u001b[0m\u001b[0m\n\u001b[1;32m    415\u001b[0m         self._handle_result(\n\u001b[0;32m--> 416\u001b[0;31m             self._connection.cmd_query(\n\u001b[0m\u001b[1;32m    417\u001b[0m                 \u001b[0mself\u001b[0m\u001b[0;34m.\u001b[0m\u001b[0m_stmt_partition\u001b[0m\u001b[0;34m[\u001b[0m\u001b[0;34m\"mappable_stmt\"\u001b[0m\u001b[0;34m]\u001b[0m\u001b[0;34m,\u001b[0m\u001b[0;34m\u001b[0m\u001b[0;34m\u001b[0m\u001b[0m\n\u001b[1;32m    418\u001b[0m                 \u001b[0mread_timeout\u001b[0m\u001b[0;34m=\u001b[0m\u001b[0mself\u001b[0m\u001b[0;34m.\u001b[0m\u001b[0m_read_timeout\u001b[0m\u001b[0;34m,\u001b[0m\u001b[0;34m\u001b[0m\u001b[0;34m\u001b[0m\u001b[0m\n",
            "\u001b[0;32m/usr/local/lib/python3.11/dist-packages/mysql/connector/opentelemetry/context_propagation.py\u001b[0m in \u001b[0;36mwrapper\u001b[0;34m(cnx, *args, **kwargs)\u001b[0m\n\u001b[1;32m    104\u001b[0m \u001b[0;34m\u001b[0m\u001b[0m\n\u001b[1;32m    105\u001b[0m         \u001b[0;32mtry\u001b[0m\u001b[0;34m:\u001b[0m\u001b[0;34m\u001b[0m\u001b[0;34m\u001b[0m\u001b[0m\n\u001b[0;32m--> 106\u001b[0;31m             \u001b[0mresult\u001b[0m \u001b[0;34m=\u001b[0m \u001b[0mmethod\u001b[0m\u001b[0;34m(\u001b[0m\u001b[0mcnx\u001b[0m\u001b[0;34m,\u001b[0m \u001b[0;34m*\u001b[0m\u001b[0margs\u001b[0m\u001b[0;34m,\u001b[0m \u001b[0;34m**\u001b[0m\u001b[0mkwargs\u001b[0m\u001b[0;34m)\u001b[0m\u001b[0;34m\u001b[0m\u001b[0;34m\u001b[0m\u001b[0m\n\u001b[0m\u001b[1;32m    107\u001b[0m         \u001b[0;32mfinally\u001b[0m\u001b[0;34m:\u001b[0m\u001b[0;34m\u001b[0m\u001b[0;34m\u001b[0m\u001b[0m\n\u001b[1;32m    108\u001b[0m             \u001b[0;32mif\u001b[0m \u001b[0mtp_header\u001b[0m \u001b[0;32mis\u001b[0m \u001b[0;32mnot\u001b[0m \u001b[0;32mNone\u001b[0m\u001b[0;34m:\u001b[0m\u001b[0;34m\u001b[0m\u001b[0;34m\u001b[0m\u001b[0m\n",
            "\u001b[0;32m/usr/local/lib/python3.11/dist-packages/mysql/connector/utils.py\u001b[0m in \u001b[0;36mhandle_cnx_method\u001b[0;34m(cnx, *args, **kwargs)\u001b[0m\n\u001b[1;32m    740\u001b[0m                 \u001b[0;32mif\u001b[0m \u001b[0misinstance\u001b[0m\u001b[0;34m(\u001b[0m\u001b[0merr\u001b[0m\u001b[0;34m,\u001b[0m \u001b[0mTimeoutError\u001b[0m\u001b[0;34m)\u001b[0m\u001b[0;34m:\u001b[0m\u001b[0;34m\u001b[0m\u001b[0;34m\u001b[0m\u001b[0m\n\u001b[1;32m    741\u001b[0m                     \u001b[0mcnx\u001b[0m\u001b[0;34m.\u001b[0m\u001b[0mclose\u001b[0m\u001b[0;34m(\u001b[0m\u001b[0;34m)\u001b[0m\u001b[0;34m\u001b[0m\u001b[0;34m\u001b[0m\u001b[0m\n\u001b[0;32m--> 742\u001b[0;31m                 \u001b[0;32mraise\u001b[0m \u001b[0merr\u001b[0m\u001b[0;34m\u001b[0m\u001b[0;34m\u001b[0m\u001b[0m\n\u001b[0m\u001b[1;32m    743\u001b[0m \u001b[0;34m\u001b[0m\u001b[0m\n\u001b[1;32m    744\u001b[0m         \u001b[0;32mreturn\u001b[0m \u001b[0mhandle_cnx_method\u001b[0m\u001b[0;34m\u001b[0m\u001b[0;34m\u001b[0m\u001b[0m\n",
            "\u001b[0;32m/usr/local/lib/python3.11/dist-packages/mysql/connector/utils.py\u001b[0m in \u001b[0;36mhandle_cnx_method\u001b[0;34m(cnx, *args, **kwargs)\u001b[0m\n\u001b[1;32m    736\u001b[0m         ) -> Any:\n\u001b[1;32m    737\u001b[0m             \u001b[0;32mtry\u001b[0m\u001b[0;34m:\u001b[0m\u001b[0;34m\u001b[0m\u001b[0;34m\u001b[0m\u001b[0m\n\u001b[0;32m--> 738\u001b[0;31m                 \u001b[0;32mreturn\u001b[0m \u001b[0mcnx_method\u001b[0m\u001b[0;34m(\u001b[0m\u001b[0mcnx\u001b[0m\u001b[0;34m,\u001b[0m \u001b[0;34m*\u001b[0m\u001b[0margs\u001b[0m\u001b[0;34m,\u001b[0m \u001b[0;34m**\u001b[0m\u001b[0mkwargs\u001b[0m\u001b[0;34m)\u001b[0m\u001b[0;34m\u001b[0m\u001b[0;34m\u001b[0m\u001b[0m\n\u001b[0m\u001b[1;32m    739\u001b[0m             \u001b[0;32mexcept\u001b[0m \u001b[0mException\u001b[0m \u001b[0;32mas\u001b[0m \u001b[0merr\u001b[0m\u001b[0;34m:\u001b[0m\u001b[0;34m\u001b[0m\u001b[0;34m\u001b[0m\u001b[0m\n\u001b[1;32m    740\u001b[0m                 \u001b[0;32mif\u001b[0m \u001b[0misinstance\u001b[0m\u001b[0;34m(\u001b[0m\u001b[0merr\u001b[0m\u001b[0;34m,\u001b[0m \u001b[0mTimeoutError\u001b[0m\u001b[0;34m)\u001b[0m\u001b[0;34m:\u001b[0m\u001b[0;34m\u001b[0m\u001b[0;34m\u001b[0m\u001b[0m\n",
            "\u001b[0;32m/usr/local/lib/python3.11/dist-packages/mysql/connector/connection.py\u001b[0m in \u001b[0;36mcmd_query\u001b[0;34m(self, query, raw, buffered, raw_as_string, **kwargs)\u001b[0m\n\u001b[1;32m    935\u001b[0m             \u001b[0mwrite_timeout\u001b[0m \u001b[0;34m=\u001b[0m \u001b[0mkwargs\u001b[0m\u001b[0;34m.\u001b[0m\u001b[0mget\u001b[0m\u001b[0;34m(\u001b[0m\u001b[0;34m\"write_timeout\"\u001b[0m\u001b[0;34m,\u001b[0m \u001b[0;32mNone\u001b[0m\u001b[0;34m)\u001b[0m\u001b[0;34m\u001b[0m\u001b[0;34m\u001b[0m\u001b[0m\n\u001b[1;32m    936\u001b[0m \u001b[0;34m\u001b[0m\u001b[0m\n\u001b[0;32m--> 937\u001b[0;31m             result = self._handle_result(\n\u001b[0m\u001b[1;32m    938\u001b[0m                 self._send_cmd(\n\u001b[1;32m    939\u001b[0m                     \u001b[0mServerCmd\u001b[0m\u001b[0;34m.\u001b[0m\u001b[0mQUERY\u001b[0m\u001b[0;34m,\u001b[0m\u001b[0;34m\u001b[0m\u001b[0;34m\u001b[0m\u001b[0m\n",
            "\u001b[0;32m/usr/local/lib/python3.11/dist-packages/mysql/connector/utils.py\u001b[0m in \u001b[0;36mhandle_cnx_method\u001b[0;34m(cnx, *args, **kwargs)\u001b[0m\n\u001b[1;32m    740\u001b[0m                 \u001b[0;32mif\u001b[0m \u001b[0misinstance\u001b[0m\u001b[0;34m(\u001b[0m\u001b[0merr\u001b[0m\u001b[0;34m,\u001b[0m \u001b[0mTimeoutError\u001b[0m\u001b[0;34m)\u001b[0m\u001b[0;34m:\u001b[0m\u001b[0;34m\u001b[0m\u001b[0;34m\u001b[0m\u001b[0m\n\u001b[1;32m    741\u001b[0m                     \u001b[0mcnx\u001b[0m\u001b[0;34m.\u001b[0m\u001b[0mclose\u001b[0m\u001b[0;34m(\u001b[0m\u001b[0;34m)\u001b[0m\u001b[0;34m\u001b[0m\u001b[0;34m\u001b[0m\u001b[0m\n\u001b[0;32m--> 742\u001b[0;31m                 \u001b[0;32mraise\u001b[0m \u001b[0merr\u001b[0m\u001b[0;34m\u001b[0m\u001b[0;34m\u001b[0m\u001b[0m\n\u001b[0m\u001b[1;32m    743\u001b[0m \u001b[0;34m\u001b[0m\u001b[0m\n\u001b[1;32m    744\u001b[0m         \u001b[0;32mreturn\u001b[0m \u001b[0mhandle_cnx_method\u001b[0m\u001b[0;34m\u001b[0m\u001b[0;34m\u001b[0m\u001b[0m\n",
            "\u001b[0;32m/usr/local/lib/python3.11/dist-packages/mysql/connector/utils.py\u001b[0m in \u001b[0;36mhandle_cnx_method\u001b[0;34m(cnx, *args, **kwargs)\u001b[0m\n\u001b[1;32m    736\u001b[0m         ) -> Any:\n\u001b[1;32m    737\u001b[0m             \u001b[0;32mtry\u001b[0m\u001b[0;34m:\u001b[0m\u001b[0;34m\u001b[0m\u001b[0;34m\u001b[0m\u001b[0m\n\u001b[0;32m--> 738\u001b[0;31m                 \u001b[0;32mreturn\u001b[0m \u001b[0mcnx_method\u001b[0m\u001b[0;34m(\u001b[0m\u001b[0mcnx\u001b[0m\u001b[0;34m,\u001b[0m \u001b[0;34m*\u001b[0m\u001b[0margs\u001b[0m\u001b[0;34m,\u001b[0m \u001b[0;34m**\u001b[0m\u001b[0mkwargs\u001b[0m\u001b[0;34m)\u001b[0m\u001b[0;34m\u001b[0m\u001b[0;34m\u001b[0m\u001b[0m\n\u001b[0m\u001b[1;32m    739\u001b[0m             \u001b[0;32mexcept\u001b[0m \u001b[0mException\u001b[0m \u001b[0;32mas\u001b[0m \u001b[0merr\u001b[0m\u001b[0;34m:\u001b[0m\u001b[0;34m\u001b[0m\u001b[0;34m\u001b[0m\u001b[0m\n\u001b[1;32m    740\u001b[0m                 \u001b[0;32mif\u001b[0m \u001b[0misinstance\u001b[0m\u001b[0;34m(\u001b[0m\u001b[0merr\u001b[0m\u001b[0;34m,\u001b[0m \u001b[0mTimeoutError\u001b[0m\u001b[0;34m)\u001b[0m\u001b[0;34m:\u001b[0m\u001b[0;34m\u001b[0m\u001b[0;34m\u001b[0m\u001b[0m\n",
            "\u001b[0;32m/usr/local/lib/python3.11/dist-packages/mysql/connector/connection.py\u001b[0m in \u001b[0;36m_handle_result\u001b[0;34m(self, packet, read_timeout, write_timeout)\u001b[0m\n\u001b[1;32m    701\u001b[0m             \u001b[0;32mreturn\u001b[0m \u001b[0mself\u001b[0m\u001b[0;34m.\u001b[0m\u001b[0m_handle_eof\u001b[0m\u001b[0;34m(\u001b[0m\u001b[0mpacket\u001b[0m\u001b[0;34m)\u001b[0m\u001b[0;34m\u001b[0m\u001b[0;34m\u001b[0m\u001b[0m\n\u001b[1;32m    702\u001b[0m         \u001b[0;32mif\u001b[0m \u001b[0mpacket\u001b[0m\u001b[0;34m[\u001b[0m\u001b[0;36m4\u001b[0m\u001b[0;34m]\u001b[0m \u001b[0;34m==\u001b[0m \u001b[0;36m255\u001b[0m\u001b[0;34m:\u001b[0m\u001b[0;34m\u001b[0m\u001b[0;34m\u001b[0m\u001b[0m\n\u001b[0;32m--> 703\u001b[0;31m             \u001b[0;32mraise\u001b[0m \u001b[0mget_exception\u001b[0m\u001b[0;34m(\u001b[0m\u001b[0mpacket\u001b[0m\u001b[0;34m)\u001b[0m\u001b[0;34m\u001b[0m\u001b[0;34m\u001b[0m\u001b[0m\n\u001b[0m\u001b[1;32m    704\u001b[0m \u001b[0;34m\u001b[0m\u001b[0m\n\u001b[1;32m    705\u001b[0m         \u001b[0;31m# We have a text result set\u001b[0m\u001b[0;34m\u001b[0m\u001b[0;34m\u001b[0m\u001b[0m\n",
            "\u001b[0;31mIntegrityError\u001b[0m: 1062 (23000): Duplicate entry '?' for key 'aadhardetails.PRIMARY'"
          ]
        }
      ]
    },
    {
      "cell_type": "code",
      "source": [],
      "metadata": {
        "id": "ArTXRQn4LjX7"
      },
      "execution_count": null,
      "outputs": []
    },
    {
      "cell_type": "code",
      "source": [
        "mycursor.execute(\"CREATE TABLE guvi1.bankacc(name VARCHAR(20),type VARCHAR(2),accno INT PRIMARY KEY,aadhar INT ,FOREIGN KEY (aadhar)REFERENCES aadhardetails(aadharid))\")\n",
        "\n"
      ],
      "metadata": {
        "id": "ttwVDGKDKNzX"
      },
      "execution_count": 10,
      "outputs": []
    },
    {
      "cell_type": "code",
      "source": [
        "mycursor.execute(\"INSERT INTO guvi1.bankacc (name,type,accno,aadhar) VALUES('nethaji','Rd',124455,12345678)\")"
      ],
      "metadata": {
        "id": "8fHu2uUULWCJ"
      },
      "execution_count": 13,
      "outputs": []
    },
    {
      "cell_type": "code",
      "source": [
        "connection.commit()"
      ],
      "metadata": {
        "id": "4JTzuXeULkZf"
      },
      "execution_count": 14,
      "outputs": []
    },
    {
      "cell_type": "code",
      "source": [
        "mycursor.execute(\"select * from guvi2.employees\")\n",
        "out=mycursor.fetchall()#out is a variable tht fetch all details\n",
        "from tabulate import tabulate\n",
        "print(tabulate(out,headers=[i[0] for i in mycursor.description],  tablefmt='psql'))"
      ],
      "metadata": {
        "colab": {
          "base_uri": "https://localhost:8080/"
        },
        "id": "Z-IwKEMGTIdH",
        "outputId": "20ae9550-baf7-4a42-cef8-17490337b03a"
      },
      "execution_count": 16,
      "outputs": [
        {
          "output_type": "stream",
          "name": "stdout",
          "text": [
            "+----------+--------------+-------------+-----------------+----------+\n",
            "|   emp_id | first_name   | last_name   |   department_id |   salary |\n",
            "|----------+--------------+-------------+-----------------+----------|\n",
            "|        1 | John         | Smith       |               1 |    50000 |\n",
            "|        2 | Sarah        | Johnson     |               2 |    62000 |\n",
            "|        3 | Michael      | Brown       |               1 |    55000 |\n",
            "|        4 | Emily        | Davis       |               3 |    48000 |\n",
            "|        5 | David        | Wilson      |               2 |    61000 |\n",
            "|        6 | Lisa         | Anderson    |               4 |    53000 |\n",
            "|        7 | James        | Taylor      |               1 |    54000 |\n",
            "|        8 | Emma         | Martinez    |               2 |    59000 |\n",
            "|        9 | Daniel       | Thomas      |               3 |    51000 |\n",
            "|       10 | Jessica      | Garcia      |               5 |    57000 |\n",
            "+----------+--------------+-------------+-----------------+----------+\n"
          ]
        }
      ]
    },
    {
      "cell_type": "code",
      "source": [
        "mycursor.execute(\"select * from guvi2.departments\")\n",
        "out=mycursor.fetchall()#out is a variable tht fetch all details\n",
        "from tabulate import tabulate\n",
        "print(tabulate(out,headers=[i[0] for i in mycursor.description],  tablefmt='psql'))"
      ],
      "metadata": {
        "colab": {
          "base_uri": "https://localhost:8080/"
        },
        "id": "MsPEQ4PiTbP9",
        "outputId": "4206e78b-614f-4abe-da93-a0823710cf7f"
      },
      "execution_count": 18,
      "outputs": [
        {
          "output_type": "stream",
          "name": "stdout",
          "text": [
            "+-----------------+-------------------+---------------+----------+\n",
            "|   department_id | department_name   | location      |   budget |\n",
            "|-----------------+-------------------+---------------+----------|\n",
            "|               1 | IT                | New York      |   500000 |\n",
            "|               2 | Marketing         | Los Angeles   |   400000 |\n",
            "|               3 | Finance           | Chicago       |   450000 |\n",
            "|               4 | HR                | Boston        |   300000 |\n",
            "|               5 | Sales             | Miami         |   550000 |\n",
            "|               6 | Research          | Seattle       |   600000 |\n",
            "|               7 | Operations        | Denver        |   350000 |\n",
            "|               8 | Legal             | Washington DC |   425000 |\n",
            "|               9 | Support           | Austin        |   275000 |\n",
            "|              10 | Development       | San Francisco |   700000 |\n",
            "+-----------------+-------------------+---------------+----------+\n"
          ]
        }
      ]
    },
    {
      "cell_type": "code",
      "source": [
        "mycursor.execute(\"select * from guvi2.projects\")\n",
        "out=mycursor.fetchall()#out is a variable tht fetch all details\n",
        "from tabulate import tabulate\n",
        "print(tabulate(out,headers=[i[0] for i in mycursor.description],  tablefmt='psql'))"
      ],
      "metadata": {
        "colab": {
          "base_uri": "https://localhost:8080/"
        },
        "id": "mqV7fTW_TfXV",
        "outputId": "c60d1ed5-59fc-4cce-d0d7-9011a1308a3e"
      },
      "execution_count": 19,
      "outputs": [
        {
          "output_type": "stream",
          "name": "stdout",
          "text": [
            "+--------------+--------------------+----------+--------------+-------------+\n",
            "|   project_id | project_name       |   emp_id | start_date   | status      |\n",
            "|--------------+--------------------+----------+--------------+-------------|\n",
            "|            1 | Website Redesign   |        1 | 2024-01-15   | In Progress |\n",
            "|            2 | Mobile App         |        2 | 2024-02-01   | Planning    |\n",
            "|            3 | Database Migration |        3 | 2024-01-10   | Completed   |\n",
            "|            4 | Security Audit     |        4 | 2024-03-01   | In Progress |\n",
            "|            5 | Cloud Migration    |        1 | 2024-02-15   | Planning    |\n",
            "|            6 | AI Implementation  |        5 | 2024-01-20   | On Hold     |\n",
            "|            7 | CRM Update         |        7 | 2024-02-10   | In Progress |\n",
            "|            8 | Network Upgrade    |        8 | 2024-03-05   | Planning    |\n",
            "|            9 | Data Analytics     |        9 | 2024-01-05   | Completed   |\n",
            "|           10 | DevOps Pipeline    |        3 | 2024-02-20   | In Progress |\n",
            "+--------------+--------------------+----------+--------------+-------------+\n"
          ]
        }
      ]
    },
    {
      "cell_type": "code",
      "source": [
        "mycursor.execute(\"\"\"SELECT e.first_name, e.last_name, d.department_name,d.department_id\n",
        "FROM guvi2.employees e\n",
        "right JOIN guvi2.departments d ON e.department_id = d.department_id;\"\"\")\n",
        "out=mycursor.fetchall()#out is a variable tht fetch all details\n",
        "from tabulate import tabulate\n",
        "print(tabulate(out,headers=[i[0] for i in mycursor.description],  tablefmt='psql'))"
      ],
      "metadata": {
        "colab": {
          "base_uri": "https://localhost:8080/"
        },
        "id": "5MmXp8JgTm-R",
        "outputId": "c32095e8-c7a2-4e46-dd76-20d8e1f26f03"
      },
      "execution_count": 20,
      "outputs": [
        {
          "output_type": "stream",
          "name": "stdout",
          "text": [
            "+--------------+-------------+-------------------+-----------------+\n",
            "| first_name   | last_name   | department_name   |   department_id |\n",
            "|--------------+-------------+-------------------+-----------------|\n",
            "| John         | Smith       | IT                |               1 |\n",
            "| Sarah        | Johnson     | Marketing         |               2 |\n",
            "| Michael      | Brown       | IT                |               1 |\n",
            "| Emily        | Davis       | Finance           |               3 |\n",
            "| David        | Wilson      | Marketing         |               2 |\n",
            "| Lisa         | Anderson    | HR                |               4 |\n",
            "| James        | Taylor      | IT                |               1 |\n",
            "| Emma         | Martinez    | Marketing         |               2 |\n",
            "| Daniel       | Thomas      | Finance           |               3 |\n",
            "| Jessica      | Garcia      | Sales             |               5 |\n",
            "|              |             | Research          |               6 |\n",
            "|              |             | Operations        |               7 |\n",
            "|              |             | Legal             |               8 |\n",
            "|              |             | Support           |               9 |\n",
            "|              |             | Development       |              10 |\n",
            "+--------------+-------------+-------------------+-----------------+\n"
          ]
        }
      ]
    },
    {
      "cell_type": "code",
      "source": [
        "mycursor.execute(\"\"\"SELECT e.first_name, e.last_name, d.department_name,d.department_id\n",
        "FROM guvi2.employees e\n",
        "left JOIN guvi2.departments d ON e.department_id = d.department_id;\"\"\")\n",
        "out=mycursor.fetchall()#out is a variable tht fetch all details\n",
        "from tabulate import tabulate\n",
        "print(tabulate(out,headers=[i[0] for i in mycursor.description],  tablefmt='psql'))"
      ],
      "metadata": {
        "colab": {
          "base_uri": "https://localhost:8080/"
        },
        "id": "wH_2CjomVCMB",
        "outputId": "0b8f0cc8-8b69-4538-e256-1ed07697dcb9"
      },
      "execution_count": 21,
      "outputs": [
        {
          "output_type": "stream",
          "name": "stdout",
          "text": [
            "+--------------+-------------+-------------------+-----------------+\n",
            "| first_name   | last_name   | department_name   |   department_id |\n",
            "|--------------+-------------+-------------------+-----------------|\n",
            "| John         | Smith       | IT                |               1 |\n",
            "| Sarah        | Johnson     | Marketing         |               2 |\n",
            "| Michael      | Brown       | IT                |               1 |\n",
            "| Emily        | Davis       | Finance           |               3 |\n",
            "| David        | Wilson      | Marketing         |               2 |\n",
            "| Lisa         | Anderson    | HR                |               4 |\n",
            "| James        | Taylor      | IT                |               1 |\n",
            "| Emma         | Martinez    | Marketing         |               2 |\n",
            "| Daniel       | Thomas      | Finance           |               3 |\n",
            "| Jessica      | Garcia      | Sales             |               5 |\n",
            "+--------------+-------------+-------------------+-----------------+\n"
          ]
        }
      ]
    },
    {
      "cell_type": "code",
      "source": [
        "mycursor.execute(\"\"\"\n",
        "    SELECT e.first_name, e.last_name, e.emp_id, p.project_name, p.project_id\n",
        "    FROM guvi2.employees e\n",
        "    RIGHT JOIN guvi2.projects p ON e.emp_id = p.emp_id;\n",
        "\"\"\")\n",
        "\n",
        "out = mycursor.fetchall()  # Fetch all details\n",
        "from tabulate import tabulate\n",
        "\n",
        "print(tabulate(out, headers=[i[0] for i in mycursor.description], tablefmt='psql'))\n"
      ],
      "metadata": {
        "colab": {
          "base_uri": "https://localhost:8080/"
        },
        "id": "kQVjQt5_VJjA",
        "outputId": "04cd9d3c-b92e-4631-c9ff-50b551f1454d"
      },
      "execution_count": 25,
      "outputs": [
        {
          "output_type": "stream",
          "name": "stdout",
          "text": [
            "+--------------+-------------+----------+--------------------+--------------+\n",
            "| first_name   | last_name   |   emp_id | project_name       |   project_id |\n",
            "|--------------+-------------+----------+--------------------+--------------|\n",
            "| John         | Smith       |        1 | Cloud Migration    |            5 |\n",
            "| John         | Smith       |        1 | Website Redesign   |            1 |\n",
            "| Sarah        | Johnson     |        2 | Mobile App         |            2 |\n",
            "| Michael      | Brown       |        3 | DevOps Pipeline    |           10 |\n",
            "| Michael      | Brown       |        3 | Database Migration |            3 |\n",
            "| Emily        | Davis       |        4 | Security Audit     |            4 |\n",
            "| David        | Wilson      |        5 | AI Implementation  |            6 |\n",
            "| James        | Taylor      |        7 | CRM Update         |            7 |\n",
            "| Emma         | Martinez    |        8 | Network Upgrade    |            8 |\n",
            "| Daniel       | Thomas      |        9 | Data Analytics     |            9 |\n",
            "+--------------+-------------+----------+--------------------+--------------+\n"
          ]
        }
      ]
    },
    {
      "cell_type": "code",
      "source": [
        "#multiple join\n",
        "mycursor.execute(\"\"\"\n",
        "    SELECT e.first_name, e.last_name, e.emp_id, p.project_name, p.project_id, d.department_name\n",
        "    FROM guvi2.employees e\n",
        "    JOIN guvi2.projects p ON e.emp_id = p.emp_id\n",
        "    JOIN guvi2.departments d ON e.department_id = d.department_id;\n",
        "\"\"\")"
      ],
      "metadata": {
        "id": "OiKLBdcBZCXq"
      },
      "execution_count": 26,
      "outputs": []
    },
    {
      "cell_type": "code",
      "source": [
        "out = mycursor.fetchall()  # Fetch all details\n",
        "from tabulate import tabulate\n",
        "\n",
        "print(tabulate(out, headers=[i[0] for i in mycursor.description], tablefmt='psql'))"
      ],
      "metadata": {
        "colab": {
          "base_uri": "https://localhost:8080/"
        },
        "id": "25mDhJk3ZROE",
        "outputId": "a041586a-8328-4012-b9a3-cffb957672e5"
      },
      "execution_count": 27,
      "outputs": [
        {
          "output_type": "stream",
          "name": "stdout",
          "text": [
            "+--------------+-------------+----------+--------------------+--------------+-------------------+\n",
            "| first_name   | last_name   |   emp_id | project_name       |   project_id | department_name   |\n",
            "|--------------+-------------+----------+--------------------+--------------+-------------------|\n",
            "| John         | Smith       |        1 | Cloud Migration    |            5 | IT                |\n",
            "| John         | Smith       |        1 | Website Redesign   |            1 | IT                |\n",
            "| Sarah        | Johnson     |        2 | Mobile App         |            2 | Marketing         |\n",
            "| Michael      | Brown       |        3 | DevOps Pipeline    |           10 | IT                |\n",
            "| Michael      | Brown       |        3 | Database Migration |            3 | IT                |\n",
            "| Emily        | Davis       |        4 | Security Audit     |            4 | Finance           |\n",
            "| David        | Wilson      |        5 | AI Implementation  |            6 | Marketing         |\n",
            "| James        | Taylor      |        7 | CRM Update         |            7 | IT                |\n",
            "| Emma         | Martinez    |        8 | Network Upgrade    |            8 | Marketing         |\n",
            "| Daniel       | Thomas      |        9 | Data Analytics     |            9 | Finance           |\n",
            "+--------------+-------------+----------+--------------------+--------------+-------------------+\n"
          ]
        }
      ]
    },
    {
      "cell_type": "code",
      "source": [
        "mycursor.execute(\"\"\" SELECT d.department_name, COUNT(e.emp_id) as employee_count, AVG(e.salary) as avg_salary FROM guvi2.departments d LEFT JOIN guvi2.employees e ON d.department_id = e.department_id GROUP BY d.department_name;\n",
        "\n",
        "\"\"\")\n",
        "out = mycursor.fetchall()  # Fetch all details\n",
        "from tabulate import tabulate\n",
        "\n",
        "print(tabulate(out, headers=[i[0] for i in mycursor.description], tablefmt='psql'))"
      ],
      "metadata": {
        "colab": {
          "base_uri": "https://localhost:8080/"
        },
        "id": "k1oPeEJHbBqG",
        "outputId": "338c9303-abb5-4c77-870f-151f4d5aa90f"
      },
      "execution_count": 32,
      "outputs": [
        {
          "output_type": "stream",
          "name": "stdout",
          "text": [
            "+-------------------+------------------+--------------+\n",
            "| department_name   |   employee_count |   avg_salary |\n",
            "|-------------------+------------------+--------------|\n",
            "| Finance           |                2 |      49500   |\n",
            "| IT                |                3 |      53000   |\n",
            "| Marketing         |                3 |      60666.7 |\n",
            "| Research          |                0 |              |\n",
            "| Operations        |                0 |              |\n",
            "| Legal             |                0 |              |\n",
            "| Development       |                0 |              |\n",
            "| HR                |                1 |      53000   |\n",
            "| Sales             |                1 |      57000   |\n",
            "| Support           |                0 |              |\n",
            "+-------------------+------------------+--------------+\n"
          ]
        }
      ]
    }
  ]
}