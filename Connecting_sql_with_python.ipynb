{
  "nbformat": 4,
  "nbformat_minor": 0,
  "metadata": {
    "colab": {
      "provenance": [],
      "authorship_tag": "ABX9TyN7Lun3NXzpWZaNLLIiny63",
      "include_colab_link": true
    },
    "kernelspec": {
      "name": "python3",
      "display_name": "Python 3"
    },
    "language_info": {
      "name": "python"
    }
  },
  "cells": [
    {
      "cell_type": "markdown",
      "metadata": {
        "id": "view-in-github",
        "colab_type": "text"
      },
      "source": [
        "<a href=\"https://colab.research.google.com/github/gowtham-dd/Data-Science-Basics/blob/main/Connecting_sql_with_python.ipynb\" target=\"_parent\"><img src=\"https://colab.research.google.com/assets/colab-badge.svg\" alt=\"Open In Colab\"/></a>"
      ]
    },
    {
      "cell_type": "code",
      "execution_count": null,
      "metadata": {
        "id": "IGH6jE6ig0Im"
      },
      "outputs": [],
      "source": [
        "#connecting mysql and python\n",
        "# step 1 install packages\n",
        "#!pip install mysql-connector-python"
      ]
    },
    {
      "cell_type": "code",
      "source": [
        "import mysql.connector # type: ignore\n",
        "\n",
        "\n",
        "\n",
        "\n",
        "mydb = mysql.connector.connect(\n",
        " host=\"localhost\",\n",
        " user=\"root\",\n",
        " password=\"\",\n",
        "\n",
        "\n",
        ")\n",
        "\n",
        "\n",
        "print(mydb)\n",
        "mycursor = mydb.cursor(buffered=True)"
      ],
      "metadata": {
        "id": "CSEZ0ElBg9bX"
      },
      "execution_count": null,
      "outputs": []
    },
    {
      "cell_type": "code",
      "source": [
        "!pip install mysql-connector-python"
      ],
      "metadata": {
        "colab": {
          "base_uri": "https://localhost:8080/"
        },
        "id": "VORWKvH-hCHd",
        "outputId": "1beb3983-1aea-42c1-86dc-2112a87661c1"
      },
      "execution_count": 3,
      "outputs": [
        {
          "output_type": "stream",
          "name": "stdout",
          "text": [
            "Collecting mysql-connector-python\n",
            "  Downloading mysql_connector_python-9.2.0-cp311-cp311-manylinux_2_28_x86_64.whl.metadata (6.0 kB)\n",
            "Downloading mysql_connector_python-9.2.0-cp311-cp311-manylinux_2_28_x86_64.whl (34.0 MB)\n",
            "\u001b[2K   \u001b[90m━━━━━━━━━━━━━━━━━━━━━━━━━━━━━━━━━━━━━━━━\u001b[0m \u001b[32m34.0/34.0 MB\u001b[0m \u001b[31m41.3 MB/s\u001b[0m eta \u001b[36m0:00:00\u001b[0m\n",
            "\u001b[?25hInstalling collected packages: mysql-connector-python\n",
            "Successfully installed mysql-connector-python-9.2.0\n"
          ]
        }
      ]
    },
    {
      "cell_type": "code",
      "source": [
        "import mysql.connector\n",
        "\n",
        "connection = mysql.connector.connect(\n",
        "  host = \"gateway01.ap-southeast-1.prod.aws.tidbcloud.com\",\n",
        "  port = 4000,\n",
        "  user = \"4PFhDQQc2yhfCUH.root\",\n",
        "  password = \"tzNB9UAMnXNidi62\",\n",
        "  database = \"sampleTable\",\n",
        "\n",
        ")\n",
        "mycursor = connection.cursor(buffered=True)"
      ],
      "metadata": {
        "id": "Sx8u4ULihmT4"
      },
      "execution_count": 32,
      "outputs": []
    },
    {
      "cell_type": "code",
      "source": [
        "mycursor.execute(\"create database table1\")"
      ],
      "metadata": {
        "id": "DihV0QZ4ViOu"
      },
      "execution_count": 8,
      "outputs": []
    },
    {
      "cell_type": "code",
      "source": [
        "#creating db using for\n",
        "\n",
        "a=[\"guvi1\",\"guvi2\",\"guvi3\"]\n",
        "for i in a:\n",
        "  mycursor.execute(f\"create database {i}\")"
      ],
      "metadata": {
        "id": "TAnDxK4xZGRM"
      },
      "execution_count": 11,
      "outputs": []
    },
    {
      "cell_type": "code",
      "source": [
        "mycursor.execute(\"drop database guvi3\")"
      ],
      "metadata": {
        "id": "eR1XMrbVanI2"
      },
      "execution_count": 12,
      "outputs": []
    },
    {
      "cell_type": "code",
      "source": [
        "mycursor.execute(\"create table guvi1.table1(id int,name varchar(20),rollnum int)\")"
      ],
      "metadata": {
        "id": "IhbxEyggd8-e"
      },
      "execution_count": 16,
      "outputs": []
    },
    {
      "cell_type": "code",
      "source": [
        "mycursor.execute(\"use guvi1\")\n",
        "mycursor.execute(\"show tables\")\n",
        "for i in mycursor:#100% for to be used for printing any result that is retreving\n",
        "  print(\" \".join(i))"
      ],
      "metadata": {
        "colab": {
          "base_uri": "https://localhost:8080/"
        },
        "id": "h_UdXgzxfpij",
        "outputId": "298c0010-32e2-482b-f07d-6226082bbebf"
      },
      "execution_count": 24,
      "outputs": [
        {
          "output_type": "stream",
          "name": "stdout",
          "text": [
            "table1\n"
          ]
        }
      ]
    },
    {
      "cell_type": "code",
      "source": [
        "#insert in table\n",
        "mycursor.execute(\"insert into table1 values(1,'guvi',123)\")"
      ],
      "metadata": {
        "id": "tdoN0otHjQOg"
      },
      "execution_count": 25,
      "outputs": []
    },
    {
      "cell_type": "code",
      "source": [
        "mycursor.execute(\"select * from table1\")\n",
        "connection.commit()#saving when updated or inserted\n",
        "for i in mycursor:\n",
        "  print(i,end=\" \")"
      ],
      "metadata": {
        "colab": {
          "base_uri": "https://localhost:8080/"
        },
        "id": "8K5PkCJbjX5y",
        "outputId": "b3de5e3b-c3ac-4999-b996-133ec5ba0713"
      },
      "execution_count": 30,
      "outputs": [
        {
          "output_type": "stream",
          "name": "stdout",
          "text": [
            "(1, 'guvi', 123) "
          ]
        }
      ]
    },
    {
      "cell_type": "code",
      "source": [
        "a=int(input())\n",
        "b=input()\n",
        "c=int(input())\n",
        "mycursor.execute(f\"insert into guvi1.table1 values({a},'{b}',{c})\")\n",
        "connection.commit()"
      ],
      "metadata": {
        "colab": {
          "base_uri": "https://localhost:8080/"
        },
        "id": "A9845KB5lQ7g",
        "outputId": "e349ad96-dfdd-4099-cd57-e957ee85de6a"
      },
      "execution_count": 37,
      "outputs": [
        {
          "name": "stdout",
          "output_type": "stream",
          "text": [
            "2\n",
            "gowtham\n",
            "11\n"
          ]
        }
      ]
    },
    {
      "cell_type": "code",
      "source": [
        "mycursor.execute(\"describe guvi1.table1\")\n",
        "for i in mycursor:\n",
        "  print(i)\n",
        ""
      ],
      "metadata": {
        "colab": {
          "base_uri": "https://localhost:8080/"
        },
        "id": "JRwWgeM6nVaH",
        "outputId": "31e8b01d-8195-4175-e7ef-a9e4eb5102aa"
      },
      "execution_count": 38,
      "outputs": [
        {
          "output_type": "stream",
          "name": "stdout",
          "text": [
            "('id', 'int(11)', 'YES', '', None, '')\n",
            "('name', 'varchar(20)', 'YES', '', None, '')\n",
            "('rollnum', 'int(11)', 'YES', '', None, '')\n"
          ]
        }
      ]
    },
    {
      "cell_type": "code",
      "source": [
        "import mysql.connector\n",
        "from mysql.connector import Error\n",
        "\n",
        "\n",
        "try:\n",
        "   connection = mysql.connector.connect(\n",
        " host = \"gateway01.ap-southeast-1.prod.aws.tidbcloud.com\",\n",
        " port = 4000,\n",
        " user = \"3ohcuBrot\",\n",
        " password = \"aaVLfo\",\n",
        "   )\n",
        "\n",
        "\n",
        "   if connection.is_connected():\n",
        "       cursor = connection.cursor()\n",
        "       cursor.execute(\"SELECT * FROM Rahul\")\n",
        "\n",
        "\n",
        "\n",
        "\n",
        "except Error as e:\n",
        "   print(f\"Error: {e}\")\n",
        "\n",
        "\n",
        "finally:\n",
        "   if connection.is_connected():\n",
        "       cursor.close()\n",
        "       connection.close()\n",
        "       print(\"MySQL connection is closed\")\n"
      ],
      "metadata": {
        "id": "lBXNjmEQocyL"
      },
      "execution_count": null,
      "outputs": []
    }
  ]
}