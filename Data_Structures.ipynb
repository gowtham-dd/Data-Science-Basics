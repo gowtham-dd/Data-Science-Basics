{
  "nbformat": 4,
  "nbformat_minor": 0,
  "metadata": {
    "colab": {
      "provenance": [],
      "authorship_tag": "ABX9TyOOqY3zzc605tbaogVGc88D",
      "include_colab_link": true
    },
    "kernelspec": {
      "name": "python3",
      "display_name": "Python 3"
    },
    "language_info": {
      "name": "python"
    }
  },
  "cells": [
    {
      "cell_type": "markdown",
      "metadata": {
        "id": "view-in-github",
        "colab_type": "text"
      },
      "source": [
        "<a href=\"https://colab.research.google.com/github/gowtham-dd/Data-Science-Basics/blob/main/Data_Structures.ipynb\" target=\"_parent\"><img src=\"https://colab.research.google.com/assets/colab-badge.svg\" alt=\"Open In Colab\"/></a>"
      ]
    },
    {
      "cell_type": "code",
      "execution_count": null,
      "metadata": {
        "id": "a9caQQ2Rc-ED"
      },
      "outputs": [],
      "source": [
        "\n",
        "\n",
        "def binary_search(sorted_list, target):\n",
        "   low = 0\n",
        "   high = len(sorted_list) - 1\n",
        "\n",
        "\n",
        "   while low <= high:\n",
        "       mid = (low + high) // 2  # Integer division\n",
        "\n",
        "\n",
        "       if sorted_list[mid] == target:\n",
        "           return mid  # Target found at index mid\n",
        "       elif sorted_list[mid] < target:\n",
        "           low = mid + 1  # Search in the right half\n",
        "       else:\n",
        "           high = mid - 1  # Search in the left half\n",
        "\n",
        "\n",
        "   return -1  # Target not found\n",
        "\n",
        "\n",
        "\n",
        "\n",
        "# Example usage:\n",
        "my_list = [2, 5, 7, 8, 11, 12]\n",
        "target_value = 21\n",
        "\n",
        "\n",
        "result_index = binary_search(my_list, target_value)\n",
        "\n",
        "\n",
        "if result_index != -1:\n",
        "   print(f\"Target {target_value} found at index {result_index}\")\n",
        "else:\n",
        "   print(f\"Target {target_value} not found in the list\")\n"
      ]
    }
  ]
}