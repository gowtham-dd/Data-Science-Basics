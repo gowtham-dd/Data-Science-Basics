{
  "nbformat": 4,
  "nbformat_minor": 0,
  "metadata": {
    "colab": {
      "provenance": [],
      "toc_visible": true,
      "authorship_tag": "ABX9TyMdwnXn+LDQIdnnOkO8/pqY",
      "include_colab_link": true
    },
    "kernelspec": {
      "name": "python3",
      "display_name": "Python 3"
    },
    "language_info": {
      "name": "python"
    }
  },
  "cells": [
    {
      "cell_type": "markdown",
      "metadata": {
        "id": "view-in-github",
        "colab_type": "text"
      },
      "source": [
        "<a href=\"https://colab.research.google.com/github/gowtham-dd/Data-Science-Basics/blob/main/array.ipynb\" target=\"_parent\"><img src=\"https://colab.research.google.com/assets/colab-badge.svg\" alt=\"Open In Colab\"/></a>"
      ]
    },
    {
      "cell_type": "code",
      "execution_count": 1,
      "metadata": {
        "id": "wYIv0RPiEvih"
      },
      "outputs": [],
      "source": [
        "#arrays is a data structure\n",
        "#list data type"
      ]
    },
    {
      "cell_type": "code",
      "source": [
        "#list\n",
        "a=['aa','bb','cc',1,2,[22,33,44]]\n",
        "b=[\"aaaaa\",\"bbbb\",\"ccc\"]\n",
        "print(a)\n",
        "print(a[0])\n",
        "print(a[5])\n",
        "print(a[5][0])\n",
        "print(a[::-1])\n",
        "for i in[0,1,3]:\n",
        "  print(a[i])\n",
        "  if i==a[1]:\n",
        "    break"
      ],
      "metadata": {
        "colab": {
          "base_uri": "https://localhost:8080/"
        },
        "id": "RlMxJwF6Fu9f",
        "outputId": "5fae0723-5d05-4c87-dc83-8b135acdf709"
      },
      "execution_count": 12,
      "outputs": [
        {
          "output_type": "stream",
          "name": "stdout",
          "text": [
            "['aa', 'bb', 'cc', 1, 2, [22, 33, 44]]\n",
            "aa\n",
            "[22, 33, 44]\n",
            "22\n",
            "[[22, 33, 44], 2, 1, 'cc', 'bb', 'aa']\n",
            "aa\n",
            "bb\n",
            "1\n"
          ]
        }
      ]
    },
    {
      "cell_type": "code",
      "source": [
        "#operations\n",
        "\n",
        "lista=[1,2,3,4]\n",
        "listb=[5,6,7,8]\n",
        "#append\n",
        "lista.append(\"append is going\")\n",
        "print(lista)\n",
        "lista.append(listb)\n",
        "print(lista)\n",
        "# for i in range(5):\n",
        "#   lista.append(input())\n",
        "# print(lista)\n",
        "lista.extend([\"ex\",\"tem\",\"d\"])\n",
        "lista.append([\"app\",\"en\",\"d\"])\n",
        "print(lista)"
      ],
      "metadata": {
        "colab": {
          "base_uri": "https://localhost:8080/"
        },
        "id": "9-VmpEO4FMQl",
        "outputId": "724f3f7c-88f8-4362-c36a-9a370dca78fc"
      },
      "execution_count": 24,
      "outputs": [
        {
          "output_type": "stream",
          "name": "stdout",
          "text": [
            "[1, 2, 3, 4, 'append is going']\n",
            "[1, 2, 3, 4, 'append is going', [5, 6, 7, 8]]\n",
            "[1, 2, 3, 4, 'append is going', [5, 6, 7, 8], 'ex', 'tem', 'd', ['app', 'en', 'd']]\n"
          ]
        }
      ]
    },
    {
      "cell_type": "code",
      "source": [
        "## insert\n",
        "listb.insert(0,\"a\") # index ,  value\n",
        "listb.insert(2,\"b\")\n",
        "print(listb)\n",
        "\n",
        "listb.extend(\"hi\")\n",
        "print(listb)\n",
        "listb.extend([\"hi\"])\n",
        "print(listb)\n",
        "listb.pop(0)\n",
        "print(listb)\n",
        "print(9 in listb)\n",
        "print(listb.index('a'))"
      ],
      "metadata": {
        "colab": {
          "base_uri": "https://localhost:8080/"
        },
        "id": "n-DFOYXQKR4k",
        "outputId": "4fb41aff-3396-40b1-d292-3eef64c765f3"
      },
      "execution_count": 38,
      "outputs": [
        {
          "output_type": "stream",
          "name": "stdout",
          "text": [
            "['a', 'a', 'b', 'b', 'b', 'b', 'b', 'b', 'b', 'a', 'b', 'a', 'b', 'a', 'b', 'a', 'b', 'a', 'b', 'a', 'b', 5, 6, 7, 8, 'h', 'i', 'h', 'i', 'h', 'i', 'hi', 'h', 'i', 'hi', 'h', 'i', 'hi', 'h', 'i', 'hi', 'h', 'i', 'hi', 'h', 'i', 'hi', 'h', 'i', 'hi', 'h', 'i', 'hi']\n",
            "['a', 'a', 'b', 'b', 'b', 'b', 'b', 'b', 'b', 'a', 'b', 'a', 'b', 'a', 'b', 'a', 'b', 'a', 'b', 'a', 'b', 5, 6, 7, 8, 'h', 'i', 'h', 'i', 'h', 'i', 'hi', 'h', 'i', 'hi', 'h', 'i', 'hi', 'h', 'i', 'hi', 'h', 'i', 'hi', 'h', 'i', 'hi', 'h', 'i', 'hi', 'h', 'i', 'hi', 'h', 'i']\n",
            "['a', 'a', 'b', 'b', 'b', 'b', 'b', 'b', 'b', 'a', 'b', 'a', 'b', 'a', 'b', 'a', 'b', 'a', 'b', 'a', 'b', 5, 6, 7, 8, 'h', 'i', 'h', 'i', 'h', 'i', 'hi', 'h', 'i', 'hi', 'h', 'i', 'hi', 'h', 'i', 'hi', 'h', 'i', 'hi', 'h', 'i', 'hi', 'h', 'i', 'hi', 'h', 'i', 'hi', 'h', 'i', 'hi']\n",
            "['a', 'b', 'b', 'b', 'b', 'b', 'b', 'b', 'a', 'b', 'a', 'b', 'a', 'b', 'a', 'b', 'a', 'b', 'a', 'b', 5, 6, 7, 8, 'h', 'i', 'h', 'i', 'h', 'i', 'hi', 'h', 'i', 'hi', 'h', 'i', 'hi', 'h', 'i', 'hi', 'h', 'i', 'hi', 'h', 'i', 'hi', 'h', 'i', 'hi', 'h', 'i', 'hi', 'h', 'i', 'hi']\n",
            "False\n",
            "0\n"
          ]
        }
      ]
    },
    {
      "cell_type": "code",
      "source": [
        "A=[1,2,3,4,[5,6]]\n",
        "print(A.count(5))# return index\n",
        "print(A)"
      ],
      "metadata": {
        "colab": {
          "base_uri": "https://localhost:8080/"
        },
        "id": "oMdy8nSQRhns",
        "outputId": "4befacbe-2b5e-4ead-80d2-49e2f5091427"
      },
      "execution_count": 43,
      "outputs": [
        {
          "output_type": "stream",
          "name": "stdout",
          "text": [
            "0\n",
            "[1, 2, 3, 4, [5, 6]]\n"
          ]
        }
      ]
    },
    {
      "cell_type": "code",
      "source": [
        "#sort\n",
        "B=[23,51,1,3,76,10,7]\n",
        "B.sort()\n",
        "\n",
        "print(B)\n",
        "B.sort(reverse=True)\n",
        "print(B)\n",
        "C=[\"gauwwwwva\",\"appqwertyiole\",\"watermelon\"]#alphabet wise\n",
        "C.sort()\n",
        "print(C)\n",
        "D=sorted(C,key=len)#use fun name in further (len wise)\n",
        "print(D)\n",
        "D=sorted(C,key=len,reverse=True)#use fun name in further (len wise but reverse)\n",
        "print(D)\n",
        "print(D[::-1])#reverse the list"
      ],
      "metadata": {
        "colab": {
          "base_uri": "https://localhost:8080/"
        },
        "id": "vpAdQQr7SPJC",
        "outputId": "b470e5f2-2c12-4d31-dada-21b55d4ff63c"
      },
      "execution_count": 57,
      "outputs": [
        {
          "output_type": "stream",
          "name": "stdout",
          "text": [
            "[1, 3, 7, 10, 23, 51, 76]\n",
            "[76, 51, 23, 10, 7, 3, 1]\n",
            "['appqwertyiole', 'gauwwwwva', 'watermelon']\n",
            "['gauwwwwva', 'watermelon', 'appqwertyiole']\n",
            "['appqwertyiole', 'watermelon', 'gauwwwwva']\n",
            "['gauwwwwva', 'watermelon', 'appqwertyiole']\n"
          ]
        }
      ]
    },
    {
      "cell_type": "code",
      "source": [
        "AA=[\"im\",\"trying \",\"list\"]\n",
        "AA.sort()\n",
        "print(AA)\n",
        "print(AA[::-1])\n",
        "SA=sorted(AA,key=len)\n",
        "print(SA)\n",
        "SA=sorted(AA,key=len,reverse=True)\n",
        "print(SA)"
      ],
      "metadata": {
        "colab": {
          "base_uri": "https://localhost:8080/"
        },
        "id": "FJ6vqlcGWHLR",
        "outputId": "5849bedd-3526-4ef8-da58-b0406538a349"
      },
      "execution_count": 64,
      "outputs": [
        {
          "output_type": "stream",
          "name": "stdout",
          "text": [
            "['im', 'list', 'trying ']\n",
            "['trying ', 'list', 'im']\n",
            "['im', 'list', 'trying ']\n",
            "['trying ', 'list', 'im']\n"
          ]
        }
      ]
    },
    {
      "cell_type": "code",
      "source": [
        "#pop\n",
        "AA=[\"im\",\"trying \",\"list\",\"hi\",\"how\"]\n",
        "AA.remove(\"im\")#only string\n",
        "print(AA)\n",
        "AA.pop(1)#only index\n",
        "BB=AA.pop(2)\n",
        "print(AA)\n",
        "print(BB)"
      ],
      "metadata": {
        "colab": {
          "base_uri": "https://localhost:8080/"
        },
        "id": "EpZ_gaWkXb6o",
        "outputId": "53c6085d-7e88-4720-c75e-3bb015c05268"
      },
      "execution_count": 70,
      "outputs": [
        {
          "output_type": "stream",
          "name": "stdout",
          "text": [
            "['trying ', 'list', 'hi', 'how']\n",
            "['trying ', 'hi']\n",
            "how\n"
          ]
        }
      ]
    }
  ]
}