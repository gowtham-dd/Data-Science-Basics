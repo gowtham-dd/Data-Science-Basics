{
  "nbformat": 4,
  "nbformat_minor": 0,
  "metadata": {
    "colab": { 
      "provenance": [],
      "authorship_tag": "ABX9TyNfDvq7BkIkFGKsbP/wkDwT",
      "include_colab_link": true
    },
    "kernelspec": {
      "name": "python3",
      "display_name": "Python 3"
    },
    "language_info": {
      "name": "python"
    }
  },
  "cells": [
    {
      "cell_type": "markdown",
      "metadata": {
        "id": "view-in-github",
        "colab_type": "text"
      },
      "source": [
        "<a href=\"https://colab.research.google.com/github/gowtham-dd/Data-Science-Basics/blob/main/22_1_25.ipynb\" target=\"_parent\"><img src=\"https://colab.research.google.com/assets/colab-badge.svg\" alt=\"Open In Colab\"/></a>"
      ]
    },
    {
      "cell_type": "code",
      "execution_count": 3,
      "metadata": {
        "colab": {
          "base_uri": "https://localhost:8080/"
        },
        "id": "qLEQ0AxCL9oA",
        "outputId": "25f7e56e-8150-439c-dfeb-bf169bae46e5"
      },
      "outputs": [
        {
          "output_type": "stream",
          "name": "stdout",
          "text": [
            "Enter texthi\n",
            "else executed\n"
          ]
        }
      ],
      "source": [
        "#conditional Statement\n",
        "\n",
        "#if\n",
        "\n",
        "a=input(\"Enter text:\")\n",
        "if(a==\"hello\"):\n",
        "  print(\"if executed\")\n",
        "else:\n",
        "  print(\"else executed\")"
      ]
    },
    {
      "cell_type": "code",
      "source": [
        "a=input(\"Enter name:\")\n",
        "b=input(\"Enter age:\")\n",
        "\n",
        "if(a==\"gowtham\" and b==\"20\"):\n",
        "  print(a,b)\n",
        "elif(a==\"gowtham\" or b==\"10\"):\n",
        "  print(\"or executed\")\n",
        "else:\n",
        "  print(\"invalid\")"
      ],
      "metadata": {
        "colab": {
          "base_uri": "https://localhost:8080/"
        },
        "id": "d5iyA3WAPwbQ",
        "outputId": "999dc181-c67b-4dd8-a918-fd80c2b344b8"
      },
      "execution_count": 5,
      "outputs": [
        {
          "output_type": "stream",
          "name": "stdout",
          "text": [
            "Enter name:gowtham\n",
            "Enter age:202\n",
            "or executed\n"
          ]
        }
      ]
    },
    {
      "cell_type": "code",
      "source": [
        "a=int(input(\"Enter A:\"))\n",
        "b=int(input(\"Enter B:\"))\n",
        "if(a==5):\n",
        "  if(b==10):\n",
        "    print(\"case1\")\n",
        "    if(a==20):\n",
        "            print(\"case 2 executed\")\n",
        "    else:\n",
        "      print(a,b)\n",
        "  else:\n",
        "    print(\"case 2 failed\")\n",
        "else:\n",
        "  print(\"invalid\")\n"
      ],
      "metadata": {
        "colab": {
          "base_uri": "https://localhost:8080/"
        },
        "id": "HXFQd0H4SFRP",
        "outputId": "55e87687-3665-4f21-dafa-b70b7e6b3605"
      },
      "execution_count": 13,
      "outputs": [
        {
          "output_type": "stream",
          "name": "stdout",
          "text": [
            "Enter A:20\n",
            "Enter B:10\n",
            "invalid\n"
          ]
        }
      ]
    },
    {
      "cell_type": "code",
      "source": [
        "#ATM\n",
        "card=input(\"Enter 16 num:\")\n",
        "balance=10000\n",
        "if card==\"xxxx xxxx xxxx xxxx\":\n",
        "  print(\"card inserted\")\n",
        "\n",
        "  pin=int(input(\"Enter pin:\"))\n",
        "  if pin==1234 or pin == 4321:\n",
        "    print(\"success logged in\")\n",
        "    operation=input(\"Enter operation: W D \")\n",
        "\n",
        "\n",
        "    if operation==\"W\":\n",
        "      print(\"withdraw\")\n",
        "      amount=int(input(\"enter the cash:\"))\n",
        "      if amount<10000:\n",
        "        print(\"cash widrawed\")\n",
        "        print(\"balance:\",balance-amount)\n",
        "      else:\n",
        "        print(\"not efficeint balance\")\n",
        "    else:\n",
        "      print(\"w failed\")\n",
        "\n",
        "  else:\n",
        "    print(\"failed\")\n",
        "else:\n",
        "  print(\"not executed\")"
      ],
      "metadata": {
        "colab": {
          "base_uri": "https://localhost:8080/"
        },
        "id": "wcnqrS9vWEHY",
        "outputId": "5bbac23c-8c8a-433c-cd2c-100916e97a62"
      },
      "execution_count": 19,
      "outputs": [
        {
          "output_type": "stream",
          "name": "stdout",
          "text": [
            "Enter 16 num:xxxx xxxx xxxx xxxx\n",
            "card inserted\n",
            "Enter pin:1234\n",
            "success logged in\n",
            "Enter operation: W D W\n",
            "withdraw\n",
            "enter the cash:9009\n",
            "cash widrawed\n",
            "balance: 991\n"
          ]
        }
      ]
    }
  ]
}
