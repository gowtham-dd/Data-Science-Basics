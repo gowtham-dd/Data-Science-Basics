{
  "nbformat": 4,
  "nbformat_minor": 0,
  "metadata": {
    "colab": {
      "provenance": [],
      "authorship_tag": "ABX9TyPewmiZd728m3FKlvpEg6aT",
      "include_colab_link": true
    },
    "kernelspec": {
      "name": "python3",
      "display_name": "Python 3"
    },
    "language_info": {
      "name": "python"
    }
  },
  "cells": [
    {
      "cell_type": "markdown",
      "metadata": {
        "id": "view-in-github",
        "colab_type": "text"
      },
      "source": [
        "<a href=\"https://colab.research.google.com/github/gowtham-dd/Data-Science-Basics/blob/main/21_1_25.ipynb\" target=\"_parent\"><img src=\"https://colab.research.google.com/assets/colab-badge.svg\" alt=\"Open In Colab\"/></a>"
      ]
    },
    {
      "cell_type": "code",
      "execution_count": null,
      "metadata": {
        "id": "ZVDZrIAe_7JP"
      },
      "outputs": [],
      "source": []
    },
    {
      "cell_type": "code",
      "source": [
        "#input\n",
        "a=100 #variables\n",
        "b=200\n",
        "c=int(input(\"enter num\"))#int\n",
        "print(a+b)\n",
        "print(a+c)\n",
        "d=float(input(\"enter float num\")) #float\n",
        "print(d*2)"
      ],
      "metadata": {
        "colab": {
          "base_uri": "https://localhost:8080/"
        },
        "id": "ExotJPpw8KPU",
        "outputId": "84d91a88-16c4-461d-8b20-7282608cd2c0"
      },
      "execution_count": 6,
      "outputs": [
        {
          "output_type": "stream",
          "name": "stdout",
          "text": [
            "enter num24\n",
            "300\n",
            "124\n",
            "enter float num5.9\n",
            "11.8\n"
          ]
        }
      ]
    },
    {
      "cell_type": "code",
      "source": [
        "print(\"hello\")"
      ],
      "metadata": {
        "id": "mCevnx1PB4tP",
        "outputId": "5d09f5ea-371d-4426-f85f-2aa74614d81a",
        "colab": {
          "base_uri": "https://localhost:8080/"
        }
      },
      "execution_count": null,
      "outputs": [
        {
          "output_type": "stream",
          "name": "stdout",
          "text": [
            "hello\n"
          ]
        }
      ]
    },
    {
      "cell_type": "code",
      "source": [
        "a=int(input(\"Enter A\"))\n",
        "b=int(input(\"Enter B\"))\n",
        "print(a+b)#add\n",
        "print(a-b)#sub\n",
        "print(a*b)#mul\n",
        "print(a/b)#div\n",
        "print(a%b)#mod reminder\n",
        "print(a//b)#floor div ignore decimal\n",
        "print(a**b)#power"
      ],
      "metadata": {
        "colab": {
          "base_uri": "https://localhost:8080/"
        },
        "id": "S53MfvS1-bm6",
        "outputId": "baeeb6ff-6f16-4647-d516-f2cf0d353ea8"
      },
      "execution_count": 8,
      "outputs": [
        {
          "output_type": "stream",
          "name": "stdout",
          "text": [
            "Enter A5\n",
            "Enter B2\n",
            "7\n",
            "3\n",
            "10\n",
            "2.5\n",
            "1\n",
            "2\n",
            "25\n"
          ]
        }
      ]
    },
    {
      "cell_type": "code",
      "source": [
        "#BODMAS\n",
        "print(2+3-1/6*2**4)"
      ],
      "metadata": {
        "colab": {
          "base_uri": "https://localhost:8080/"
        },
        "id": "d0s54YFB_qn7",
        "outputId": "b258e347-59bd-4ecd-8552-d4edef8c4b46"
      },
      "execution_count": 12,
      "outputs": [
        {
          "output_type": "stream",
          "name": "stdout",
          "text": [
            "2.3333333333333335\n"
          ]
        }
      ]
    },
    {
      "cell_type": "code",
      "source": [
        "a=int(input(\"Enter A\"))\n",
        "b=int(input(\"Enter B\"))\n",
        "print(a>b)\n",
        "print(a<b)\n",
        "print(a==b)\n",
        "print(a>=b)\n",
        "print(a<=b)\n",
        "print(a!=b)"
      ],
      "metadata": {
        "colab": {
          "base_uri": "https://localhost:8080/"
        },
        "id": "AM2Va1zHM-XV",
        "outputId": "9e403bc9-bd4f-4529-d0fd-f2555f37dc73"
      },
      "execution_count": 13,
      "outputs": [
        {
          "output_type": "stream",
          "name": "stdout",
          "text": [
            "Enter A2\n",
            "Enter B3\n",
            "False\n",
            "True\n",
            "False\n",
            "False\n",
            "True\n",
            "True\n"
          ]
        }
      ]
    },
    {
      "cell_type": "code",
      "source": [
        "print(18<int(input(\"enter a num\"))<40)"
      ],
      "metadata": {
        "colab": {
          "base_uri": "https://localhost:8080/"
        },
        "id": "rqIxyO6CRXrQ",
        "outputId": "a8d48d7b-f12d-4f26-b505-a0496b86c931"
      },
      "execution_count": 14,
      "outputs": [
        {
          "output_type": "stream",
          "name": "stdout",
          "text": [
            "enter a num34\n",
            "True\n"
          ]
        }
      ]
    }
  ]
}