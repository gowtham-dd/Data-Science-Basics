{
  "nbformat": 4,
  "nbformat_minor": 0,
  "metadata": {
    "colab": {
      "provenance": [],
      "authorship_tag": "ABX9TyPEANsFh/Qciutl3vud9oN5",
      "include_colab_link": true
    },
    "kernelspec": {
      "name": "python3",
      "display_name": "Python 3"
    },
    "language_info": {
      "name": "python"
    }
  },
  "cells": [
    {
      "cell_type": "markdown",
      "metadata": {
        "id": "view-in-github",
        "colab_type": "text"
      },
      "source": [
        "<a href=\"https://colab.research.google.com/github/gowtham-dd/Data-Science-Basics/blob/main/SQLPythonn_Crash_Course.ipynb\" target=\"_parent\"><img src=\"https://colab.research.google.com/assets/colab-badge.svg\" alt=\"Open In Colab\"/></a>"
      ]
    },
    {
      "cell_type": "code",
      "execution_count": null,
      "metadata": {
        "id": "-tjP7eqBRDCw"
      },
      "outputs": [],
      "source": [
        "import mysql.connector\n",
        "\n",
        "connection = mysql.connector.connect(\n",
        "  host = \"gateway01.ap-southeast-1.prod.aws.tidbcloud.com\",\n",
        "  port = 4000,\n",
        "  user = \"4PFhDQQc2yhfCUH.root\",\n",
        "  password = \"tzNB9UAMnXNidi62\",\n",
        "  database = \"sampleTable\",\n",
        "\n",
        ")\n",
        "mycursor = connection.cursor(buffered=True)"
      ]
    },
    {
      "cell_type": "code",
      "source": [
        "!pip install mysql-connector-python"
      ],
      "metadata": {
        "colab": {
          "base_uri": "https://localhost:8080/"
        },
        "id": "LQYaJpPpSIOv",
        "outputId": "282ce1d7-63ee-4894-8c17-f43e1c9ccdc6"
      },
      "execution_count": null,
      "outputs": [
        {
          "output_type": "stream",
          "name": "stdout",
          "text": [
            "Collecting mysql-connector-python\n",
            "  Downloading mysql_connector_python-9.2.0-cp311-cp311-manylinux_2_28_x86_64.whl.metadata (6.0 kB)\n",
            "Downloading mysql_connector_python-9.2.0-cp311-cp311-manylinux_2_28_x86_64.whl (34.0 MB)\n",
            "\u001b[2K   \u001b[90m━━━━━━━━━━━━━━━━━━━━━━━━━━━━━━━━━━━━━━━━\u001b[0m \u001b[32m34.0/34.0 MB\u001b[0m \u001b[31m36.6 MB/s\u001b[0m eta \u001b[36m0:00:00\u001b[0m\n",
            "\u001b[?25hInstalling collected packages: mysql-connector-python\n",
            "Successfully installed mysql-connector-python-9.2.0\n"
          ]
        }
      ]
    },
    {
      "cell_type": "code",
      "source": [
        "## Calculate task duration in hours\n",
        "mycursor.execute(\"\"\"CREATE TABLE TABLE1.CRASHCOURSE(NAME varchar(50),ROLLNO int,CLASS int,ADDRESS varchar(50))\"\"\")\n",
        "out=mycursor.fetchall()#out is a variable tht fetch all details\n"
      ],
      "metadata": {
        "colab": {
          "base_uri": "https://localhost:8080/",
          "height": 321
        },
        "id": "Vg-7ZfKdSQyn",
        "outputId": "7b4d9bb8-3c91-4da5-e1de-76e22a2920dd"
      },
      "execution_count": null,
      "outputs": [
        {
          "output_type": "error",
          "ename": "ProgrammingError",
          "evalue": "1050 (42S01): Table 'table1.CRASHCOURSE' already exists",
          "traceback": [
            "\u001b[0;31m---------------------------------------------------------------------------\u001b[0m",
            "\u001b[0;31mProgrammingError\u001b[0m                          Traceback (most recent call last)",
            "\u001b[0;32m<ipython-input-6-d8c69c0404e5>\u001b[0m in \u001b[0;36m<cell line: 0>\u001b[0;34m()\u001b[0m\n\u001b[1;32m      1\u001b[0m \u001b[0;31m## Calculate task duration in hours\u001b[0m\u001b[0;34m\u001b[0m\u001b[0;34m\u001b[0m\u001b[0m\n\u001b[0;32m----> 2\u001b[0;31m \u001b[0mmycursor\u001b[0m\u001b[0;34m.\u001b[0m\u001b[0mexecute\u001b[0m\u001b[0;34m(\u001b[0m\u001b[0;34m\"\"\"CREATE TABLE TABLE1.CRASHCOURSE(NAME varchar(50),ROLLNO int,CLASS int,ADDRESS varchar(50))\"\"\"\u001b[0m\u001b[0;34m)\u001b[0m\u001b[0;34m\u001b[0m\u001b[0;34m\u001b[0m\u001b[0m\n\u001b[0m\u001b[1;32m      3\u001b[0m \u001b[0mout\u001b[0m\u001b[0;34m=\u001b[0m\u001b[0mmycursor\u001b[0m\u001b[0;34m.\u001b[0m\u001b[0mfetchall\u001b[0m\u001b[0;34m(\u001b[0m\u001b[0;34m)\u001b[0m\u001b[0;31m#out is a variable tht fetch all details\u001b[0m\u001b[0;34m\u001b[0m\u001b[0;34m\u001b[0m\u001b[0m\n",
            "\u001b[0;32m/usr/local/lib/python3.11/dist-packages/mysql/connector/cursor.py\u001b[0m in \u001b[0;36mexecute\u001b[0;34m(self, operation, params, map_results)\u001b[0m\n\u001b[1;32m    414\u001b[0m \u001b[0;34m\u001b[0m\u001b[0m\n\u001b[1;32m    415\u001b[0m         self._handle_result(\n\u001b[0;32m--> 416\u001b[0;31m             self._connection.cmd_query(\n\u001b[0m\u001b[1;32m    417\u001b[0m                 \u001b[0mself\u001b[0m\u001b[0;34m.\u001b[0m\u001b[0m_stmt_partition\u001b[0m\u001b[0;34m[\u001b[0m\u001b[0;34m\"mappable_stmt\"\u001b[0m\u001b[0;34m]\u001b[0m\u001b[0;34m,\u001b[0m\u001b[0;34m\u001b[0m\u001b[0;34m\u001b[0m\u001b[0m\n\u001b[1;32m    418\u001b[0m                 \u001b[0mread_timeout\u001b[0m\u001b[0;34m=\u001b[0m\u001b[0mself\u001b[0m\u001b[0;34m.\u001b[0m\u001b[0m_read_timeout\u001b[0m\u001b[0;34m,\u001b[0m\u001b[0;34m\u001b[0m\u001b[0;34m\u001b[0m\u001b[0m\n",
            "\u001b[0;32m/usr/local/lib/python3.11/dist-packages/mysql/connector/opentelemetry/context_propagation.py\u001b[0m in \u001b[0;36mwrapper\u001b[0;34m(cnx, *args, **kwargs)\u001b[0m\n\u001b[1;32m    104\u001b[0m \u001b[0;34m\u001b[0m\u001b[0m\n\u001b[1;32m    105\u001b[0m         \u001b[0;32mtry\u001b[0m\u001b[0;34m:\u001b[0m\u001b[0;34m\u001b[0m\u001b[0;34m\u001b[0m\u001b[0m\n\u001b[0;32m--> 106\u001b[0;31m             \u001b[0mresult\u001b[0m \u001b[0;34m=\u001b[0m \u001b[0mmethod\u001b[0m\u001b[0;34m(\u001b[0m\u001b[0mcnx\u001b[0m\u001b[0;34m,\u001b[0m \u001b[0;34m*\u001b[0m\u001b[0margs\u001b[0m\u001b[0;34m,\u001b[0m \u001b[0;34m**\u001b[0m\u001b[0mkwargs\u001b[0m\u001b[0;34m)\u001b[0m\u001b[0;34m\u001b[0m\u001b[0;34m\u001b[0m\u001b[0m\n\u001b[0m\u001b[1;32m    107\u001b[0m         \u001b[0;32mfinally\u001b[0m\u001b[0;34m:\u001b[0m\u001b[0;34m\u001b[0m\u001b[0;34m\u001b[0m\u001b[0m\n\u001b[1;32m    108\u001b[0m             \u001b[0;32mif\u001b[0m \u001b[0mtp_header\u001b[0m \u001b[0;32mis\u001b[0m \u001b[0;32mnot\u001b[0m \u001b[0;32mNone\u001b[0m\u001b[0;34m:\u001b[0m\u001b[0;34m\u001b[0m\u001b[0;34m\u001b[0m\u001b[0m\n",
            "\u001b[0;32m/usr/local/lib/python3.11/dist-packages/mysql/connector/utils.py\u001b[0m in \u001b[0;36mhandle_cnx_method\u001b[0;34m(cnx, *args, **kwargs)\u001b[0m\n\u001b[1;32m    740\u001b[0m                 \u001b[0;32mif\u001b[0m \u001b[0misinstance\u001b[0m\u001b[0;34m(\u001b[0m\u001b[0merr\u001b[0m\u001b[0;34m,\u001b[0m \u001b[0mTimeoutError\u001b[0m\u001b[0;34m)\u001b[0m\u001b[0;34m:\u001b[0m\u001b[0;34m\u001b[0m\u001b[0;34m\u001b[0m\u001b[0m\n\u001b[1;32m    741\u001b[0m                     \u001b[0mcnx\u001b[0m\u001b[0;34m.\u001b[0m\u001b[0mclose\u001b[0m\u001b[0;34m(\u001b[0m\u001b[0;34m)\u001b[0m\u001b[0;34m\u001b[0m\u001b[0;34m\u001b[0m\u001b[0m\n\u001b[0;32m--> 742\u001b[0;31m                 \u001b[0;32mraise\u001b[0m \u001b[0merr\u001b[0m\u001b[0;34m\u001b[0m\u001b[0;34m\u001b[0m\u001b[0m\n\u001b[0m\u001b[1;32m    743\u001b[0m \u001b[0;34m\u001b[0m\u001b[0m\n\u001b[1;32m    744\u001b[0m         \u001b[0;32mreturn\u001b[0m \u001b[0mhandle_cnx_method\u001b[0m\u001b[0;34m\u001b[0m\u001b[0;34m\u001b[0m\u001b[0m\n",
            "\u001b[0;32m/usr/local/lib/python3.11/dist-packages/mysql/connector/utils.py\u001b[0m in \u001b[0;36mhandle_cnx_method\u001b[0;34m(cnx, *args, **kwargs)\u001b[0m\n\u001b[1;32m    736\u001b[0m         ) -> Any:\n\u001b[1;32m    737\u001b[0m             \u001b[0;32mtry\u001b[0m\u001b[0;34m:\u001b[0m\u001b[0;34m\u001b[0m\u001b[0;34m\u001b[0m\u001b[0m\n\u001b[0;32m--> 738\u001b[0;31m                 \u001b[0;32mreturn\u001b[0m \u001b[0mcnx_method\u001b[0m\u001b[0;34m(\u001b[0m\u001b[0mcnx\u001b[0m\u001b[0;34m,\u001b[0m \u001b[0;34m*\u001b[0m\u001b[0margs\u001b[0m\u001b[0;34m,\u001b[0m \u001b[0;34m**\u001b[0m\u001b[0mkwargs\u001b[0m\u001b[0;34m)\u001b[0m\u001b[0;34m\u001b[0m\u001b[0;34m\u001b[0m\u001b[0m\n\u001b[0m\u001b[1;32m    739\u001b[0m             \u001b[0;32mexcept\u001b[0m \u001b[0mException\u001b[0m \u001b[0;32mas\u001b[0m \u001b[0merr\u001b[0m\u001b[0;34m:\u001b[0m\u001b[0;34m\u001b[0m\u001b[0;34m\u001b[0m\u001b[0m\n\u001b[1;32m    740\u001b[0m                 \u001b[0;32mif\u001b[0m \u001b[0misinstance\u001b[0m\u001b[0;34m(\u001b[0m\u001b[0merr\u001b[0m\u001b[0;34m,\u001b[0m \u001b[0mTimeoutError\u001b[0m\u001b[0;34m)\u001b[0m\u001b[0;34m:\u001b[0m\u001b[0;34m\u001b[0m\u001b[0;34m\u001b[0m\u001b[0m\n",
            "\u001b[0;32m/usr/local/lib/python3.11/dist-packages/mysql/connector/connection.py\u001b[0m in \u001b[0;36mcmd_query\u001b[0;34m(self, query, raw, buffered, raw_as_string, **kwargs)\u001b[0m\n\u001b[1;32m    935\u001b[0m             \u001b[0mwrite_timeout\u001b[0m \u001b[0;34m=\u001b[0m \u001b[0mkwargs\u001b[0m\u001b[0;34m.\u001b[0m\u001b[0mget\u001b[0m\u001b[0;34m(\u001b[0m\u001b[0;34m\"write_timeout\"\u001b[0m\u001b[0;34m,\u001b[0m \u001b[0;32mNone\u001b[0m\u001b[0;34m)\u001b[0m\u001b[0;34m\u001b[0m\u001b[0;34m\u001b[0m\u001b[0m\n\u001b[1;32m    936\u001b[0m \u001b[0;34m\u001b[0m\u001b[0m\n\u001b[0;32m--> 937\u001b[0;31m             result = self._handle_result(\n\u001b[0m\u001b[1;32m    938\u001b[0m                 self._send_cmd(\n\u001b[1;32m    939\u001b[0m                     \u001b[0mServerCmd\u001b[0m\u001b[0;34m.\u001b[0m\u001b[0mQUERY\u001b[0m\u001b[0;34m,\u001b[0m\u001b[0;34m\u001b[0m\u001b[0;34m\u001b[0m\u001b[0m\n",
            "\u001b[0;32m/usr/local/lib/python3.11/dist-packages/mysql/connector/utils.py\u001b[0m in \u001b[0;36mhandle_cnx_method\u001b[0;34m(cnx, *args, **kwargs)\u001b[0m\n\u001b[1;32m    740\u001b[0m                 \u001b[0;32mif\u001b[0m \u001b[0misinstance\u001b[0m\u001b[0;34m(\u001b[0m\u001b[0merr\u001b[0m\u001b[0;34m,\u001b[0m \u001b[0mTimeoutError\u001b[0m\u001b[0;34m)\u001b[0m\u001b[0;34m:\u001b[0m\u001b[0;34m\u001b[0m\u001b[0;34m\u001b[0m\u001b[0m\n\u001b[1;32m    741\u001b[0m                     \u001b[0mcnx\u001b[0m\u001b[0;34m.\u001b[0m\u001b[0mclose\u001b[0m\u001b[0;34m(\u001b[0m\u001b[0;34m)\u001b[0m\u001b[0;34m\u001b[0m\u001b[0;34m\u001b[0m\u001b[0m\n\u001b[0;32m--> 742\u001b[0;31m                 \u001b[0;32mraise\u001b[0m \u001b[0merr\u001b[0m\u001b[0;34m\u001b[0m\u001b[0;34m\u001b[0m\u001b[0m\n\u001b[0m\u001b[1;32m    743\u001b[0m \u001b[0;34m\u001b[0m\u001b[0m\n\u001b[1;32m    744\u001b[0m         \u001b[0;32mreturn\u001b[0m \u001b[0mhandle_cnx_method\u001b[0m\u001b[0;34m\u001b[0m\u001b[0;34m\u001b[0m\u001b[0m\n",
            "\u001b[0;32m/usr/local/lib/python3.11/dist-packages/mysql/connector/utils.py\u001b[0m in \u001b[0;36mhandle_cnx_method\u001b[0;34m(cnx, *args, **kwargs)\u001b[0m\n\u001b[1;32m    736\u001b[0m         ) -> Any:\n\u001b[1;32m    737\u001b[0m             \u001b[0;32mtry\u001b[0m\u001b[0;34m:\u001b[0m\u001b[0;34m\u001b[0m\u001b[0;34m\u001b[0m\u001b[0m\n\u001b[0;32m--> 738\u001b[0;31m                 \u001b[0;32mreturn\u001b[0m \u001b[0mcnx_method\u001b[0m\u001b[0;34m(\u001b[0m\u001b[0mcnx\u001b[0m\u001b[0;34m,\u001b[0m \u001b[0;34m*\u001b[0m\u001b[0margs\u001b[0m\u001b[0;34m,\u001b[0m \u001b[0;34m**\u001b[0m\u001b[0mkwargs\u001b[0m\u001b[0;34m)\u001b[0m\u001b[0;34m\u001b[0m\u001b[0;34m\u001b[0m\u001b[0m\n\u001b[0m\u001b[1;32m    739\u001b[0m             \u001b[0;32mexcept\u001b[0m \u001b[0mException\u001b[0m \u001b[0;32mas\u001b[0m \u001b[0merr\u001b[0m\u001b[0;34m:\u001b[0m\u001b[0;34m\u001b[0m\u001b[0;34m\u001b[0m\u001b[0m\n\u001b[1;32m    740\u001b[0m                 \u001b[0;32mif\u001b[0m \u001b[0misinstance\u001b[0m\u001b[0;34m(\u001b[0m\u001b[0merr\u001b[0m\u001b[0;34m,\u001b[0m \u001b[0mTimeoutError\u001b[0m\u001b[0;34m)\u001b[0m\u001b[0;34m:\u001b[0m\u001b[0;34m\u001b[0m\u001b[0;34m\u001b[0m\u001b[0m\n",
            "\u001b[0;32m/usr/local/lib/python3.11/dist-packages/mysql/connector/connection.py\u001b[0m in \u001b[0;36m_handle_result\u001b[0;34m(self, packet, read_timeout, write_timeout)\u001b[0m\n\u001b[1;32m    701\u001b[0m             \u001b[0;32mreturn\u001b[0m \u001b[0mself\u001b[0m\u001b[0;34m.\u001b[0m\u001b[0m_handle_eof\u001b[0m\u001b[0;34m(\u001b[0m\u001b[0mpacket\u001b[0m\u001b[0;34m)\u001b[0m\u001b[0;34m\u001b[0m\u001b[0;34m\u001b[0m\u001b[0m\n\u001b[1;32m    702\u001b[0m         \u001b[0;32mif\u001b[0m \u001b[0mpacket\u001b[0m\u001b[0;34m[\u001b[0m\u001b[0;36m4\u001b[0m\u001b[0;34m]\u001b[0m \u001b[0;34m==\u001b[0m \u001b[0;36m255\u001b[0m\u001b[0;34m:\u001b[0m\u001b[0;34m\u001b[0m\u001b[0;34m\u001b[0m\u001b[0m\n\u001b[0;32m--> 703\u001b[0;31m             \u001b[0;32mraise\u001b[0m \u001b[0mget_exception\u001b[0m\u001b[0;34m(\u001b[0m\u001b[0mpacket\u001b[0m\u001b[0;34m)\u001b[0m\u001b[0;34m\u001b[0m\u001b[0;34m\u001b[0m\u001b[0m\n\u001b[0m\u001b[1;32m    704\u001b[0m \u001b[0;34m\u001b[0m\u001b[0m\n\u001b[1;32m    705\u001b[0m         \u001b[0;31m# We have a text result set\u001b[0m\u001b[0;34m\u001b[0m\u001b[0;34m\u001b[0m\u001b[0m\n",
            "\u001b[0;31mProgrammingError\u001b[0m: 1050 (42S01): Table 'table1.CRASHCOURSE' already exists"
          ]
        }
      ]
    },
    {
      "cell_type": "code",
      "source": [
        "mycursor.execute(\"ALTER TABLE TABLE1.CRASHCOURSE ADD COLUMN MARKS int\")"
      ],
      "metadata": {
        "id": "eOOvbCw2YIw6"
      },
      "execution_count": null,
      "outputs": []
    },
    {
      "cell_type": "code",
      "source": [
        "mycursor.execute(\"\"\"UPDATE TABLE1.CRASHCOURSE\n",
        "SET MARKS = CASE\n",
        "    WHEN ROLLNO = 1 THEN 10\n",
        "    WHEN ROLLNO = 2 THEN 20\n",
        "    WHEN ROLLNO = 3 THEN 30\n",
        "    WHEN ROLLNO = 4 THEN 40\n",
        "    WHEN ROLLNO = 5 THEN 50\n",
        "    WHEN ROLLNO = 6 THEN 60\n",
        "    WHEN ROLLNO = 7 THEN 70\n",
        "    WHEN ROLLNO = 8 THEN 80\n",
        "    WHEN ROLLNO = 9 THEN 90\n",
        "END;\"\"\")"
      ],
      "metadata": {
        "id": "j2OQUNsGawfl"
      },
      "execution_count": null,
      "outputs": []
    },
    {
      "cell_type": "code",
      "source": [
        "mycursor.execute(\"\"\"INSERT INTO TABLE1.CRASHCOURSE (NAME, ROLLNO, CLASS, ADDRESS) VALUES\n",
        "('Gowtham', 1, '12', 'Street 1, City'),\n",
        "('Meera', 2, '12', 'Street 2, City'),\n",
        "('Karthik', 3, '11', 'Street 3, City'),\n",
        "('Swathi', 4, '11', 'Street 4, City'),\n",
        "('Ravi', 5, '10', 'Street 5, City'),\n",
        "('Priya', 6, '10', 'Street 6, City'),\n",
        "('Surya', 7, '9', 'Street 7, City'),\n",
        "('Aarthi', 8, '9', 'Street 8, City');\n",
        "\"\"\")"
      ],
      "metadata": {
        "id": "tFB1aXdJUGsc"
      },
      "execution_count": null,
      "outputs": []
    },
    {
      "cell_type": "code",
      "source": [
        "connection.commit()"
      ],
      "metadata": {
        "id": "DAq2k9euWfhM"
      },
      "execution_count": null,
      "outputs": []
    },
    {
      "cell_type": "code",
      "source": [
        "mycursor.execute(\"\"\"DELETE FROM TABLE1.CRASHCOURSE WHERE ADDRESS = 'xxx'\n",
        "\"\"\")"
      ],
      "metadata": {
        "id": "CZd0_twuWymu"
      },
      "execution_count": null,
      "outputs": []
    },
    {
      "cell_type": "code",
      "source": [
        "mycursor.execute(\"SELECT * FROM TABLE1.CRASHCOURSE\")\n",
        "out=mycursor.fetchall()#out is a variable tht fetch all details\n",
        "from tabulate import tabulate\n",
        "print(tabulate(out,headers=[i[0] for i in mycursor.description],  tablefmt='psql'))"
      ],
      "metadata": {
        "colab": {
          "base_uri": "https://localhost:8080/"
        },
        "id": "FdrGhy57cuhi",
        "outputId": "8bbbde74-b1a6-4628-c612-8847577abaf6"
      },
      "execution_count": null,
      "outputs": [
        {
          "output_type": "stream",
          "name": "stdout",
          "text": [
            "+---------+----------+---------+----------------+---------+\n",
            "| NAME    |   ROLLNO |   CLASS | ADDRESS        |   MARKS |\n",
            "|---------+----------+---------+----------------+---------|\n",
            "| GOWTHAM |        1 |      12 | XXX            |      10 |\n",
            "| Gowtham |        1 |      12 | Street 1, City |      10 |\n",
            "| Meera   |        2 |      12 | Street 2, City |      20 |\n",
            "| Karthik |        3 |      11 | Street 3, City |      30 |\n",
            "| Swathi  |        4 |      11 | Street 4, City |      40 |\n",
            "| Ravi    |        5 |      10 | Street 5, City |      50 |\n",
            "| Priya   |        6 |      10 | Street 6, City |      60 |\n",
            "| Surya   |        7 |       9 | Street 7, City |      70 |\n",
            "| Aarthi  |        8 |       9 | Street 8, City |      80 |\n",
            "| Gowtham |        1 |      12 | Street 1, City |      10 |\n",
            "| Meera   |        2 |      12 | Street 2, City |      20 |\n",
            "| Karthik |        3 |      11 | Street 3, City |      30 |\n",
            "| Swathi  |        4 |      11 | Street 4, City |      40 |\n",
            "| Ravi    |        5 |      10 | Street 5, City |      50 |\n",
            "| Priya   |        6 |      10 | Street 6, City |      60 |\n",
            "| Surya   |        7 |       9 | Street 7, City |      70 |\n",
            "| Aarthi  |        8 |       9 | Street 8, City |      80 |\n",
            "+---------+----------+---------+----------------+---------+\n"
          ]
        }
      ]
    },
    {
      "cell_type": "markdown",
      "source": [
        "SELECT"
      ],
      "metadata": {
        "id": "lNy6F-DseAyE"
      }
    },
    {
      "cell_type": "code",
      "source": [
        "mycursor.execute(\"SELECT NAME FROM TABLE1.CRASHCOURSE \")\n",
        "out=mycursor.fetchall()#out is a variable tht fetch all details\n",
        "from tabulate import tabulate\n",
        "print(tabulate(out,headers=[i[0] for i in mycursor.description],  tablefmt='psql'))"
      ],
      "metadata": {
        "colab": {
          "base_uri": "https://localhost:8080/"
        },
        "id": "WNXZvS1cdu9e",
        "outputId": "d7d646ce-4942-4f89-b1b4-ba7ffbe48fe2"
      },
      "execution_count": null,
      "outputs": [
        {
          "output_type": "stream",
          "name": "stdout",
          "text": [
            "+---------+\n",
            "| NAME    |\n",
            "|---------|\n",
            "| GOWTHAM |\n",
            "| Gowtham |\n",
            "| Meera   |\n",
            "| Karthik |\n",
            "| Swathi  |\n",
            "| Ravi    |\n",
            "| Priya   |\n",
            "| Surya   |\n",
            "| Aarthi  |\n",
            "| Gowtham |\n",
            "| Meera   |\n",
            "| Karthik |\n",
            "| Swathi  |\n",
            "| Ravi    |\n",
            "| Priya   |\n",
            "| Surya   |\n",
            "| Aarthi  |\n",
            "+---------+\n"
          ]
        }
      ]
    },
    {
      "cell_type": "code",
      "source": [
        "\n",
        "mycursor.execute(\"SELECT NAME FROM TABLE1.CRASHCOURSE WHERE ROLLNO=1\")\n",
        "out=mycursor.fetchall()#out is a variable tht fetch all details\n",
        "from tabulate import tabulate\n",
        "print(tabulate(out,headers=[i[0] for i in mycursor.description],  tablefmt='psql'))"
      ],
      "metadata": {
        "colab": {
          "base_uri": "https://localhost:8080/"
        },
        "id": "VVbj9UfYeDHZ",
        "outputId": "420a08fb-eb2f-42f3-a8fe-4fa630c128bb"
      },
      "execution_count": null,
      "outputs": [
        {
          "output_type": "stream",
          "name": "stdout",
          "text": [
            "+---------+\n",
            "| NAME    |\n",
            "|---------|\n",
            "| GOWTHAM |\n",
            "| Gowtham |\n",
            "| Gowtham |\n",
            "+---------+\n"
          ]
        }
      ]
    },
    {
      "cell_type": "markdown",
      "source": [
        "OPERATORS"
      ],
      "metadata": {
        "id": "9vmINxyGe_jE"
      }
    },
    {
      "cell_type": "code",
      "source": [
        "mycursor.execute(\"SELECT MARKS,(MARKS*10) FROM TABLE1.CRASHCOURSE \")\n",
        "out=mycursor.fetchall()#out is a variable tht fetch all details\n",
        "from tabulate import tabulate\n",
        "print(tabulate(out,headers=[i[0] for i in mycursor.description],  tablefmt='psql'))"
      ],
      "metadata": {
        "colab": {
          "base_uri": "https://localhost:8080/"
        },
        "id": "tPmeu6dleydX",
        "outputId": "94c472e5-6327-4954-8086-31b250ed4d2e"
      },
      "execution_count": null,
      "outputs": [
        {
          "output_type": "stream",
          "name": "stdout",
          "text": [
            "+---------+--------------+\n",
            "|   MARKS |   (MARKS*10) |\n",
            "|---------+--------------|\n",
            "|      10 |          100 |\n",
            "|      10 |          100 |\n",
            "|      20 |          200 |\n",
            "|      30 |          300 |\n",
            "|      40 |          400 |\n",
            "|      50 |          500 |\n",
            "|      60 |          600 |\n",
            "|      70 |          700 |\n",
            "|      80 |          800 |\n",
            "|      10 |          100 |\n",
            "|      20 |          200 |\n",
            "|      30 |          300 |\n",
            "|      40 |          400 |\n",
            "|      50 |          500 |\n",
            "|      60 |          600 |\n",
            "|      70 |          700 |\n",
            "|      80 |          800 |\n",
            "+---------+--------------+\n"
          ]
        }
      ]
    },
    {
      "cell_type": "code",
      "source": [
        "mycursor.execute(\"SELECT MARKS,(MARKS*10) AS UPDATEDMARKS FROM TABLE1.CRASHCOURSE \")\n",
        "out=mycursor.fetchall()#out is a variable tht fetch all details\n",
        "from tabulate import tabulate\n",
        "print(tabulate(out,headers=[i[0] for i in mycursor.description],  tablefmt='psql'))"
      ],
      "metadata": {
        "colab": {
          "base_uri": "https://localhost:8080/"
        },
        "id": "WKBchAHTfF6g",
        "outputId": "7438f11d-6deb-48b8-8ff5-86c11981a997"
      },
      "execution_count": null,
      "outputs": [
        {
          "output_type": "stream",
          "name": "stdout",
          "text": [
            "+---------+----------------+\n",
            "|   MARKS |   UPDATEDMARKS |\n",
            "|---------+----------------|\n",
            "|      10 |            100 |\n",
            "|      10 |            100 |\n",
            "|      20 |            200 |\n",
            "|      30 |            300 |\n",
            "|      40 |            400 |\n",
            "|      50 |            500 |\n",
            "|      60 |            600 |\n",
            "|      70 |            700 |\n",
            "|      80 |            800 |\n",
            "|      10 |            100 |\n",
            "|      20 |            200 |\n",
            "|      30 |            300 |\n",
            "|      40 |            400 |\n",
            "|      50 |            500 |\n",
            "|      60 |            600 |\n",
            "|      70 |            700 |\n",
            "|      80 |            800 |\n",
            "+---------+----------------+\n"
          ]
        }
      ]
    },
    {
      "cell_type": "code",
      "source": [
        "mycursor.execute(\"SELECT DISTINCT NAME  FROM TABLE1.CRASHCOURSE \")\n",
        "out=mycursor.fetchall()#out is a variable tht fetch all details\n",
        "from tabulate import tabulate\n",
        "print(tabulate(out,headers=[i[0] for i in mycursor.description],  tablefmt='psql'))"
      ],
      "metadata": {
        "colab": {
          "base_uri": "https://localhost:8080/"
        },
        "id": "WTCDSyccfaHo",
        "outputId": "174bf739-55ac-4dc4-f3e2-0ac9bfa55882"
      },
      "execution_count": null,
      "outputs": [
        {
          "output_type": "stream",
          "name": "stdout",
          "text": [
            "+---------+\n",
            "| NAME    |\n",
            "|---------|\n",
            "| Priya   |\n",
            "| Swathi  |\n",
            "| Ravi    |\n",
            "| Aarthi  |\n",
            "| Gowtham |\n",
            "| GOWTHAM |\n",
            "| Surya   |\n",
            "| Meera   |\n",
            "| Karthik |\n",
            "+---------+\n"
          ]
        }
      ]
    },
    {
      "cell_type": "code",
      "source": [
        "mycursor.execute(\"SELECT NAME,MARKS,(MARKS*10) AS TOTAL  FROM TABLE1.CRASHCOURSE \")\n",
        "out=mycursor.fetchall()#out is a variable tht fetch all details\n",
        "from tabulate import tabulate\n",
        "print(tabulate(out,headers=[i[0] for i in mycursor.description],  tablefmt='psql'))\n",
        "connection.commit()"
      ],
      "metadata": {
        "colab": {
          "base_uri": "https://localhost:8080/"
        },
        "id": "ebAsizkdkWQk",
        "outputId": "5f371f53-0a6f-47f3-8a03-2740891aacdd"
      },
      "execution_count": null,
      "outputs": [
        {
          "output_type": "stream",
          "name": "stdout",
          "text": [
            "+---------+---------+---------+\n",
            "| NAME    |   MARKS |   TOTAL |\n",
            "|---------+---------+---------|\n",
            "| GOWTHAM |      10 |     100 |\n",
            "| Gowtham |      10 |     100 |\n",
            "| Meera   |      20 |     200 |\n",
            "| Karthik |      30 |     300 |\n",
            "| Swathi  |      40 |     400 |\n",
            "| Ravi    |      50 |     500 |\n",
            "| Priya   |      60 |     600 |\n",
            "| Surya   |      70 |     700 |\n",
            "| Aarthi  |      80 |     800 |\n",
            "+---------+---------+---------+\n"
          ]
        }
      ]
    },
    {
      "cell_type": "markdown",
      "source": [
        "WHERE"
      ],
      "metadata": {
        "id": "uApzzeC7lbEQ"
      }
    },
    {
      "cell_type": "code",
      "source": [
        "mycursor.execute(\"SELECT *FROM TABLE1.CRASHCOURSE WHERE NAME='GOWTHAM'\")\n",
        "mycursor.execute(\"SELECT *FROM TABLE1.CRASHCOURSE WHERE MARKS>=10\")\n",
        "\n",
        "out=mycursor.fetchall()#out is a variable tht fetch all details\n",
        "from tabulate import tabulate\n",
        "print(tabulate(out,headers=[i[0] for i in mycursor.description],  tablefmt='psql'))\n",
        "connection.commit()"
      ],
      "metadata": {
        "colab": {
          "base_uri": "https://localhost:8080/"
        },
        "id": "e1xNcnxilvsY",
        "outputId": "064cc167-dc45-4694-e4ab-2d61d69f81a8"
      },
      "execution_count": null,
      "outputs": [
        {
          "output_type": "stream",
          "name": "stdout",
          "text": [
            "+---------+----------+---------+----------------+---------+\n",
            "| NAME    |   ROLLNO |   CLASS | ADDRESS        |   MARKS |\n",
            "|---------+----------+---------+----------------+---------|\n",
            "| GOWTHAM |        1 |      12 | XXX            |      10 |\n",
            "| Gowtham |        1 |      12 | Street 1, City |      10 |\n",
            "| Meera   |        2 |      12 | Street 2, City |      20 |\n",
            "| Karthik |        3 |      11 | Street 3, City |      30 |\n",
            "| Swathi  |        4 |      11 | Street 4, City |      40 |\n",
            "| Ravi    |        5 |      10 | Street 5, City |      50 |\n",
            "| Priya   |        6 |      10 | Street 6, City |      60 |\n",
            "| Surya   |        7 |       9 | Street 7, City |      70 |\n",
            "| Aarthi  |        8 |       9 | Street 8, City |      80 |\n",
            "+---------+----------+---------+----------------+---------+\n"
          ]
        }
      ]
    },
    {
      "cell_type": "code",
      "source": [
        "mycursor.execute(\"SELECT *FROM TABLE1.CRASHCOURSE WHERE MARKS=10\")\n",
        "\n",
        "out=mycursor.fetchall()#out is a variable tht fetch all details\n",
        "from tabulate import tabulate\n",
        "print(tabulate(out,headers=[i[0] for i in mycursor.description],  tablefmt='psql'))\n",
        "connection.commit()"
      ],
      "metadata": {
        "colab": {
          "base_uri": "https://localhost:8080/"
        },
        "id": "VeHK4LZpmCY3",
        "outputId": "370ce760-4c5e-4bfb-d3c9-407f0ae2fb53"
      },
      "execution_count": null,
      "outputs": [
        {
          "output_type": "stream",
          "name": "stdout",
          "text": [
            "+---------+----------+---------+----------------+---------+\n",
            "| NAME    |   ROLLNO |   CLASS | ADDRESS        |   MARKS |\n",
            "|---------+----------+---------+----------------+---------|\n",
            "| GOWTHAM |        1 |      12 | XXX            |      10 |\n",
            "| Gowtham |        1 |      12 | Street 1, City |      10 |\n",
            "+---------+----------+---------+----------------+---------+\n"
          ]
        }
      ]
    },
    {
      "cell_type": "code",
      "source": [
        "mycursor.execute(\"DESCRIBE TABLE1.CRASHCOURSE\")\n",
        "\n",
        "out=mycursor.fetchall()#out is a variable tht fetch all details\n",
        "from tabulate import tabulate\n",
        "print(tabulate(out,headers=[i[0] for i in mycursor.description],  tablefmt='psql'))\n",
        "connection.commit()"
      ],
      "metadata": {
        "colab": {
          "base_uri": "https://localhost:8080/"
        },
        "id": "xgOelYfdqOBD",
        "outputId": "4bbe11ca-2466-44f1-af75-fe467ffdf69d"
      },
      "execution_count": null,
      "outputs": [
        {
          "output_type": "stream",
          "name": "stdout",
          "text": [
            "+---------+-------------+--------+-------+-----------+---------+\n",
            "| Field   | Type        | Null   | Key   | Default   | Extra   |\n",
            "|---------+-------------+--------+-------+-----------+---------|\n",
            "| NAME    | varchar(50) | YES    |       |           |         |\n",
            "| ROLLNO  | int(11)     | YES    |       |           |         |\n",
            "| CLASS   | int(11)     | YES    |       |           |         |\n",
            "| ADDRESS | varchar(50) | YES    |       |           |         |\n",
            "| MARKS   | int(11)     | YES    |       |           |         |\n",
            "+---------+-------------+--------+-------+-----------+---------+\n"
          ]
        }
      ]
    },
    {
      "cell_type": "code",
      "source": [
        "mycursor.execute(\"SELECT COUNT(NAME) FROM TABLE1.CRASHCOURSE\")\n",
        "\n",
        "out=mycursor.fetchall()#out is a variable tht fetch all details\n",
        "from tabulate import tabulate\n",
        "print(tabulate(out,headers=[i[0] for i in mycursor.description],  tablefmt='psql'))\n",
        "connection.commit()"
      ],
      "metadata": {
        "colab": {
          "base_uri": "https://localhost:8080/"
        },
        "id": "dAOU_9ymqmKw",
        "outputId": "d153af3b-5596-4cd1-8657-5d73ec235ee1"
      },
      "execution_count": null,
      "outputs": [
        {
          "output_type": "stream",
          "name": "stdout",
          "text": [
            "+---------------+\n",
            "|   COUNT(NAME) |\n",
            "|---------------|\n",
            "|             9 |\n",
            "+---------------+\n"
          ]
        }
      ]
    },
    {
      "cell_type": "code",
      "source": [
        "mycursor.execute(\"SELECT SUM(MARKS) AS SUMS FROM TABLE1.CRASHCOURSE\")\n",
        "\n",
        "out=mycursor.fetchall()#out is a variable tht fetch all details\n",
        "from tabulate import tabulate\n",
        "print(tabulate(out,headers=[i[0] for i in mycursor.description],  tablefmt='psql'))\n",
        "connection.commit()"
      ],
      "metadata": {
        "colab": {
          "base_uri": "https://localhost:8080/"
        },
        "id": "uFG-r3BnrUxI",
        "outputId": "ca058fe9-5ba4-4c75-c518-e9e075c64946"
      },
      "execution_count": null,
      "outputs": [
        {
          "output_type": "stream",
          "name": "stdout",
          "text": [
            "+--------+\n",
            "|   SUMS |\n",
            "|--------|\n",
            "|    370 |\n",
            "+--------+\n"
          ]
        }
      ]
    },
    {
      "cell_type": "code",
      "source": [
        "mycursor.execute(\"SELECT *FROM TABLE1.CRASHCOURSE WHERE MARKS=10 or MARKS=20\")\n",
        "\n",
        "out=mycursor.fetchall()#out is a variable tht fetch all details\n",
        "from tabulate import tabulate\n",
        "print(tabulate(out,headers=[i[0] for i in mycursor.description],  tablefmt='psql'))\n",
        "connection.commit()"
      ],
      "metadata": {
        "colab": {
          "base_uri": "https://localhost:8080/"
        },
        "id": "yi85fgzSr6_4",
        "outputId": "c7ec16e5-04a7-4327-f69d-00ffbe83f8da"
      },
      "execution_count": null,
      "outputs": [
        {
          "output_type": "stream",
          "name": "stdout",
          "text": [
            "+---------+----------+---------+----------------+---------+\n",
            "| NAME    |   ROLLNO |   CLASS | ADDRESS        |   MARKS |\n",
            "|---------+----------+---------+----------------+---------|\n",
            "| GOWTHAM |        1 |      12 | XXX            |      10 |\n",
            "| Gowtham |        1 |      12 | Street 1, City |      10 |\n",
            "| Meera   |        2 |      12 | Street 2, City |      20 |\n",
            "+---------+----------+---------+----------------+---------+\n"
          ]
        }
      ]
    },
    {
      "cell_type": "code",
      "source": [
        "mycursor.execute(\"SELECT *FROM TABLE1.CRASHCOURSE WHERE MARKS=10 or NAME='GOWTHAM'\")\n",
        "\n",
        "out=mycursor.fetchall()#out is a variable tht fetch all details\n",
        "from tabulate import tabulate\n",
        "print(tabulate(out,headers=[i[0] for i in mycursor.description],  tablefmt='psql'))\n",
        "connection.commit()"
      ],
      "metadata": {
        "colab": {
          "base_uri": "https://localhost:8080/"
        },
        "id": "PB2UaYRFsBdJ",
        "outputId": "19e2f240-2fd7-4007-8ae5-e4c23c2d54f5"
      },
      "execution_count": null,
      "outputs": [
        {
          "output_type": "stream",
          "name": "stdout",
          "text": [
            "+---------+----------+---------+----------------+---------+\n",
            "| NAME    |   ROLLNO |   CLASS | ADDRESS        |   MARKS |\n",
            "|---------+----------+---------+----------------+---------|\n",
            "| GOWTHAM |        1 |      12 | XXX            |      10 |\n",
            "| Gowtham |        1 |      12 | Street 1, City |      10 |\n",
            "+---------+----------+---------+----------------+---------+\n"
          ]
        }
      ]
    },
    {
      "cell_type": "code",
      "source": [
        "mycursor.execute(\"SELECT *FROM TABLE1.CRASHCOURSE WHERE MARKS BETWEEN 10 and 50\")\n",
        "\n",
        "out=mycursor.fetchall()#out is a variable tht fetch all details\n",
        "from tabulate import tabulate\n",
        "print(tabulate(out,headers=[i[0] for i in mycursor.description],  tablefmt='psql'))\n",
        "connection.commit()"
      ],
      "metadata": {
        "colab": {
          "base_uri": "https://localhost:8080/"
        },
        "id": "yKefUad6sVWH",
        "outputId": "ab65f322-547d-4af0-ed3f-ce161cf5b240"
      },
      "execution_count": null,
      "outputs": [
        {
          "output_type": "stream",
          "name": "stdout",
          "text": [
            "+---------+----------+---------+----------------+---------+\n",
            "| NAME    |   ROLLNO |   CLASS | ADDRESS        |   MARKS |\n",
            "|---------+----------+---------+----------------+---------|\n",
            "| GOWTHAM |        1 |      12 | XXX            |      10 |\n",
            "| Gowtham |        1 |      12 | Street 1, City |      10 |\n",
            "| Meera   |        2 |      12 | Street 2, City |      20 |\n",
            "| Karthik |        3 |      11 | Street 3, City |      30 |\n",
            "| Swathi  |        4 |      11 | Street 4, City |      40 |\n",
            "| Ravi    |        5 |      10 | Street 5, City |      50 |\n",
            "+---------+----------+---------+----------------+---------+\n"
          ]
        }
      ]
    },
    {
      "cell_type": "markdown",
      "source": [
        "GROUP BY ADD FUNC MUST"
      ],
      "metadata": {
        "id": "DWMSg8zCt6ee"
      }
    },
    {
      "cell_type": "code",
      "source": [
        "mycursor.execute(\"SELECT  AVG(MARKS),CLASS,(AVG(MARKS*10)) AS TOTAL FROM TABLE1.CRASHCOURSE GROUP BY CLASS \")\n",
        "mycursor.execute(\"SELECT * FROM TABLE1.CRASHCOURSE ORDER BY ROLLNO DESC\")\n",
        "\n",
        "out=mycursor.fetchall()#out is a variable tht fetch all details\n",
        "from tabulate import tabulate\n",
        "print(tabulate(out,headers=[i[0] for i in mycursor.description],  tablefmt='psql'))\n",
        "connection.commit()"
      ],
      "metadata": {
        "colab": {
          "base_uri": "https://localhost:8080/"
        },
        "id": "sLbNgEHQsgGD",
        "outputId": "7a78ba01-cefa-4718-bd8d-6df63ed7216e"
      },
      "execution_count": null,
      "outputs": [
        {
          "output_type": "stream",
          "name": "stdout",
          "text": [
            "+---------+----------+---------+----------------+---------+\n",
            "| NAME    |   ROLLNO |   CLASS | ADDRESS        |   MARKS |\n",
            "|---------+----------+---------+----------------+---------|\n",
            "| Aarthi  |        8 |       9 | Street 8, City |      80 |\n",
            "| Surya   |        7 |       9 | Street 7, City |      70 |\n",
            "| Priya   |        6 |      10 | Street 6, City |      60 |\n",
            "| Ravi    |        5 |      10 | Street 5, City |      50 |\n",
            "| Swathi  |        4 |      11 | Street 4, City |      40 |\n",
            "| Karthik |        3 |      11 | Street 3, City |      30 |\n",
            "| Meera   |        2 |      12 | Street 2, City |      20 |\n",
            "| GOWTHAM |        1 |      12 | XXX            |      10 |\n",
            "| Gowtham |        1 |      12 | Street 1, City |      10 |\n",
            "+---------+----------+---------+----------------+---------+\n"
          ]
        }
      ]
    },
    {
      "cell_type": "markdown",
      "source": [
        "Here’s a **comprehensive list** of SQL functions with **examples**:\n",
        "\n",
        "---\n",
        "\n",
        "## **1. Aggregate Functions**\n",
        "These functions perform calculations on multiple rows and return a single result.\n",
        "\n",
        "| **Function** | **Description** | **Example** |\n",
        "|-------------|----------------|-------------|\n",
        "| `COUNT()` | Counts the number of rows | `SELECT COUNT(*) FROM students;` |\n",
        "| `SUM()` | Returns the sum of a column | `SELECT SUM(marks) FROM students;` |\n",
        "| `AVG()` | Returns the average value | `SELECT AVG(marks) FROM students;` |\n",
        "| `MIN()` | Returns the minimum value | `SELECT MIN(marks) FROM students;` |\n",
        "| `MAX()` | Returns the maximum value | `SELECT MAX(marks) FROM students;` |\n",
        "| `GROUP_CONCAT()` | Concatenates values in a group | `SELECT GROUP_CONCAT(name) FROM students GROUP BY class;` |\n",
        "\n",
        "---\n",
        "\n",
        "## **2. String Functions**\n",
        "These functions manipulate string values.\n",
        "\n",
        "| **Function** | **Description** | **Example** |\n",
        "|-------------|----------------|-------------|\n",
        "| `CONCAT()` | Combines strings | `SELECT CONCAT(first_name, ' ', last_name) FROM employees;` |\n",
        "| `SUBSTRING()` | Extracts part of a string | `SELECT SUBSTRING('Database', 1, 4); -- Data` |\n",
        "| `LENGTH()` | Returns string length | `SELECT LENGTH('SQL'); -- 3` |\n",
        "| `UPPER()` | Converts to uppercase | `SELECT UPPER('hello'); -- HELLO` |\n",
        "| `LOWER()` | Converts to lowercase | `SELECT LOWER('HELLO'); -- hello` |\n",
        "| `REVERSE()` | Reverses a string | `SELECT REVERSE('SQL'); -- LQS` |\n",
        "| `REPLACE()` | Replaces substring | `SELECT REPLACE('hello world', 'world', 'SQL'); -- hello SQL` |\n",
        "| `TRIM()` | Removes spaces from both sides | `SELECT TRIM('   SQL   '); -- SQL` |\n",
        "| `LTRIM()` | Removes spaces from left | `SELECT LTRIM('   SQL'); -- SQL` |\n",
        "| `RTRIM()` | Removes spaces from right | `SELECT RTRIM('SQL   '); -- SQL` |\n",
        "| `REPEAT()` | Repeats a string | `SELECT REPEAT('SQL', 3); -- SQLSQLSQL` |\n",
        "\n",
        "---\n",
        "\n",
        "## **3. Date & Time Functions**\n",
        "These functions work with date/time values.\n",
        "\n",
        "| **Function** | **Description** | **Example** |\n",
        "|-------------|----------------|-------------|\n",
        "| `NOW()` | Returns current timestamp | `SELECT NOW();` |\n",
        "| `CURDATE()` | Returns current date | `SELECT CURDATE();` |\n",
        "| `CURTIME()` | Returns current time | `SELECT CURTIME();` |\n",
        "| `YEAR()` | Extracts year from date | `SELECT YEAR('2024-02-25'); -- 2024` |\n",
        "| `MONTH()` | Extracts month from date | `SELECT MONTH('2024-02-25'); -- 2` |\n",
        "| `DAY()` | Extracts day from date | `SELECT DAY('2024-02-25'); -- 25` |\n",
        "| `DATE_ADD()` | Adds interval to date | `SELECT DATE_ADD('2024-02-25', INTERVAL 10 DAY);` |\n",
        "| `DATE_SUB()` | Subtracts interval from date | `SELECT DATE_SUB('2024-02-25', INTERVAL 1 MONTH);` |\n",
        "| `DATEDIFF()` | Difference between two dates | `SELECT DATEDIFF('2024-12-31', '2024-02-25');` |\n",
        "\n",
        "---\n",
        "\n",
        "## **4. Mathematical Functions**\n",
        "Perform mathematical calculations.\n",
        "\n",
        "| **Function** | **Description** | **Example** |\n",
        "|-------------|----------------|-------------|\n",
        "| `ABS()` | Absolute value | `SELECT ABS(-10); -- 10` |\n",
        "| `ROUND()` | Rounds a number | `SELECT ROUND(3.567, 2); -- 3.57` |\n",
        "| `CEIL()` | Rounds up | `SELECT CEIL(3.1); -- 4` |\n",
        "| `FLOOR()` | Rounds down | `SELECT FLOOR(3.9); -- 3` |\n",
        "| `MOD()` | Remainder of division | `SELECT MOD(10, 3); -- 1` |\n",
        "| `SQRT()` | Square root | `SELECT SQRT(16); -- 4` |\n",
        "| `POWER()` | Exponential power | `SELECT POWER(2, 3); -- 8` |\n",
        "| `RAND()` | Generates a random number | `SELECT RAND();` |\n",
        "\n",
        "---\n",
        "\n",
        "## **5. Conditional Functions**\n",
        "Used for decision-making in queries.\n",
        "\n",
        "| **Function** | **Description** | **Example** |\n",
        "|-------------|----------------|-------------|\n",
        "| `IF()` | Returns value based on condition | `SELECT IF(10>5, 'Yes', 'No'); -- Yes` |\n",
        "| `IFNULL()` | Returns alternative value if NULL | `SELECT IFNULL(NULL, 'Default'); -- Default` |\n",
        "| `CASE` | Executes conditional logic | ```SELECT CASE WHEN marks >= 50 THEN 'Pass' ELSE 'Fail' END FROM students;``` |\n",
        "\n",
        "---\n",
        "\n",
        "## **6. JSON Functions** (MySQL 5.7+)\n",
        "For handling JSON data.\n",
        "\n",
        "| **Function** | **Description** | **Example** |\n",
        "|-------------|----------------|-------------|\n",
        "| `JSON_EXTRACT()` | Extracts JSON values | `SELECT JSON_EXTRACT('{\"name\": \"Alice\"}', '$.name'); -- Alice` |\n",
        "| `JSON_OBJECT()` | Creates JSON object | `SELECT JSON_OBJECT('name', 'Alice', 'age', 25);` |\n",
        "| `JSON_ARRAY()` | Creates JSON array | `SELECT JSON_ARRAY(1, 2, 3);` |\n",
        "\n",
        "---\n",
        "\n",
        "## **7. Window (Analytic) Functions**\n",
        "Used for ranking and running totals.\n",
        "\n",
        "| **Function** | **Description** | **Example** |\n",
        "|-------------|----------------|-------------|\n",
        "| `ROW_NUMBER()` | Assigns unique row number | `SELECT name, ROW_NUMBER() OVER(ORDER BY marks) FROM students;` |\n",
        "| `RANK()` | Assigns rank, skipping ties | `SELECT name, RANK() OVER(ORDER BY marks DESC) FROM students;` |\n",
        "| `DENSE_RANK()` | Assigns rank without skipping | `SELECT name, DENSE_RANK() OVER(ORDER BY marks DESC) FROM students;` |\n",
        "| `NTILE(n)` | Divides rows into `n` buckets | `SELECT name, NTILE(3) OVER(ORDER BY marks) FROM students;` |\n",
        "\n",
        "---\n",
        "\n",
        "## **8. Encryption Functions**\n",
        "Used for encrypting/decrypting data.\n",
        "\n",
        "| **Function** | **Description** | **Example** |\n",
        "|-------------|----------------|-------------|\n",
        "| `MD5()` | Returns MD5 hash | `SELECT MD5('password');` |\n",
        "| `SHA1()` | Returns SHA1 hash | `SELECT SHA1('password');` |\n",
        "| `AES_ENCRYPT()` | Encrypts with AES | `SELECT AES_ENCRYPT('data', 'key');` |\n",
        "| `AES_DECRYPT()` | Decrypts AES data | `SELECT AES_DECRYPT(encrypted_data, 'key');` |\n",
        "\n",
        "---\n",
        "\n",
        "## **9. Other Useful Functions**\n",
        "Miscellaneous functions.\n",
        "\n",
        "| **Function** | **Description** | **Example** |\n",
        "|-------------|----------------|-------------|\n",
        "| `UUID()` | Generates unique ID | `SELECT UUID();` |\n",
        "| `COALESCE()` | Returns first non-null value | `SELECT COALESCE(NULL, NULL, 'Value'); -- Value` |\n",
        "| `FORMAT()` | Formats a number | `SELECT FORMAT(12345.678, 2); -- 12,345.68` |\n",
        "\n",
        "---\n",
        "\n"
      ],
      "metadata": {
        "id": "eiZIU59_x3D1"
      }
    },
    {
      "cell_type": "code",
      "source": [
        "mycursor.execute(\"SELECT  AVG(MARKS),CLASS,(AVG(MARKS*10)) AS TOTAL FROM TABLE1.CRASHCOURSE GROUP BY CLASS \")\n",
        "\n",
        "out=mycursor.fetchall()#out is a variable tht fetch all details\n",
        "from tabulate import tabulate\n",
        "print(tabulate(out,headers=[i[0] for i in mycursor.description],  tablefmt='psql'))\n",
        "connection.commit()"
      ],
      "metadata": {
        "id": "TgVBY7ISyE6E",
        "colab": {
          "base_uri": "https://localhost:8080/"
        },
        "outputId": "e914faba-9a00-47ea-d692-e8e270166422"
      },
      "execution_count": null,
      "outputs": [
        {
          "output_type": "stream",
          "name": "stdout",
          "text": [
            "+--------------+---------+---------+\n",
            "|   AVG(MARKS) |   CLASS |   TOTAL |\n",
            "|--------------+---------+---------|\n",
            "|      13.3333 |      12 | 133.333 |\n",
            "|      75      |       9 | 750     |\n",
            "|      35      |      11 | 350     |\n",
            "|      55      |      10 | 550     |\n",
            "+--------------+---------+---------+\n"
          ]
        }
      ]
    },
    {
      "cell_type": "code",
      "source": [
        "mycursor.execute(\"SELECT CLASS,(AVG(MARKS*10)) AS TOTAL FROM TABLE1.CRASHCOURSE GROUP BY CLASS ORDER BY CLASS  \")\n",
        "\n",
        "out=mycursor.fetchall()#out is a variable tht fetch all details\n",
        "from tabulate import tabulate\n",
        "print(tabulate(out,headers=[i[0] for i in mycursor.description],  tablefmt='psql'))\n",
        "connection.commit()"
      ],
      "metadata": {
        "colab": {
          "base_uri": "https://localhost:8080/"
        },
        "id": "5ONLGhykcWwH",
        "outputId": "c8365f20-d047-4973-f4bd-172cd9f05dbe"
      },
      "execution_count": null,
      "outputs": [
        {
          "output_type": "stream",
          "name": "stdout",
          "text": [
            "+---------+---------+\n",
            "|   CLASS |   TOTAL |\n",
            "|---------+---------|\n",
            "|       9 | 750     |\n",
            "|      10 | 550     |\n",
            "|      11 | 350     |\n",
            "|      12 | 133.333 |\n",
            "+---------+---------+\n"
          ]
        }
      ]
    },
    {
      "cell_type": "code",
      "source": [
        "mycursor.execute(\"SELECT  CLASS,SUM(MARKS*10) FROM TABLE1.CRASHCOURSE GROUP BY CLASS HAVING SUM(MARKS*10)>500  \")\n",
        "\n",
        "out=mycursor.fetchall()#out is a variable tht fetch all details\n",
        "from tabulate import tabulate\n",
        "print(tabulate(out,headers=[i[0] for i in mycursor.description],  tablefmt='psql'))\n",
        "connection.commit()"
      ],
      "metadata": {
        "colab": {
          "base_uri": "https://localhost:8080/"
        },
        "id": "sgozXsJPdmJ6",
        "outputId": "80f2864a-ff51-4f20-c349-da5991f004b4"
      },
      "execution_count": null,
      "outputs": [
        {
          "output_type": "stream",
          "name": "stdout",
          "text": [
            "+---------+-----------------+\n",
            "|   CLASS |   SUM(MARKS*10) |\n",
            "|---------+-----------------|\n",
            "|       9 |            1500 |\n",
            "|      11 |             700 |\n",
            "|      10 |            1100 |\n",
            "+---------+-----------------+\n"
          ]
        }
      ]
    },
    {
      "cell_type": "markdown",
      "source": [
        "JOINS\n"
      ],
      "metadata": {
        "id": "UNXqmp3YjgM2"
      }
    },
    {
      "cell_type": "code",
      "source": [
        "#inner join means common in A & B\n",
        "mycursor.execute(\"INSERT INTO TABLE1.CRICKET(name) VALUES('aa'),('bb'),('cc'),('dd')\"),\n",
        "\n"
      ],
      "metadata": {
        "id": "js72ZvZvjiPm",
        "colab": {
          "base_uri": "https://localhost:8080/"
        },
        "outputId": "ffd5bee4-842a-4de9-e67d-03f67acd8054"
      },
      "execution_count": null,
      "outputs": [
        {
          "output_type": "execute_result",
          "data": {
            "text/plain": [
              "(None,)"
            ]
          },
          "metadata": {},
          "execution_count": 13
        }
      ]
    },
    {
      "cell_type": "code",
      "source": [
        "mycursor.execute(\"SELECT * FROM TABLE1.CRICKET\"),\n",
        "out=mycursor.fetchall()#out is a variable tht fetch all details\n",
        "from tabulate import tabulate\n",
        "print(tabulate(out,headers=[i[0] for i in mycursor.description],  tablefmt='psql'))\n",
        "connection.commit()"
      ],
      "metadata": {
        "colab": {
          "base_uri": "https://localhost:8080/"
        },
        "id": "pOdzg2W89ck4",
        "outputId": "941d8d08-c207-4dff-d487-41560b9a6d26"
      },
      "execution_count": null,
      "outputs": [
        {
          "output_type": "stream",
          "name": "stdout",
          "text": [
            "+------+--------+\n",
            "|   id | name   |\n",
            "|------+--------|\n",
            "|    1 | aa     |\n",
            "|    2 | bb     |\n",
            "|    3 | cc     |\n",
            "|    4 | dd     |\n",
            "+------+--------+\n"
          ]
        }
      ]
    },
    {
      "cell_type": "code",
      "source": [
        "mycursor.execute(\"SELECT * FROM TABLE1.FOOTBALL\"),\n",
        "out=mycursor.fetchall()#out is a variable tht fetch all details\n",
        "from tabulate import tabulate\n",
        "print(tabulate(out,headers=[i[0] for i in mycursor.description],  tablefmt='psql'))\n",
        "connection.commit()"
      ],
      "metadata": {
        "colab": {
          "base_uri": "https://localhost:8080/"
        },
        "id": "RWiIqAGY94Ta",
        "outputId": "c19cc9e3-e1df-4806-d711-520f3e233b2f"
      },
      "execution_count": null,
      "outputs": [
        {
          "output_type": "stream",
          "name": "stdout",
          "text": [
            "+---------------+--------+\n",
            "|   Football_id | name   |\n",
            "|---------------+--------|\n",
            "|             1 | aaa    |\n",
            "|             2 | bbb    |\n",
            "|             3 | ccc    |\n",
            "|             4 | ddd    |\n",
            "+---------------+--------+\n"
          ]
        }
      ]
    },
    {
      "cell_type": "code",
      "source": [
        "#inner join means common in A & B\n",
        "mycursor.execute(\"INSERT INTO TABLE1.FOOTBALL(name) VALUES('aaa'),('bbb'),('ccc'),('ddd')\"),\n",
        "\n"
      ],
      "metadata": {
        "colab": {
          "base_uri": "https://localhost:8080/"
        },
        "id": "l-3C3R3Y9esP",
        "outputId": "6f0645d3-5cc7-43d5-c23d-aff167803d60"
      },
      "execution_count": null,
      "outputs": [
        {
          "output_type": "execute_result",
          "data": {
            "text/plain": [
              "(None,)"
            ]
          },
          "metadata": {},
          "execution_count": 16
        }
      ]
    },
    {
      "cell_type": "code",
      "source": [
        "#join\n",
        "mycursor.execute(\"Select * from TABLE1.CRICKET as c inner join TABLE1.FOOTBALL as f on c.id=f.football_id \")\n",
        "out=mycursor.fetchall()#out is a variable tht fetch all details\n",
        "from tabulate import tabulate\n",
        "print(tabulate(out,headers=[i[0] for i in mycursor.description],  tablefmt='psql'))\n",
        "connection.commit()"
      ],
      "metadata": {
        "colab": {
          "base_uri": "https://localhost:8080/"
        },
        "id": "LNUuEdX298_J",
        "outputId": "d39ebe6a-0e2e-4164-be38-fefa856d7995"
      },
      "execution_count": null,
      "outputs": [
        {
          "output_type": "stream",
          "name": "stdout",
          "text": [
            "+------+--------+---------------+--------+\n",
            "|   id | name   |   Football_id | name   |\n",
            "|------+--------+---------------+--------|\n",
            "|    1 | aa     |             1 | aaa    |\n",
            "|    2 | bb     |             2 | bbb    |\n",
            "|    3 | cc     |             3 | ccc    |\n",
            "|    4 | dd     |             4 | ddd    |\n",
            "+------+--------+---------------+--------+\n"
          ]
        }
      ]
    },
    {
      "cell_type": "code",
      "source": [
        "#join\n",
        "mycursor.execute(\"Select * from TABLE1.CRICKET as c left join TABLE1.FOOTBALL as f on c.id=f.football_id where f.name='aaa'\")\n",
        "out=mycursor.fetchall()#out is a variable tht fetch all details\n",
        "from tabulate import tabulate\n",
        "print(tabulate(out,headers=[i[0] for i in mycursor.description],  tablefmt='psql'))\n",
        "connection.commit()"
      ],
      "metadata": {
        "colab": {
          "base_uri": "https://localhost:8080/"
        },
        "id": "rFL3_geICAZO",
        "outputId": "9c1d954b-8935-4be5-b7b8-08766d28659c"
      },
      "execution_count": null,
      "outputs": [
        {
          "output_type": "stream",
          "name": "stdout",
          "text": [
            "+------+--------+---------------+--------+\n",
            "|   id | name   |   Football_id | name   |\n",
            "|------+--------+---------------+--------|\n",
            "|    1 | aa     |             1 | aaa    |\n",
            "+------+--------+---------------+--------+\n"
          ]
        }
      ]
    },
    {
      "cell_type": "code",
      "source": [
        "#left join gives the elements from left table\n",
        "mycursor.execute(\"Select c.id ,c.name,f.FOOTBALL_id,f.name from TABLE1.CRICKET as c left join TABLE1.FOOTBALL as f on c.id=f.football_id \")\n",
        "out=mycursor.fetchall()#out is a variable tht fetch all details\n",
        "from tabulate import tabulate\n",
        "print(tabulate(out,headers=[i[0] for i in mycursor.description],  tablefmt='psql'))\n",
        "connection.commit()"
      ],
      "metadata": {
        "colab": {
          "base_uri": "https://localhost:8080/"
        },
        "id": "Bop5kyh9GRaC",
        "outputId": "ca25f19f-e27b-4d49-8c45-b4037b0b513c"
      },
      "execution_count": null,
      "outputs": [
        {
          "output_type": "stream",
          "name": "stdout",
          "text": [
            "+------+--------+---------------+--------+\n",
            "|   id | name   |   FOOTBALL_id | name   |\n",
            "|------+--------+---------------+--------|\n",
            "|    1 | aa     |             1 | aaa    |\n",
            "|    2 | bb     |             2 | bbb    |\n",
            "|    3 | cc     |             3 | ccc    |\n",
            "|    4 | dd     |             4 | ddd    |\n",
            "+------+--------+---------------+--------+\n"
          ]
        }
      ]
    },
    {
      "cell_type": "code",
      "source": [
        "#rightjoin\n",
        "mycursor.execute(\"Select * from TABLE1.CRICKET as c right join TABLE1.FOOTBALL as f on c.id=f.football_id \")\n",
        "out=mycursor.fetchall()#out is a variable tht fetch all details\n",
        "from tabulate import tabulate\n",
        "print(tabulate(out,headers=[i[0] for i in mycursor.description],  tablefmt='psql'))\n",
        "connection.commit()"
      ],
      "metadata": {
        "colab": {
          "base_uri": "https://localhost:8080/"
        },
        "id": "ttxkD4cBGyrF",
        "outputId": "c4796f84-3dcd-45f2-eba2-2106cef0cc17"
      },
      "execution_count": null,
      "outputs": [
        {
          "output_type": "stream",
          "name": "stdout",
          "text": [
            "+------+--------+---------------+--------+\n",
            "|   id | name   |   Football_id | name   |\n",
            "|------+--------+---------------+--------|\n",
            "|    1 | aa     |             1 | aaa    |\n",
            "|    2 | bb     |             2 | bbb    |\n",
            "|    3 | cc     |             3 | ccc    |\n",
            "|    4 | dd     |             4 | ddd    |\n",
            "+------+--------+---------------+--------+\n"
          ]
        }
      ]
    },
    {
      "cell_type": "code",
      "source": [
        "#self joins joins itself\n",
        "mycursor.execute(\"Select * from TABLE1.CRICKET as c right join TABLE1.FOOTBALL as f on c.id=f.football_id \")\n",
        "out=mycursor.fetchall()#out is a variable tht fetch all details\n",
        "from tabulate import tabulate\n",
        "print(tabulate(out,headers=[i[0] for i in mycursor.description],  tablefmt='psql'))\n",
        "connection.commit()"
      ],
      "metadata": {
        "id": "d5QdblMkHZci"
      },
      "execution_count": null,
      "outputs": []
    },
    {
      "cell_type": "code",
      "source": [
        "#self joins joins itself\n",
        "mycursor.execute(\"Select * from TABLE1.CRICKET as c left join TABLE1.FOOTBALL as f on c.id=f.football_id UNION Select * from TABLE1.CRICKET as c right join TABLE1.FOOTBALL as f on c.id=f.football_id \")\n",
        "out=mycursor.fetchall()#out is a variable tht fetch all details\n",
        "from tabulate import tabulate\n",
        "print(tabulate(out,headers=[i[0] for i in mycursor.description],  tablefmt='psql'))\n",
        "connection.commit()"
      ],
      "metadata": {
        "colab": {
          "base_uri": "https://localhost:8080/"
        },
        "id": "vr4C6SNvIiwA",
        "outputId": "b91cf6ab-2563-45b1-9d68-fc5b0abeb5d4"
      },
      "execution_count": null,
      "outputs": [
        {
          "output_type": "stream",
          "name": "stdout",
          "text": [
            "+------+--------+---------------+--------+\n",
            "|   id | name   |   Football_id | name   |\n",
            "|------+--------+---------------+--------|\n",
            "|    1 | aa     |             1 | aaa    |\n",
            "|    3 | cc     |             3 | ccc    |\n",
            "|    2 | bb     |             2 | bbb    |\n",
            "|    4 | dd     |             4 | ddd    |\n",
            "+------+--------+---------------+--------+\n"
          ]
        }
      ]
    },
    {
      "cell_type": "code",
      "source": [
        "#self joins joins itself\n",
        "mycursor.execute(\"SELECT NAME from TABLE1.CRASHCOURSE where MARKS=(select max(MARKS) from TABLE1.CRASHCOURSE)\")\n",
        "out=mycursor.fetchall()#out is a variable tht fetch all details\n",
        "from tabulate import tabulate\n",
        "print(tabulate(out,headers=[i[0] for i in mycursor.description],  tablefmt='psql'))\n",
        "connection.commit()"
      ],
      "metadata": {
        "colab": {
          "base_uri": "https://localhost:8080/"
        },
        "id": "YSIW5BtllOb_",
        "outputId": "1dc74502-87ee-48f8-e5a6-dcb5b47d6921"
      },
      "execution_count": null,
      "outputs": [
        {
          "output_type": "stream",
          "name": "stdout",
          "text": [
            "+--------+\n",
            "| NAME   |\n",
            "|--------|\n",
            "| Aarthi |\n",
            "+--------+\n"
          ]
        }
      ]
    },
    {
      "cell_type": "code",
      "source": [
        "#self joins joins itself\n",
        "mycursor.execute(\"SELECT NAME,CLASS,MARKS from TABLE1.CRASHCOURSE where MARKS=(select max(MARKS) from TABLE1.CRASHCOURSE)\")\n",
        "out=mycursor.fetchall()#out is a variable tht fetch all details\n",
        "from tabulate import tabulate\n",
        "print(tabulate(out,headers=[i[0] for i in mycursor.description],  tablefmt='psql'))\n",
        "connection.commit()"
      ],
      "metadata": {
        "colab": {
          "base_uri": "https://localhost:8080/"
        },
        "id": "EVFKJgGPnGat",
        "outputId": "328cc6d4-de27-4bec-8f4c-af5e790804f6"
      },
      "execution_count": null,
      "outputs": [
        {
          "output_type": "stream",
          "name": "stdout",
          "text": [
            "+--------+---------+---------+\n",
            "| NAME   |   CLASS |   MARKS |\n",
            "|--------+---------+---------|\n",
            "| Aarthi |       9 |      80 |\n",
            "+--------+---------+---------+\n"
          ]
        }
      ]
    },
    {
      "cell_type": "markdown",
      "source": [
        "### **Subquery in SQL**  \n",
        "A **subquery** in SQL is a query nested inside another query, typically used to retrieve data that will be used in the main query. It is enclosed within parentheses and can be placed in various clauses like `SELECT`, `FROM`, or `WHERE`. A subquery is executed first, and its result is used by the outer query. Subqueries can be used to filter, compare, or compute values dynamically.\n",
        "\n",
        "### **Types of Subqueries in SQL**  \n",
        "\n",
        "1. **Single-Row Subquery**  \n",
        "   - Returns only **one row** as a result.  \n",
        "   - Used with comparison operators like `=`, `>`, `<`, `>=`, `<=`, `<>`.\n",
        "\n",
        "2. **Multiple-Row Subquery**  \n",
        "   - Returns **multiple rows** as a result.  \n",
        "   - Uses operators like `IN`, `ANY`, `ALL` for comparison.\n",
        "\n",
        "3. **Correlated Subquery**  \n",
        "   - Executes once for **each row** processed in the outer query.  \n",
        "   - It references columns from the outer query, making it dependent on it.\n",
        "\n",
        "4. **Nested Subquery**  \n",
        "   - A subquery inside another subquery.  \n",
        "   - The innermost subquery executes first, and its result is used by the next level.\n",
        "\n",
        "5. **Scalar Subquery**  \n",
        "   - Returns a **single value (single row, single column)**.  \n",
        "   - Used in `SELECT` clauses or as part of expressions.\n",
        "\n",
        "6. **Derived Table Subquery (Inline View)**  \n",
        "   - Appears in the `FROM` clause.  \n",
        "   - Treated as a temporary table for the outer query.\n",
        "\n",
        "7. **Exists Subquery**  \n",
        "   - Used with `EXISTS` operator to check if any rows match the condition.  \n",
        "   - Returns a boolean result (TRUE or FALSE).\n",
        "\n",
        "Subqueries help in improving query efficiency, reducing redundancy, and structuring complex queries logically."
      ],
      "metadata": {
        "id": "wMoYX1urno19"
      }
    },
    {
      "cell_type": "code",
      "source": [
        "#SELECT subquery\n",
        "#self joins joins itself\n",
        "mycursor.execute(\"SELECT avg(MARKS) as MARKS from TABLE1.CRASHCOURSE \")\n",
        "out=mycursor.fetchall()#out is a variable tht fetch all details\n",
        "from tabulate import tabulate\n",
        "print(tabulate(out,headers=[i[0] for i in mycursor.description],  tablefmt='psql'))\n",
        "connection.commit()"
      ],
      "metadata": {
        "colab": {
          "base_uri": "https://localhost:8080/"
        },
        "id": "BTq0PSr4obgc",
        "outputId": "77f512d1-fc8c-4619-95c4-9b2eb513951d"
      },
      "execution_count": null,
      "outputs": [
        {
          "output_type": "stream",
          "name": "stdout",
          "text": [
            "+---------+\n",
            "|   MARKS |\n",
            "|---------|\n",
            "| 41.1111 |\n",
            "+---------+\n"
          ]
        }
      ]
    },
    {
      "cell_type": "code",
      "source": [
        "#SELECT subquery\n",
        "#self joins joins itself\n",
        "mycursor.execute(\"SELECT NAME,CLASS,MARKS from TABLE1.CRASHCOURSE where MARKS<(SELECT avg(MARKS) from TABLE1.CRASHCOURSE)\")\n",
        "out=mycursor.fetchall()#out is a variable tht fetch all details\n",
        "from tabulate import tabulate\n",
        "print(tabulate(out,headers=[i[0] for i in mycursor.description],  tablefmt='psql'))\n",
        "connection.commit()"
      ],
      "metadata": {
        "colab": {
          "base_uri": "https://localhost:8080/"
        },
        "id": "daBLHKNSnrWH",
        "outputId": "6a3ad95c-38d5-4092-9611-9f540ea99de7"
      },
      "execution_count": null,
      "outputs": [
        {
          "output_type": "stream",
          "name": "stdout",
          "text": [
            "+---------+---------+---------+\n",
            "| NAME    |   CLASS |   MARKS |\n",
            "|---------+---------+---------|\n",
            "| GOWTHAM |      12 |      10 |\n",
            "| Gowtham |      12 |      10 |\n",
            "| Meera   |      12 |      20 |\n",
            "| Karthik |      11 |      30 |\n",
            "| Swathi  |      11 |      40 |\n",
            "+---------+---------+---------+\n"
          ]
        }
      ]
    },
    {
      "cell_type": "code",
      "source": [
        "#insert\n",
        "#SELECT subquery\n",
        "#self joins joins itself\n",
        "mycursor.execute(\"CREATE TABLE TABLE1.TEACHERS (NAME varchar(50),CLASS int,MARK int)\")\n",
        "\n"
      ],
      "metadata": {
        "id": "hmVxt3Bfotd7"
      },
      "execution_count": null,
      "outputs": []
    },
    {
      "cell_type": "code",
      "source": [
        "mycursor.execute(\"INSERT into TABLE1.TEACHERS SELECT NAME,CLASS,MARKS from TABLE1.CRASHCOURSE where MARKS>(SELECT avg(MARKS) from TABLE1.CRASHCOURSE)\")\n",
        "\n"
      ],
      "metadata": {
        "id": "Msxk5V2Mp-0h"
      },
      "execution_count": null,
      "outputs": []
    },
    {
      "cell_type": "code",
      "source": [
        "mycursor.execute(\"SELECT * from TABLE1.TEACHERS\")\n",
        "out=mycursor.fetchall()#out is a variable tht fetch all details\n",
        "from tabulate import tabulate\n",
        "print(tabulate(out,headers=[i[0] for i in mycursor.description],  tablefmt='psql'))\n",
        "connection.commit()"
      ],
      "metadata": {
        "colab": {
          "base_uri": "https://localhost:8080/"
        },
        "collapsed": true,
        "id": "ZQ37r4Kiqbft",
        "outputId": "5ca38944-6b65-4e81-f38a-b1a9267633fb"
      },
      "execution_count": null,
      "outputs": [
        {
          "output_type": "stream",
          "name": "stdout",
          "text": [
            "+---------+---------+--------+\n",
            "| NAME    |   CLASS |   MARK |\n",
            "|---------+---------+--------|\n",
            "| GOWTHAM |      12 |     10 |\n",
            "| Gowtham |      12 |     10 |\n",
            "| Meera   |      12 |     20 |\n",
            "| Karthik |      11 |     30 |\n",
            "| Swathi  |      11 |     40 |\n",
            "| GOWTHAM |      12 |     10 |\n",
            "| Gowtham |      12 |     10 |\n",
            "| Meera   |      12 |     20 |\n",
            "| Karthik |      11 |     30 |\n",
            "| Swathi  |      11 |     40 |\n",
            "| Ravi    |      10 |     50 |\n",
            "| Priya   |      10 |     60 |\n",
            "| Surya   |       9 |     70 |\n",
            "| Aarthi  |       9 |     80 |\n",
            "+---------+---------+--------+\n"
          ]
        }
      ]
    },
    {
      "cell_type": "code",
      "source": [
        "#UPDATE\n",
        "mycursor.execute(\"UPDATE TABLE1.CRASHCOURSE SET MARKS=MARKS+10 WHERE MARKS>(SELECT AVG(MARKS) FROM TABLE1.CRASHCOURSE)\")\n",
        "\n"
      ],
      "metadata": {
        "id": "Zx1GniRUqs1P"
      },
      "execution_count": null,
      "outputs": []
    },
    {
      "cell_type": "code",
      "source": [
        "mycursor.execute(\"SELECT * from TABLE1.CRASHCOURSE\")\n",
        "out=mycursor.fetchall()#out is a variable tht fetch all details\n",
        "from tabulate import tabulate\n",
        "print(tabulate(out,headers=[i[0] for i in mycursor.description],  tablefmt='psql'))\n",
        "connection.commit()"
      ],
      "metadata": {
        "colab": {
          "base_uri": "https://localhost:8080/"
        },
        "id": "8yNQb-nJvFPZ",
        "outputId": "c7b848b2-3839-4db4-df17-50def9508a5b"
      },
      "execution_count": null,
      "outputs": [
        {
          "output_type": "stream",
          "name": "stdout",
          "text": [
            "+---------+----------+---------+----------------+---------+\n",
            "| NAME    |   ROLLNO |   CLASS | ADDRESS        |   MARKS |\n",
            "|---------+----------+---------+----------------+---------|\n",
            "| GOWTHAM |        1 |      12 | XXX            |      10 |\n",
            "| Gowtham |        1 |      12 | Street 1, City |      10 |\n",
            "| Meera   |        2 |      12 | Street 2, City |      20 |\n",
            "| Karthik |        3 |      11 | Street 3, City |      30 |\n",
            "| Swathi  |        4 |      11 | Street 4, City |      40 |\n",
            "| Ravi    |        5 |      10 | Street 5, City |      60 |\n",
            "| Priya   |        6 |      10 | Street 6, City |      70 |\n",
            "| Surya   |        7 |       9 | Street 7, City |      80 |\n",
            "| Aarthi  |        8 |       9 | Street 8, City |      90 |\n",
            "+---------+----------+---------+----------------+---------+\n"
          ]
        }
      ]
    },
    {
      "cell_type": "code",
      "source": [
        "#DELETE\n",
        "mycursor.execute(\"DELETE FROM TABLE1.CRASHCOURSE where MARKS in (SELECT MARKS FROM TABLE1.CRASHCOURSE WHERE MARKS>35)\")\n",
        "\n"
      ],
      "metadata": {
        "id": "LESVF-R5vdBV"
      },
      "execution_count": null,
      "outputs": []
    },
    {
      "cell_type": "code",
      "source": [
        "mycursor.execute(\"SELECT * from TABLE1.CRASHCOURSE\")\n",
        "out=mycursor.fetchall()#out is a variable tht fetch all details\n",
        "from tabulate import tabulate\n",
        "print(tabulate(out,headers=[i[0] for i in mycursor.description],  tablefmt='psql'))\n",
        "connection.commit()"
      ],
      "metadata": {
        "colab": {
          "base_uri": "https://localhost:8080/"
        },
        "id": "icdR9ILhwmiT",
        "outputId": "45fd1c20-674d-4439-9981-20148da9fb6f"
      },
      "execution_count": null,
      "outputs": [
        {
          "output_type": "stream",
          "name": "stdout",
          "text": [
            "+---------+----------+---------+----------------+---------+\n",
            "| NAME    |   ROLLNO |   CLASS | ADDRESS        |   MARKS |\n",
            "|---------+----------+---------+----------------+---------|\n",
            "| GOWTHAM |        1 |      12 | XXX            |      10 |\n",
            "| Gowtham |        1 |      12 | Street 1, City |      10 |\n",
            "| Meera   |        2 |      12 | Street 2, City |      20 |\n",
            "| Karthik |        3 |      11 | Street 3, City |      30 |\n",
            "+---------+----------+---------+----------------+---------+\n"
          ]
        }
      ]
    },
    {
      "cell_type": "markdown",
      "source": [
        "TRIGGERS in SQL\n",
        "Triggers in SQL\n",
        "A trigger in SQL is a special type of stored procedure that automatically executes when a specific event occurs in a database. Triggers are used to enforce business rules, maintain data integrity, and automate processes without manual intervention.\n",
        "\n",
        "Types of Triggers in SQL\n",
        "Before Trigger\n",
        "\n",
        "Executes before an insert, update, or delete operation.\n",
        "Used to validate data or modify values before they are committed to the database.\n",
        "After Trigger\n",
        "\n",
        "Executes after an insert, update, or delete operation.\n",
        "Commonly used for logging, auditing, or enforcing business rules.\n",
        "Instead of Trigger\n",
        "\n",
        "Overrides the normal execution of an insert, update, or delete operation.\n",
        "Used mainly with views to perform custom logic instead of direct modification.\n",
        "Row-Level Trigger\n",
        "\n",
        "Executes once per row that is affected by the triggering event.\n",
        "Useful when working with bulk updates or deletes.\n",
        "Statement-Level Trigger\n",
        "\n",
        "Executes once per SQL statement, regardless of the number of rows affected.\n",
        "More efficient when the action needs to be performed only once per transaction.\n",
        "Use Cases of Triggers\n",
        "Automatic Logging: Keeping track of changes in audit tables.\n",
        "Data Validation: Preventing invalid data entry.\n",
        "Enforcing Business Rules: Restricting operations based on conditions.\n",
        "Automating Notifications: Sending alerts or emails when specific events occur."
      ],
      "metadata": {
        "id": "-x5LYSgeyZwe"
      }
    },
    {
      "cell_type": "code",
      "source": [],
      "metadata": {
        "id": "wlwYw3awybqv"
      },
      "execution_count": null,
      "outputs": []
    }
  ]
}