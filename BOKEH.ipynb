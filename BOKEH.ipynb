{
  "nbformat": 4,
  "nbformat_minor": 0,
  "metadata": {
    "colab": {
      "provenance": [],
      "authorship_tag": "ABX9TyPS48ijI+nhhDLuxye7qRhH",
      "include_colab_link": true
    },
    "kernelspec": {
      "name": "python3",
      "display_name": "Python 3"
    },
    "language_info": {
      "name": "python"
    }
  },
  "cells": [
    {
      "cell_type": "markdown",
      "metadata": {
        "id": "view-in-github",
        "colab_type": "text"
      },
      "source": [
        "<a href=\"https://colab.research.google.com/github/gowtham-dd/Data-Science-Basics/blob/main/BOKEH.ipynb\" target=\"_parent\"><img src=\"https://colab.research.google.com/assets/colab-badge.svg\" alt=\"Open In Colab\"/></a>"
      ]
    },
    {
      "cell_type": "code",
      "execution_count": 1,
      "metadata": {
        "id": "Jegl6Dxp-a-4"
      },
      "outputs": [],
      "source": [
        "#Advanced\n",
        "#output in html file need to download and open\n",
        "from bokeh.plotting import figure, output_file, show\n",
        "x=[1,2,3,4,5]\n",
        "y=[9,8,7,6,1]\n",
        "\n",
        "output_file(\"Line.html\")\n",
        "f=figure()\n",
        "f.line(x,y)\n",
        "show(f)"
      ]
    },
    {
      "cell_type": "code",
      "source": [
        "from bokeh.plotting import figure, output_file, show\n",
        "\n",
        "# Data\n",
        "x = [1, 2, 3, 4, 5]\n",
        "y = [9, 8, 7, 6, 1]\n",
        "\n",
        "# Create figure\n",
        "f = figure(title=\"Horizontal Bar Chart\", x_axis_label=\"Value\", y_axis_label=\"Category\")\n",
        "\n",
        "# Draw horizontal bars\n",
        "f.hbar(y=x, right=y, height=0.5)\n",
        "\n",
        "# Output to file and show\n",
        "output_file(\"Bar.html\")\n",
        "show(f)"
      ],
      "metadata": {
        "id": "xnWJd9ETA1ff"
      },
      "execution_count": 5,
      "outputs": []
    },
    {
      "cell_type": "code",
      "source": [
        "from bokeh.plotting import figure, output_file, show\n",
        "\n",
        "# Data\n",
        "x = [1, 2, 3, 4, 5]\n",
        "y = [9, 8, 7, 6, 1]\n",
        "\n",
        "# Create figure\n",
        "f = figure(title=\"Vertical Bar Chart\", x_axis_label=\"Category\", y_axis_label=\"Value\")\n",
        "\n",
        "# Draw vertical bars\n",
        "f.vbar(x=x, top=y, width=0.5)\n",
        "\n",
        "# Output to file and show\n",
        "output_file(\"Vertical_Bar.html\")\n",
        "show(f)"
      ],
      "metadata": {
        "id": "FW-d76kTBZ_6"
      },
      "execution_count": 6,
      "outputs": []
    },
    {
      "cell_type": "code",
      "source": [
        "#Patch plot\n",
        "\n",
        "from bokeh.plotting import figure, output_file, show\n",
        "\n",
        "# Coordinates of the patch (polygon)\n",
        "x = [1, 2, 3, 4, 3, 2]\n",
        "y = [2, 4, 3, 2, 1, 1]\n",
        "\n",
        "# Create figure\n",
        "f = figure(title=\"Patch Plot\", x_axis_label=\"X\", y_axis_label=\"Y\")\n",
        "\n",
        "# Draw patch\n",
        "f.patch(x, y, color=\"skyblue\", alpha=0.6, line_width=2)\n",
        "\n",
        "# Output to file and show\n",
        "output_file(\"Patch.html\")\n",
        "show(f)"
      ],
      "metadata": {
        "id": "dotovNcpBgub"
      },
      "execution_count": 7,
      "outputs": []
    },
    {
      "cell_type": "code",
      "source": [
        "from bokeh.plotting import figure, output_file, show\n",
        "\n",
        "# Multiple patches: list of x and y coordinates for each polygon\n",
        "xs = [\n",
        "    [1, 2, 3, 2],     # First patch (a triangle)\n",
        "    [4, 5, 6, 5]      # Second patch (another triangle)\n",
        "]\n",
        "ys = [\n",
        "    [1, 3, 1, 1],     # Corresponding y-values for the first patch\n",
        "    [2, 4, 2, 2]      # Corresponding y-values for the second patch\n",
        "]\n",
        "\n",
        "# Create figure\n",
        "f = figure(title=\"Multiple Patch Plot\", x_axis_label=\"X\", y_axis_label=\"Y\")\n",
        "\n",
        "# Draw multiple patches\n",
        "f.patches(xs, ys, color=[\"green\", \"orange\"], alpha=0.6, line_width=2)\n",
        "\n",
        "# Output to file and show\n",
        "output_file(\"Multiple_Patches.html\")\n",
        "show(f)"
      ],
      "metadata": {
        "id": "PE_l5qH7B5oC"
      },
      "execution_count": 8,
      "outputs": []
    },
    {
      "cell_type": "code",
      "source": [
        "#Scatter\n",
        "\n",
        "from bokeh.plotting import figure, output_file, show\n",
        "\n",
        "# Data points\n",
        "x = [1, 2, 3, 4, 5]\n",
        "y = [6, 7, 2, 4, 5]\n",
        "\n",
        "# Create figure\n",
        "f = figure(title=\"Scatter Plot\", x_axis_label=\"X\", y_axis_label=\"Y\")\n",
        "\n",
        "# Draw scatter markers (default is circles)\n",
        "f.scatter(x, y, size=10, color=\"navy\", alpha=0.7)\n",
        "\n",
        "# Output to file and show\n",
        "output_file(\"Scatter.html\")\n",
        "show(f)"
      ],
      "metadata": {
        "id": "rKZBj7ZYCYH4"
      },
      "execution_count": 9,
      "outputs": []
    },
    {
      "cell_type": "code",
      "source": [
        "#Area\n",
        "from bokeh.plotting import figure, output_file, show\n",
        "\n",
        "# Data\n",
        "x = [1, 2, 3, 4, 5]\n",
        "y1 = [2, 4, 6, 8, 10]  # Bottom of area\n",
        "y2 = [3, 5, 7, 9, 11]  # Top of area\n",
        "\n",
        "# Create figure\n",
        "f = figure(title=\"Area Plot\", x_axis_label=\"X\", y_axis_label=\"Y\")\n",
        "\n",
        "# Draw vertical area between y1 and y2\n",
        "f.varea(x=x, y1=y1, y2=y2, color=\"skyblue\", alpha=0.6)\n",
        "\n",
        "# Output to file and show\n",
        "output_file(\"AreaPlot.html\")\n",
        "show(f)"
      ],
      "metadata": {
        "id": "LXTeeJW7CmQD"
      },
      "execution_count": 10,
      "outputs": []
    },
    {
      "cell_type": "code",
      "source": [
        "#area horizontal\n",
        "\n",
        "from bokeh.plotting import figure, output_file, show\n",
        "\n",
        "# Data\n",
        "y = [1, 2, 3, 4, 5]\n",
        "x1 = [2, 3, 4, 5, 6]  # Left boundary\n",
        "x2 = [3, 4, 5, 6, 7]  # Right boundary\n",
        "\n",
        "# Create figure\n",
        "f = figure(title=\"Horizontal Area Plot\", x_axis_label=\"X\", y_axis_label=\"Y\")\n",
        "\n",
        "# Draw horizontal area between x1 and x2\n",
        "f.harea(y=y, x1=x1, x2=x2, color=\"lightgreen\", alpha=0.6)\n",
        "\n",
        "# Output to file and show\n",
        "output_file(\"HorizontalAreaPlot.html\")\n",
        "show(f)"
      ],
      "metadata": {
        "id": "yrcBuQ4jDKJp"
      },
      "execution_count": null,
      "outputs": []
    },
    {
      "cell_type": "code",
      "source": [
        "#circle Glyphs\n",
        "#3 types circle() circle_cross()circle_x()\n",
        "from bokeh.plotting import figure, output_file, show\n",
        "\n",
        "# Data for each type\n",
        "x = [1, 2, 3]\n",
        "y_circle = [4, 4, 4]\n",
        "y_circle_cross = [3, 3, 3]\n",
        "y_circle_x = [2, 2, 2]\n",
        "\n",
        "# Create figure\n",
        "f = figure(title=\"Different Circle Marker Types\", x_axis_label=\"X\", y_axis_label=\"Y\")\n",
        "\n",
        "# Plot regular circles\n",
        "f.circle(x, y_circle, size=12, color=\"blue\", legend_label=\"circle\")\n",
        "\n",
        "# Plot circle + cross\n",
        "f.circle_cross(x, y_circle_cross, size=12, color=\"green\", legend_label=\"circle_cross\")\n",
        "\n",
        "# Plot circle + X\n",
        "f.circle_x(x, y_circle_x, size=12, color=\"red\", legend_label=\"circle_x\")\n",
        "\n",
        "# Show legend\n",
        "f.legend.location = \"top_left\"\n",
        "\n",
        "# Output to file and show\n",
        "output_file(\"Circle_Types.html\")\n",
        "show(f)"
      ],
      "metadata": {
        "colab": {
          "base_uri": "https://localhost:8080/"
        },
        "id": "tbCgkr1WDOol",
        "outputId": "8d17d3e6-fd39-4e86-d000-86b57166f533"
      },
      "execution_count": 11,
      "outputs": [
        {
          "output_type": "stream",
          "name": "stderr",
          "text": [
            "BokehDeprecationWarning: 'circle() method with size value' was deprecated in Bokeh 3.4.0 and will be removed, use 'scatter(size=...) instead' instead.\n",
            "BokehDeprecationWarning: 'circle_cross() method' was deprecated in Bokeh 3.4.0 and will be removed, use \"scatter(marker='circle_cross', ...) instead\" instead.\n",
            "BokehDeprecationWarning: 'circle_x() method' was deprecated in Bokeh 3.4.0 and will be removed, use \"scatter(marker='circle_x', ...) instead\" instead.\n"
          ]
        }
      ]
    },
    {
      "cell_type": "code",
      "source": [
        "#Rectangle\n",
        "# Data: center coordinates and dimensions\n",
        "x = [1, 2, 3, 4]\n",
        "y = [1, 2, 3, 4]\n",
        "width = [0.5, 0.7, 1.0, 0.6]\n",
        "height = [1.0, 0.6, 0.8, 1.2]\n",
        "\n",
        "# Create figure\n",
        "f = figure(title=\"Rectangle Plot\", x_axis_label=\"X\", y_axis_label=\"Y\")\n",
        "\n",
        "# Draw rectangles\n",
        "f.rect(x, y, width=width, height=height, color=\"orange\", alpha=0.6)\n",
        "\n",
        "# Output to file and show\n",
        "output_file(\"Rectangles.html\")\n",
        "show(f)"
      ],
      "metadata": {
        "id": "qNPGERJGFDgE"
      },
      "execution_count": null,
      "outputs": []
    },
    {
      "cell_type": "code",
      "source": [
        "# wedges and arc\n",
        "from bokeh.plotting import figure,show\n",
        "p=figure()\n",
        "p.arc(x=0,y=0,radius=1,start_angle=0,end_angle=3.14,color='navy')\n",
        "show(p)"
      ],
      "metadata": {
        "id": "vi97MiO-a96I"
      },
      "execution_count": 13,
      "outputs": []
    },
    {
      "cell_type": "code",
      "source": [
        "# wedges and arc\n",
        "from bokeh.plotting import figure,show\n",
        "p=figure()\n",
        "p.wedge(x=0,y=0,radius=1,start_angle=0,end_angle=3.14,color='navy')\n",
        "show(p)"
      ],
      "metadata": {
        "id": "nLNOFvSYbdE_"
      },
      "execution_count": 14,
      "outputs": []
    },
    {
      "cell_type": "code",
      "source": [
        "# annular wedge\n",
        "\n",
        "from bokeh.plotting import figure,show\n",
        "p=figure()\n",
        "p.annulus(x=0,y=0,inner_radius=0.5,outer_radius=1,color='navy')\n",
        "show(p)"
      ],
      "metadata": {
        "id": "g8U9jyqpbh8w"
      },
      "execution_count": 15,
      "outputs": []
    },
    {
      "cell_type": "code",
      "source": [
        "# wedges and arc\n",
        "from bokeh.plotting import figure,show\n",
        "p=figure()\n",
        "p.arc(x=0,y=0,radius=1,start_angle=0,end_angle=3.14,color='navy')\n",
        "show(p)"
      ],
      "metadata": {
        "id": "jgnGpy-_bv5x"
      },
      "execution_count": null,
      "outputs": []
    }
  ]
}