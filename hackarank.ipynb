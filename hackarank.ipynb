{
  "nbformat": 4,
  "nbformat_minor": 0,
  "metadata": {
    "colab": {
      "provenance": [],
      "authorship_tag": "ABX9TyP6N3v3YRJxbO7NcBZABxJU",
      "include_colab_link": true
    },
    "kernelspec": {
      "name": "python3",
      "display_name": "Python 3"
    },
    "language_info": {
      "name": "python"
    }
  },
  "cells": [
    {
      "cell_type": "markdown",
      "metadata": {
        "id": "view-in-github",
        "colab_type": "text"
      },
      "source": [
        "<a href=\"https://colab.research.google.com/github/gowtham-dd/Data-Science-Basics/blob/main/hackarank.ipynb\" target=\"_parent\"><img src=\"https://colab.research.google.com/assets/colab-badge.svg\" alt=\"Open In Colab\"/></a>"
      ]
    },
    {
      "cell_type": "code",
      "execution_count": null,
      "metadata": {
        "id": "GmmNhuTLUR2V"
      },
      "outputs": [],
      "source": [
        "# basic python"
      ]
    },
    {
      "cell_type": "code",
      "source": [
        "d = list(map(int, input()))  # Convert each digit to an integer\n",
        "\n",
        "def eve():\n",
        "    evens = []\n",
        "    for i in d:\n",
        "        if i % 2 == 0:\n",
        "            evens.append(i)  # Collect even numbers in their original order\n",
        "    return evens\n",
        "\n",
        "def odd():\n",
        "    odds = []\n",
        "    for i in d:\n",
        "        if i % 2 != 0:\n",
        "            odds.append(i)  # Collect odd numbers in their original order\n",
        "    return odds\n",
        "\n",
        "evens = eve()  # Collect even numbers\n",
        "odds = odd()  # Collect odd numbers\n",
        "\n",
        "# Sort the collected even and odd numbers before printing\n",
        "evens_sorted = sorted(evens)\n",
        "odds_sorted = sorted(odds)\n",
        "\n",
        "# Print space-separated values without extra spaces at the end\n",
        "print(*evens_sorted)\n",
        "print(*odds_sorted)\n"
      ],
      "metadata": {
        "colab": {
          "base_uri": "https://localhost:8080/"
        },
        "id": "BF_2DPPBj4dy",
        "outputId": "68f1391c-77be-4f30-a7c0-171e60532e18"
      },
      "execution_count": 10,
      "outputs": [
        {
          "output_type": "stream",
          "name": "stdout",
          "text": [
            "968741326\n",
            "2 4 6 6 8\n",
            "1 3 7 9\n"
          ]
        }
      ]
    },
    {
      "cell_type": "code",
      "source": [
        "#1\n",
        "\n",
        "def print_full_name(first, last):\n",
        "    # Write your code here\n",
        "    print(f\"Hello {first} {last}! You just delved into python.\")\n",
        "\n",
        "if __name__ == '__main__':\n",
        "    first_name = input()  # Example input: Ross\n",
        "    last_name = input()   # Example input: Taylor\n",
        "    print_full_name(first_name, last_name)\n"
      ],
      "metadata": {
        "colab": {
          "base_uri": "https://localhost:8080/"
        },
        "id": "7_1cvY5oUWZS",
        "outputId": "ab12326a-ae2d-4c8a-acaf-148be35c6f08"
      },
      "execution_count": null,
      "outputs": [
        {
          "output_type": "stream",
          "name": "stdout",
          "text": [
            "Taylor\n",
            "Jos\n",
            "Hello Taylor Jos! You just delved into python.\n"
          ]
        }
      ]
    },
    {
      "cell_type": "code",
      "source": [
        "A,B,C=map(int,input().split())\n",
        "if A!=B!=C:\n",
        "  if A+B>C and A+C>B and B+C>A:\n",
        "    print(\"yes\")\n",
        "  else:\n",
        "    print(\"no\")\n",
        "else:\n",
        "  print(\"no\")"
      ],
      "metadata": {
        "colab": {
          "base_uri": "https://localhost:8080/"
        },
        "id": "6z1frU5yoU7b",
        "outputId": "96b5fbb5-555e-4b62-9163-54d349a36750"
      },
      "execution_count": 2,
      "outputs": [
        {
          "output_type": "stream",
          "name": "stdout",
          "text": [
            "1 1 1\n",
            "no\n"
          ]
        }
      ]
    },
    {
      "cell_type": "code",
      "source": [
        "L,H,S=map(int,input().split())\n",
        "result=(L**2)+(H**2)\n",
        "hypotenuse=(S**2)\n",
        "if result==hypotenuse:\n",
        "  print(\"yes\")\n",
        "else:\n",
        "  print(\"no\")"
      ],
      "metadata": {
        "colab": {
          "base_uri": "https://localhost:8080/"
        },
        "id": "3cP7LheMmVud",
        "outputId": "ac7a1d1e-16a3-415a-b12c-b3d122812b6a"
      },
      "execution_count": 3,
      "outputs": [
        {
          "output_type": "stream",
          "name": "stdout",
          "text": [
            "3 4 5\n",
            "yes\n"
          ]
        }
      ]
    },
    {
      "cell_type": "code",
      "source": [
        "N=int(input())\n",
        "A,B=map(int,input().split())\n",
        "print(A|B)"
      ],
      "metadata": {
        "colab": {
          "base_uri": "https://localhost:8080/"
        },
        "id": "Kl4sgBg2n61d",
        "outputId": "1ad4f9c2-8bfa-451f-bff4-1b801f0175f9"
      },
      "execution_count": 5,
      "outputs": [
        {
          "output_type": "stream",
          "name": "stdout",
          "text": [
            "2\n",
            "2 4\n",
            "6\n"
          ]
        }
      ]
    },
    {
      "cell_type": "code",
      "source": [
        "N=int(input())\n",
        "arr=list(map(int,input().split()))\n",
        "if len(set(arr)) == 1:\n",
        "    print(arr[0])  # If all numbers are the same, print that number\n",
        "else:\n",
        "  arr.sort()\n",
        "  print(arr[-1]+arr[-2])\n",
        "\n",
        "\n"
      ],
      "metadata": {
        "colab": {
          "base_uri": "https://localhost:8080/"
        },
        "id": "lIaCa0tBqlJA",
        "outputId": "c7895356-88d8-4c57-9656-16dcfc668ef7"
      },
      "execution_count": 11,
      "outputs": [
        {
          "output_type": "stream",
          "name": "stdout",
          "text": [
            "5\n",
            "1 1 1 1 1\n",
            "1\n"
          ]
        }
      ]
    },
    {
      "cell_type": "code",
      "source": [
        "n=int(input())\n",
        "print(~n)"
      ],
      "metadata": {
        "colab": {
          "base_uri": "https://localhost:8080/"
        },
        "id": "JbNWpvCBxATL",
        "outputId": "a26f9a53-4b5c-41f3-df58-37866caae4ba"
      },
      "execution_count": 12,
      "outputs": [
        {
          "output_type": "stream",
          "name": "stdout",
          "text": [
            "5\n",
            "-6\n"
          ]
        }
      ]
    },
    {
      "cell_type": "code",
      "source": [
        "def carry(n,m):\n",
        "\n",
        "   return (n^m)\n",
        "a,b=map(int,input().split())\n",
        "\n",
        "carry(a,b)"
      ],
      "metadata": {
        "colab": {
          "base_uri": "https://localhost:8080/"
        },
        "id": "yrSkwHHUxIaz",
        "outputId": "1d5c8899-fcc0-4a13-853a-cd1a3083df36"
      },
      "execution_count": 14,
      "outputs": [
        {
          "name": "stdout",
          "output_type": "stream",
          "text": [
            "44 66\n"
          ]
        },
        {
          "output_type": "execute_result",
          "data": {
            "text/plain": [
              "110"
            ]
          },
          "metadata": {},
          "execution_count": 14
        }
      ]
    },
    {
      "cell_type": "code",
      "source": [
        "ar,arr=map(str,input().split())\n",
        "print(arr,ar)"
      ],
      "metadata": {
        "colab": {
          "base_uri": "https://localhost:8080/"
        },
        "id": "E-6bWtVrywkW",
        "outputId": "7a0e4d46-f2f5-4cec-d759-7d88b6e72305"
      },
      "execution_count": 15,
      "outputs": [
        {
          "output_type": "stream",
          "name": "stdout",
          "text": [
            "hello world\n",
            "world hello\n"
          ]
        }
      ]
    },
    {
      "cell_type": "code",
      "source": [
        "kabali,opp=map(int,input().split())\n",
        "c=kabali-opp\n",
        "print(abs(c))"
      ],
      "metadata": {
        "colab": {
          "base_uri": "https://localhost:8080/"
        },
        "id": "6eBXZ7E1zoTx",
        "outputId": "7d07836c-3eae-4bed-a82f-fc342ee95464"
      },
      "execution_count": 17,
      "outputs": [
        {
          "output_type": "stream",
          "name": "stdout",
          "text": [
            "200 100\n",
            "100\n"
          ]
        }
      ]
    },
    {
      "cell_type": "code",
      "source": [
        "def gcd(a,b):\n",
        "  while b:\n",
        "    a,b=b,a%b\n",
        "  return b\n",
        "n,m=map(int,input().split())\n",
        "gcd(a,b)"
      ],
      "metadata": {
        "colab": {
          "base_uri": "https://localhost:8080/"
        },
        "id": "bjjfmdlb0zO0",
        "outputId": "5f44f20e-2d68-41ce-e389-eabec9c303e6"
      },
      "execution_count": 18,
      "outputs": [
        {
          "name": "stdout",
          "output_type": "stream",
          "text": [
            "5 4\n"
          ]
        },
        {
          "output_type": "execute_result",
          "data": {
            "text/plain": [
              "0"
            ]
          },
          "metadata": {},
          "execution_count": 18
        }
      ]
    },
    {
      "cell_type": "code",
      "source": [
        "def lcm(a, b):\n",
        "    # Start with the larger of the two numbers\n",
        "    result = a * b\n",
        "    # Check the LCM by checking multiples of the larger number\n",
        "    for i in range(max(a, b), result + 1, max(a, b)):\n",
        "        if i % a == 0 and i % b == 0:\n",
        "            return i\n",
        "\n",
        "def lcm_multiple(values):\n",
        "    result = values[0]\n",
        "    for num in values[1:]:\n",
        "        result = lcm(result, num)\n",
        "    return result\n",
        "\n",
        "# Read input\n",
        "n = int(input())  # number of values\n",
        "values = list(map(int, input().split()))  # list of values\n",
        "\n",
        "# Calculate LCM of the list\n",
        "result = lcm_multiple(values)\n",
        "\n",
        "# Output the result\n",
        "print(result)\n"
      ],
      "metadata": {
        "id": "6BfdyIrJ1t5P"
      },
      "execution_count": null,
      "outputs": []
    },
    {
      "cell_type": "code",
      "source": [
        "a=int(input())\n",
        "arr=list(map(int,input().split()))\n",
        "print(n^m)"
      ],
      "metadata": {
        "colab": {
          "base_uri": "https://localhost:8080/"
        },
        "id": "lj-xW90f1v4p",
        "outputId": "1803ec74-7762-4b48-b236-c1f7d42059b7"
      },
      "execution_count": 22,
      "outputs": [
        {
          "output_type": "stream",
          "name": "stdout",
          "text": [
            "3\n",
            "4 6 8\n",
            "6\n"
          ]
        }
      ]
    }
  ]
}