{
  "nbformat": 4,
  "nbformat_minor": 0,
  "metadata": {
    "colab": {
      "provenance": [],
      "authorship_tag": "ABX9TyM+cIbosmew/tJf3unZSG7O",
      "include_colab_link": true
    },
    "kernelspec": {
      "name": "python3",
      "display_name": "Python 3"
    },
    "language_info": {
      "name": "python"
    }
  },
  "cells": [
    {
      "cell_type": "markdown",
      "metadata": {
        "id": "view-in-github",
        "colab_type": "text"
      },
      "source": [
        "<a href=\"https://colab.research.google.com/github/gowtham-dd/Data-Science-Basics/blob/main/hackarank.ipynb\" target=\"_parent\"><img src=\"https://colab.research.google.com/assets/colab-badge.svg\" alt=\"Open In Colab\"/></a>"
      ]
    },
    {
      "cell_type": "code",
      "execution_count": null,
      "metadata": {
        "id": "GmmNhuTLUR2V"
      },
      "outputs": [],
      "source": [
        "# basic python"
      ]
    },
    {
      "cell_type": "code",
      "source": [
        "d = list(map(int, input()))  # Convert each digit to an integer\n",
        "\n",
        "def eve():\n",
        "    evens = []\n",
        "    for i in d:\n",
        "        if i % 2 == 0:\n",
        "            evens.append(i)  # Collect even numbers in their original order\n",
        "    return evens\n",
        "\n",
        "def odd():\n",
        "    odds = []\n",
        "    for i in d:\n",
        "        if i % 2 != 0:\n",
        "            odds.append(i)  # Collect odd numbers in their original order\n",
        "    return odds\n",
        "\n",
        "evens = eve()  # Collect even numbers\n",
        "odds = odd()  # Collect odd numbers\n",
        "\n",
        "# Sort the collected even and odd numbers before printing\n",
        "evens_sorted = sorted(evens)\n",
        "odds_sorted = sorted(odds)\n",
        "\n",
        "# Print space-separated values without extra spaces at the end\n",
        "print(*evens_sorted)\n",
        "print(*odds_sorted)\n"
      ],
      "metadata": {
        "colab": {
          "base_uri": "https://localhost:8080/"
        },
        "id": "BF_2DPPBj4dy",
        "outputId": "68f1391c-77be-4f30-a7c0-171e60532e18"
      },
      "execution_count": 10,
      "outputs": [
        {
          "output_type": "stream",
          "name": "stdout",
          "text": [
            "968741326\n",
            "2 4 6 6 8\n",
            "1 3 7 9\n"
          ]
        }
      ]
    },
    {
      "cell_type": "code",
      "source": [
        "#1\n",
        "\n",
        "def print_full_name(first, last):\n",
        "    # Write your code here\n",
        "    print(f\"Hello {first} {last}! You just delved into python.\")\n",
        "\n",
        "if __name__ == '__main__':\n",
        "    first_name = input()  # Example input: Ross\n",
        "    last_name = input()   # Example input: Taylor\n",
        "    print_full_name(first_name, last_name)\n"
      ],
      "metadata": {
        "colab": {
          "base_uri": "https://localhost:8080/"
        },
        "id": "7_1cvY5oUWZS",
        "outputId": "ab12326a-ae2d-4c8a-acaf-148be35c6f08"
      },
      "execution_count": null,
      "outputs": [
        {
          "output_type": "stream",
          "name": "stdout",
          "text": [
            "Taylor\n",
            "Jos\n",
            "Hello Taylor Jos! You just delved into python.\n"
          ]
        }
      ]
    },
    {
      "cell_type": "code",
      "source": [
        "n=int(input())\n",
        "while True:\n",
        "  if n"
      ],
      "metadata": {
        "id": "6z1frU5yoU7b"
      },
      "execution_count": null,
      "outputs": []
    }
  ]
}