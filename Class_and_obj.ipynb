{
  "nbformat": 4,
  "nbformat_minor": 0,
  "metadata": {
    "colab": {
      "provenance": [],
      "authorship_tag": "ABX9TyMNABod/yq6wu9XdTTGz0yl",
      "include_colab_link": true
    },
    "kernelspec": {
      "name": "python3",
      "display_name": "Python 3"
    },
    "language_info": {
      "name": "python"
    }
  },
  "cells": [
    {
      "cell_type": "markdown",
      "metadata": {
        "id": "view-in-github",
        "colab_type": "text"
      },
      "source": [
        "<a href=\"https://colab.research.google.com/github/gowtham-dd/Data-Science-Basics/blob/main/Class_and_obj.ipynb\" target=\"_parent\"><img src=\"https://colab.research.google.com/assets/colab-badge.svg\" alt=\"Open In Colab\"/></a>"
      ]
    },
    {
      "cell_type": "code",
      "execution_count": 10,
      "metadata": {
        "id": "YDbxvSgzSzrY"
      },
      "outputs": [],
      "source": [
        "# Define a class named 'account'\n",
        "class account():\n",
        "    # Constructor (__init__) method to initialize object attributes\n",
        "    def __init__(self, name, acc, balance):\n",
        "        self.name = name  # Assigning the 'name' attribute\n",
        "        self.acc = acc  # Assigning the 'acc' (account number) attribute\n",
        "        self.balance = balance  # Assigning the 'balance' attribute\n",
        "\n",
        "    # Method to deposit money into the account\n",
        "    def deposit(self, amount):\n",
        "        self.balance = self.balance + amount  # Add the deposit amount to balance\n",
        "        return self.balance  # Return the updated balance\n",
        "\n",
        "\n"
      ]
    },
    {
      "cell_type": "code",
      "source": [
        "# Creating an instance of 'account' with name \"gowtham\", account number 12345, and balance 1000\n",
        "gowtham = account(\"gowtham\", 12345, 1000)\n",
        "\n",
        "# Creating another instance of 'account' with name \"test\", account number 12345, and balance 1000\n",
        "test = account(\"test\", 123456, 1000)\n"
      ],
      "metadata": {
        "id": "mNcJzlHqTcNS"
      },
      "execution_count": 15,
      "outputs": []
    },
    {
      "cell_type": "markdown",
      "source": [],
      "metadata": {
        "id": "Q4MUauVaU4h-"
      }
    },
    {
      "cell_type": "code",
      "source": [
        "# Depositing 1000 into 'gowtham' account and storing the updated balance in 'deposit'\n",
        "deposit = gowtham.deposit(1000)\n",
        "deposit = test.deposit(1000)\n"
      ],
      "metadata": {
        "id": "4EWIvUP0UM-2"
      },
      "execution_count": 25,
      "outputs": []
    },
    {
      "cell_type": "code",
      "source": [
        "print(gowtham.balance)  # Output: 2000\n",
        "print(test.balance)  # Output: 1000\n",
        "print(deposit)  # Output: 2000\n"
      ],
      "metadata": {
        "colab": {
          "base_uri": "https://localhost:8080/"
        },
        "id": "6XnZP4kXVKM6",
        "outputId": "d61e40b3-0f8c-4dca-d878-02117aef003d"
      },
      "execution_count": 26,
      "outputs": [
        {
          "output_type": "stream",
          "name": "stdout",
          "text": [
            "6000\n",
            "5000\n",
            "5000\n"
          ]
        }
      ]
    },
    {
      "cell_type": "code",
      "source": [],
      "metadata": {
        "id": "prNlZCvGVo9T"
      },
      "execution_count": null,
      "outputs": []
    }
  ]
}