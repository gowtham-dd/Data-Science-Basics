{
  "nbformat": 4,
  "nbformat_minor": 0,
  "metadata": {
    "colab": {
      "provenance": [],
      "authorship_tag": "ABX9TyPAXxnTtIa4D/pg2UHj9AvY",
      "include_colab_link": true
    },
    "kernelspec": {
      "name": "python3",
      "display_name": "Python 3"
    },
    "language_info": {
      "name": "python"
    }
  },
  "cells": [
    {
      "cell_type": "markdown",
      "metadata": {
        "id": "view-in-github",
        "colab_type": "text"
      },
      "source": [
        "<a href=\"https://colab.research.google.com/github/gowtham-dd/Data-Science-Basics/blob/main/27_1_25.ipynb\" target=\"_parent\"><img src=\"https://colab.research.google.com/assets/colab-badge.svg\" alt=\"Open In Colab\"/></a>"
      ]
    },
    {
      "cell_type": "code",
      "execution_count": 16,
      "metadata": {
        "colab": {
          "base_uri": "https://localhost:8080/"
        },
        "id": "8eZWqjtd3sTl",
        "outputId": "ee3c8923-1aa6-4c63-9e37-39fff86d104f"
      },
      "outputs": [
        {
          "output_type": "stream",
          "name": "stdout",
          "text": [
            "2\n",
            "['hi', 'hello', 'everyone']\n",
            "Hi hello everyone\n",
            "15\n",
            "hi hello everyone\n",
            "False\n",
            "True\n",
            "True\n",
            "Gowtham is a \n",
            " Boy\n",
            "7\n",
            "-1\n"
          ]
        }
      ],
      "source": [
        "#data types\n",
        "b=\"123456\"\n",
        "a=\"hi hello everyone\"\n",
        "print(a.count(\"l\"))\n",
        "print(a.split())\n",
        "print(a.capitalize())\n",
        "print(a.index(\"n\"))\n",
        "print(a.casefold())\n",
        "print(a.isalpha())\n",
        "print(b.isnumeric())\n",
        "print(b.isalnum())\n",
        "print(\"Gowtham is a \\n Boy\")\n",
        "\n",
        "print(a.find(\"o\"))\n",
        "print(a.find(\"z\")) ##-1 if no letter as such\n",
        "## print(a.index(\"z\")) error will come\n"
      ]
    },
    {
      "cell_type": "code",
      "source": [
        "## string format\n",
        "name=\"gowtham\"\n",
        "print(R\"Gowtham\\n20\") ## Raw string to print anything in it like \\n to\n",
        "print(f\"gowttham\\n20\")## formatted string we can format\n",
        "print(f\"hi{name}\")\n",
        "print(\"hi{name}\")"
      ],
      "metadata": {
        "colab": {
          "base_uri": "https://localhost:8080/"
        },
        "id": "hrXFvDxiFv3Y",
        "outputId": "147cfacc-741e-48eb-8f61-e15ac2889e5c"
      },
      "execution_count": 24,
      "outputs": [
        {
          "output_type": "stream",
          "name": "stdout",
          "text": [
            "Gowtham\\n20\n",
            "gowttham\n",
            "20\n",
            "higowtham\n",
            "hi{name}\n"
          ]
        }
      ]
    },
    {
      "cell_type": "code",
      "source": [
        "print(a.replace('o','a'))\n",
        "print(a.replace('o','1'))\n",
        "print(a.startswith('h'))"
      ],
      "metadata": {
        "colab": {
          "base_uri": "https://localhost:8080/"
        },
        "id": "raSGlFSaJHIw",
        "outputId": "3a955803-9887-4ee4-a0eb-12a6a3ed2657"
      },
      "execution_count": 27,
      "outputs": [
        {
          "output_type": "stream",
          "name": "stdout",
          "text": [
            "hi hella everyane\n",
            "hi hell1 every1ne\n",
            "True\n"
          ]
        }
      ]
    },
    {
      "cell_type": "code",
      "source": [
        "# split and join impooo\n",
        "\n",
        "\n",
        "AA=\"gowtham is a student\"\n",
        "BB=\"student\"\n",
        "print(AA.split())\n",
        "print(AA.split('w'))\n"
      ],
      "metadata": {
        "colab": {
          "base_uri": "https://localhost:8080/"
        },
        "id": "EN8aqxrcLj14",
        "outputId": "155d3254-85cc-4528-d637-67fdd42c3e8a"
      },
      "execution_count": 40,
      "outputs": [
        {
          "output_type": "stream",
          "name": "stdout",
          "text": [
            "['gowtham', 'is', 'a', 'student']\n",
            "['go', 'tham is a student']\n",
            "<list_reverseiterator object at 0x799522ffa830>\n"
          ]
        }
      ]
    },
    {
      "cell_type": "code",
      "source": [
        "## join only in list\n",
        "\n",
        "a=['a','aa','aa']\n",
        "print(\"\".join(a))\n"
      ],
      "metadata": {
        "colab": {
          "base_uri": "https://localhost:8080/"
        },
        "id": "bJ-N1S1mNyKV",
        "outputId": "be8aff51-2559-450b-b287-fe71422038dd"
      },
      "execution_count": 41,
      "outputs": [
        {
          "output_type": "stream",
          "name": "stdout",
          "text": [
            "aaaaa\n"
          ]
        }
      ]
    },
    {
      "cell_type": "code",
      "source": [
        "## slicing\n",
        "\n",
        "slicings=\"malayalam\"\n",
        "print(slicings[4])\n",
        "print(slicings[4:])\n",
        "print(slicings[:5])\n",
        "print(slicings[4:11])\n",
        "print(slicings[4::-1])\n",
        "print(slicings[0:10:2])\n",
        "\n",
        "print(slicings[::-1])\n",
        "\n",
        "if slicings==slicings[::-1]:\n",
        "    print(\"palindrome\")\n",
        "else:\n",
        "    print(\"not palindrome\")\n",
        "print(slicings.capitalize()[0:6])#capitalize and slice\n",
        "print(slicings[0:6].capitalize())#slice and capitalize\n",
        "print(slicings[len(slicings)-2])#get last letter find the len and put a slice in it to find last"
      ],
      "metadata": {
        "colab": {
          "base_uri": "https://localhost:8080/"
        },
        "id": "rYZw-vkUPZQC",
        "outputId": "8bcc929c-5e11-498e-bc75-0ed6f5af6acb"
      },
      "execution_count": 58,
      "outputs": [
        {
          "output_type": "stream",
          "name": "stdout",
          "text": [
            "y\n",
            "yalam\n",
            "malay\n",
            "yalam\n",
            "yalam\n",
            "mlylm\n",
            "malayalam\n",
            "palindrome\n",
            "Malaya\n",
            "Malaya\n",
            "a\n"
          ]
        }
      ]
    },
    {
      "cell_type": "code",
      "source": [],
      "metadata": {
        "id": "kr-PeCGVTfyh"
      },
      "execution_count": null,
      "outputs": []
    }
  ]
}