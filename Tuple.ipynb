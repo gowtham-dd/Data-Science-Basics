{
  "nbformat": 4,
  "nbformat_minor": 0,
  "metadata": {
    "colab": {
      "provenance": [],
      "authorship_tag": "ABX9TyNTlM0YnG/tfsfLkZaFtVIH",
      "include_colab_link": true
    },
    "kernelspec": {
      "name": "python3",
      "display_name": "Python 3"
    },
    "language_info": {
      "name": "python"
    }
  },
  "cells": [
    {
      "cell_type": "markdown",
      "metadata": {
        "id": "view-in-github",
        "colab_type": "text"
      },
      "source": [
        "<a href=\"https://colab.research.google.com/github/gowtham-dd/Data-Science-Basics/blob/main/Tuple.ipynb\" target=\"_parent\"><img src=\"https://colab.research.google.com/assets/colab-badge.svg\" alt=\"Open In Colab\"/></a>"
      ]
    },
    {
      "cell_type": "code",
      "execution_count": 3,
      "metadata": {
        "colab": {
          "base_uri": "https://localhost:8080/"
        },
        "id": "3voODmfZO0p3",
        "outputId": "af0cdcbd-a329-4a78-f3b4-6f479f7fd602"
      },
      "outputs": [
        {
          "output_type": "stream",
          "name": "stdout",
          "text": [
            "4 1 2 3\n"
          ]
        }
      ],
      "source": [
        "#same as list but immutable\n",
        "b,c,d,a=(1,2,3,4)\n",
        "print(a,b,c,d)"
      ]
    },
    {
      "cell_type": "code",
      "source": [
        "#set {} no duplicate and sort them it dont have index\n",
        "a={1,2,1,3,2,6,4,5}\n",
        "print(a)\n"
      ],
      "metadata": {
        "colab": {
          "base_uri": "https://localhost:8080/"
        },
        "id": "ABzKdTH6Plzu",
        "outputId": "e0433895-e634-4a77-ecc4-77539165a053"
      },
      "execution_count": 5,
      "outputs": [
        {
          "output_type": "stream",
          "name": "stdout",
          "text": [
            "{1, 2, 3, 4, 5, 6}\n"
          ]
        }
      ]
    },
    {
      "cell_type": "code",
      "source": [],
      "metadata": {
        "id": "DmuZfgcAfTFq"
      },
      "execution_count": null,
      "outputs": []
    },
    {
      "cell_type": "code",
      "source": [
        "#dictionary keys() values() hash map data structuree\n",
        "c={'name':'Gow','cls':'12','age':'20','deg':['b.com','mcom']}\n",
        "for key in c.keys():\n",
        "    print(key)\n",
        "for value in c.values():\n",
        "    print(value)\n",
        "for key,value in c.items():\n",
        "  print(key,value)"
      ],
      "metadata": {
        "colab": {
          "base_uri": "https://localhost:8080/"
        },
        "id": "YFX4eOUJY1Sp",
        "outputId": "eaebed8d-a16e-43ae-e3f7-c4c9d0d06c2a"
      },
      "execution_count": 14,
      "outputs": [
        {
          "output_type": "stream",
          "name": "stdout",
          "text": [
            "name\n",
            "cls\n",
            "age\n",
            "deg\n",
            "Gow\n",
            "12\n",
            "20\n",
            "['b.com', 'mcom']\n",
            "name Gow\n",
            "cls 12\n",
            "age 20\n",
            "deg ['b.com', 'mcom']\n"
          ]
        }
      ]
    },
    {
      "cell_type": "code",
      "source": [
        "A={'A':(1,2,3,4),'B':(5,6,7,8)} #tuple dictionary\n",
        "print(A)"
      ],
      "metadata": {
        "colab": {
          "base_uri": "https://localhost:8080/"
        },
        "id": "eMcKRchOezD0",
        "outputId": "e543c60b-1346-4148-8e11-ab3053630d59"
      },
      "execution_count": 15,
      "outputs": [
        {
          "output_type": "stream",
          "name": "stdout",
          "text": [
            "{'A': (1, 2, 3, 4), 'B': (5, 6, 7, 8)}\n"
          ]
        }
      ]
    },
    {
      "cell_type": "code",
      "source": [
        "c={'name':'Gow','cls':'12','age':'20','deg':['b.com','mcom']}\n",
        "\n",
        "c['name']='gowtham'\n",
        "print(c)\n",
        "c['mark']='78'\n",
        "print(c)\n",
        "del c['age']\n",
        "print(c)\n",
        "\n",
        "c['Exp']={'Teach':'10','expe':'12'}\n",
        "print(c)"
      ],
      "metadata": {
        "colab": {
          "base_uri": "https://localhost:8080/"
        },
        "id": "BK1EujSYcLqv",
        "outputId": "8f22790f-4efc-4e30-9bfc-616e65692044"
      },
      "execution_count": 13,
      "outputs": [
        {
          "output_type": "stream",
          "name": "stdout",
          "text": [
            "{'name': 'gowtham', 'cls': '12', 'age': '20', 'deg': ['b.com', 'mcom']}\n",
            "{'name': 'gowtham', 'cls': '12', 'age': '20', 'deg': ['b.com', 'mcom'], 'mark': '78'}\n",
            "{'name': 'gowtham', 'cls': '12', 'deg': ['b.com', 'mcom'], 'mark': '78'}\n",
            "{'name': 'gowtham', 'cls': '12', 'deg': ['b.com', 'mcom'], 'mark': '78', 'Exp': {'Teach': '10', 'expe': '12'}}\n"
          ]
        }
      ]
    }
  ]
}