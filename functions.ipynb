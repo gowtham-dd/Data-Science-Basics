{
  "nbformat": 4,
  "nbformat_minor": 0,
  "metadata": {
    "colab": {
      "provenance": [],
      "authorship_tag": "ABX9TyPPhJHUvUcFbhvPjEYUKJZg",
      "include_colab_link": true
    },
    "kernelspec": {
      "name": "python3",
      "display_name": "Python 3"
    },
    "language_info": {
      "name": "python"
    }
  },
  "cells": [
    {
      "cell_type": "markdown",
      "metadata": {
        "id": "view-in-github",
        "colab_type": "text"
      },
      "source": [
        "<a href=\"https://colab.research.google.com/github/gowtham-dd/Data-Science-Basics/blob/main/functions.ipynb\" target=\"_parent\"><img src=\"https://colab.research.google.com/assets/colab-badge.svg\" alt=\"Open In Colab\"/></a>"
      ]
    },
    {
      "cell_type": "code",
      "execution_count": 22,
      "metadata": {
        "id": "pt2E9xCTY4lW"
      },
      "outputs": [],
      "source": [
        "#functions\n",
        "def guvi():\n",
        "  a=input(\"enter name:\")\n",
        "  print(a,\"entrolled\")\n",
        "  return a\n",
        ""
      ]
    },
    {
      "cell_type": "code",
      "source": [
        "def payment(student):\n",
        "  print(f\"{student}paid fee\")\n",
        "  return True #payment over"
      ],
      "metadata": {
        "id": "IGKvPVB1bx0p"
      },
      "execution_count": 23,
      "outputs": []
    },
    {
      "cell_type": "code",
      "source": [
        "def cordinate(a):\n",
        "  if a==True:\n",
        "    print(\"syccess\")"
      ],
      "metadata": {
        "id": "VL56WhXddbi3"
      },
      "execution_count": 24,
      "outputs": []
    },
    {
      "cell_type": "code",
      "source": [
        "cordinate(True)"
      ],
      "metadata": {
        "colab": {
          "base_uri": "https://localhost:8080/"
        },
        "id": "zhu3kqKneHeS",
        "outputId": "8da548c3-b6fa-4c82-f66f-8bfcb30a0f67"
      },
      "execution_count": 25,
      "outputs": [
        {
          "output_type": "stream",
          "name": "stdout",
          "text": [
            "syccess\n"
          ]
        }
      ]
    },
    {
      "cell_type": "code",
      "source": [
        "cordinate(payment(guvi()))"
      ],
      "metadata": {
        "colab": {
          "base_uri": "https://localhost:8080/"
        },
        "id": "mLXJQ2IAdmvR",
        "outputId": "5bfabb3e-a232-4043-9c43-12ab5dc84fbb"
      },
      "execution_count": 26,
      "outputs": [
        {
          "output_type": "stream",
          "name": "stdout",
          "text": [
            "enter name:xc\n",
            "xc entrolled\n",
            "xcpaid fee\n",
            "syccess\n"
          ]
        }
      ]
    },
    {
      "cell_type": "code",
      "source": [
        "x=guvi()\n",
        "payment(x)\n",
        "#or payment(guvi())"
      ],
      "metadata": {
        "colab": {
          "base_uri": "https://localhost:8080/"
        },
        "id": "dD0LqD2ccAii",
        "outputId": "625fc15e-b603-4799-e172-35f8f68dd0ce"
      },
      "execution_count": 9,
      "outputs": [
        {
          "output_type": "stream",
          "name": "stdout",
          "text": [
            "enter name:y\n",
            "y entrolled\n",
            "ypaid fee\n"
          ]
        }
      ]
    },
    {
      "cell_type": "code",
      "source": [
        "def starting():\n",
        "  aa=input()\n",
        "  b=input()\n",
        "  c=aa.replace('a','b')\n",
        "  return c"
      ],
      "metadata": {
        "id": "ZSkiUFF_aIrI"
      },
      "execution_count": 20,
      "outputs": []
    },
    {
      "cell_type": "code",
      "source": [
        "starting()"
      ],
      "metadata": {
        "colab": {
          "base_uri": "https://localhost:8080/",
          "height": 70
        },
        "id": "iSVaBH5UaW0R",
        "outputId": "d21f2794-81b1-4000-f150-51d17db1db94"
      },
      "execution_count": 21,
      "outputs": [
        {
          "name": "stdout",
          "output_type": "stream",
          "text": [
            "re\n",
            "aw\n"
          ]
        },
        {
          "output_type": "execute_result",
          "data": {
            "text/plain": [
              "'re'"
            ],
            "application/vnd.google.colaboratory.intrinsic+json": {
              "type": "string"
            }
          },
          "metadata": {},
          "execution_count": 21
        }
      ]
    },
    {
      "cell_type": "code",
      "source": [
        "def add(a,b):\n",
        "  return a+b"
      ],
      "metadata": {
        "id": "SI10LxX9gdNS"
      },
      "execution_count": 27,
      "outputs": []
    },
    {
      "cell_type": "code",
      "source": [
        "add(1,2)"
      ],
      "metadata": {
        "colab": {
          "base_uri": "https://localhost:8080/"
        },
        "id": "FT67SqtlggML",
        "outputId": "3ba6fa6f-3a04-4e7d-f7c7-d518105c9499"
      },
      "execution_count": 28,
      "outputs": [
        {
          "output_type": "execute_result",
          "data": {
            "text/plain": [
              "3"
            ]
          },
          "metadata": {},
          "execution_count": 28
        }
      ]
    },
    {
      "cell_type": "code",
      "source": [
        "def large(A,B,C):\n",
        "  if A==B==C:\n",
        "    print(\"all are equal\")\n",
        "  elif A>B and A>C:\n",
        "    print(f\"{A}is big\")\n",
        "  elif C>B and C>A:\n",
        "    print(f\"{C}is big\")\n",
        "  else:\n",
        "    print(f\"{B} is big\")\n",
        ""
      ],
      "metadata": {
        "id": "GWvGMv9Ag-fN"
      },
      "execution_count": 46,
      "outputs": []
    },
    {
      "cell_type": "code",
      "source": [
        "large(0,0,0)"
      ],
      "metadata": {
        "colab": {
          "base_uri": "https://localhost:8080/"
        },
        "id": "dqwwn_3ShW-S",
        "outputId": "1893861d-65eb-4b8e-eef7-b0262624f728"
      },
      "execution_count": 48,
      "outputs": [
        {
          "output_type": "stream",
          "name": "stdout",
          "text": [
            "all are equal\n"
          ]
        }
      ]
    },
    {
      "cell_type": "code",
      "source": [
        "def largest():\n",
        "  a,b,c=input().split()\n",
        "  if a>b and a>c:\n",
        "    print(a)\n",
        "  elif b>a and b>c:\n",
        "    print(b)\n",
        "  elif c>b and c>a:\n",
        "    print(c)"
      ],
      "metadata": {
        "id": "fuHbN9GLjf2f"
      },
      "execution_count": 63,
      "outputs": []
    },
    {
      "cell_type": "code",
      "source": [
        "largest()"
      ],
      "metadata": {
        "colab": {
          "base_uri": "https://localhost:8080/"
        },
        "id": "ou7R2or6j-Wv",
        "outputId": "5f14d6be-5009-4c4e-8abb-521ff9d81cdb"
      },
      "execution_count": 65,
      "outputs": [
        {
          "output_type": "stream",
          "name": "stdout",
          "text": [
            "1 7 34\n",
            "7\n"
          ]
        }
      ]
    },
    {
      "cell_type": "code",
      "source": [
        "import requests\n",
        "\n",
        "def get_joke():\n",
        "    url = \"https://official-joke-api.appspot.com/random_joke\"\n",
        "    response = requests.get(url)\n",
        "    if response.status_code == 200:\n",
        "        joke = response.json()\n",
        "\n",
        "        return f\"{joke['setup']} - {joke['punchline']}\"\n",
        "    return \"Failed to fetch joke\"\n",
        "\n",
        "print(get_joke())\n"
      ],
      "metadata": {
        "colab": {
          "base_uri": "https://localhost:8080/"
        },
        "id": "zVlHfXyum549",
        "outputId": "e864d605-376c-4052-b499-81ccfef58016"
      },
      "execution_count": 78,
      "outputs": [
        {
          "output_type": "stream",
          "name": "stdout",
          "text": [
            "What happens when you anger a brain surgeon? - They will give you a piece of your mind.\n"
          ]
        }
      ]
    },
    {
      "cell_type": "code",
      "source": [
        "#arguements\n",
        "def id(name,dob,cd=31):# d=31 keyword/default arguements\n",
        "  print(f\"hi{name} your db:{dob} and cd:{cd}\")\n",
        "\n",
        "\n"
      ],
      "metadata": {
        "id": "ZmhprAUopDBh"
      },
      "execution_count": 83,
      "outputs": []
    },
    {
      "cell_type": "code",
      "source": [
        "id('xx',2004)\n",
        "id('xx',2004,30)"
      ],
      "metadata": {
        "colab": {
          "base_uri": "https://localhost:8080/"
        },
        "id": "AV9PO85pqPa0",
        "outputId": "4fe4dc2e-baf2-4910-f3b9-4b15d2278d2e"
      },
      "execution_count": 86,
      "outputs": [
        {
          "output_type": "stream",
          "name": "stdout",
          "text": [
            "hixx your db:2004 and cd:31\n",
            "hixx your db:2004 and cd:30\n"
          ]
        }
      ]
    },
    {
      "cell_type": "code",
      "source": [
        "#dont know how many arg use variable/arbitary arguements\n",
        "def  add(*args):\n",
        "  z=0\n",
        "  for i in args:\n",
        "    z+=i;\n",
        "  return z"
      ],
      "metadata": {
        "id": "7Od1Wjofqtsp"
      },
      "execution_count": 89,
      "outputs": []
    },
    {
      "cell_type": "code",
      "source": [
        "add(1,2,3,4,5,6,7)\n"
      ],
      "metadata": {
        "colab": {
          "base_uri": "https://localhost:8080/"
        },
        "id": "ui47A0OVrd7W",
        "outputId": "c74853c2-0a89-483a-efb6-12dfd248873b"
      },
      "execution_count": 93,
      "outputs": [
        {
          "output_type": "execute_result",
          "data": {
            "text/plain": [
              "28"
            ]
          },
          "metadata": {},
          "execution_count": 93
        }
      ]
    },
    {
      "cell_type": "code",
      "source": [
        "add(-9,8,7,6,5)"
      ],
      "metadata": {
        "colab": {
          "base_uri": "https://localhost:8080/"
        },
        "id": "EbGAJJ7Mr7Mz",
        "outputId": "65e19abe-617d-4cea-e4d1-c67644c7a587"
      },
      "execution_count": 94,
      "outputs": [
        {
          "output_type": "execute_result",
          "data": {
            "text/plain": [
              "17"
            ]
          },
          "metadata": {},
          "execution_count": 94
        }
      ]
    },
    {
      "cell_type": "code",
      "source": [
        "#blend all\n",
        "def ATM(Name,ACC=12345,*Transaction):\n",
        "  print(f\"{Name} {ACC} {Transaction}\")\n",
        "  for i in Transaction:\n",
        "    print(i)"
      ],
      "metadata": {
        "id": "4G-5CxghsD0y"
      },
      "execution_count": 97,
      "outputs": []
    },
    {
      "cell_type": "code",
      "source": [
        "ATM('xxx',67,90,76)"
      ],
      "metadata": {
        "colab": {
          "base_uri": "https://localhost:8080/"
        },
        "id": "8f4ZdwfQvDjT",
        "outputId": "f28a8c57-580b-4b64-8258-58a452b0cd33"
      },
      "execution_count": 99,
      "outputs": [
        {
          "output_type": "stream",
          "name": "stdout",
          "text": [
            "xxx 67 (90, 76)\n",
            "90\n",
            "76\n"
          ]
        }
      ]
    }
  ]
}