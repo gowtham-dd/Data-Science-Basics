{
  "nbformat": 4,
  "nbformat_minor": 0,
  "metadata": {
    "colab": {
      "provenance": [],
      "authorship_tag": "ABX9TyP6mZDmFdujOuXWMJwbiT3h",
      "include_colab_link": true
    },
    "kernelspec": {
      "name": "python3",
      "display_name": "Python 3"
    },
    "language_info": {
      "name": "python"
    }
  },
  "cells": [
    {
      "cell_type": "markdown",
      "metadata": {
        "id": "view-in-github",
        "colab_type": "text"
      },
      "source": [
        "<a href=\"https://colab.research.google.com/github/gowtham-dd/Data-Science-Basics/blob/main/Tasks.ipynb\" target=\"_parent\"><img src=\"https://colab.research.google.com/assets/colab-badge.svg\" alt=\"Open In Colab\"/></a>"
      ]
    },
    {
      "cell_type": "code",
      "execution_count": 8,
      "metadata": {
        "colab": {
          "base_uri": "https://localhost:8080/"
        },
        "id": "Etog2x1Fd0zK",
        "outputId": "14071c26-396d-4935-b4d5-4ead85973f36"
      },
      "outputs": [
        {
          "output_type": "stream",
          "name": "stdout",
          "text": [
            "rajini kanth\n",
            "kamal hassan\n",
            "alia bhat\n"
          ]
        }
      ],
      "source": [
        "for name1 in ['rajini', 'kamal', 'alia']:\n",
        "    for name2 in ['kanth', 'hassan', 'bhat']:\n",
        "        if ['rajini', 'kamal', 'alia'].index(name1) == ['kanth', 'hassan', 'bhat'].index(name2):\n",
        "            print(name1, name2)"
      ]
    },
    {
      "cell_type": "code",
      "source": [
        "food=[\"Tea\",\"Coffee\",\"Samosa\",\"Puff\"]\n",
        "rate=[\"12\",\"20\",\"15\",\"17\"]\n",
        "print(\"MENU:\")\n",
        "bill=0\n",
        "for i in range(len(food)):\n",
        "  for j in range(len(rate)):\n",
        "    if i==j:\n",
        "\n",
        "      print([\"Tea\",\"Coffee\",\"Samosa\",\"Puff\"][i],[\"12\",\"20\",\"15\",\"17\"][j])\n",
        "order=input(\"Please give your order:\")\n",
        "if order==\"Tea\":\n",
        "  bill+=12\n",
        "  reorder= input(\"Any other order: ? Y/N\")\n",
        "  if reorder==\"Y\":\n",
        "    order=input(\"Please give your order:\")\n",
        "    bill+=bill\n",
        "\n",
        "\n",
        "\n",
        "elif order==\"Coffee\":\n",
        "  bill+=20\n",
        "  reorder= input(\"Any other order: ? Y/N\")\n",
        "  if reorder==\"Y\":\n",
        "    order=input(\"Please give your order:\")\n",
        "    bill+=bill\n",
        "elif order==\"Samosa\":\n",
        "  bill+=15\n",
        "  reorder= input(\"Any other order: ? Y/N\")\n",
        "  if reorder==\"Y\":\n",
        "    order=input(\"Please give your order:\")\n",
        "    bill+=bill\n",
        "elif order==\"Puff\":\n",
        "  bill+=17\n",
        "  reorder= input(\"Any other order: ? Y/N\")\n",
        "  if reorder==\"Y\":\n",
        "    order=input(\"Please give your order:\")\n",
        "    bill+=bill\n",
        "    reorder= input(\"Any other order: ? Y/N\")\n",
        "  if reorder==\"Y\":\n",
        "    order=input(\"Please give your order:\")\n",
        "    bill+=bill\n",
        "print(\"Your bill is:\",bill)\n",
        ""
      ],
      "metadata": {
        "colab": {
          "base_uri": "https://localhost:8080/"
        },
        "id": "FnbMhBNXmpqj",
        "outputId": "cbb44a2e-4377-4403-e192-0d81fe62f14e"
      },
      "execution_count": 17,
      "outputs": [
        {
          "output_type": "stream",
          "name": "stdout",
          "text": [
            "MENU:\n",
            "Tea 12\n",
            "Coffee 20\n",
            "Samosa 15\n",
            "Puff 17\n",
            "Please give your order:Coffee\n",
            "Any other order: ? Y/NY\n",
            "Please give your order:Tea\n",
            "Your bill is: 40\n"
          ]
        }
      ]
    },
    {
      "cell_type": "code",
      "source": [
        "foods=[\"Tea\",\"Coffee\",\"Samosa\",\"Puff\"]\n",
        "rates=[\"15\",\"20\",\"25\",\"17\"]\n",
        "bill=0\n",
        "\n",
        "print(\"MENU:\")\n",
        "for i in range(len(foods)):\n",
        "  for j in range(len(rates)):\n",
        "    if i==j:\n",
        "      print(foods[i],rates[j])\n",
        "while True:\n",
        "  reorder=input(\" Do you need anything from menu Y/N:\")\n",
        "  if reorder==\"Y\":\n",
        "    order=input(\"Enter your order:\")\n",
        "\n",
        "    if order==\"Tea\":\n",
        "      bill+=15\n",
        "    elif order==\"Coffee\":\n",
        "      bill+=20\n",
        "    elif order==\"Samosa\":\n",
        "      bill+=25\n",
        "    elif order==\"Puff\":\n",
        "      bill+=17\n",
        "    else:\n",
        "      break\n",
        "  else:\n",
        "    print(\"Your bill is:\",bill)\n",
        "    break\n",
        "\n",
        "\n",
        "\n",
        "\n",
        "\n",
        "\n",
        "\n"
      ],
      "metadata": {
        "colab": {
          "base_uri": "https://localhost:8080/"
        },
        "id": "vorZX3jOrk-N",
        "outputId": "af021ff4-8154-4c51-b282-abf3be82d577"
      },
      "execution_count": 23,
      "outputs": [
        {
          "output_type": "stream",
          "name": "stdout",
          "text": [
            "MENU:\n",
            "Tea 15\n",
            "Coffee 20\n",
            "Samosa 25\n",
            "Puff 17\n",
            " Do you need anything from menu Y/N:Y\n",
            "Enter your order:Tea\n",
            " Do you need anything from menu Y/N:Y\n",
            "Enter your order:Samosa\n",
            " Do you need anything from menu Y/N:N\n",
            "Your bill is: 40\n"
          ]
        }
      ]
    }
  ]
}