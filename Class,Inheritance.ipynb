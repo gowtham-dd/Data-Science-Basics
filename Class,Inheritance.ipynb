{
  "nbformat": 4,
  "nbformat_minor": 0,
  "metadata": {
    "colab": {
      "provenance": [],
      "include_colab_link": true
    },
    "kernelspec": {
      "name": "python3",
      "display_name": "Python 3"
    },
    "language_info": {
      "name": "python"
    }
  },
  "cells": [
    {
      "cell_type": "markdown",
      "metadata": {
        "id": "view-in-github",
        "colab_type": "text"
      },
      "source": [
        "<a href=\"https://colab.research.google.com/github/gowtham-dd/Data-Science-Basics/blob/main/Class%2CInheritance.ipynb\" target=\"_parent\"><img src=\"https://colab.research.google.com/assets/colab-badge.svg\" alt=\"Open In Colab\"/></a>"
      ]
    },
    {
      "cell_type": "markdown",
      "source": [
        "# 04.02.2025"
      ],
      "metadata": {
        "id": "N6yhklVdIBkJ"
      }
    },
    {
      "cell_type": "code",
      "execution_count": null,
      "metadata": {
        "id": "X0YTyhARGE5f"
      },
      "outputs": [],
      "source": [
        "# classes and objects\n",
        "\n",
        "class bank():\n",
        "\n",
        "  # init  - ram is dynamic here\n",
        "  def __init__(self,name,acc,balance):  #constructor\n",
        "    self.name=name\n",
        "    self.acc=acc\n",
        "    self.balance=balance\n",
        "\n",
        "  def  deposit(self,amount):\n",
        "    self.balance=self.balance+amount\n",
        "    return self.balance\n",
        "\n",
        "  def withdraw(self,amount):\n",
        "    if self.balance >= amount:\n",
        "      self.balance=self.balance-amount\n",
        "      return self.balance\n",
        "    else:\n",
        "      return \"insufficient balance\"\n",
        "\n",
        "    def check_balance(self):\n",
        "      return self.balance\n",
        "\n"
      ]
    },
    {
      "cell_type": "code",
      "source": [
        "shree=bank(\"shree\",1,10000)\n",
        "purvaja=bank(\"purvaja\",2,20000)\n",
        "\n",
        "#here shree and purvaja are objects"
      ],
      "metadata": {
        "id": "tWhPJjXFGqhO"
      },
      "execution_count": null,
      "outputs": []
    },
    {
      "cell_type": "code",
      "source": [
        "shree.deposit(1000)"
      ],
      "metadata": {
        "colab": {
          "base_uri": "https://localhost:8080/"
        },
        "id": "BfMb_PNiGsvw",
        "outputId": "6b504a2c-8251-4cad-9214-2198b7652d56"
      },
      "execution_count": null,
      "outputs": [
        {
          "output_type": "execute_result",
          "data": {
            "text/plain": [
              "11000"
            ]
          },
          "metadata": {},
          "execution_count": 11
        }
      ]
    },
    {
      "cell_type": "code",
      "source": [
        "purvaja.withdraw(100000)"
      ],
      "metadata": {
        "colab": {
          "base_uri": "https://localhost:8080/",
          "height": 35
        },
        "id": "FMvrxKcLGtZt",
        "outputId": "b4338302-6c6a-433b-f35c-8fef14793e33"
      },
      "execution_count": null,
      "outputs": [
        {
          "output_type": "execute_result",
          "data": {
            "text/plain": [
              "'insufficient balance'"
            ],
            "application/vnd.google.colaboratory.intrinsic+json": {
              "type": "string"
            }
          },
          "metadata": {},
          "execution_count": 12
        }
      ]
    },
    {
      "cell_type": "code",
      "source": [],
      "metadata": {
        "id": "x1N3kuzdVdjt"
      },
      "execution_count": null,
      "outputs": []
    },
    {
      "cell_type": "code",
      "source": [
        "class post():\n",
        "  def __init__(self,user,time,content):\n",
        "    self.user=user\n",
        "    self.time=time\n",
        "    self.content=content\n",
        "    self.like=0\n",
        "    self.comment=[]\n",
        "\n",
        "  def like_post(self):\n",
        "    self.like=self.like+1\n",
        "    return self.like\n",
        "\n",
        "  def comment_post(self,user,comment):\n",
        "    self.comment.append(comment)\n",
        "    return \"comment has been successfully posted\"\n",
        "\n",
        "\n"
      ],
      "metadata": {
        "id": "MWyZMUXvKyau"
      },
      "execution_count": null,
      "outputs": []
    },
    {
      "cell_type": "code",
      "source": [
        "from datetime import datetime\n",
        "shree = post(\"Purvaja\",datetime.now(),\"Hey Everybody\")"
      ],
      "metadata": {
        "id": "NkXgG1BBMVhj"
      },
      "execution_count": null,
      "outputs": []
    },
    {
      "cell_type": "code",
      "source": [
        "shree.like_post()\n",
        "\n"
      ],
      "metadata": {
        "colab": {
          "base_uri": "https://localhost:8080/"
        },
        "id": "YEVtAcQ1NW_I",
        "outputId": "d033ebfc-386b-404e-e68c-3101bed87dbb"
      },
      "execution_count": null,
      "outputs": [
        {
          "output_type": "execute_result",
          "data": {
            "text/plain": [
              "1"
            ]
          },
          "metadata": {},
          "execution_count": 38
        }
      ]
    },
    {
      "cell_type": "code",
      "source": [
        "shree.comment_post(\"Purvaja\",\"Arumaiii\")"
      ],
      "metadata": {
        "colab": {
          "base_uri": "https://localhost:8080/",
          "height": 35
        },
        "id": "tRbQkupMOEHh",
        "outputId": "d7f756d3-9e56-40db-893c-1d79c4113d7a"
      },
      "execution_count": null,
      "outputs": [
        {
          "output_type": "execute_result",
          "data": {
            "text/plain": [
              "'comment has been successfully posted'"
            ],
            "application/vnd.google.colaboratory.intrinsic+json": {
              "type": "string"
            }
          },
          "metadata": {},
          "execution_count": 39
        }
      ]
    },
    {
      "cell_type": "code",
      "source": [
        "# inheritance - single inheritance\n",
        "\n",
        "class mother():\n",
        "  def nose(self):\n",
        "    return \"inherited\"\n",
        "\n",
        "class daughter(mother):\n",
        "  def hair(self):\n",
        "    return \"dense and silky\"\n"
      ],
      "metadata": {
        "id": "RSYhAEQPQyrh"
      },
      "execution_count": null,
      "outputs": []
    },
    {
      "cell_type": "code",
      "source": [
        "me=daughter()\n",
        "me.hair()"
      ],
      "metadata": {
        "colab": {
          "base_uri": "https://localhost:8080/",
          "height": 35
        },
        "id": "3P9S5gxPU1Xj",
        "outputId": "677fbfb8-0b17-4f2a-e664-c0128bc7d56b"
      },
      "execution_count": null,
      "outputs": [
        {
          "output_type": "execute_result",
          "data": {
            "text/plain": [
              "'dense and silky'"
            ],
            "application/vnd.google.colaboratory.intrinsic+json": {
              "type": "string"
            }
          },
          "metadata": {},
          "execution_count": 41
        }
      ]
    },
    {
      "cell_type": "code",
      "source": [
        "me.nose()"
      ],
      "metadata": {
        "colab": {
          "base_uri": "https://localhost:8080/",
          "height": 35
        },
        "id": "ogDLQRrEVDcs",
        "outputId": "74c9e864-0917-4160-f7ce-c6b571c1f9e1"
      },
      "execution_count": null,
      "outputs": [
        {
          "output_type": "execute_result",
          "data": {
            "text/plain": [
              "'inherited'"
            ],
            "application/vnd.google.colaboratory.intrinsic+json": {
              "type": "string"
            }
          },
          "metadata": {},
          "execution_count": 42
        }
      ]
    },
    {
      "cell_type": "code",
      "source": [
        "# multiple inheritance\n",
        "\n",
        "class mother():                       #parent/super class\n",
        "  def nose(self):\n",
        "    return \"inherited\"\n",
        "\n",
        "class father():                       #parent/super class\n",
        "  def hair(self):\n",
        "    return \"dense and silky\"\n",
        "\n",
        "class daughter():                     #parent/super class\n",
        "  def nature(self):\n",
        "    return \"porumai\"\n",
        "\n",
        "class son(mother,father,daughter):  #child/sub class\n",
        "  pass\n"
      ],
      "metadata": {
        "id": "07XkAcfzWXsl"
      },
      "execution_count": null,
      "outputs": []
    },
    {
      "cell_type": "code",
      "source": [
        "me=son()\n",
        "me.nature()\n",
        "\n"
      ],
      "metadata": {
        "colab": {
          "base_uri": "https://localhost:8080/",
          "height": 35
        },
        "id": "jpu6VMekWo7-",
        "outputId": "d79a93cf-0a7b-4411-ed73-85f03001bffb"
      },
      "execution_count": null,
      "outputs": [
        {
          "output_type": "execute_result",
          "data": {
            "text/plain": [
              "'dense and silky'"
            ],
            "application/vnd.google.colaboratory.intrinsic+json": {
              "type": "string"
            }
          },
          "metadata": {},
          "execution_count": 53
        }
      ]
    },
    {
      "cell_type": "code",
      "source": [
        "me.nose()\n"
      ],
      "metadata": {
        "colab": {
          "base_uri": "https://localhost:8080/",
          "height": 35
        },
        "id": "PNzgaxkoX_pr",
        "outputId": "79c520dd-abe0-4eea-e456-85788a4a6763"
      },
      "execution_count": null,
      "outputs": [
        {
          "output_type": "execute_result",
          "data": {
            "text/plain": [
              "'inherited'"
            ],
            "application/vnd.google.colaboratory.intrinsic+json": {
              "type": "string"
            }
          },
          "metadata": {},
          "execution_count": 54
        }
      ]
    },
    {
      "cell_type": "code",
      "source": [
        "me.hair()"
      ],
      "metadata": {
        "colab": {
          "base_uri": "https://localhost:8080/",
          "height": 35
        },
        "id": "Er61gC09YBA5",
        "outputId": "864b473a-55f0-4409-b5c2-da25fa633fbb"
      },
      "execution_count": null,
      "outputs": [
        {
          "output_type": "execute_result",
          "data": {
            "text/plain": [
              "'dense and silky'"
            ],
            "application/vnd.google.colaboratory.intrinsic+json": {
              "type": "string"
            }
          },
          "metadata": {},
          "execution_count": 55
        }
      ]
    },
    {
      "cell_type": "code",
      "source": [
        "# multilevel inheritance\n",
        "\n",
        "class mother():                       #parent/super class\n",
        "  def nose(self):\n",
        "    return \"inherited\"\n",
        "\n",
        "class father():                       #parent/super class\n",
        "  def hair(self):\n",
        "    return \"dense and silky\"\n",
        "\n",
        "class daughter():                     #parent/super class\n",
        "  def nature(self):\n",
        "    return \"porumai\"\n",
        "\n",
        "  def nose(self):\n",
        "    return \"good\"\n",
        "\n",
        "class son(mother,father,daughter):    #child/sub class\n",
        "  pass\n",
        "\n",
        "class granddaughter(son):\n",
        "  def beautiful(self):\n",
        "    return \"yes\""
      ],
      "metadata": {
        "id": "pmJHAQazYFBG"
      },
      "execution_count": null,
      "outputs": []
    },
    {
      "cell_type": "code",
      "source": [
        "me=granddaughter()\n",
        "me.beautiful()"
      ],
      "metadata": {
        "colab": {
          "base_uri": "https://localhost:8080/",
          "height": 35
        },
        "id": "mstD0OVrYT6w",
        "outputId": "98a9bd90-6dc5-44d5-9b4a-8bb0bce5a0c7"
      },
      "execution_count": null,
      "outputs": [
        {
          "output_type": "execute_result",
          "data": {
            "text/plain": [
              "'yes'"
            ],
            "application/vnd.google.colaboratory.intrinsic+json": {
              "type": "string"
            }
          },
          "metadata": {},
          "execution_count": 4
        }
      ]
    },
    {
      "cell_type": "code",
      "source": [
        "me.nose()"
      ],
      "metadata": {
        "colab": {
          "base_uri": "https://localhost:8080/",
          "height": 35
        },
        "id": "kZT27jnXdw_k",
        "outputId": "b88d7a1c-271f-4f89-96c6-c84202ed12b3"
      },
      "execution_count": null,
      "outputs": [
        {
          "output_type": "execute_result",
          "data": {
            "text/plain": [
              "'inherited'"
            ],
            "application/vnd.google.colaboratory.intrinsic+json": {
              "type": "string"
            }
          },
          "metadata": {},
          "execution_count": 6
        }
      ]
    },
    {
      "cell_type": "code",
      "source": [
        "class one():\n",
        "  def onee(self):\n",
        "    return \"parent\"\n",
        "\n",
        "class two(one):\n",
        "  def twos(self):\n",
        "    return \"child of one\"\n",
        "\n"
      ],
      "metadata": {
        "id": "3ngSRb6SP_g6"
      },
      "execution_count": null,
      "outputs": []
    },
    {
      "cell_type": "code",
      "source": [
        "twoo=two()\n",
        "twoo.twos()\n"
      ],
      "metadata": {
        "colab": {
          "base_uri": "https://localhost:8080/",
          "height": 35
        },
        "id": "7-jDGRGyQLoz",
        "outputId": "d8e4cdad-2004-492d-c42b-f67f8535fd99"
      },
      "execution_count": null,
      "outputs": [
        {
          "output_type": "execute_result",
          "data": {
            "text/plain": [
              "'child of one'"
            ],
            "application/vnd.google.colaboratory.intrinsic+json": {
              "type": "string"
            }
          },
          "metadata": {},
          "execution_count": 6
        }
      ]
    },
    {
      "cell_type": "code",
      "source": [
        "twoo.onee()\n"
      ],
      "metadata": {
        "colab": {
          "base_uri": "https://localhost:8080/",
          "height": 35
        },
        "id": "Zg4L2TtpQ23D",
        "outputId": "be3d89ba-b4c9-427e-e7be-aafd08f7740c"
      },
      "execution_count": null,
      "outputs": [
        {
          "output_type": "execute_result",
          "data": {
            "text/plain": [
              "'parent'"
            ],
            "application/vnd.google.colaboratory.intrinsic+json": {
              "type": "string"
            }
          },
          "metadata": {},
          "execution_count": 7
        }
      ]
    },
    {
      "cell_type": "code",
      "source": [
        "#abstraction denoted by __\n",
        "\n",
        "\n",
        "class bank():\n",
        "\n",
        "  # init  - ram is dynamic here\n",
        "  def __init__(self,name,acc,balance):  #constructor\n",
        "    self.name=name\n",
        "    self.acc=acc\n",
        "    self.__balance=balance\n",
        "\n",
        "  def  deposit(self,amount):\n",
        "    self.__balance=self.__balance+amount\n",
        "    return self.__balance\n",
        "\n",
        "  def withdraw(self,amount):\n",
        "    if self.__balance >= amount:\n",
        "      self.__balance=self.__balance-amount\n",
        "      return self.__balance\n",
        "    else:\n",
        "      return \"insufficient balance\"\n",
        "\n",
        "    def check_balance(self):\n",
        "      return self.__balance\n",
        "\n"
      ],
      "metadata": {
        "id": "sNrXkFN3Q-8f"
      },
      "execution_count": null,
      "outputs": []
    },
    {
      "cell_type": "code",
      "source": [
        "# Create an object of Bank\n",
        "bank_obj = bank(\"Alice\", \"12345\", 1000)"
      ],
      "metadata": {
        "id": "duSlxk4hVk7D"
      },
      "execution_count": null,
      "outputs": []
    },
    {
      "cell_type": "code",
      "source": [
        "bank_obj.__balance = 5000"
      ],
      "metadata": {
        "id": "K9n1z2QjWfVw"
      },
      "execution_count": null,
      "outputs": []
    },
    {
      "cell_type": "code",
      "source": [
        "print(\"Balance after attempting direct modification:\", bank_obj.check_balance())\n"
      ],
      "metadata": {
        "colab": {
          "base_uri": "https://localhost:8080/",
          "height": 158
        },
        "id": "yzohipqIWlA-",
        "outputId": "d7010e4e-fdfb-4bb3-c4e7-a47fb45486b9"
      },
      "execution_count": null,
      "outputs": [
        {
          "output_type": "error",
          "ename": "AttributeError",
          "evalue": "'bank' object has no attribute 'check_balance'",
          "traceback": [
            "\u001b[0;31m---------------------------------------------------------------------------\u001b[0m",
            "\u001b[0;31mAttributeError\u001b[0m                            Traceback (most recent call last)",
            "\u001b[0;32m<ipython-input-21-404395b09aba>\u001b[0m in \u001b[0;36m<cell line: 0>\u001b[0;34m()\u001b[0m\n\u001b[0;32m----> 1\u001b[0;31m \u001b[0mprint\u001b[0m\u001b[0;34m(\u001b[0m\u001b[0;34m\"Balance after attempting direct modification:\"\u001b[0m\u001b[0;34m,\u001b[0m \u001b[0mbank_obj\u001b[0m\u001b[0;34m.\u001b[0m\u001b[0mcheck_balance\u001b[0m\u001b[0;34m(\u001b[0m\u001b[0;34m)\u001b[0m\u001b[0;34m)\u001b[0m\u001b[0;34m\u001b[0m\u001b[0;34m\u001b[0m\u001b[0m\n\u001b[0m",
            "\u001b[0;31mAttributeError\u001b[0m: 'bank' object has no attribute 'check_balance'"
          ]
        }
      ]
    },
    {
      "cell_type": "code",
      "source": [
        "print(\"Depositing 200:\", bank_obj.deposit(200))      # Should update balance to 1200\n",
        "print(\"Withdrawing 100:\", bank_obj.withdraw(100))      # Should update balance to 1100\n"
      ],
      "metadata": {
        "colab": {
          "base_uri": "https://localhost:8080/"
        },
        "id": "YJZ7MdbLWnFn",
        "outputId": "c3bca1a1-668e-49da-85f9-fedf7b487b84"
      },
      "execution_count": null,
      "outputs": [
        {
          "output_type": "stream",
          "name": "stdout",
          "text": [
            "Depositing 200: 1200\n",
            "Withdrawing 100: 1100\n"
          ]
        }
      ]
    },
    {
      "cell_type": "code",
      "source": [
        "\n",
        "# To see the actual attributes of bank_obj:\n",
        "print(\"\\nAttributes of bank_obj:\", bank_obj.__dict__)"
      ],
      "metadata": {
        "colab": {
          "base_uri": "https://localhost:8080/"
        },
        "id": "MYm2OUPAWpPM",
        "outputId": "9e67ceba-73be-4a6f-b915-06de2a43f7c9"
      },
      "execution_count": null,
      "outputs": [
        {
          "output_type": "stream",
          "name": "stdout",
          "text": [
            "\n",
            "Attributes of bank_obj: {'name': 'Alice', 'acc': '12345', '_bank__balance': 1100, '__balance': 5000}\n"
          ]
        }
      ]
    },
    {
      "cell_type": "code",
      "source": [
        "#linux\n",
        "#fileand folders\n",
        "\n",
        "!date"
      ],
      "metadata": {
        "colab": {
          "base_uri": "https://localhost:8080/"
        },
        "id": "QeHPqcZ3W_dx",
        "outputId": "a939ca2d-25e9-42a9-f5f4-fc2efb8be872"
      },
      "execution_count": null,
      "outputs": [
        {
          "output_type": "stream",
          "name": "stdout",
          "text": [
            "Wed Feb  5 01:45:49 PM UTC 2025\n"
          ]
        }
      ]
    },
    {
      "cell_type": "code",
      "source": [
        "!TZ=Asia/Kolkata date"
      ],
      "metadata": {
        "colab": {
          "base_uri": "https://localhost:8080/"
        },
        "id": "oo7EHEsWXOTj",
        "outputId": "cdc9618e-10d1-4ef8-9058-a0f4714d98c5"
      },
      "execution_count": null,
      "outputs": [
        {
          "output_type": "stream",
          "name": "stdout",
          "text": [
            "Wed Feb  5 07:18:09 PM IST 2025\n"
          ]
        }
      ]
    },
    {
      "cell_type": "code",
      "source": [
        "#make directory\n",
        "!mkdir guvi"
      ],
      "metadata": {
        "colab": {
          "base_uri": "https://localhost:8080/"
        },
        "id": "WE_fL5wvXwco",
        "outputId": "52d24cd7-7831-42a5-b634-9b07ec5480fb"
      },
      "execution_count": null,
      "outputs": [
        {
          "output_type": "stream",
          "name": "stdout",
          "text": [
            "mkdir: cannot create directory ‘guvi’: File exists\n"
          ]
        }
      ]
    },
    {
      "cell_type": "code",
      "source": [
        "#remove\n",
        "!rmdir guvi"
      ],
      "metadata": {
        "colab": {
          "base_uri": "https://localhost:8080/"
        },
        "id": "InEzGqlZX809",
        "outputId": "c077cf7f-711d-44f3-90f1-8e41579b3146"
      },
      "execution_count": null,
      "outputs": [
        {
          "output_type": "stream",
          "name": "stdout",
          "text": [
            "rmdir: failed to remove 'guvi': No such file or directory\n"
          ]
        }
      ]
    },
    {
      "cell_type": "code",
      "source": [
        "#use python for file and folders\n",
        "import os\n",
        "os.rmdir(\"guvi\")"
      ],
      "metadata": {
        "id": "Z6SBMFxmYHoz"
      },
      "execution_count": null,
      "outputs": []
    },
    {
      "cell_type": "code",
      "source": [
        "from google.colab import drive\n",
        "drive.mount('/content/drive')"
      ],
      "metadata": {
        "colab": {
          "base_uri": "https://localhost:8080/"
        },
        "id": "GvqBoVpqZOuZ",
        "outputId": "0fcb5d8b-9173-445a-e7df-b54ff40b338a"
      },
      "execution_count": null,
      "outputs": [
        {
          "output_type": "stream",
          "name": "stdout",
          "text": [
            "Mounted at /content/drive\n"
          ]
        }
      ]
    },
    {
      "cell_type": "code",
      "source": [
        "os.mkdir(\"/content/drive/MyDrive/example\")"
      ],
      "metadata": {
        "id": "Kc14GGKGaEfd"
      },
      "execution_count": null,
      "outputs": []
    },
    {
      "cell_type": "code",
      "source": [
        "os.rmdir(\"/content/drive/MyDrive/example\")"
      ],
      "metadata": {
        "id": "ovip0Qe9aisC"
      },
      "execution_count": null,
      "outputs": []
    },
    {
      "cell_type": "code",
      "source": [
        "#files  read write append extend binary\n",
        "#override the file\n",
        "files=open(\"guvi.txt\",\"w\")"
      ],
      "metadata": {
        "id": "tXKnySxwauEG"
      },
      "execution_count": 47,
      "outputs": []
    },
    {
      "cell_type": "code",
      "source": [
        "#if file already exit trows error\n",
        "files=open(\"guvi.txt\",\"x\")"
      ],
      "metadata": {
        "colab": {
          "base_uri": "https://localhost:8080/",
          "height": 141
        },
        "id": "bGwMlrIwd9V7",
        "outputId": "a524f300-6a4d-4384-e8c4-12a9bdb65119"
      },
      "execution_count": 48,
      "outputs": [
        {
          "output_type": "error",
          "ename": "FileExistsError",
          "evalue": "[Errno 17] File exists: 'guvi.txt'",
          "traceback": [
            "\u001b[0;31m---------------------------------------------------------------------------\u001b[0m",
            "\u001b[0;31mFileExistsError\u001b[0m                           Traceback (most recent call last)",
            "\u001b[0;32m<ipython-input-48-78156988a7f9>\u001b[0m in \u001b[0;36m<cell line: 0>\u001b[0;34m()\u001b[0m\n\u001b[0;32m----> 1\u001b[0;31m \u001b[0mfiles\u001b[0m\u001b[0;34m=\u001b[0m\u001b[0mopen\u001b[0m\u001b[0;34m(\u001b[0m\u001b[0;34m\"guvi.txt\"\u001b[0m\u001b[0;34m,\u001b[0m\u001b[0;34m\"x\"\u001b[0m\u001b[0;34m)\u001b[0m\u001b[0;34m\u001b[0m\u001b[0;34m\u001b[0m\u001b[0m\n\u001b[0m",
            "\u001b[0;31mFileExistsError\u001b[0m: [Errno 17] File exists: 'guvi.txt'"
          ]
        }
      ]
    },
    {
      "cell_type": "code",
      "source": [
        "file=open(\"guvi1.txt\",\"w\")"
      ],
      "metadata": {
        "id": "D3BqJ3z9eIRN"
      },
      "execution_count": 53,
      "outputs": []
    },
    {
      "cell_type": "code",
      "source": [
        "file.write(\"vanako da\")"
      ],
      "metadata": {
        "colab": {
          "base_uri": "https://localhost:8080/"
        },
        "id": "fTnUh_IqepkU",
        "outputId": "b0746070-3820-4cca-ffa7-598e9854b88e"
      },
      "execution_count": 54,
      "outputs": [
        {
          "output_type": "execute_result",
          "data": {
            "text/plain": [
              "9"
            ]
          },
          "metadata": {},
          "execution_count": 54
        }
      ]
    },
    {
      "cell_type": "code",
      "source": [
        "print(file.write(\"vanako da\"))"
      ],
      "metadata": {
        "colab": {
          "base_uri": "https://localhost:8080/"
        },
        "id": "6d17RTtdeu5s",
        "outputId": "8e174b72-e3c5-4865-d75b-f84a5a5b3673"
      },
      "execution_count": 56,
      "outputs": [
        {
          "output_type": "stream",
          "name": "stdout",
          "text": [
            "9\n"
          ]
        }
      ]
    },
    {
      "cell_type": "code",
      "source": [
        "file1=open(\"append.txt\",\"a\")"
      ],
      "metadata": {
        "id": "OWR3LKRafQMM"
      },
      "execution_count": 65,
      "outputs": []
    },
    {
      "cell_type": "code",
      "source": [
        "file1.write(\"hi helo\")"
      ],
      "metadata": {
        "colab": {
          "base_uri": "https://localhost:8080/"
        },
        "id": "Tz33gJaFfW7o",
        "outputId": "f1c51966-8dc7-448f-b71f-4e20f5c3af83"
      },
      "execution_count": 66,
      "outputs": [
        {
          "output_type": "execute_result",
          "data": {
            "text/plain": [
              "7"
            ]
          },
          "metadata": {},
          "execution_count": 66
        }
      ]
    },
    {
      "cell_type": "code",
      "source": [
        "b=[\"day 1\",\"clas 1\"]\n",
        "file1.writelines(b)\n",
        "file1.close()"
      ],
      "metadata": {
        "id": "Uce8r740g7rD"
      },
      "execution_count": 68,
      "outputs": []
    },
    {
      "cell_type": "code",
      "source": [
        "with open(\"append.txt\",\"r\") as file:\n",
        "  a=file.read()\n",
        "  print(a)"
      ],
      "metadata": {
        "colab": {
          "base_uri": "https://localhost:8080/"
        },
        "id": "GCYQMxqghbtv",
        "outputId": "37f11f6a-7ee1-4738-83cf-1937f878ce2e"
      },
      "execution_count": 71,
      "outputs": [
        {
          "output_type": "stream",
          "name": "stdout",
          "text": [
            "hi helohi helohi heloday 1clas 1day 1clas 1day 1clas 1hi heloday 1clas 1day 1clas 1\n"
          ]
        }
      ]
    }
  ]
}