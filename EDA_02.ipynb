{
  "metadata": {
    "kernelspec": {
      "language": "python",
      "display_name": "Python 3",
      "name": "python3"
    },
    "language_info": {
      "name": "python",
      "version": "3.11.11",
      "mimetype": "text/x-python",
      "codemirror_mode": {
        "name": "ipython",
        "version": 3
      },
      "pygments_lexer": "ipython3",
      "nbconvert_exporter": "python",
      "file_extension": ".py"
    },
    "kaggle": {
      "accelerator": "none",
      "dataSources": [
        {
          "sourceId": 11720849,
          "sourceType": "datasetVersion",
          "datasetId": 7357762
        },
        {
          "sourceId": 84080031,
          "sourceType": "kernelVersion"
        }
      ],
      "dockerImageVersionId": 31012,
      "isInternetEnabled": true,
      "language": "python",
      "sourceType": "notebook",
      "isGpuEnabled": false
    },
    "colab": {
      "name": "EDA 02",
      "provenance": [],
      "include_colab_link": true
    }
  },
  "nbformat_minor": 0,
  "nbformat": 4,
  "cells": [
    {
      "cell_type": "markdown",
      "metadata": {
        "id": "view-in-github",
        "colab_type": "text"
      },
      "source": [
        "<a href=\"https://colab.research.google.com/github/gowtham-dd/Data-Science-Basics/blob/main/EDA_02.ipynb\" target=\"_parent\"><img src=\"https://colab.research.google.com/assets/colab-badge.svg\" alt=\"Open In Colab\"/></a>"
      ]
    },
    {
      "source": [
        "# IMPORTANT: SOME KAGGLE DATA SOURCES ARE PRIVATE\n",
        "# RUN THIS CELL IN ORDER TO IMPORT YOUR KAGGLE DATA SOURCES.\n",
        "import kagglehub\n",
        "kagglehub.login()\n"
      ],
      "metadata": {
        "id": "6FR1p_BL3isq"
      },
      "cell_type": "code",
      "outputs": [],
      "execution_count": null
    },
    {
      "source": [
        "# IMPORTANT: RUN THIS CELL IN ORDER TO IMPORT YOUR KAGGLE DATA SOURCES,\n",
        "# THEN FEEL FREE TO DELETE THIS CELL.\n",
        "# NOTE: THIS NOTEBOOK ENVIRONMENT DIFFERS FROM KAGGLE'S PYTHON\n",
        "# ENVIRONMENT SO THERE MAY BE MISSING LIBRARIES USED BY YOUR\n",
        "# NOTEBOOK.\n",
        "\n",
        "gowthamdd_rollar_coaster_path = kagglehub.dataset_download('gowthamdd/rollar-coaster')\n",
        "robikscube_introduction_to_exploratory_data_analysis_path = kagglehub.notebook_output_download('robikscube/introduction-to-exploratory-data-analysis')\n",
        "\n",
        "print('Data source import complete.')\n"
      ],
      "metadata": {
        "id": "-JUCMSxM3ist"
      },
      "cell_type": "code",
      "outputs": [],
      "execution_count": null
    },
    {
      "cell_type": "code",
      "source": [
        "# This Python 3 environment comes with many helpful analytics libraries installed\n",
        "# It is defined by the kaggle/python Docker image: https://github.com/kaggle/docker-python\n",
        "# For example, here's several helpful packages to load\n",
        "\n",
        "import numpy as np # linear algebra\n",
        "import pandas as pd # data processing, CSV file I/O (e.g. pd.read_csv)\n",
        "\n",
        "# Input data files are available in the read-only \"../input/\" directory\n",
        "# For example, running this (by clicking run or pressing Shift+Enter) will list all files under the input directory\n",
        "\n",
        "import os\n",
        "for dirname, _, filenames in os.walk('/kaggle/input'):\n",
        "    for filename in filenames:\n",
        "        print(os.path.join(dirname, filename))\n",
        "\n",
        "# You can write up to 20GB to the current directory (/kaggle/working/) that gets preserved as output when you create a version using \"Save & Run All\"\n",
        "# You can also write temporary files to /kaggle/temp/, but they won't be saved outside of the current session"
      ],
      "metadata": {
        "_uuid": "8f2839f25d086af736a60e9eeb907d3b93b6e0e5",
        "_cell_guid": "b1076dfc-b9ad-4769-8c92-a6c4dae69d19",
        "trusted": true,
        "execution": {
          "iopub.status.busy": "2025-05-07T17:46:32.820617Z",
          "iopub.execute_input": "2025-05-07T17:46:32.82093Z",
          "iopub.status.idle": "2025-05-07T17:46:32.838448Z",
          "shell.execute_reply.started": "2025-05-07T17:46:32.820907Z",
          "shell.execute_reply": "2025-05-07T17:46:32.837401Z"
        },
        "id": "XKL-5Bxc3isv"
      },
      "outputs": [],
      "execution_count": null
    },
    {
      "cell_type": "markdown",
      "source": [
        "## Import"
      ],
      "metadata": {
        "id": "WZgyPOWy3isv"
      }
    },
    {
      "cell_type": "code",
      "source": [
        "import pandas as pd\n",
        "import numpy as np\n",
        "import matplotlib.pyplot as plt\n",
        "import seaborn as sns\n",
        "plt.style.use('ggplot')"
      ],
      "metadata": {
        "trusted": true,
        "execution": {
          "iopub.status.busy": "2025-05-07T17:46:32.83968Z",
          "iopub.execute_input": "2025-05-07T17:46:32.840037Z",
          "iopub.status.idle": "2025-05-07T17:46:32.845836Z",
          "shell.execute_reply.started": "2025-05-07T17:46:32.840006Z",
          "shell.execute_reply": "2025-05-07T17:46:32.844759Z"
        },
        "id": "AqMp7QLE3isx"
      },
      "outputs": [],
      "execution_count": null
    },
    {
      "cell_type": "code",
      "source": [
        "df=pd.read_csv('/kaggle/input/rollar-coaster/coaster_db.csv')\n",
        "df.head()"
      ],
      "metadata": {
        "trusted": true,
        "execution": {
          "iopub.status.busy": "2025-05-07T17:46:32.851605Z",
          "iopub.execute_input": "2025-05-07T17:46:32.851916Z",
          "iopub.status.idle": "2025-05-07T17:46:32.902221Z",
          "shell.execute_reply.started": "2025-05-07T17:46:32.851893Z",
          "shell.execute_reply": "2025-05-07T17:46:32.901263Z"
        },
        "id": "C_VcoBN53isy"
      },
      "outputs": [],
      "execution_count": null
    },
    {
      "cell_type": "markdown",
      "source": [
        "## Data Understanding\n",
        "\n",
        "1. shape\n",
        "2. describe\n",
        "3. head\n",
        "4. tail\n",
        "5. dtypes\n",
        "6. column names"
      ],
      "metadata": {
        "id": "WuZBOOnT3isz"
      }
    },
    {
      "cell_type": "code",
      "source": [
        "df.shape"
      ],
      "metadata": {
        "trusted": true,
        "execution": {
          "iopub.status.busy": "2025-05-07T17:46:32.903712Z",
          "iopub.execute_input": "2025-05-07T17:46:32.904005Z",
          "iopub.status.idle": "2025-05-07T17:46:32.910169Z",
          "shell.execute_reply.started": "2025-05-07T17:46:32.90398Z",
          "shell.execute_reply": "2025-05-07T17:46:32.908848Z"
        },
        "id": "bL3DLuyy3is0"
      },
      "outputs": [],
      "execution_count": null
    },
    {
      "cell_type": "code",
      "source": [
        "df.dtypes"
      ],
      "metadata": {
        "trusted": true,
        "execution": {
          "iopub.status.busy": "2025-05-07T17:46:32.911386Z",
          "iopub.execute_input": "2025-05-07T17:46:32.911735Z",
          "iopub.status.idle": "2025-05-07T17:46:32.932995Z",
          "shell.execute_reply.started": "2025-05-07T17:46:32.911705Z",
          "shell.execute_reply": "2025-05-07T17:46:32.932213Z"
        },
        "id": "9W3TMUGm3is0"
      },
      "outputs": [],
      "execution_count": null
    },
    {
      "cell_type": "code",
      "source": [
        "df.describe()"
      ],
      "metadata": {
        "trusted": true,
        "execution": {
          "iopub.status.busy": "2025-05-07T17:46:32.933904Z",
          "iopub.execute_input": "2025-05-07T17:46:32.934448Z",
          "iopub.status.idle": "2025-05-07T17:46:32.979055Z",
          "shell.execute_reply.started": "2025-05-07T17:46:32.934419Z",
          "shell.execute_reply": "2025-05-07T17:46:32.978005Z"
        },
        "id": "Odxlm1Yi3is1"
      },
      "outputs": [],
      "execution_count": null
    },
    {
      "cell_type": "code",
      "source": [
        "df.info()"
      ],
      "metadata": {
        "trusted": true,
        "execution": {
          "iopub.status.busy": "2025-05-07T17:46:32.981162Z",
          "iopub.execute_input": "2025-05-07T17:46:32.981435Z",
          "iopub.status.idle": "2025-05-07T17:46:32.997041Z",
          "shell.execute_reply.started": "2025-05-07T17:46:32.981413Z",
          "shell.execute_reply": "2025-05-07T17:46:32.995877Z"
        },
        "id": "pVi2NQr93is1"
      },
      "outputs": [],
      "execution_count": null
    },
    {
      "cell_type": "markdown",
      "source": [
        "## Data Preparation\n",
        "\n",
        "1. Drop irrelevent col and row\n",
        "2. Find duplicates\n",
        "3. Rename col\n",
        "4. Freature Creation"
      ],
      "metadata": {
        "id": "r_PcRs343is2"
      }
    },
    {
      "cell_type": "code",
      "source": [
        "## Method 1\n",
        "\n",
        "df=df[['coaster_name',\n",
        "     #'Length', 'Speed',\n",
        "     'Location', 'Status', 'Opening date',\n",
        "     #     'Type',\n",
        "     'Manufacturer',\n",
        "     #'Height restriction', 'Model', 'Height',\n",
        "      # 'Inversions', 'Lift/launch system', 'Cost', 'Trains', 'Park section',\n",
        "       #'Duration', 'Capacity', 'G-force', 'Designer', 'Max vertical angle',\n",
        "       #'Drop', 'Soft opening date', 'Fast Lane available', 'Replaced',\n",
        "       #'Track layout', 'Fastrack available', 'Soft opening date.1',\n",
        "       #'Closing date',\n",
        "     'Opened',\n",
        "     #'Replaced by', 'Website',\n",
        "      # 'Flash Pass Available', 'Must transfer from wheelchair', 'Theme',\n",
        "       #'Single rider line available', 'Restraint Style',\n",
        "       #'Flash Pass available', 'Acceleration', 'Restraints', 'Name',\n",
        "       'year_introduced', 'latitude', 'longitude',\n",
        "     #'Type_Main',\n",
        "      'opening_date_clean',\n",
        "     #'speed1', 'speed2', 'speed1_value', 'speed1_unit',\n",
        "       'speed_mph',\n",
        "     'height_value',\n",
        "     #'height_unit', 'height_ft',\n",
        "       'Inversions_clean', 'Gforce_clean']].copy()"
      ],
      "metadata": {
        "trusted": true,
        "execution": {
          "iopub.status.busy": "2025-05-07T17:46:32.99813Z",
          "iopub.execute_input": "2025-05-07T17:46:32.999118Z",
          "iopub.status.idle": "2025-05-07T17:46:33.01744Z",
          "shell.execute_reply.started": "2025-05-07T17:46:32.99909Z",
          "shell.execute_reply": "2025-05-07T17:46:33.016433Z"
        },
        "id": "LJ-qjUEi3is2"
      },
      "outputs": [],
      "execution_count": null
    },
    {
      "cell_type": "code",
      "source": [
        "## Method 2 Drop Command\n",
        "##df.drop(['Column'],axis=1)"
      ],
      "metadata": {
        "trusted": true,
        "execution": {
          "iopub.status.busy": "2025-05-07T17:46:33.018755Z",
          "iopub.execute_input": "2025-05-07T17:46:33.019153Z",
          "iopub.status.idle": "2025-05-07T17:46:33.040448Z",
          "shell.execute_reply.started": "2025-05-07T17:46:33.019125Z",
          "shell.execute_reply": "2025-05-07T17:46:33.039281Z"
        },
        "id": "smtgax0O3is3"
      },
      "outputs": [],
      "execution_count": null
    },
    {
      "cell_type": "code",
      "source": [
        "df.shape\n",
        "df.columns\n",
        "df.dtypes"
      ],
      "metadata": {
        "trusted": true,
        "execution": {
          "iopub.status.busy": "2025-05-07T17:46:33.041596Z",
          "iopub.execute_input": "2025-05-07T17:46:33.04186Z",
          "iopub.status.idle": "2025-05-07T17:46:33.065753Z",
          "shell.execute_reply.started": "2025-05-07T17:46:33.04184Z",
          "shell.execute_reply": "2025-05-07T17:46:33.064981Z"
        },
        "id": "Ifgsirto3is3"
      },
      "outputs": [],
      "execution_count": null
    },
    {
      "cell_type": "code",
      "source": [
        "## opening_date_clean convert data to respective dtype\n",
        "df['opening_date_clean']=pd.to_datetime(df['opening_date_clean'])"
      ],
      "metadata": {
        "trusted": true,
        "execution": {
          "iopub.status.busy": "2025-05-07T17:46:33.066801Z",
          "iopub.execute_input": "2025-05-07T17:46:33.067144Z",
          "iopub.status.idle": "2025-05-07T17:46:33.089049Z",
          "shell.execute_reply.started": "2025-05-07T17:46:33.067121Z",
          "shell.execute_reply": "2025-05-07T17:46:33.088108Z"
        },
        "id": "-OEKBxlc3is4"
      },
      "outputs": [],
      "execution_count": null
    },
    {
      "cell_type": "code",
      "source": [
        "## Rename Col if needed\n",
        "df.rename(columns={'coaster_name':'Coaster_Name',\n",
        "                  'year_introduced':'Year_Introduced',\n",
        "                  'latitude':'Latitude',\n",
        "                  'longitude':'Longitude',\n",
        "                  'opening_date_clean':'Opening_Date',\n",
        "                  'speed_mph':'Speed_mph',\n",
        "                  'height_value':'Height_Value',\n",
        "                  'Inversions_clean':'Inversions'}).copy()"
      ],
      "metadata": {
        "trusted": true,
        "execution": {
          "iopub.status.busy": "2025-05-07T17:46:33.090235Z",
          "iopub.execute_input": "2025-05-07T17:46:33.090592Z",
          "iopub.status.idle": "2025-05-07T17:46:33.1255Z",
          "shell.execute_reply.started": "2025-05-07T17:46:33.090568Z",
          "shell.execute_reply": "2025-05-07T17:46:33.124562Z"
        },
        "id": "56sCIXXC3is4"
      },
      "outputs": [],
      "execution_count": null
    },
    {
      "cell_type": "code",
      "source": [
        "df.isna().sum()## row wise"
      ],
      "metadata": {
        "trusted": true,
        "execution": {
          "iopub.status.busy": "2025-05-07T17:46:33.126611Z",
          "iopub.execute_input": "2025-05-07T17:46:33.126878Z",
          "iopub.status.idle": "2025-05-07T17:46:33.135559Z",
          "shell.execute_reply.started": "2025-05-07T17:46:33.126858Z",
          "shell.execute_reply": "2025-05-07T17:46:33.134758Z"
        },
        "id": "cEa5EGgo3is4"
      },
      "outputs": [],
      "execution_count": null
    },
    {
      "cell_type": "code",
      "source": [
        "## duplicate data\n",
        "df.loc[df.duplicated()] ## whole duplicate\n",
        "\n",
        "df.loc[df.duplicated(subset=['coaster_name'])]## Duplicate on particular column"
      ],
      "metadata": {
        "trusted": true,
        "execution": {
          "iopub.status.busy": "2025-05-07T17:46:33.136832Z",
          "iopub.execute_input": "2025-05-07T17:46:33.137222Z",
          "iopub.status.idle": "2025-05-07T17:46:33.174921Z",
          "shell.execute_reply.started": "2025-05-07T17:46:33.137192Z",
          "shell.execute_reply": "2025-05-07T17:46:33.174019Z"
        },
        "id": "L1Hr3tpg3is5"
      },
      "outputs": [],
      "execution_count": null
    },
    {
      "cell_type": "code",
      "source": [
        "##Check Duplicate\n",
        "df.query('coaster_name== \"Crystal Beach Cyclone\"')"
      ],
      "metadata": {
        "trusted": true,
        "execution": {
          "iopub.status.busy": "2025-05-07T17:46:33.176392Z",
          "iopub.execute_input": "2025-05-07T17:46:33.176727Z",
          "iopub.status.idle": "2025-05-07T17:46:33.195908Z",
          "shell.execute_reply.started": "2025-05-07T17:46:33.176699Z",
          "shell.execute_reply": "2025-05-07T17:46:33.194841Z"
        },
        "id": "Ru4D0JBn3is5"
      },
      "outputs": [],
      "execution_count": null
    },
    {
      "cell_type": "code",
      "source": [
        "## Duplicates with same more columns\n",
        "df.loc[df.duplicated(subset=['coaster_name','Location','Opening date'])]\n",
        "# not dup\n",
        "df.loc[~df.duplicated(subset=['coaster_name','Location','Opening date'])] ## gives non dup values\n"
      ],
      "metadata": {
        "trusted": true,
        "execution": {
          "iopub.status.busy": "2025-05-07T17:46:33.199597Z",
          "iopub.execute_input": "2025-05-07T17:46:33.199864Z",
          "iopub.status.idle": "2025-05-07T17:46:33.23048Z",
          "shell.execute_reply.started": "2025-05-07T17:46:33.199847Z",
          "shell.execute_reply": "2025-05-07T17:46:33.229597Z"
        },
        "id": "tmyjoPsY3is5"
      },
      "outputs": [],
      "execution_count": null
    },
    {
      "cell_type": "code",
      "source": [
        "#Remove dup\n",
        "df=df.loc[~df.duplicated(subset=['coaster_name','Location','Opening date'])] \\\n",
        ".reset_index(drop=True).copy()"
      ],
      "metadata": {
        "trusted": true,
        "execution": {
          "iopub.status.busy": "2025-05-07T17:46:33.232009Z",
          "iopub.execute_input": "2025-05-07T17:46:33.232317Z",
          "iopub.status.idle": "2025-05-07T17:46:33.241291Z",
          "shell.execute_reply.started": "2025-05-07T17:46:33.232293Z",
          "shell.execute_reply": "2025-05-07T17:46:33.240267Z"
        },
        "id": "yqmTJJ093is5"
      },
      "outputs": [],
      "execution_count": null
    },
    {
      "cell_type": "code",
      "source": [
        "## check after remove the data\n",
        "df.loc[df.duplicated(subset=['coaster_name','Location','Opening date'])]\n"
      ],
      "metadata": {
        "trusted": true,
        "execution": {
          "iopub.status.busy": "2025-05-07T17:46:33.242655Z",
          "iopub.execute_input": "2025-05-07T17:46:33.243055Z",
          "iopub.status.idle": "2025-05-07T17:46:33.267238Z",
          "shell.execute_reply.started": "2025-05-07T17:46:33.243021Z",
          "shell.execute_reply": "2025-05-07T17:46:33.266326Z"
        },
        "id": "o1WBsZrv3is5"
      },
      "outputs": [],
      "execution_count": null
    },
    {
      "cell_type": "code",
      "source": [
        "df['year_introduced'].value_counts()"
      ],
      "metadata": {
        "trusted": true,
        "execution": {
          "iopub.status.busy": "2025-05-07T17:46:33.268192Z",
          "iopub.execute_input": "2025-05-07T17:46:33.268517Z",
          "iopub.status.idle": "2025-05-07T17:46:33.289231Z",
          "shell.execute_reply.started": "2025-05-07T17:46:33.268483Z",
          "shell.execute_reply": "2025-05-07T17:46:33.288251Z"
        },
        "id": "zmIk_KuU3is6"
      },
      "outputs": [],
      "execution_count": null
    },
    {
      "cell_type": "code",
      "source": [
        "ax=df['year_introduced'].value_counts().head(10).plot(kind='bar',title='Top 10 Coaster Introduced')\n",
        "ax.set_xlabel('Top 10')\n",
        "ax.set_ylabel('Year')"
      ],
      "metadata": {
        "trusted": true,
        "execution": {
          "iopub.status.busy": "2025-05-07T17:46:33.290451Z",
          "iopub.execute_input": "2025-05-07T17:46:33.290796Z",
          "iopub.status.idle": "2025-05-07T17:46:33.541542Z",
          "shell.execute_reply.started": "2025-05-07T17:46:33.290771Z",
          "shell.execute_reply": "2025-05-07T17:46:33.540468Z"
        },
        "id": "qCFxBqa63is6"
      },
      "outputs": [],
      "execution_count": null
    },
    {
      "cell_type": "code",
      "source": [
        "ax=df['speed_mph'].plot(kind='hist',bins=20,title='Coaster Speed')\n",
        "ax.set_xlabel('Speed')\n",
        "ax.set_ylabel('Freq')\n"
      ],
      "metadata": {
        "trusted": true,
        "execution": {
          "iopub.status.busy": "2025-05-07T17:46:33.543058Z",
          "iopub.execute_input": "2025-05-07T17:46:33.54343Z",
          "iopub.status.idle": "2025-05-07T17:46:33.81635Z",
          "shell.execute_reply.started": "2025-05-07T17:46:33.543401Z",
          "shell.execute_reply": "2025-05-07T17:46:33.815041Z"
        },
        "id": "Bv-CU5jN3is6"
      },
      "outputs": [],
      "execution_count": null
    },
    {
      "cell_type": "markdown",
      "source": [
        "## Feature Relationship\n",
        "\n",
        "1. Scatterplot\n",
        "2. Heaatmap Correlation\n",
        "3. Pairplot\n",
        "4. Groupby comparison"
      ],
      "metadata": {
        "id": "pc2lZ_9a3is6"
      }
    },
    {
      "cell_type": "code",
      "source": [
        "df.plot(kind='scatter',x='speed_mph',y='height_value')"
      ],
      "metadata": {
        "trusted": true,
        "execution": {
          "iopub.status.busy": "2025-05-07T17:46:33.817329Z",
          "iopub.execute_input": "2025-05-07T17:46:33.817585Z",
          "iopub.status.idle": "2025-05-07T17:46:34.049542Z",
          "shell.execute_reply.started": "2025-05-07T17:46:33.817564Z",
          "shell.execute_reply": "2025-05-07T17:46:34.048616Z"
        },
        "id": "xyzEa7RX3is6"
      },
      "outputs": [],
      "execution_count": null
    },
    {
      "cell_type": "code",
      "source": [
        "sns.scatterplot(data=df,x='speed_mph',y='height_value',hue='year_introduced')"
      ],
      "metadata": {
        "trusted": true,
        "execution": {
          "iopub.status.busy": "2025-05-07T17:46:34.050617Z",
          "iopub.execute_input": "2025-05-07T17:46:34.050967Z",
          "iopub.status.idle": "2025-05-07T17:46:34.487931Z",
          "shell.execute_reply.started": "2025-05-07T17:46:34.050912Z",
          "shell.execute_reply": "2025-05-07T17:46:34.486897Z"
        },
        "id": "y7UoXlwY3is7"
      },
      "outputs": [],
      "execution_count": null
    },
    {
      "cell_type": "code",
      "source": [
        "sns.pairplot(data=df,vars=['year_introduced','speed_mph','height_value','Inversions_clean','Gforce_clean'],hue='Manufacturer')\n",
        "plt.show()"
      ],
      "metadata": {
        "trusted": true,
        "execution": {
          "iopub.status.busy": "2025-05-07T17:46:34.489014Z",
          "iopub.execute_input": "2025-05-07T17:46:34.489285Z",
          "iopub.status.idle": "2025-05-07T17:47:20.805576Z",
          "shell.execute_reply.started": "2025-05-07T17:46:34.489264Z",
          "shell.execute_reply": "2025-05-07T17:47:20.804599Z"
        },
        "id": "KZwBor3p3is7"
      },
      "outputs": [],
      "execution_count": null
    },
    {
      "cell_type": "code",
      "source": [
        "df_cor=df[['year_introduced','speed_mph','height_value','Inversions_clean','Gforce_clean']].dropna().corr()"
      ],
      "metadata": {
        "trusted": true,
        "execution": {
          "iopub.status.busy": "2025-05-07T17:47:20.806589Z",
          "iopub.execute_input": "2025-05-07T17:47:20.806868Z",
          "iopub.status.idle": "2025-05-07T17:47:20.814636Z",
          "shell.execute_reply.started": "2025-05-07T17:47:20.806847Z",
          "shell.execute_reply": "2025-05-07T17:47:20.813499Z"
        },
        "id": "JUPBPWYN3is7"
      },
      "outputs": [],
      "execution_count": null
    },
    {
      "cell_type": "code",
      "source": [
        "sns.heatmap(df_cor,annot=True)"
      ],
      "metadata": {
        "trusted": true,
        "execution": {
          "iopub.status.busy": "2025-05-07T17:47:20.815764Z",
          "iopub.execute_input": "2025-05-07T17:47:20.816073Z",
          "iopub.status.idle": "2025-05-07T17:47:21.131699Z",
          "shell.execute_reply.started": "2025-05-07T17:47:20.816049Z",
          "shell.execute_reply": "2025-05-07T17:47:21.130738Z"
        },
        "id": "MfuKS2Jj3is8"
      },
      "outputs": [],
      "execution_count": null
    },
    {
      "cell_type": "markdown",
      "source": [
        "## QA"
      ],
      "metadata": {
        "id": "JT2L_0q03is8"
      }
    },
    {
      "cell_type": "markdown",
      "source": [
        "1. Location with fastest rollar coaster"
      ],
      "metadata": {
        "id": "3ZTz-5J23is8"
      }
    },
    {
      "cell_type": "code",
      "source": [
        "ax=df.query('Location !=\"Other\"').groupby('Location')['speed_mph'].agg(['mean','count']).query('count>=10').sort_values('mean').plot(kind='barh',figsize=(12,5),title='Average Coast Speed By Location')\n",
        "ax.set_xlabel('Speed')"
      ],
      "metadata": {
        "trusted": true,
        "execution": {
          "iopub.status.busy": "2025-05-07T17:47:21.133297Z",
          "iopub.execute_input": "2025-05-07T17:47:21.133563Z",
          "iopub.status.idle": "2025-05-07T17:47:21.468868Z",
          "shell.execute_reply.started": "2025-05-07T17:47:21.133543Z",
          "shell.execute_reply": "2025-05-07T17:47:21.467857Z"
        },
        "id": "bX3Se1wq3is9"
      },
      "outputs": [],
      "execution_count": null
    }
  ]
}