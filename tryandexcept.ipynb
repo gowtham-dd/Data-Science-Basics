{
  "nbformat": 4,
  "nbformat_minor": 0,
  "metadata": {
    "colab": {
      "provenance": [],
      "authorship_tag": "ABX9TyPNdwrsaP+9pPBtt03n3WEJ",
      "include_colab_link": true
    },
    "kernelspec": {
      "name": "python3",
      "display_name": "Python 3"
    },
    "language_info": {
      "name": "python"
    }
  },
  "cells": [
    {
      "cell_type": "markdown",
      "metadata": {
        "id": "view-in-github",
        "colab_type": "text"
      },
      "source": [
        "<a href=\"https://colab.research.google.com/github/gowtham-dd/Data-Science-Basics/blob/main/tryandexcept.ipynb\" target=\"_parent\"><img src=\"https://colab.research.google.com/assets/colab-badge.svg\" alt=\"Open In Colab\"/></a>"
      ]
    },
    {
      "cell_type": "code",
      "execution_count": null,
      "metadata": {
        "colab": {
          "base_uri": "https://localhost:8080/"
        },
        "id": "Gs6ldwh0X6oj",
        "outputId": "1d9f7930-7a97-4832-e978-5cf096227ab6"
      },
      "outputs": [
        {
          "output_type": "stream",
          "name": "stdout",
          "text": [
            "division by zero\n"
          ]
        }
      ],
      "source": [
        "#try and except\n",
        "try:\n",
        "  b=1/0\n",
        "  print(b)\n",
        "except Exception as e:\n",
        "  print(e)"
      ]
    },
    {
      "cell_type": "code",
      "source": [
        "#try and except\n",
        "try:\n",
        "  b=1/z\n",
        "  print(b)\n",
        "except ZeroDivisionError as e:\n",
        "  print(\"hi\")\n",
        "except Exception as e:\n",
        "  print(e)\n",
        "finally :\n",
        "  print(\"finally\")\n"
      ],
      "metadata": {
        "colab": {
          "base_uri": "https://localhost:8080/"
        },
        "id": "qgnPD08NaBSU",
        "outputId": "be3fd99f-2cda-4698-cd72-6c92370cba51"
      },
      "execution_count": null,
      "outputs": [
        {
          "output_type": "stream",
          "name": "stdout",
          "text": [
            "name 'z' is not defined\n",
            "finally\n"
          ]
        }
      ]
    },
    {
      "cell_type": "code",
      "source": [
        "try:\n",
        "  coffee=input(\"What you need:\")\n",
        "  if coffee not in [\"coffee\",\"coffee bean\",\"coffee powder\"]:\n",
        "    raise Exception(\"invalid input\")\n",
        "except ValueError as e:\n",
        "  print(\"error\")"
      ],
      "metadata": {
        "colab": {
          "base_uri": "https://localhost:8080/",
          "height": 228
        },
        "id": "g-tj94wtaqrS",
        "outputId": "7488cea7-05cd-4387-854a-e3044cda41ec"
      },
      "execution_count": null,
      "outputs": [
        {
          "name": "stdout",
          "output_type": "stream",
          "text": [
            "What you need:tea\n"
          ]
        },
        {
          "output_type": "error",
          "ename": "Exception",
          "evalue": "invalid input",
          "traceback": [
            "\u001b[0;31m---------------------------------------------------------------------------\u001b[0m",
            "\u001b[0;31mException\u001b[0m                                 Traceback (most recent call last)",
            "\u001b[0;32m<ipython-input-7-96713285e1aa>\u001b[0m in \u001b[0;36m<cell line: 0>\u001b[0;34m()\u001b[0m\n\u001b[1;32m      2\u001b[0m   \u001b[0mcoffee\u001b[0m\u001b[0;34m=\u001b[0m\u001b[0minput\u001b[0m\u001b[0;34m(\u001b[0m\u001b[0;34m\"What you need:\"\u001b[0m\u001b[0;34m)\u001b[0m\u001b[0;34m\u001b[0m\u001b[0;34m\u001b[0m\u001b[0m\n\u001b[1;32m      3\u001b[0m   \u001b[0;32mif\u001b[0m \u001b[0mcoffee\u001b[0m \u001b[0;32mnot\u001b[0m \u001b[0;32min\u001b[0m \u001b[0;34m[\u001b[0m\u001b[0;34m\"coffee\"\u001b[0m\u001b[0;34m,\u001b[0m\u001b[0;34m\"coffee bean\"\u001b[0m\u001b[0;34m,\u001b[0m\u001b[0;34m\"coffee powder\"\u001b[0m\u001b[0;34m]\u001b[0m\u001b[0;34m:\u001b[0m\u001b[0;34m\u001b[0m\u001b[0;34m\u001b[0m\u001b[0m\n\u001b[0;32m----> 4\u001b[0;31m     \u001b[0;32mraise\u001b[0m \u001b[0mException\u001b[0m\u001b[0;34m(\u001b[0m\u001b[0;34m\"invalid input\"\u001b[0m\u001b[0;34m)\u001b[0m\u001b[0;34m\u001b[0m\u001b[0;34m\u001b[0m\u001b[0m\n\u001b[0m\u001b[1;32m      5\u001b[0m \u001b[0;32mexcept\u001b[0m \u001b[0mValueError\u001b[0m \u001b[0;32mas\u001b[0m \u001b[0me\u001b[0m\u001b[0;34m:\u001b[0m\u001b[0;34m\u001b[0m\u001b[0;34m\u001b[0m\u001b[0m\n\u001b[1;32m      6\u001b[0m   \u001b[0mprint\u001b[0m\u001b[0;34m(\u001b[0m\u001b[0;34m\"error\"\u001b[0m\u001b[0;34m)\u001b[0m\u001b[0;34m\u001b[0m\u001b[0;34m\u001b[0m\u001b[0m\n",
            "\u001b[0;31mException\u001b[0m: invalid input"
          ]
        }
      ]
    },
    {
      "cell_type": "code",
      "source": [
        "try:\n",
        "  coffee=input(\"What you need:\")\n",
        "  if coffee not in [\"coffee\",\"coffee bean\",\"coffee powder\"]:\n",
        "    raise Exception(\"invalid input\")\n",
        "except Exception as e:\n",
        "  print(\"error\")"
      ],
      "metadata": {
        "colab": {
          "base_uri": "https://localhost:8080/"
        },
        "id": "ItghrqZ8fHLC",
        "outputId": "ff7669d1-9149-4ed1-c4a8-27048275c9f0"
      },
      "execution_count": null,
      "outputs": [
        {
          "output_type": "stream",
          "name": "stdout",
          "text": [
            "What you need:tea\n",
            "error\n"
          ]
        }
      ]
    },
    {
      "cell_type": "code",
      "source": [
        "#lambda only single line code\n",
        "x=lambda a:a+10 # a is arguement here code after : is return\n",
        "print(x(5))"
      ],
      "metadata": {
        "colab": {
          "base_uri": "https://localhost:8080/"
        },
        "id": "BOk7BSLEhpG8",
        "outputId": "ee15258b-af8b-4c38-d83f-689b574759fa"
      },
      "execution_count": 9,
      "outputs": [
        {
          "output_type": "stream",
          "name": "stdout",
          "text": [
            "15\n"
          ]
        }
      ]
    },
    {
      "cell_type": "code",
      "source": [
        "x=lambda age:\" major\" if age>18 else \"teen\"\n",
        "print(x(19))\n",
        "print(x(2))"
      ],
      "metadata": {
        "colab": {
          "base_uri": "https://localhost:8080/"
        },
        "id": "sgkTjMo1iQnV",
        "outputId": "0e1bb8e4-7eae-4cc7-fd75-e181a59dafb8"
      },
      "execution_count": 12,
      "outputs": [
        {
          "output_type": "stream",
          "name": "stdout",
          "text": [
            " major\n",
            "teen\n"
          ]
        }
      ]
    },
    {
      "cell_type": "code",
      "source": [
        "#filter\n",
        "def major(a):\n",
        "  if a>18:\n",
        "    return True\n",
        "  else:\n",
        "    return False\n",
        "b=[11,12,13,14,15,56,76,89,88,21,78]\n",
        "c=list(filter(major,b))\n",
        "print(c)"
      ],
      "metadata": {
        "colab": {
          "base_uri": "https://localhost:8080/"
        },
        "id": "zrDVC5G8kKAy",
        "outputId": "42231571-74b2-483f-9bdc-08a9030dbf9c"
      },
      "execution_count": 18,
      "outputs": [
        {
          "output_type": "stream",
          "name": "stdout",
          "text": [
            "[56, 76, 89, 88, 21, 78]\n"
          ]
        }
      ]
    },
    {
      "cell_type": "code",
      "source": [
        "#filter\n",
        "b=[11,12,13,14,15,56,76,89,88,21,78]\n",
        "c=list(filter(lambda b:b>18,b))\n",
        "print(c)"
      ],
      "metadata": {
        "colab": {
          "base_uri": "https://localhost:8080/"
        },
        "id": "kPKaAyHgl2tr",
        "outputId": "abd3804a-c839-42d0-8814-ac3f39acba23"
      },
      "execution_count": 20,
      "outputs": [
        {
          "output_type": "stream",
          "name": "stdout",
          "text": [
            "[56, 76, 89, 88, 21, 78]\n"
          ]
        }
      ]
    },
    {
      "cell_type": "code",
      "source": [
        "#vowels\n",
        "b=input()\n",
        "c=list(filter(lambda b:b not in ['a','e','i','o','u'],b))\n",
        "print(\" \".join(c))"
      ],
      "metadata": {
        "colab": {
          "base_uri": "https://localhost:8080/"
        },
        "id": "JAIRY8SAoBSK",
        "outputId": "f9000cd3-aeeb-4a73-e1f3-b02782f86dc8"
      },
      "execution_count": 27,
      "outputs": [
        {
          "output_type": "stream",
          "name": "stdout",
          "text": [
            "waqseftyhgr\n",
            "w q s f t y h g r\n"
          ]
        }
      ]
    },
    {
      "cell_type": "code",
      "source": [
        "#map  spread\n",
        "\n",
        "def major(a):\n",
        "  if a>18:\n",
        "    return \"major\"\n",
        "  else:\n",
        "    return \"teen\"\n",
        "b=[11,12,13,14,15,56,76,89,88,21,78]\n",
        "c=list(map(major,b))\n",
        "print(c)"
      ],
      "metadata": {
        "colab": {
          "base_uri": "https://localhost:8080/"
        },
        "id": "xzUN_vrioY6A",
        "outputId": "b38e344c-cb26-4797-9318-db5f4ae2ea5e"
      },
      "execution_count": 28,
      "outputs": [
        {
          "output_type": "stream",
          "name": "stdout",
          "text": [
            "['teen', 'teen', 'teen', 'teen', 'teen', 'major', 'major', 'major', 'major', 'major', 'major']\n"
          ]
        }
      ]
    },
    {
      "cell_type": "code",
      "source": [
        "a=\"1 2 3\"\n",
        "b=list(map(str,a.split()))\n",
        "print(\"*\".join(b))"
      ],
      "metadata": {
        "colab": {
          "base_uri": "https://localhost:8080/"
        },
        "id": "k5mCWcfYpHKe",
        "outputId": "5d28a789-a9ca-422e-dd06-362029910671"
      },
      "execution_count": 37,
      "outputs": [
        {
          "output_type": "stream",
          "name": "stdout",
          "text": [
            "1*2*3\n"
          ]
        }
      ]
    },
    {
      "cell_type": "code",
      "source": [
        "#list comprehension"
      ],
      "metadata": {
        "id": "CrM6C6z0uaSH"
      },
      "execution_count": null,
      "outputs": []
    }
  ]
}